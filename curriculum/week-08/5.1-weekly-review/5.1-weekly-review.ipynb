{
 "cells": [
  {
   "cell_type": "markdown",
   "metadata": {},
   "source": [
    "## Weekly Review!"
   ]
  },
  {
   "cell_type": "code",
   "execution_count": 1,
   "metadata": {
    "collapsed": false
   },
   "outputs": [],
   "source": [
    "## our favorite!\n",
    "import sys\n",
    "sys.path.append(\"../../../utils/student_caller/\")\n",
    "\n",
    "from caller import StudentCaller\n",
    "\n",
    "dsi = StudentCaller()\n",
    "dsi.set_resource(\"students\", \"students-dsi-sf-4.txt\")\n",
    "dsi.load_resource(\"students\", randomize=True)\n",
    "# dsi.set_absent_students([\"reem\"])"
   ]
  },
  {
   "cell_type": "code",
   "execution_count": 2,
   "metadata": {
    "collapsed": true
   },
   "outputs": [],
   "source": [
    "import pandas as pd, numpy as np\n",
    "import seaborn as sns\n",
    "import sqlite3\n",
    "\n",
    "%matplotlib inline"
   ]
  },
  {
   "cell_type": "markdown",
   "metadata": {},
   "source": [
    "## I found a fun dataset -- corpus.db and corpus_drudge.db\n",
    "Let's load them up and see what they're about."
   ]
  },
  {
   "cell_type": "code",
   "execution_count": 3,
   "metadata": {
    "collapsed": false
   },
   "outputs": [],
   "source": [
    "# dsi.get_student_and_play_theme()\n",
    "path = \"./corpus.db\"\n",
    "\n",
    "conn = sqlite3.connect(path)\n",
    "corpus = pd.read_sql(\"select * from content\", con = conn)\n",
    "\n",
    "# corpus_drudge = \n"
   ]
  },
  {
   "cell_type": "code",
   "execution_count": 4,
   "metadata": {
    "collapsed": false,
    "scrolled": true
   },
   "outputs": [
    {
     "name": "stdout",
     "output_type": "stream",
     "text": [
      "<class 'pandas.core.frame.DataFrame'>\n",
      "RangeIndex: 94 entries, 0 to 93\n",
      "Data columns (total 5 columns):\n",
      "index             94 non-null int64\n",
      "url               94 non-null object\n",
      "outlet            94 non-null object\n",
      "political_view    94 non-null object\n",
      "content_text      94 non-null object\n",
      "dtypes: int64(1), object(4)\n",
      "memory usage: 3.7+ KB\n"
     ]
    }
   ],
   "source": [
    "corpus.info()"
   ]
  },
  {
   "cell_type": "code",
   "execution_count": 5,
   "metadata": {
    "collapsed": true
   },
   "outputs": [],
   "source": [
    "path = \"./corpus_drudge.db\"\n",
    "\n",
    "conn = sqlite3.connect(path)\n",
    "drudge = pd.read_sql(\"select * from content\", con = conn)"
   ]
  },
  {
   "cell_type": "code",
   "execution_count": 6,
   "metadata": {
    "collapsed": false,
    "scrolled": true
   },
   "outputs": [
    {
     "data": {
      "text/html": [
       "<div>\n",
       "<table border=\"1\" class=\"dataframe\">\n",
       "  <thead>\n",
       "    <tr style=\"text-align: right;\">\n",
       "      <th></th>\n",
       "      <th>index</th>\n",
       "      <th>url</th>\n",
       "      <th>outlet</th>\n",
       "      <th>political_view</th>\n",
       "      <th>content_text</th>\n",
       "    </tr>\n",
       "  </thead>\n",
       "  <tbody>\n",
       "    <tr>\n",
       "      <th>0</th>\n",
       "      <td>0</td>\n",
       "      <td>http://cnn.com/2015/08/31/politics/u-s-deploys...</td>\n",
       "      <td>cnn</td>\n",
       "      <td>progressive</td>\n",
       "      <td>By Tal Kopan and Jim Sciutto, CNN\\n\\nUpdated 5...</td>\n",
       "    </tr>\n",
       "    <tr>\n",
       "      <th>1</th>\n",
       "      <td>1</td>\n",
       "      <td>http://cnn.com/2015/08/24/politics/donald-trum...</td>\n",
       "      <td>cnn</td>\n",
       "      <td>progressive</td>\n",
       "      <td>By Chris Frates, CNN\\n\\nUpdated 9:50 PM ET, Mo...</td>\n",
       "    </tr>\n",
       "    <tr>\n",
       "      <th>2</th>\n",
       "      <td>2</td>\n",
       "      <td>http://cnn.com/2015/08/30/politics/ip-obama-tr...</td>\n",
       "      <td>cnn</td>\n",
       "      <td>progressive</td>\n",
       "      <td>By John King, CNN Chief National Correspondent...</td>\n",
       "    </tr>\n",
       "    <tr>\n",
       "      <th>3</th>\n",
       "      <td>3</td>\n",
       "      <td>http://cnn.com/2015/09/01/politics/cnn-debate-...</td>\n",
       "      <td>cnn</td>\n",
       "      <td>progressive</td>\n",
       "      <td>By Mark Preston, CNN\\n\\nUpdated 6:55 PM ET, Tu...</td>\n",
       "    </tr>\n",
       "    <tr>\n",
       "      <th>4</th>\n",
       "      <td>4</td>\n",
       "      <td>http://cnn.com/2012/08/28/us/gallery/katrina-a...</td>\n",
       "      <td>cnn</td>\n",
       "      <td>progressive</td>\n",
       "      <td>\\nUpdated 9:31 AM ET, Wed August 5, 2015 \\nHur...</td>\n",
       "    </tr>\n",
       "    <tr>\n",
       "      <th>5</th>\n",
       "      <td>5</td>\n",
       "      <td>http://cnn.com/2015/09/01/politics/donald-trum...</td>\n",
       "      <td>cnn</td>\n",
       "      <td>progressive</td>\n",
       "      <td>By Jeremy Diamond, CNN\\n\\nUpdated 10:49 AM ET,...</td>\n",
       "    </tr>\n",
       "    <tr>\n",
       "      <th>6</th>\n",
       "      <td>6</td>\n",
       "      <td>http://cnn.com/2015/08/31/politics/china-sanct...</td>\n",
       "      <td>cnn</td>\n",
       "      <td>progressive</td>\n",
       "      <td>By Tal Kopan, CNN\\n\\nUpdated 7:25 PM ET, Mon A...</td>\n",
       "    </tr>\n",
       "    <tr>\n",
       "      <th>7</th>\n",
       "      <td>7</td>\n",
       "      <td>http://cnn.com/2015/08/29/politics/chris-chris...</td>\n",
       "      <td>cnn</td>\n",
       "      <td>progressive</td>\n",
       "      <td>By Cassie Spodak and Eugene Scott, CNN\\n\\nUpda...</td>\n",
       "    </tr>\n",
       "    <tr>\n",
       "      <th>8</th>\n",
       "      <td>8</td>\n",
       "      <td>http://cnn.com/2015/09/01/politics/ash-carter-...</td>\n",
       "      <td>cnn</td>\n",
       "      <td>progressive</td>\n",
       "      <td>By Eugene Scott and Barbara Starr, CNN\\n\\nUpda...</td>\n",
       "    </tr>\n",
       "    <tr>\n",
       "      <th>9</th>\n",
       "      <td>9</td>\n",
       "      <td>http://cnn.com/2015/08/31/politics/obama-colum...</td>\n",
       "      <td>cnn</td>\n",
       "      <td>progressive</td>\n",
       "      <td>By Kevin Liptak, CNN White House Producer\\n\\nU...</td>\n",
       "    </tr>\n",
       "    <tr>\n",
       "      <th>10</th>\n",
       "      <td>10</td>\n",
       "      <td>http://cnn.com/2015/09/01/politics/obama-trave...</td>\n",
       "      <td>cnn</td>\n",
       "      <td>progressive</td>\n",
       "      <td>By Deena Zaru\\n\\nUpdated 11:14 AM ET, Tue Sept...</td>\n",
       "    </tr>\n",
       "    <tr>\n",
       "      <th>11</th>\n",
       "      <td>11</td>\n",
       "      <td>http://cnn.com/2015/07/16/politics/evangelical...</td>\n",
       "      <td>cnn</td>\n",
       "      <td>progressive</td>\n",
       "      <td>By Nia-Malika Henderson, Senior Political Repo...</td>\n",
       "    </tr>\n",
       "    <tr>\n",
       "      <th>12</th>\n",
       "      <td>12</td>\n",
       "      <td>http://cnn.com/2015/09/01/politics/scott-walke...</td>\n",
       "      <td>cnn</td>\n",
       "      <td>progressive</td>\n",
       "      <td>By Tom LoBianco, CNN\\n\\nUpdated 10:45 AM ET, T...</td>\n",
       "    </tr>\n",
       "    <tr>\n",
       "      <th>13</th>\n",
       "      <td>13</td>\n",
       "      <td>http://cnn.com/videos/world/2015/08/28/isis-re...</td>\n",
       "      <td>cnn</td>\n",
       "      <td>progressive</td>\n",
       "      <td>Situation Room | Source: CNN\\nAdded on 4:59 PM...</td>\n",
       "    </tr>\n",
       "    <tr>\n",
       "      <th>14</th>\n",
       "      <td>14</td>\n",
       "      <td>http://cnn.com/2015/05/08/politics/gallery/oba...</td>\n",
       "      <td>cnn</td>\n",
       "      <td>progressive</td>\n",
       "      <td>\\nUpdated 9:38 AM ET, Mon May 11, 2015 \\nPresi...</td>\n",
       "    </tr>\n",
       "    <tr>\n",
       "      <th>15</th>\n",
       "      <td>15</td>\n",
       "      <td>http://cnn.com/2015/07/30/politics/being-moody...</td>\n",
       "      <td>cnn</td>\n",
       "      <td>progressive</td>\n",
       "      <td>By Chris Moody, CNN Senior Digital Corresponde...</td>\n",
       "    </tr>\n",
       "    <tr>\n",
       "      <th>16</th>\n",
       "      <td>16</td>\n",
       "      <td>http://cnn.com/2015/08/14/politics/iowa-state-...</td>\n",
       "      <td>cnn</td>\n",
       "      <td>progressive</td>\n",
       "      <td>By Chris Moody; Video by Alexander Rosen, CNN\\...</td>\n",
       "    </tr>\n",
       "    <tr>\n",
       "      <th>17</th>\n",
       "      <td>17</td>\n",
       "      <td>http://cnn.com/2015/08/31/politics/uss-seawolf...</td>\n",
       "      <td>cnn</td>\n",
       "      <td>progressive</td>\n",
       "      <td>By Barbara Starr, CNN Pentagon Correspondent\\n...</td>\n",
       "    </tr>\n",
       "    <tr>\n",
       "      <th>18</th>\n",
       "      <td>18</td>\n",
       "      <td>http://cnn.com/2015/08/18/politics/black-lives...</td>\n",
       "      <td>cnn</td>\n",
       "      <td>progressive</td>\n",
       "      <td>By Nia-Malika Henderson, Senior Political Repo...</td>\n",
       "    </tr>\n",
       "    <tr>\n",
       "      <th>19</th>\n",
       "      <td>19</td>\n",
       "      <td>http://cnn.com/2015/09/01/politics/donald-trum...</td>\n",
       "      <td>cnn</td>\n",
       "      <td>progressive</td>\n",
       "      <td>By Jeremy Diamond, CNN\\n\\nUpdated 7:51 PM ET, ...</td>\n",
       "    </tr>\n",
       "    <tr>\n",
       "      <th>20</th>\n",
       "      <td>20</td>\n",
       "      <td>http://cnn.com/2015/08/31/politics/obama-clima...</td>\n",
       "      <td>cnn</td>\n",
       "      <td>progressive</td>\n",
       "      <td>By Kevin Liptak, CNN White House Producer\\n\\nU...</td>\n",
       "    </tr>\n",
       "    <tr>\n",
       "      <th>21</th>\n",
       "      <td>21</td>\n",
       "      <td>http://cnn.com/videos/tv/2015/08/31/isis-natio...</td>\n",
       "      <td>cnn</td>\n",
       "      <td>progressive</td>\n",
       "      <td>The Lead | Source: CNN\\nAdded on 5:10 PM ET, M...</td>\n",
       "    </tr>\n",
       "    <tr>\n",
       "      <th>22</th>\n",
       "      <td>22</td>\n",
       "      <td>http://cnn.com/2015/07/23/politics/donald-trum...</td>\n",
       "      <td>cnn</td>\n",
       "      <td>progressive</td>\n",
       "      <td>By MJ Lee, CNN Politics and Finance Reporter\\n...</td>\n",
       "    </tr>\n",
       "    <tr>\n",
       "      <th>23</th>\n",
       "      <td>23</td>\n",
       "      <td>http://cnn.com/2015/08/20/politics/donald-trum...</td>\n",
       "      <td>cnn</td>\n",
       "      <td>progressive</td>\n",
       "      <td>By Chris Frates\\n\\nUpdated 3:08 PM ET, Thu Aug...</td>\n",
       "    </tr>\n",
       "    <tr>\n",
       "      <th>24</th>\n",
       "      <td>24</td>\n",
       "      <td>http://cnn.com/videos/politics/2015/08/30/sotu...</td>\n",
       "      <td>cnn</td>\n",
       "      <td>progressive</td>\n",
       "      <td>State of the Union | Source: CNN\\nAdded on 10:...</td>\n",
       "    </tr>\n",
       "    <tr>\n",
       "      <th>25</th>\n",
       "      <td>25</td>\n",
       "      <td>http://cnn.com/2015/09/01/politics/donald-trum...</td>\n",
       "      <td>cnn</td>\n",
       "      <td>progressive</td>\n",
       "      <td>By Theodore Schleifer, CNN\\n\\nUpdated 8:45 AM ...</td>\n",
       "    </tr>\n",
       "    <tr>\n",
       "      <th>26</th>\n",
       "      <td>26</td>\n",
       "      <td>http://cnn.com/2015/08/27/politics/army-new-ve...</td>\n",
       "      <td>cnn</td>\n",
       "      <td>progressive</td>\n",
       "      <td>By Tal Kopan, CNN\\n\\nUpdated 3:15 PM ET, Thu A...</td>\n",
       "    </tr>\n",
       "    <tr>\n",
       "      <th>27</th>\n",
       "      <td>27</td>\n",
       "      <td>http://cnn.com/2015/09/01/politics/howard-dean...</td>\n",
       "      <td>cnn</td>\n",
       "      <td>progressive</td>\n",
       "      <td>By Eric Bradner, CNN\\n\\nUpdated 4:09 PM ET, Tu...</td>\n",
       "    </tr>\n",
       "    <tr>\n",
       "      <th>28</th>\n",
       "      <td>28</td>\n",
       "      <td>http://cnn.com/2015/08/31/politics/kanye-west-...</td>\n",
       "      <td>cnn</td>\n",
       "      <td>progressive</td>\n",
       "      <td>By Deena Zaru, CNN\\n\\nUpdated 9:00 AM ET, Tue ...</td>\n",
       "    </tr>\n",
       "    <tr>\n",
       "      <th>29</th>\n",
       "      <td>29</td>\n",
       "      <td>http://cnn.com/2015/09/01/politics/lindsey-gra...</td>\n",
       "      <td>cnn</td>\n",
       "      <td>progressive</td>\n",
       "      <td>By Tom LoBianco, CNN\\n\\nUpdated 10:28 AM ET, T...</td>\n",
       "    </tr>\n",
       "    <tr>\n",
       "      <th>...</th>\n",
       "      <td>...</td>\n",
       "      <td>...</td>\n",
       "      <td>...</td>\n",
       "      <td>...</td>\n",
       "      <td>...</td>\n",
       "    </tr>\n",
       "    <tr>\n",
       "      <th>354</th>\n",
       "      <td>260</td>\n",
       "      <td>http://www.buzzfeed.com/</td>\n",
       "      <td>drudgereport</td>\n",
       "      <td>conservative</td>\n",
       "      <td>Log in or sign up to create your own posts.</td>\n",
       "    </tr>\n",
       "    <tr>\n",
       "      <th>355</th>\n",
       "      <td>261</td>\n",
       "      <td>http://www.suntimes.com/entertainment/zwecker/...</td>\n",
       "      <td>drudgereport</td>\n",
       "      <td>conservative</td>\n",
       "      <td>Back To Top\\n\\n\\n\\n\\t\\t\\t\\t\\t\\t@billzwecker\\t\\...</td>\n",
       "    </tr>\n",
       "    <tr>\n",
       "      <th>356</th>\n",
       "      <td>262</td>\n",
       "      <td>http://www.gertzfile.com</td>\n",
       "      <td>drudgereport</td>\n",
       "      <td>conservative</td>\n",
       "      <td>\\n\\n\\n\\n\\n\\n\\n\\niWar book excerpt: Chinese Inf...</td>\n",
       "    </tr>\n",
       "    <tr>\n",
       "      <th>357</th>\n",
       "      <td>263</td>\n",
       "      <td>http://www.billpress.com</td>\n",
       "      <td>drudgereport</td>\n",
       "      <td>conservative</td>\n",
       "      <td>\\nOn The Hill\\n\\nJan 6, 2017            \\n\\n\\n...</td>\n",
       "    </tr>\n",
       "    <tr>\n",
       "      <th>358</th>\n",
       "      <td>264</td>\n",
       "      <td>http://www.dpa-international.com/news/internat...</td>\n",
       "      <td>drudgereport</td>\n",
       "      <td>conservative</td>\n",
       "      <td>None</td>\n",
       "    </tr>\n",
       "    <tr>\n",
       "      <th>359</th>\n",
       "      <td>265</td>\n",
       "      <td>http://www.tmz.com/2017/01/06/president-obama-...</td>\n",
       "      <td>drudgereport</td>\n",
       "      <td>conservative</td>\n",
       "      <td>President Obama is taking a cue from Donald Tr...</td>\n",
       "    </tr>\n",
       "    <tr>\n",
       "      <th>360</th>\n",
       "      <td>266</td>\n",
       "      <td>http://www.prnewswire.com/news-releases/news-r...</td>\n",
       "      <td>drudgereport</td>\n",
       "      <td>conservative</td>\n",
       "      <td>\\n      \\n\\n\\n\\n\\n\\n\\n \\n\\n\\nWatts Regulator ...</td>\n",
       "    </tr>\n",
       "    <tr>\n",
       "      <th>361</th>\n",
       "      <td>267</td>\n",
       "      <td>http://www.lauraingraham.com/</td>\n",
       "      <td>drudgereport</td>\n",
       "      <td>conservative</td>\n",
       "      <td>- President Obama on the last 8 years.\\n- Sen....</td>\n",
       "    </tr>\n",
       "    <tr>\n",
       "      <th>362</th>\n",
       "      <td>268</td>\n",
       "      <td>http://www.mirror.co.uk</td>\n",
       "      <td>drudgereport</td>\n",
       "      <td>conservative</td>\n",
       "      <td>A number of people are thought to have been wo...</td>\n",
       "    </tr>\n",
       "    <tr>\n",
       "      <th>363</th>\n",
       "      <td>269</td>\n",
       "      <td>http://www.bloomberg.com/?pid=20601087&amp;amp;sid...</td>\n",
       "      <td>drudgereport</td>\n",
       "      <td>conservative</td>\n",
       "      <td>Connecting decision makers to a dynamic networ...</td>\n",
       "    </tr>\n",
       "    <tr>\n",
       "      <th>364</th>\n",
       "      <td>270</td>\n",
       "      <td>http://www.kausfiles.com</td>\n",
       "      <td>drudgereport</td>\n",
       "      <td>conservative</td>\n",
       "      <td>R.U.R vs. M.A.G.A.: The New York Times suggest...</td>\n",
       "    </tr>\n",
       "    <tr>\n",
       "      <th>365</th>\n",
       "      <td>271</td>\n",
       "      <td>http://www.csmonitor.com/</td>\n",
       "      <td>drudgereport</td>\n",
       "      <td>conservative</td>\n",
       "      <td>\\n\\n \\n\\n\\n\\t\\t\\t\\t\\t\\t\\t01/05/2017 8:16 pm ET...</td>\n",
       "    </tr>\n",
       "    <tr>\n",
       "      <th>366</th>\n",
       "      <td>272</td>\n",
       "      <td>http://www.mediabistro.com/fishbowldc/</td>\n",
       "      <td>drudgereport</td>\n",
       "      <td>conservative</td>\n",
       "      <td>By Corinne Grinapol on Jan. 6, 2017 - 1:06 PMC...</td>\n",
       "    </tr>\n",
       "    <tr>\n",
       "      <th>367</th>\n",
       "      <td>273</td>\n",
       "      <td>http://hosted.ap.org/dynamic/fronts/HOME?SITE=...</td>\n",
       "      <td>drudgereport</td>\n",
       "      <td>conservative</td>\n",
       "      <td>\\nAP Radio\\nAP Radio News:\\n\\n\\n \\r\\nYour brow...</td>\n",
       "    </tr>\n",
       "    <tr>\n",
       "      <th>368</th>\n",
       "      <td>274</td>\n",
       "      <td>http://www.washingtontimes.com/staff/wesley-pr...</td>\n",
       "      <td>drudgereport</td>\n",
       "      <td>conservative</td>\n",
       "      <td>\\nAmerican journalist legend and Vietnam War a...</td>\n",
       "    </tr>\n",
       "    <tr>\n",
       "      <th>369</th>\n",
       "      <td>275</td>\n",
       "      <td>http://www.weeklystandard.com/author/fred-barnes</td>\n",
       "      <td>drudgereport</td>\n",
       "      <td>conservative</td>\n",
       "      <td>Advanced Search\\nJanuary 16, 2017\\nVol. 22, No...</td>\n",
       "    </tr>\n",
       "    <tr>\n",
       "      <th>370</th>\n",
       "      <td>276</td>\n",
       "      <td>http://www.vanityfair.com</td>\n",
       "      <td>drudgereport</td>\n",
       "      <td>conservative</td>\n",
       "      <td>Condé Nast\\n© Condé Nast.\\nUse of this site co...</td>\n",
       "    </tr>\n",
       "    <tr>\n",
       "      <th>371</th>\n",
       "      <td>277</td>\n",
       "      <td>https://theintercept.com/greenwald/</td>\n",
       "      <td>drudgereport</td>\n",
       "      <td>conservative</td>\n",
       "      <td>In the past six weeks, the Washington Post pub...</td>\n",
       "    </tr>\n",
       "    <tr>\n",
       "      <th>372</th>\n",
       "      <td>278</td>\n",
       "      <td>https://www.bloomberg.com/news/articles/2017-0...</td>\n",
       "      <td>drudgereport</td>\n",
       "      <td>conservative</td>\n",
       "      <td>Connecting decision makers to a dynamic networ...</td>\n",
       "    </tr>\n",
       "    <tr>\n",
       "      <th>373</th>\n",
       "      <td>279</td>\n",
       "      <td>http://www.france24.com/en/</td>\n",
       "      <td>drudgereport</td>\n",
       "      <td>conservative</td>\n",
       "      <td>International News 24/7\\n\\n\\nREPORTERS \\n\\nRea...</td>\n",
       "    </tr>\n",
       "    <tr>\n",
       "      <th>374</th>\n",
       "      <td>280</td>\n",
       "      <td>http://www.motherjones.com/</td>\n",
       "      <td>drudgereport</td>\n",
       "      <td>conservative</td>\n",
       "      <td>\\n&lt;!-- \\n  ad_code('HomepageATF970x250',2473)...</td>\n",
       "    </tr>\n",
       "    <tr>\n",
       "      <th>375</th>\n",
       "      <td>281</td>\n",
       "      <td>http://www.usatoday.com/story/money/cars/2017/...</td>\n",
       "      <td>drudgereport</td>\n",
       "      <td>conservative</td>\n",
       "      <td>\\nSettings\\nCancel\\nSet\\nHi \\nAlready a subscr...</td>\n",
       "    </tr>\n",
       "    <tr>\n",
       "      <th>376</th>\n",
       "      <td>282</td>\n",
       "      <td>http://pagesix.com/</td>\n",
       "      <td>drudgereport</td>\n",
       "      <td>conservative</td>\n",
       "      <td>Follow Us\\n21,030\\n16,132\\n8,631\\nJanuary 6, 2...</td>\n",
       "    </tr>\n",
       "    <tr>\n",
       "      <th>377</th>\n",
       "      <td>283</td>\n",
       "      <td>http://thehill.com</td>\n",
       "      <td>drudgereport</td>\n",
       "      <td>conservative</td>\n",
       "      <td>SPONSORED\\n\\n      BY Don Wright, contributor ...</td>\n",
       "    </tr>\n",
       "    <tr>\n",
       "      <th>378</th>\n",
       "      <td>284</td>\n",
       "      <td>http://www.breitbart.com/Columnists/James-P-Pi...</td>\n",
       "      <td>drudgereport</td>\n",
       "      <td>conservative</td>\n",
       "      <td>The holiday season is a joyous time for most, ...</td>\n",
       "    </tr>\n",
       "    <tr>\n",
       "      <th>379</th>\n",
       "      <td>285</td>\n",
       "      <td>http://www.reviewjournal.com/news/elderly-coup...</td>\n",
       "      <td>drudgereport</td>\n",
       "      <td>conservative</td>\n",
       "      <td>Las Vegas Review-Journal\\nRELATED\\nCouple who ...</td>\n",
       "    </tr>\n",
       "    <tr>\n",
       "      <th>380</th>\n",
       "      <td>286</td>\n",
       "      <td>http://www.x17online.com</td>\n",
       "      <td>drudgereport</td>\n",
       "      <td>conservative</td>\n",
       "      <td>Posted on Fri Jan 6th, 2017 10:30am PDT       ...</td>\n",
       "    </tr>\n",
       "    <tr>\n",
       "      <th>381</th>\n",
       "      <td>287</td>\n",
       "      <td>http://voices.washingtonpost.com/thefix/</td>\n",
       "      <td>drudgereport</td>\n",
       "      <td>conservative</td>\n",
       "      <td>Desktop notifications are on   | Turn off \\nGe...</td>\n",
       "    </tr>\n",
       "    <tr>\n",
       "      <th>382</th>\n",
       "      <td>288</td>\n",
       "      <td>http://www.breitbart.com/author/milo-yiannopou...</td>\n",
       "      <td>drudgereport</td>\n",
       "      <td>conservative</td>\n",
       "      <td>The Navy is starting to worry about microaggre...</td>\n",
       "    </tr>\n",
       "    <tr>\n",
       "      <th>383</th>\n",
       "      <td>289</td>\n",
       "      <td>http://www.economist.com</td>\n",
       "      <td>drudgereport</td>\n",
       "      <td>conservative</td>\n",
       "      <td>None</td>\n",
       "    </tr>\n",
       "  </tbody>\n",
       "</table>\n",
       "<p>384 rows × 5 columns</p>\n",
       "</div>"
      ],
      "text/plain": [
       "     index                                                url        outlet  \\\n",
       "0        0  http://cnn.com/2015/08/31/politics/u-s-deploys...           cnn   \n",
       "1        1  http://cnn.com/2015/08/24/politics/donald-trum...           cnn   \n",
       "2        2  http://cnn.com/2015/08/30/politics/ip-obama-tr...           cnn   \n",
       "3        3  http://cnn.com/2015/09/01/politics/cnn-debate-...           cnn   \n",
       "4        4  http://cnn.com/2012/08/28/us/gallery/katrina-a...           cnn   \n",
       "5        5  http://cnn.com/2015/09/01/politics/donald-trum...           cnn   \n",
       "6        6  http://cnn.com/2015/08/31/politics/china-sanct...           cnn   \n",
       "7        7  http://cnn.com/2015/08/29/politics/chris-chris...           cnn   \n",
       "8        8  http://cnn.com/2015/09/01/politics/ash-carter-...           cnn   \n",
       "9        9  http://cnn.com/2015/08/31/politics/obama-colum...           cnn   \n",
       "10      10  http://cnn.com/2015/09/01/politics/obama-trave...           cnn   \n",
       "11      11  http://cnn.com/2015/07/16/politics/evangelical...           cnn   \n",
       "12      12  http://cnn.com/2015/09/01/politics/scott-walke...           cnn   \n",
       "13      13  http://cnn.com/videos/world/2015/08/28/isis-re...           cnn   \n",
       "14      14  http://cnn.com/2015/05/08/politics/gallery/oba...           cnn   \n",
       "15      15  http://cnn.com/2015/07/30/politics/being-moody...           cnn   \n",
       "16      16  http://cnn.com/2015/08/14/politics/iowa-state-...           cnn   \n",
       "17      17  http://cnn.com/2015/08/31/politics/uss-seawolf...           cnn   \n",
       "18      18  http://cnn.com/2015/08/18/politics/black-lives...           cnn   \n",
       "19      19  http://cnn.com/2015/09/01/politics/donald-trum...           cnn   \n",
       "20      20  http://cnn.com/2015/08/31/politics/obama-clima...           cnn   \n",
       "21      21  http://cnn.com/videos/tv/2015/08/31/isis-natio...           cnn   \n",
       "22      22  http://cnn.com/2015/07/23/politics/donald-trum...           cnn   \n",
       "23      23  http://cnn.com/2015/08/20/politics/donald-trum...           cnn   \n",
       "24      24  http://cnn.com/videos/politics/2015/08/30/sotu...           cnn   \n",
       "25      25  http://cnn.com/2015/09/01/politics/donald-trum...           cnn   \n",
       "26      26  http://cnn.com/2015/08/27/politics/army-new-ve...           cnn   \n",
       "27      27  http://cnn.com/2015/09/01/politics/howard-dean...           cnn   \n",
       "28      28  http://cnn.com/2015/08/31/politics/kanye-west-...           cnn   \n",
       "29      29  http://cnn.com/2015/09/01/politics/lindsey-gra...           cnn   \n",
       "..     ...                                                ...           ...   \n",
       "354    260                           http://www.buzzfeed.com/  drudgereport   \n",
       "355    261  http://www.suntimes.com/entertainment/zwecker/...  drudgereport   \n",
       "356    262                           http://www.gertzfile.com  drudgereport   \n",
       "357    263                           http://www.billpress.com  drudgereport   \n",
       "358    264  http://www.dpa-international.com/news/internat...  drudgereport   \n",
       "359    265  http://www.tmz.com/2017/01/06/president-obama-...  drudgereport   \n",
       "360    266  http://www.prnewswire.com/news-releases/news-r...  drudgereport   \n",
       "361    267                      http://www.lauraingraham.com/  drudgereport   \n",
       "362    268                            http://www.mirror.co.uk  drudgereport   \n",
       "363    269  http://www.bloomberg.com/?pid=20601087&amp;sid...  drudgereport   \n",
       "364    270                           http://www.kausfiles.com  drudgereport   \n",
       "365    271                          http://www.csmonitor.com/  drudgereport   \n",
       "366    272             http://www.mediabistro.com/fishbowldc/  drudgereport   \n",
       "367    273  http://hosted.ap.org/dynamic/fronts/HOME?SITE=...  drudgereport   \n",
       "368    274  http://www.washingtontimes.com/staff/wesley-pr...  drudgereport   \n",
       "369    275   http://www.weeklystandard.com/author/fred-barnes  drudgereport   \n",
       "370    276                          http://www.vanityfair.com  drudgereport   \n",
       "371    277                https://theintercept.com/greenwald/  drudgereport   \n",
       "372    278  https://www.bloomberg.com/news/articles/2017-0...  drudgereport   \n",
       "373    279                        http://www.france24.com/en/  drudgereport   \n",
       "374    280                        http://www.motherjones.com/  drudgereport   \n",
       "375    281  http://www.usatoday.com/story/money/cars/2017/...  drudgereport   \n",
       "376    282                                http://pagesix.com/  drudgereport   \n",
       "377    283                                 http://thehill.com  drudgereport   \n",
       "378    284  http://www.breitbart.com/Columnists/James-P-Pi...  drudgereport   \n",
       "379    285  http://www.reviewjournal.com/news/elderly-coup...  drudgereport   \n",
       "380    286                           http://www.x17online.com  drudgereport   \n",
       "381    287           http://voices.washingtonpost.com/thefix/  drudgereport   \n",
       "382    288  http://www.breitbart.com/author/milo-yiannopou...  drudgereport   \n",
       "383    289                           http://www.economist.com  drudgereport   \n",
       "\n",
       "    political_view                                       content_text  \n",
       "0      progressive  By Tal Kopan and Jim Sciutto, CNN\\n\\nUpdated 5...  \n",
       "1      progressive  By Chris Frates, CNN\\n\\nUpdated 9:50 PM ET, Mo...  \n",
       "2      progressive  By John King, CNN Chief National Correspondent...  \n",
       "3      progressive  By Mark Preston, CNN\\n\\nUpdated 6:55 PM ET, Tu...  \n",
       "4      progressive  \\nUpdated 9:31 AM ET, Wed August 5, 2015 \\nHur...  \n",
       "5      progressive  By Jeremy Diamond, CNN\\n\\nUpdated 10:49 AM ET,...  \n",
       "6      progressive  By Tal Kopan, CNN\\n\\nUpdated 7:25 PM ET, Mon A...  \n",
       "7      progressive  By Cassie Spodak and Eugene Scott, CNN\\n\\nUpda...  \n",
       "8      progressive  By Eugene Scott and Barbara Starr, CNN\\n\\nUpda...  \n",
       "9      progressive  By Kevin Liptak, CNN White House Producer\\n\\nU...  \n",
       "10     progressive  By Deena Zaru\\n\\nUpdated 11:14 AM ET, Tue Sept...  \n",
       "11     progressive  By Nia-Malika Henderson, Senior Political Repo...  \n",
       "12     progressive  By Tom LoBianco, CNN\\n\\nUpdated 10:45 AM ET, T...  \n",
       "13     progressive  Situation Room | Source: CNN\\nAdded on 4:59 PM...  \n",
       "14     progressive  \\nUpdated 9:38 AM ET, Mon May 11, 2015 \\nPresi...  \n",
       "15     progressive  By Chris Moody, CNN Senior Digital Corresponde...  \n",
       "16     progressive  By Chris Moody; Video by Alexander Rosen, CNN\\...  \n",
       "17     progressive  By Barbara Starr, CNN Pentagon Correspondent\\n...  \n",
       "18     progressive  By Nia-Malika Henderson, Senior Political Repo...  \n",
       "19     progressive  By Jeremy Diamond, CNN\\n\\nUpdated 7:51 PM ET, ...  \n",
       "20     progressive  By Kevin Liptak, CNN White House Producer\\n\\nU...  \n",
       "21     progressive  The Lead | Source: CNN\\nAdded on 5:10 PM ET, M...  \n",
       "22     progressive  By MJ Lee, CNN Politics and Finance Reporter\\n...  \n",
       "23     progressive  By Chris Frates\\n\\nUpdated 3:08 PM ET, Thu Aug...  \n",
       "24     progressive  State of the Union | Source: CNN\\nAdded on 10:...  \n",
       "25     progressive  By Theodore Schleifer, CNN\\n\\nUpdated 8:45 AM ...  \n",
       "26     progressive  By Tal Kopan, CNN\\n\\nUpdated 3:15 PM ET, Thu A...  \n",
       "27     progressive  By Eric Bradner, CNN\\n\\nUpdated 4:09 PM ET, Tu...  \n",
       "28     progressive  By Deena Zaru, CNN\\n\\nUpdated 9:00 AM ET, Tue ...  \n",
       "29     progressive  By Tom LoBianco, CNN\\n\\nUpdated 10:28 AM ET, T...  \n",
       "..             ...                                                ...  \n",
       "354   conservative        Log in or sign up to create your own posts.  \n",
       "355   conservative  Back To Top\\n\\n\\n\\n\\t\\t\\t\\t\\t\\t@billzwecker\\t\\...  \n",
       "356   conservative  \\n\\n\\n\\n\\n\\n\\n\\niWar book excerpt: Chinese Inf...  \n",
       "357   conservative  \\nOn The Hill\\n\\nJan 6, 2017            \\n\\n\\n...  \n",
       "358   conservative                                               None  \n",
       "359   conservative  President Obama is taking a cue from Donald Tr...  \n",
       "360   conservative   \\n      \\n\\n\\n\\n\\n\\n\\n \\n\\n\\nWatts Regulator ...  \n",
       "361   conservative  - President Obama on the last 8 years.\\n- Sen....  \n",
       "362   conservative  A number of people are thought to have been wo...  \n",
       "363   conservative  Connecting decision makers to a dynamic networ...  \n",
       "364   conservative  R.U.R vs. M.A.G.A.: The New York Times suggest...  \n",
       "365   conservative  \\n\\n \\n\\n\\n\\t\\t\\t\\t\\t\\t\\t01/05/2017 8:16 pm ET...  \n",
       "366   conservative  By Corinne Grinapol on Jan. 6, 2017 - 1:06 PMC...  \n",
       "367   conservative  \\nAP Radio\\nAP Radio News:\\n\\n\\n \\r\\nYour brow...  \n",
       "368   conservative  \\nAmerican journalist legend and Vietnam War a...  \n",
       "369   conservative  Advanced Search\\nJanuary 16, 2017\\nVol. 22, No...  \n",
       "370   conservative  Condé Nast\\n© Condé Nast.\\nUse of this site co...  \n",
       "371   conservative  In the past six weeks, the Washington Post pub...  \n",
       "372   conservative  Connecting decision makers to a dynamic networ...  \n",
       "373   conservative  International News 24/7\\n\\n\\nREPORTERS \\n\\nRea...  \n",
       "374   conservative   \\n<!-- \\n  ad_code('HomepageATF970x250',2473)...  \n",
       "375   conservative  \\nSettings\\nCancel\\nSet\\nHi \\nAlready a subscr...  \n",
       "376   conservative  Follow Us\\n21,030\\n16,132\\n8,631\\nJanuary 6, 2...  \n",
       "377   conservative  SPONSORED\\n\\n      BY Don Wright, contributor ...  \n",
       "378   conservative  The holiday season is a joyous time for most, ...  \n",
       "379   conservative  Las Vegas Review-Journal\\nRELATED\\nCouple who ...  \n",
       "380   conservative  Posted on Fri Jan 6th, 2017 10:30am PDT       ...  \n",
       "381   conservative  Desktop notifications are on   | Turn off \\nGe...  \n",
       "382   conservative  The Navy is starting to worry about microaggre...  \n",
       "383   conservative                                               None  \n",
       "\n",
       "[384 rows x 5 columns]"
      ]
     },
     "execution_count": 6,
     "metadata": {},
     "output_type": "execute_result"
    }
   ],
   "source": [
    "drudge"
   ]
  },
  {
   "cell_type": "markdown",
   "metadata": {},
   "source": [
    "## Let's concat/append them into a common dataframe"
   ]
  },
  {
   "cell_type": "code",
   "execution_count": 7,
   "metadata": {
    "collapsed": false
   },
   "outputs": [],
   "source": [
    "# corpus\n",
    "original = drudge.append(corpus)"
   ]
  },
  {
   "cell_type": "markdown",
   "metadata": {},
   "source": [
    "## Setup a count vectorizer"
   ]
  },
  {
   "cell_type": "code",
   "execution_count": 8,
   "metadata": {
    "collapsed": false
   },
   "outputs": [
    {
     "ename": "NameError",
     "evalue": "name 'df' is not defined",
     "output_type": "error",
     "traceback": [
      "\u001b[0;31m---------------------------------------------------------------------------\u001b[0m",
      "\u001b[0;31mNameError\u001b[0m                                 Traceback (most recent call last)",
      "\u001b[0;32m<ipython-input-8-7ed0097d7e9e>\u001b[0m in \u001b[0;36m<module>\u001b[0;34m()\u001b[0m\n\u001b[0;32m----> 1\u001b[0;31m \u001b[0mdf\u001b[0m\u001b[0;34m\u001b[0m\u001b[0m\n\u001b[0m",
      "\u001b[0;31mNameError\u001b[0m: name 'df' is not defined"
     ]
    }
   ],
   "source": [
    "df"
   ]
  },
  {
   "cell_type": "markdown",
   "metadata": {},
   "source": [
    "## Clean dataframe for content_text, remove NaNs"
   ]
  },
  {
   "cell_type": "code",
   "execution_count": null,
   "metadata": {
    "collapsed": false
   },
   "outputs": [],
   "source": [
    "# dsi.get_student()"
   ]
  },
  {
   "cell_type": "code",
   "execution_count": null,
   "metadata": {
    "collapsed": false
   },
   "outputs": [],
   "source": [
    "df =  df[~df.content_text.isnull()]"
   ]
  },
  {
   "cell_type": "code",
   "execution_count": null,
   "metadata": {
    "collapsed": false
   },
   "outputs": [],
   "source": [
    "# dsi.get_student()\n",
    "from sklearn.feature_extraction.text import CountVectorizer, TfidfVectorizer\n",
    "\n",
    "test_vectorizer = CountVectorizer(stop_words=None)\n",
    "X = test_vectorizer.fit_transform(df['content_text'])\n",
    "X.toarray()"
   ]
  },
  {
   "cell_type": "markdown",
   "metadata": {},
   "source": [
    "## Plot the top 20 terms with a bar graph"
   ]
  },
  {
   "cell_type": "code",
   "execution_count": null,
   "metadata": {
    "collapsed": false
   },
   "outputs": [],
   "source": [
    "# dsi.get_student()\n",
    "df = pd.DataFrame(X.toarray(), columns=test_vectorizer.get_feature_names())\n",
    "df.sum().sort_values().tail(20).plot(kind='barh', figsize=(9, 4))\n"
   ]
  },
  {
   "cell_type": "markdown",
   "metadata": {},
   "source": [
    "## Anything interesting stand out?"
   ]
  },
  {
   "cell_type": "code",
   "execution_count": null,
   "metadata": {
    "collapsed": true
   },
   "outputs": [],
   "source": []
  },
  {
   "cell_type": "markdown",
   "metadata": {},
   "source": [
    "## Examine the class balance"
   ]
  },
  {
   "cell_type": "code",
   "execution_count": null,
   "metadata": {
    "collapsed": false
   },
   "outputs": [],
   "source": [
    "original.political_view.value_counts()"
   ]
  },
  {
   "cell_type": "markdown",
   "metadata": {},
   "source": [
    "## Check out the top words for each class"
   ]
  },
  {
   "cell_type": "code",
   "execution_count": null,
   "metadata": {
    "collapsed": false
   },
   "outputs": [],
   "source": [
    "# dsi.get_student()\n",
    "df.head(3)"
   ]
  },
  {
   "cell_type": "code",
   "execution_count": null,
   "metadata": {
    "collapsed": false
   },
   "outputs": [],
   "source": [
    "original.info()"
   ]
  },
  {
   "cell_type": "code",
   "execution_count": null,
   "metadata": {
    "collapsed": false
   },
   "outputs": [],
   "source": [
    "df.info()"
   ]
  },
  {
   "cell_type": "code",
   "execution_count": null,
   "metadata": {
    "collapsed": true
   },
   "outputs": [],
   "source": [
    "df = df.reset_index()\n"
   ]
  },
  {
   "cell_type": "code",
   "execution_count": null,
   "metadata": {
    "collapsed": false
   },
   "outputs": [],
   "source": [
    "df['political_view'] = original[-original.content_text.isnull()].reset_index().political_view\n"
   ]
  },
  {
   "cell_type": "code",
   "execution_count": null,
   "metadata": {
    "collapsed": false
   },
   "outputs": [],
   "source": [
    "df.head(3)"
   ]
  },
  {
   "cell_type": "code",
   "execution_count": null,
   "metadata": {
    "collapsed": true
   },
   "outputs": [],
   "source": [
    "prog = df[df.political_view == 'progressive']"
   ]
  },
  {
   "cell_type": "code",
   "execution_count": null,
   "metadata": {
    "collapsed": true
   },
   "outputs": [],
   "source": [
    "cons = df[df.political_view == 'conservative']"
   ]
  },
  {
   "cell_type": "code",
   "execution_count": null,
   "metadata": {
    "collapsed": false
   },
   "outputs": [],
   "source": [
    "prog[prog.columns[:-1]].sum().sort_values().tail(20).plot(kind='barh', figsize=(9, 4))\n"
   ]
  },
  {
   "cell_type": "code",
   "execution_count": null,
   "metadata": {
    "collapsed": false
   },
   "outputs": [],
   "source": [
    "cons[cons.columns[:-1]].sum().sort_values().tail(20).plot(kind='barh', figsize=(9, 4))\n"
   ]
  },
  {
   "cell_type": "markdown",
   "metadata": {},
   "source": [
    "## Lets do the same thing with TFIDF -- setup TFIDF"
   ]
  },
  {
   "cell_type": "code",
   "execution_count": null,
   "metadata": {
    "collapsed": true
   },
   "outputs": [],
   "source": []
  },
  {
   "cell_type": "markdown",
   "metadata": {},
   "source": [
    "## Subset by class, and plot aggregate TFIDF values with MAX\n",
    "Plot with great vigor."
   ]
  },
  {
   "cell_type": "code",
   "execution_count": null,
   "metadata": {
    "collapsed": true
   },
   "outputs": [],
   "source": []
  }
 ],
 "metadata": {
  "anaconda-cloud": {},
  "kernelspec": {
   "display_name": "Python [conda env:dsi]",
   "language": "python",
   "name": "conda-env-dsi-py"
  },
  "language_info": {
   "codemirror_mode": {
    "name": "ipython",
    "version": 2
   },
   "file_extension": ".py",
   "mimetype": "text/x-python",
   "name": "python",
   "nbconvert_exporter": "python",
   "pygments_lexer": "ipython2",
   "version": "2.7.12"
  }
 },
 "nbformat": 4,
 "nbformat_minor": 0
}
