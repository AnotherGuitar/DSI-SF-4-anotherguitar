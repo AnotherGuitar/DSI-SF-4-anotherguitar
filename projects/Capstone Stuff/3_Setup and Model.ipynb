{
 "cells": [
  {
   "cell_type": "code",
   "execution_count": 2,
   "metadata": {
    "collapsed": true
   },
   "outputs": [],
   "source": [
    "# pip install scrapy\n",
    "# pip install --upgrade zope2\n",
    "\n",
    "from collections import Counter\n",
    "import foursquare\n",
    "from ipywidgets import widgets\n",
    "from IPython.display import display\n",
    "import json\n",
    "import matplotlib.pyplot as plt\n",
    "import numpy as np\n",
    "import operator\n",
    "from operator import itemgetter\n",
    "import pandas as pd\n",
    "import pickle\n",
    "import random\n",
    "import requests\n",
    "from scrapy import Selector\n",
    "from scrapy.http import HtmlResponse\n",
    "import seaborn as sns\n",
    "from sqlalchemy import create_engine\n",
    "import sqlite3\n",
    "import textacy\n",
    "import textacy.data\n",
    "import time\n",
    "import unicodedata\n",
    "\n",
    "%matplotlib inline\n",
    "%config InlineBackend.figure_format = 'retina'"
   ]
  },
  {
   "cell_type": "code",
   "execution_count": 3,
   "metadata": {
    "collapsed": false
   },
   "outputs": [],
   "source": [
    "usda = pd.read_pickle('../../../../Accounts/Electo:Computad/\\\n",
    "MacBook Pro/Software/Github/Old_repos/DSI-SF-4-anotherguitar/projects/Capstone Stuff/usda.pkl')\n",
    "food = pd.read_pickle('../../../../Accounts/Electo:Computad/\\\n",
    "MacBook Pro/Software/Github/Old_repos/DSI-SF-4-anotherguitar/projects/Capstone Stuff/explore_endpoint_df.pkl')\n",
    "vegan = food[food.vegan_venue_check == 'vegan']"
   ]
  },
  {
   "cell_type": "code",
   "execution_count": 4,
   "metadata": {
    "collapsed": true
   },
   "outputs": [],
   "source": [
    "def word_counter(unique_desc):\n",
    "    single_string = ' '.join(unique_desc)\n",
    "    count_string = len(single_string.split())\n",
    "    return count_string"
   ]
  },
  {
   "cell_type": "code",
   "execution_count": 5,
   "metadata": {
    "collapsed": true
   },
   "outputs": [],
   "source": [
    "# have to count the number of words in each list and add this as a new column to the dataframe\n",
    "updated_food = food\n",
    "updated_food['count_desc_list'] = food.venue_desc_list.map(lambda x: word_counter(x))"
   ]
  },
  {
   "cell_type": "code",
   "execution_count": 6,
   "metadata": {
    "collapsed": true
   },
   "outputs": [],
   "source": [
    "def item_desc_counter(phrase):\n",
    "    if phrase == 'desc_not_available':\n",
    "        return 0\n",
    "    else:\n",
    "        countered = len(phrase.split())\n",
    "        return countered"
   ]
  },
  {
   "cell_type": "code",
   "execution_count": 7,
   "metadata": {
    "collapsed": true
   },
   "outputs": [],
   "source": [
    "updated_food['count_item_name'] = food.menu_item_name.map(lambda x: len(x.split()))\n",
    "updated_food['count_item_desc'] = food.menu_item_desc.map(lambda x: item_desc_counter(x))"
   ]
  },
  {
   "cell_type": "code",
   "execution_count": 8,
   "metadata": {
    "collapsed": false
   },
   "outputs": [],
   "source": [
    "updated_vegan = updated_food[updated_food.vegan_venue_check == 'vegan']"
   ]
  },
  {
   "cell_type": "code",
   "execution_count": 9,
   "metadata": {
    "collapsed": true
   },
   "outputs": [],
   "source": [
    "usda = usda.drop('ComName', axis=1)\n",
    "usda = usda.drop('FG_Cd', axis=1)"
   ]
  },
  {
   "cell_type": "code",
   "execution_count": 10,
   "metadata": {
    "collapsed": false,
    "scrolled": false
   },
   "outputs": [
    {
     "data": {
      "text/html": [
       "<div>\n",
       "<table border=\"1\" class=\"dataframe\">\n",
       "  <thead>\n",
       "    <tr style=\"text-align: right;\">\n",
       "      <th></th>\n",
       "      <th>Food_No</th>\n",
       "      <th>Food_Group</th>\n",
       "      <th>Description</th>\n",
       "      <th>Nutr_No</th>\n",
       "      <th>Nutrient</th>\n",
       "      <th>Amount_per_100</th>\n",
       "      <th>Units</th>\n",
       "      <th>Tagname</th>\n",
       "      <th>Not_Imputed</th>\n",
       "    </tr>\n",
       "  </thead>\n",
       "  <tbody>\n",
       "    <tr>\n",
       "      <th>0</th>\n",
       "      <td>01001</td>\n",
       "      <td>Dairy and Egg Products</td>\n",
       "      <td>Butter, salted</td>\n",
       "      <td>203</td>\n",
       "      <td>Protein</td>\n",
       "      <td>0.85</td>\n",
       "      <td>g</td>\n",
       "      <td>PROCNT</td>\n",
       "      <td>1</td>\n",
       "    </tr>\n",
       "    <tr>\n",
       "      <th>1</th>\n",
       "      <td>01001</td>\n",
       "      <td>Dairy and Egg Products</td>\n",
       "      <td>Butter, salted</td>\n",
       "      <td>204</td>\n",
       "      <td>Total lipid (fat)</td>\n",
       "      <td>81.11</td>\n",
       "      <td>g</td>\n",
       "      <td>FAT</td>\n",
       "      <td>1</td>\n",
       "    </tr>\n",
       "    <tr>\n",
       "      <th>2</th>\n",
       "      <td>01001</td>\n",
       "      <td>Dairy and Egg Products</td>\n",
       "      <td>Butter, salted</td>\n",
       "      <td>205</td>\n",
       "      <td>Carbohydrate, by difference</td>\n",
       "      <td>0.06</td>\n",
       "      <td>g</td>\n",
       "      <td>CHOCDF</td>\n",
       "      <td>0</td>\n",
       "    </tr>\n",
       "    <tr>\n",
       "      <th>3</th>\n",
       "      <td>01001</td>\n",
       "      <td>Dairy and Egg Products</td>\n",
       "      <td>Butter, salted</td>\n",
       "      <td>207</td>\n",
       "      <td>Ash</td>\n",
       "      <td>2.11</td>\n",
       "      <td>g</td>\n",
       "      <td>ASH</td>\n",
       "      <td>1</td>\n",
       "    </tr>\n",
       "    <tr>\n",
       "      <th>4</th>\n",
       "      <td>01001</td>\n",
       "      <td>Dairy and Egg Products</td>\n",
       "      <td>Butter, salted</td>\n",
       "      <td>208</td>\n",
       "      <td>Energy</td>\n",
       "      <td>717.00</td>\n",
       "      <td>kcal</td>\n",
       "      <td>ENERC_KCAL</td>\n",
       "      <td>0</td>\n",
       "    </tr>\n",
       "  </tbody>\n",
       "</table>\n",
       "</div>"
      ],
      "text/plain": [
       "  Food_No              Food_Group     Description Nutr_No  \\\n",
       "0   01001  Dairy and Egg Products  Butter, salted     203   \n",
       "1   01001  Dairy and Egg Products  Butter, salted     204   \n",
       "2   01001  Dairy and Egg Products  Butter, salted     205   \n",
       "3   01001  Dairy and Egg Products  Butter, salted     207   \n",
       "4   01001  Dairy and Egg Products  Butter, salted     208   \n",
       "\n",
       "                      Nutrient  Amount_per_100 Units     Tagname  Not_Imputed  \n",
       "0                      Protein            0.85     g      PROCNT            1  \n",
       "1            Total lipid (fat)           81.11     g         FAT            1  \n",
       "2  Carbohydrate, by difference            0.06     g      CHOCDF            0  \n",
       "3                          Ash            2.11     g         ASH            1  \n",
       "4                       Energy          717.00  kcal  ENERC_KCAL            0  "
      ]
     },
     "execution_count": 10,
     "metadata": {},
     "output_type": "execute_result"
    }
   ],
   "source": [
    "usda.head()"
   ]
  },
  {
   "cell_type": "code",
   "execution_count": 11,
   "metadata": {
    "collapsed": false,
    "scrolled": true
   },
   "outputs": [
    {
     "data": {
      "text/plain": [
       "array(['Dairy and Egg Products', 'Spices and Herbs', 'Baby Foods',\n",
       "       'Fats and Oils', 'Poultry Products', 'Soups, Sauces, and Gravies',\n",
       "       'Sausages and Luncheon Meats', 'Breakfast Cereals', 'Snacks',\n",
       "       'Fruits and Fruit Juices', 'Pork Products',\n",
       "       'Vegetables and Vegetable Products', 'Nut and Seed Products',\n",
       "       'Beef Products', 'Beverages', 'Finfish and Shellfish Products',\n",
       "       'Legumes and Legume Products', 'Lamb, Veal, and Game Products',\n",
       "       'Baked Products', 'Sweets', 'Cereal Grains and Pasta', 'Fast Foods',\n",
       "       'Meals, Entrees, and Sidedishes',\n",
       "       'American Indian/Alaska Native Foods', 'Restaurant Foods'], dtype=object)"
      ]
     },
     "execution_count": 11,
     "metadata": {},
     "output_type": "execute_result"
    }
   ],
   "source": [
    "dads = usda[['Food_Group','Description']]\n",
    "\n",
    "dads.Food_Group.unique()\n",
    "\n",
    "# Columns I may drop/rationale:\n",
    "# Probably nix Baby Foods (just baby versions, no unique identifier, so doesn't have predictive value)\n",
    "# Probably nix Restaurant Foods (just restaurant versions, with some brand names, so doesn't have predictive value)\n",
    "# Probably nix Breakfast Cereals - primarily brand names, w/ some 'cream' - nothing else helpful\n",
    "# American Indian/Alaska Native Foods because it has a lot of fish, and is confusing my categories (I think)\n",
    "# I found 'cream' in Soups, Sauces, and Gravies, but pultry products come up a lot too - check what id's come\n",
    "# out of dairy\n",
    "\n",
    "# Notes:\n",
    "# On the fence: maybe nix Fast Foods, because it tends to be less informative (also the meals, entrees one)\n",
    "# On the fence: Spices & Herbs (has some unique ingredients, but also generic words)\n",
    "# Fats and Oils includes Mayo, make a unique one for mayo - is spelled as mayo, or full mayoneise on unique menus\n",
    "#          ? b/c i think it becomes egg then, also fish oil, soy,\n",
    "#       margarine is basically vegan except trace stuff, then there's butter too\n",
    "# Snacks: can help on chips, but lots of brands, and doubles on milk, cheese, ingredient (does show granola too)\n",
    "# Some Vegetables and Vegetable Products have milk b/c of processing, but fairly uncommon\n",
    "# Nut and Seed Products - some oil mentions in there could throw it off, but otherwise decent; includes nut butters\n",
    "# Finfish and Shellfish Products has raw, and so does Fruits, cut out? but could help w/ raw diets...\n",
    "# Baked Products can include cheese, less of milk\n",
    "# Sweets have egg, milk, honey, ice cream\n",
    "# Cereal Grains and Pasta - some has egg\n",
    "# Fast Foods has a lot of dairy, cheese, meats, pizza\n",
    "# Meals, Entrees, and Sidedishes seems to have a lot of non-vegan stuff in general\n",
    "# Restaurant Foods seems to have a lot of nonvegan and ethnic shit"
   ]
  },
  {
   "cell_type": "code",
   "execution_count": 12,
   "metadata": {
    "collapsed": false
   },
   "outputs": [],
   "source": [
    "# Let's make a dictionary with the 25 unique food groups and their respective descriptions\n",
    "deduped = []\n",
    "for group, group_df in dads.groupby(['Food_Group', 'Description']):\n",
    "    deduped.append({\n",
    "      \"Food_Group\":  group[0],\n",
    "      \"Description\": group[1]\n",
    "            #imagine that I were able to grab the number of descriptions per food group here, it'd be redundant\n",
    "            #here, but avoid the len check\n",
    "    })"
   ]
  },
  {
   "cell_type": "code",
   "execution_count": 13,
   "metadata": {
    "collapsed": false
   },
   "outputs": [],
   "source": [
    "# This dictionary will give me the number of unique descriptions per food group\n",
    "original_fg = {}\n",
    "for classified in dads.Food_Group.unique():\n",
    "    counter = 0\n",
    "    for i in range(len(deduped)):\n",
    "#   doesnt do anything\n",
    "        if deduped[i]['Food_Group'] == classified:\n",
    "            counter += 1\n",
    "    original_fg[classified] = counter\n",
    "# original_fg"
   ]
  },
  {
   "cell_type": "code",
   "execution_count": 14,
   "metadata": {
    "collapsed": false
   },
   "outputs": [],
   "source": [
    "number_dic = {\n",
    " 'American Indian/Alaska Native Foods': range(0,165),\n",
    " 'Baby Foods': range(165,498),\n",
    " 'Baked Products': range(498, 1283),\n",
    " 'Beef Products': range(1283, 2068),\n",
    " 'Beverages': range(2068,2347),\n",
    " 'Breakfast Cereals': range(2347,2719),\n",
    " 'Cereal Grains and Pasta': range(2719,2903),\n",
    " 'Dairy and Egg Products': range(2903,3157),\n",
    " 'Fast Foods': range(3157,3552),\n",
    " 'Fats and Oils': range(3552,3772),\n",
    " 'Finfish and Shellfish Products': range(3772,4038),\n",
    " 'Fruits and Fruit Juices': range(4038,4365),\n",
    " 'Lamb, Veal, and Game Products': range(4365,4718),\n",
    " 'Legumes and Legume Products': range(4718,5096),\n",
    " 'Meals, Entrees, and Sidedishes': range(5096,5191),\n",
    " 'Nut and Seed Products': range(5191,5320),\n",
    " 'Pork Products': range(5320,5661),\n",
    " 'Poultry Products': range(5661,5998),\n",
    " 'Restaurant Foods': range(5998,6053),\n",
    " 'Sausages and Luncheon Meats': range(6053,6287),\n",
    " 'Snacks': range(6287,6458),\n",
    " 'Soups, Sauces, and Gravies': range(6458,6973),\n",
    " 'Spices and Herbs': range(6973,7034),\n",
    " 'Sweets': range(7034,7378),\n",
    " 'Vegetables and Vegetable Products': range(7378,8194)\n",
    "}"
   ]
  },
  {
   "cell_type": "code",
   "execution_count": 15,
   "metadata": {
    "collapsed": false
   },
   "outputs": [],
   "source": [
    "fg_vallist_dic = {}\n",
    "for classified in dads.Food_Group.unique():\n",
    "    desc_list = []\n",
    "    for item_i in number_dic[classified]:\n",
    "        item_desc = deduped[item_i]['Description']\n",
    "    \n",
    "        desc_list.append(item_desc)\n",
    "    \n",
    "    fg_vallist_dic[classified] = desc_list\n",
    "# fg_vallist_dic['Sweets'][343]"
   ]
  },
  {
   "cell_type": "code",
   "execution_count": 16,
   "metadata": {
    "collapsed": false
   },
   "outputs": [],
   "source": [
    "# Though that's okay, I'd prefer a dictionary with the number of words in each unique description per food group -\n",
    "# this will help my proportion score down below surface even more relevant results\n",
    "next_fg = {}\n",
    "for classified in dads.Food_Group.unique():\n",
    "    string_counter = 0\n",
    "    for desc_string in usda[usda.Food_Group == classified].Description.unique():\n",
    "        string_counter += len(desc_string.split())\n",
    "    next_fg[classified] = string_counter\n",
    "# next_fg"
   ]
  },
  {
   "cell_type": "code",
   "execution_count": 17,
   "metadata": {
    "collapsed": true
   },
   "outputs": [],
   "source": [
    "# Able to update as needed for experimentation\n",
    "tmp_banned_cat = [\n",
    "    'American Indian/Alaska Native Foods',\n",
    "    'Baby Foods',\n",
    "#     'Baked Products',\n",
    "#     'Beef Products',\n",
    "#     'Beverages',\n",
    "#     'Breakfast Cereals',\n",
    "#     'Cereal Grains and Pasta',\n",
    "#     'Dairy and Egg Products',\n",
    "    'Fast Foods',\n",
    "#     'Fats and Oils',\n",
    "#     'Finfish and Shellfish Products',\n",
    "#     'Fruits and Fruit Juices',\n",
    "#     'Lamb, Veal, and Game Products',\n",
    "#     'Legumes and Legume Products',\n",
    "    'Meals, Entrees, and Sidedishes',\n",
    "#     'Nut and Seed Products',\n",
    "#     'Pork Products',\n",
    "#     'Poultry Products',\n",
    "    'Restaurant Foods',\n",
    "#     'Sausages and Luncheon Meats',\n",
    "#     'Snacks',\n",
    "#     'Soups, Sauces, and Gravies',\n",
    "#     'Spices and Herbs',\n",
    "#     'Sweets',\n",
    "#     'Vegetables and Vegetable Products'\n",
    "    ]"
   ]
  },
  {
   "cell_type": "code",
   "execution_count": 18,
   "metadata": {
    "collapsed": true
   },
   "outputs": [],
   "source": [
    "# Restrict how many non-zero counterized groups to return *more maleable function)\n",
    "only_return_top_n = 100"
   ]
  },
  {
   "cell_type": "code",
   "execution_count": 19,
   "metadata": {
    "collapsed": true
   },
   "outputs": [],
   "source": [
    "def assign_groups(word_in_item):\n",
    "    fg_dic = {}\n",
    "    \n",
    "    start_time = time.time()\n",
    "\n",
    "    for grouped in dads.Food_Group.unique():\n",
    "        if grouped not in tmp_banned_cat:\n",
    "            counter_the = 0\n",
    "            for item_i in range(original_fg[grouped]):\n",
    "                search_this = fg_vallist_dic[grouped][item_i].lower().replace(',','').replace('/',' ').replace('-',' ').replace('_',' ').replace('.',' ').replace('(','').replace(')','').replace(\"'\",\"\").replace('&','')            \n",
    "                if search_this.find(word_in_item.lower()) != -1:\n",
    "                    counter_the += 1\n",
    "                \n",
    "            fg_dic[grouped] = float(counter_the) / next_fg[grouped]\n",
    "#     Here is where I am improving my proportion with the ever-more accurate string counter dictionary    \n",
    "\n",
    "    ordered_dict = sorted(fg_dic.items(), key=lambda x: x[1])\n",
    "    dict_to_list = []\n",
    "    for k,v in ordered_dict:\n",
    "        if v != 0:\n",
    "            new_list = [k,v]\n",
    "            dict_to_list.append(new_list)\n",
    "    dict_to_list = dict_to_list[::-1]\n",
    "    max_groups = dict_to_list[:only_return_top_n]\n",
    "    if max_groups != []:\n",
    "        return max_groups\n",
    "    \n",
    "# , (\"--- %s seconds ---\" % (time.time() - start_time))"
   ]
  },
  {
   "cell_type": "code",
   "execution_count": 20,
   "metadata": {
    "collapsed": false
   },
   "outputs": [
    {
     "data": {
      "text/plain": [
       "[['Pork Products', 0.09339596573639126],\n",
       " ['Sausages and Luncheon Meats', 0.07442596991290577],\n",
       " ['Legumes and Legume Products', 0.0021141649048625794],\n",
       " ['Snacks', 0.0017123287671232876],\n",
       " ['Soups, Sauces, and Gravies', 0.0015768725361366622],\n",
       " ['Baked Products', 0.0002166377816291161]]"
      ]
     },
     "execution_count": 20,
     "metadata": {},
     "output_type": "execute_result"
    }
   ],
   "source": [
    "assign_groups('pork')"
   ]
  },
  {
   "cell_type": "code",
   "execution_count": 21,
   "metadata": {
    "collapsed": true
   },
   "outputs": [],
   "source": [
    "# This function will assign food groups if given a feature from a particular item as an input\n",
    "\n",
    "def groups_from_item(itemized):\n",
    "\n",
    "    #clean item\n",
    "    word_in_item = itemized.lower().replace(',','').replace('/',' ').replace('-',' ').replace('_',' ').replace('.',' ').replace('(','').replace(')','').replace(\"'\",\"\").replace('&','')\n",
    "    \n",
    "    if len(word_in_item.split()) == 1:\n",
    "#     because there's just one word, we can feed the item directly into the search loop\n",
    "        check_for_result = assign_groups(word_in_item)\n",
    "        if check_for_result != None:\n",
    "            all_food_groups = check_for_result\n",
    "            all_food_groups = [i[0].replace(',','') for i in all_food_groups]\n",
    "            all_food_groups = ', '.join(all_food_groups)\n",
    "            return all_food_groups\n",
    "        else:\n",
    "            return None\n",
    "\n",
    "    elif len(word_in_item.split()) >= 1:\n",
    "        \n",
    "        # because there's more than one word, I'll have to do an extra loop to hit each word, but making sure that\n",
    "        # they get appended to the same row, and not to the following row\n",
    "        \n",
    "        each_words_group = []\n",
    "\n",
    "        for word_per_item in word_in_item.split():\n",
    "            mini_stop_words = ['and','with','by','for']            \n",
    "            if word_per_item not in mini_stop_words:\n",
    "                a_food_group = assign_groups(word_per_item)\n",
    "                if a_food_group != None:\n",
    "                    each_words_group += a_food_group\n",
    "\n",
    "        if each_words_group != []:\n",
    "            \n",
    "            # This process considers all the groups that were labeled per word, and sums their proportionate scores\n",
    "            all_food_groups = each_words_group\n",
    "            unique_descs = [k for k in dict(all_food_groups).keys()]\n",
    "            summed_groups = {}\n",
    "            for key in unique_descs:\n",
    "                tmp_list = []\n",
    "                for i, level in enumerate(all_food_groups):\n",
    "                    if key == all_food_groups[i][0]:\n",
    "                        tmp_list.append(all_food_groups[i][1])\n",
    "                summed_groups[key] = sum(tmp_list)\n",
    "\n",
    "            ordered_dict = sorted(summed_groups.items(), key=itemgetter(1))\n",
    "            dict_to_list = []\n",
    "            for k,v in ordered_dict:\n",
    "                if v != 0:\n",
    "                    new_list = [k,v]\n",
    "                    dict_to_list.append(new_list)\n",
    "            dict_to_list = dict_to_list[::-1]\n",
    "            max_groups = dict_to_list[:only_return_top_n]\n",
    "            if max_groups != []:\n",
    "                max_groups = [i[0].replace(',','') for i in max_groups]\n",
    "                all_food_groups = ', '.join(max_groups)\n",
    "                return all_food_groups\n",
    "            \n",
    "#     , (\"--- %s seconds ---\" % (time.time() - start_time))\n",
    "\n",
    "# ^^ I think the best way to do this is to make fg columns for item, menu, sub_menu, etc. and then pick the\n",
    "# group label with the highest label, or maybe the top 2/3 labels per row"
   ]
  },
  {
   "cell_type": "code",
   "execution_count": 21,
   "metadata": {
    "collapsed": true
   },
   "outputs": [],
   "source": [
    "hup = updated_vegan.sample(n=90)"
   ]
  },
  {
   "cell_type": "code",
   "execution_count": 22,
   "metadata": {
    "collapsed": false
   },
   "outputs": [
    {
     "name": "stdout",
     "output_type": "stream",
     "text": [
      "--- 18.3622870445 seconds ---\n"
     ]
    }
   ],
   "source": [
    "start_time = time.time()\n",
    "yup = hup.menu_item_name.map(lambda x: groups_from_item(x))\n",
    "print (\"--- %s seconds ---\" % (time.time() - start_time))"
   ]
  },
  {
   "cell_type": "code",
   "execution_count": 24,
   "metadata": {
    "collapsed": false
   },
   "outputs": [],
   "source": [
    "# # previous script @ --- 20.9017841816 seconds ---, new script @ --- 20.2134339809 seconds ---\n",
    "# start_time = time.time()\n",
    "# # hup = updated_vegan.menu_item_name.sample(n=90)\n",
    "# yup = hup.map(lambda x: groups_from_item(x))\n",
    "# print (\"--- %s seconds ---\" % (time.time() - start_time))"
   ]
  },
  {
   "cell_type": "code",
   "execution_count": 25,
   "metadata": {
    "collapsed": false
   },
   "outputs": [
    {
     "data": {
      "text/plain": [
       "Index([u'venue_name', u'venue_desc_list', u'vegan_venue_check',\n",
       "       u'venue_menu_url', u'venue_rated', u'meta_menu_n', u'depth_menus_n',\n",
       "       u'menu_item_name', u'menu_item_price', u'menu_item_desc',\n",
       "       u'count_desc_list', u'count_item_name', u'count_item_desc'],\n",
       "      dtype='object')"
      ]
     },
     "execution_count": 25,
     "metadata": {},
     "output_type": "execute_result"
    }
   ],
   "source": [
    "updated_food.columns"
   ]
  },
  {
   "cell_type": "code",
   "execution_count": 26,
   "metadata": {
    "collapsed": true
   },
   "outputs": [],
   "source": [
    "#issues - Mocha, Avocado, Slaw, Strawberry, Soup, Hamburger, Pastries, Bagel"
   ]
  },
  {
   "cell_type": "code",
   "execution_count": 27,
   "metadata": {
    "collapsed": false
   },
   "outputs": [
    {
     "data": {
      "text/plain": [
       "([['Beverages', 0.001034126163391934],\n",
       "  ['Legumes and Legume Products', 0.00042283298097251583]],\n",
       " 'Beverages, Legumes and Legume Products')"
      ]
     },
     "execution_count": 27,
     "metadata": {},
     "output_type": "execute_result"
    }
   ],
   "source": [
    "word = 'mocha'\n",
    "assign_groups(word), groups_from_item(word)"
   ]
  },
  {
   "cell_type": "code",
   "execution_count": 77,
   "metadata": {
    "collapsed": false
   },
   "outputs": [
    {
     "data": {
      "text/plain": [
       "[['Spices and Herbs', 0.0056179775280898875],\n",
       " ['Snacks', 0.0008561643835616438],\n",
       " ['Baked Products', 0.0006499133448873484],\n",
       " ['Soups, Sauces, and Gravies', 0.0005256241787122207],\n",
       " ['Poultry Products', 0.00038284839203675346]]"
      ]
     },
     "execution_count": 77,
     "metadata": {},
     "output_type": "execute_result"
    }
   ],
   "source": [
    "assign_groups('taco')"
   ]
  },
  {
   "cell_type": "code",
   "execution_count": 24,
   "metadata": {
    "collapsed": false
   },
   "outputs": [
    {
     "name": "stdout",
     "output_type": "stream",
     "text": [
      "Your food group(s) is/are: \n",
      "Sweets, Beef Products\n"
     ]
    }
   ],
   "source": [
    "from ipywidgets import widgets\n",
    "from IPython.display import display\n",
    "search_food = widgets.Text(description=\"Search:\", placeholder=\"Enter a food or ingredient!\")\n",
    "# cats_limit = widgets.Dropdown(description=\"Max Groups:\", options=[1,2,3,4,5,6,7])\n",
    "\n",
    "# def groups_with_n_cats(food_word, number_of_cats):\n",
    "#     only_return_top_n = number_of_cats\n",
    "#     limited_groups = groups_from_item(food_word)\n",
    "#     return limited_groups\n",
    "\n",
    "# only_return_top_n = on_submit(ui)\n",
    "my_button = widgets.Button(description=\"This best be good...\")\n",
    "def on_submit(ui):\n",
    "    \n",
    "#     only_return_top_n = float(cats_limit.value)\n",
    "#     max_groups = groups_with_n_cats(search_food.value.encode('utf8'), only_return_top_n)\n",
    "    \n",
    "    to_predict = groups_from_item(search_food.value.encode('utf8'))\n",
    "\n",
    "    print 'Your food group(s) is/are: \\n', to_predict\n",
    "\n",
    "# only_return_top_n = on_submit(ui)\n",
    "my_button.on_click(on_submit)\n",
    "\n",
    "display(search_food)\n",
    "# display(cats_limit)\n",
    "display(my_button)"
   ]
  },
  {
   "cell_type": "code",
   "execution_count": 29,
   "metadata": {
    "collapsed": false
   },
   "outputs": [
    {
     "name": "stdout",
     "output_type": "stream",
     "text": [
      "1861 90047\n"
     ]
    }
   ],
   "source": [
    "list_run_thru = updated_vegan.menu_item_name\n",
    "print len(list_run_thru), len(updated_food.menu_item_name)"
   ]
  },
  {
   "cell_type": "code",
   "execution_count": 30,
   "metadata": {
    "collapsed": false
   },
   "outputs": [],
   "source": [
    "# updated_food.menu_item_name"
   ]
  },
  {
   "cell_type": "code",
   "execution_count": 31,
   "metadata": {
    "collapsed": false
   },
   "outputs": [
    {
     "name": "stdout",
     "output_type": "stream",
     "text": [
      "Finfish and Shellfish Products, Poultry Products, Cereal Grains and Pasta, Soups Sauces and Gravies, Sausages and Luncheon Meats, Snacks, Legumes and Legume Products, Breakfast Cereals, Fats and Oils, Vegetables and Vegetable Products, Pork Products, Sweets, Lamb Veal and Game Products, Baked Products, Fruits and Fruit Juices, Beverages, Dairy and Egg Products, Beef Products --- 0.381889104843 seconds ---\n"
     ]
    }
   ],
   "source": [
    "start_time = time.time()\n",
    "print groups_from_item('Salty Fish and Chicken Fried Rice'), (\"--- %s seconds ---\" % (time.time() - start_time))"
   ]
  },
  {
   "cell_type": "code",
   "execution_count": 32,
   "metadata": {
    "collapsed": false
   },
   "outputs": [],
   "source": [
    "# # Here I've automated the food group tagging I would have done across each item, sub menu, and meta menu\n",
    "# start_time = time.time()\n",
    "# updated_food['item_fg'] = updated_food.menu_item_name.map(lambda x: groups_from_item(x))\n",
    "# print(\"--- %s seconds ---\" % (time.time() - start_time))\n",
    "# # Completion time: --- 21613.890872 seconds ---"
   ]
  },
  {
   "cell_type": "code",
   "execution_count": 33,
   "metadata": {
    "collapsed": false
   },
   "outputs": [],
   "source": [
    "# # Here I've automated the food group tagging I would have done across each item, sub menu, and meta menu\n",
    "# start_time = time.time()\n",
    "# updated_food['item_fg_renewed'] = updated_food.menu_item_name.map(lambda x: groups_from_item(x))\n",
    "# print(\"--- %s seconds ---\" % (time.time() - start_time))\n",
    "# # Completion time: --- 22567.7773201 seconds ---"
   ]
  },
  {
   "cell_type": "code",
   "execution_count": 34,
   "metadata": {
    "collapsed": false
   },
   "outputs": [],
   "source": [
    "# updated_food.item_fg.value_counts()"
   ]
  },
  {
   "cell_type": "code",
   "execution_count": 35,
   "metadata": {
    "collapsed": false
   },
   "outputs": [],
   "source": [
    "# # I also successfully ran this one:\n",
    "# updated_food['depth_menu_fg'] = updated_food.depth_menus_n.map(lambda x: groups_from_item(x))"
   ]
  },
  {
   "cell_type": "code",
   "execution_count": 65,
   "metadata": {
    "collapsed": false
   },
   "outputs": [
    {
     "name": "stdout",
     "output_type": "stream",
     "text": [
      "--- 12072.039319 seconds ---\n"
     ]
    }
   ],
   "source": [
    "# start_time = time.time()\n",
    "# updated_food['meta_menu_fg'] = updated_food.meta_menu_n.map(lambda x: groups_from_item(x))\n",
    "# print(\"--- %s seconds ---\" % (time.time() - start_time))\n",
    "# # Completion time: --- 12072.039319 seconds ---"
   ]
  },
  {
   "cell_type": "code",
   "execution_count": 126,
   "metadata": {
    "collapsed": false
   },
   "outputs": [],
   "source": [
    "# I need to go back and check out the menu item descriptions if I hope to analyze this column in the future, it has\n",
    "# thus far not been able to run cleanly. For the purposes of this project, though, it was the least\n",
    "# important group to feature engineer, as it had the least amount of variable and viable information.\n",
    "\n",
    "# start_time = time.time()\n",
    "# updated_food['item_desc_fg'] = updated_food.menu_item_desc.map(lambda x: groups_from_item(x))\n",
    "# print(\"--- %s seconds ---\" % (time.time() - start_time))"
   ]
  },
  {
   "cell_type": "code",
   "execution_count": null,
   "metadata": {
    "collapsed": true
   },
   "outputs": [],
   "source": [
    "# updated_food[['menu_item_name','menu_item_desc','item_fg','depth_menu_fg','meta_menu_fg','item_desc_fg']].head(5)"
   ]
  },
  {
   "cell_type": "code",
   "execution_count": 71,
   "metadata": {
    "collapsed": true
   },
   "outputs": [],
   "source": [
    "# updated_food.to_pickle('../../../../Accounts/Electo:Computad/\\\n",
    "# MacBook Pro/Software/Github/Old_repos/DSI-SF-4-anotherguitar/projects/Capstone Stuff/updated_food.pkl')"
   ]
  },
  {
   "cell_type": "code",
   "execution_count": 72,
   "metadata": {
    "collapsed": true
   },
   "outputs": [],
   "source": [
    "updated_food = pd.read_pickle('../../../../Accounts/Electo:Computad/\\\n",
    "MacBook Pro/Software/Github/Old_repos/DSI-SF-4-anotherguitar/projects/Capstone Stuff/updated_food.pkl')"
   ]
  },
  {
   "cell_type": "code",
   "execution_count": 40,
   "metadata": {
    "collapsed": false
   },
   "outputs": [
    {
     "data": {
      "text/plain": [
       "(90047,)"
      ]
     },
     "execution_count": 40,
     "metadata": {},
     "output_type": "execute_result"
    }
   ],
   "source": [
    "updated_food.item_fg_renewed.shape"
   ]
  },
  {
   "cell_type": "code",
   "execution_count": 41,
   "metadata": {
    "collapsed": false
   },
   "outputs": [
    {
     "data": {
      "text/plain": [
       "(90047,)"
      ]
     },
     "execution_count": 41,
     "metadata": {},
     "output_type": "execute_result"
    }
   ],
   "source": [
    "updated_food.depth_menu_fg.shape"
   ]
  },
  {
   "cell_type": "code",
   "execution_count": 42,
   "metadata": {
    "collapsed": false
   },
   "outputs": [],
   "source": [
    "# updated_food.item_fg.value_counts()"
   ]
  },
  {
   "cell_type": "code",
   "execution_count": 43,
   "metadata": {
    "collapsed": false
   },
   "outputs": [
    {
     "data": {
      "text/plain": [
       "Index([u'venue_name', u'venue_desc_list', u'vegan_venue_check',\n",
       "       u'venue_menu_url', u'venue_rated', u'meta_menu_n', u'depth_menus_n',\n",
       "       u'menu_item_name', u'menu_item_price', u'menu_item_desc',\n",
       "       u'count_desc_list', u'count_item_name', u'count_item_desc', u'item_fg',\n",
       "       u'depth_menu_fg', u'item_fg_renewed'],\n",
       "      dtype='object')"
      ]
     },
     "execution_count": 43,
     "metadata": {},
     "output_type": "execute_result"
    }
   ],
   "source": [
    "updated_food.columns"
   ]
  },
  {
   "cell_type": "code",
   "execution_count": 44,
   "metadata": {
    "collapsed": false
   },
   "outputs": [],
   "source": [
    "# Make a function that will put a 1 in the row if that group is represented, and 0 if not:\n",
    "def check_group(ref_group, food_groups):\n",
    "    \n",
    "    if food_groups == None:\n",
    "        return 0\n",
    "    elif len(food_groups.split(',')) == 1:\n",
    "        if ref_group.replace(',','') in food_groups:\n",
    "            return 1\n",
    "        else:\n",
    "            return 0\n",
    "\n",
    "    elif len(food_groups.split(',')) >= 1:\n",
    "        for a_group in food_groups.split(','):\n",
    "            if ref_group.replace(',','') in a_group:\n",
    "                return 1\n",
    "        return 0\n",
    "    else:\n",
    "        return 0"
   ]
  },
  {
   "cell_type": "code",
   "execution_count": 45,
   "metadata": {
    "collapsed": false
   },
   "outputs": [],
   "source": [
    "# updated_food = updated_food.drop([\n",
    "#         'Dairy and Egg Products', 'Spices and Herbs', 'Fats and Oils',\n",
    "#        'Poultry Products', 'Soups, Sauces, and Gravies',\n",
    "#        'Sausages and Luncheon Meats', 'Breakfast Cereals', 'Snacks',\n",
    "#        'Fruits and Fruit Juices', 'Pork Products',\n",
    "#        'Vegetables and Vegetable Products', 'Nut and Seed Products',\n",
    "#        'Beef Products', 'Beverages', 'Finfish and Shellfish Products',\n",
    "#        'Legumes and Legume Products', 'Lamb, Veal, and Game Products',\n",
    "#        'Baked Products', 'Sweets', 'Cereal Grains and Pasta',\n",
    "#        'Meals, Entrees, and Sidedishes'\n",
    "#     ], axis=1)\n",
    "# updated_food.columns"
   ]
  },
  {
   "cell_type": "code",
   "execution_count": 47,
   "metadata": {
    "collapsed": false
   },
   "outputs": [
    {
     "name": "stdout",
     "output_type": "stream",
     "text": [
      "next loop\n",
      "next loop\n",
      "next loop\n",
      "next loop\n",
      "next loop\n",
      "next loop\n",
      "next loop\n",
      "next loop\n",
      "next loop\n",
      "next loop\n",
      "next loop\n",
      "next loop\n",
      "next loop\n",
      "next loop\n",
      "next loop\n",
      "next loop\n",
      "next loop\n",
      "next loop\n",
      "next loop\n",
      "next loop\n",
      "next loop\n",
      "next loop\n",
      "next loop\n",
      "next loop\n",
      "next loop\n"
     ]
    }
   ],
   "source": [
    "for i in dads.Food_Group.unique():\n",
    "    print 'next loop'\n",
    "    if i.replace(',','') not in tmp_banned_cat:\n",
    "        current_ref_group = i.replace(',','')\n",
    "        updated_food[i] = updated_food.item_fg_renewed.map(lambda x: check_group(current_ref_group, x))"
   ]
  },
  {
   "cell_type": "code",
   "execution_count": 48,
   "metadata": {
    "collapsed": false
   },
   "outputs": [
    {
     "data": {
      "text/plain": [
       "0    49008\n",
       "1    41039\n",
       "Name: Sausages and Luncheon Meats, dtype: int64"
      ]
     },
     "execution_count": 48,
     "metadata": {},
     "output_type": "execute_result"
    }
   ],
   "source": [
    "updated_food['Sausages and Luncheon Meats'].value_counts()"
   ]
  },
  {
   "cell_type": "code",
   "execution_count": 49,
   "metadata": {
    "collapsed": false
   },
   "outputs": [
    {
     "data": {
      "text/plain": [
       "1    48323\n",
       "0    41724\n",
       "Name: Vegetables and Vegetable Products, dtype: int64"
      ]
     },
     "execution_count": 49,
     "metadata": {},
     "output_type": "execute_result"
    }
   ],
   "source": [
    "updated_food['Vegetables and Vegetable Products'].value_counts()\n",
    "# Results from original script:\n",
    "# 0    78210\n",
    "# 1    11837\n",
    "# Name: Vegetables and Vegetable Products, dtype: int64\n",
    "# Results from improved (more comprehensive) script:\n",
    "# 1    48323\n",
    "# 0    41724\n",
    "# Name: Vegetables and Vegetable Products, dtype: int64"
   ]
  },
  {
   "cell_type": "code",
   "execution_count": 50,
   "metadata": {
    "collapsed": true
   },
   "outputs": [],
   "source": [
    "updated_vegan = updated_food[updated_food.vegan_venue_check == 'vegan']"
   ]
  },
  {
   "cell_type": "code",
   "execution_count": 51,
   "metadata": {
    "collapsed": false
   },
   "outputs": [],
   "source": [
    "# updated_vegan.sample(90).T"
   ]
  },
  {
   "cell_type": "code",
   "execution_count": 52,
   "metadata": {
    "collapsed": false
   },
   "outputs": [],
   "source": [
    "# updated_food.sample(90).T"
   ]
  },
  {
   "cell_type": "code",
   "execution_count": 53,
   "metadata": {
    "collapsed": false
   },
   "outputs": [],
   "source": [
    "# updated_vegan.item_fg_renewed.value_counts()"
   ]
  },
  {
   "cell_type": "code",
   "execution_count": 54,
   "metadata": {
    "collapsed": true
   },
   "outputs": [],
   "source": [
    "# Below is extra data that I might later use to correlate nutrients with particular food groups,\n",
    "# though I'm not sure if there will be enough time for me to complete this aspect of the project"
   ]
  },
  {
   "cell_type": "code",
   "execution_count": 55,
   "metadata": {
    "collapsed": false
   },
   "outputs": [
    {
     "data": {
      "text/plain": [
       "(595359, 9)"
      ]
     },
     "execution_count": 55,
     "metadata": {},
     "output_type": "execute_result"
    }
   ],
   "source": [
    "usda.shape"
   ]
  },
  {
   "cell_type": "code",
   "execution_count": 56,
   "metadata": {
    "collapsed": true
   },
   "outputs": [],
   "source": [
    "tmp = usda[['Food_Group','Nutrient']]"
   ]
  },
  {
   "cell_type": "code",
   "execution_count": 57,
   "metadata": {
    "collapsed": false
   },
   "outputs": [
    {
     "data": {
      "text/plain": [
       "Food_Group                           Nutrient\n",
       "American Indian/Alaska Native Foods  10:0        1.0\n",
       "                                     12:0        1.0\n",
       "                                     14:0        1.0\n",
       "                                     14:1        1.0\n",
       "                                     15:0        1.0\n",
       "dtype: float64"
      ]
     },
     "execution_count": 57,
     "metadata": {},
     "output_type": "execute_result"
    }
   ],
   "source": [
    "tmp = tmp.groupby(['Food_Group','Nutrient']).agg(lambda x: 1.)\n",
    "tmp.head()"
   ]
  },
  {
   "cell_type": "code",
   "execution_count": 58,
   "metadata": {
    "collapsed": true
   },
   "outputs": [],
   "source": [
    "tmp = tmp.unstack(fill_value=0)"
   ]
  },
  {
   "cell_type": "code",
   "execution_count": 59,
   "metadata": {
    "collapsed": false
   },
   "outputs": [
    {
     "data": {
      "text/plain": [
       "(25, 145)"
      ]
     },
     "execution_count": 59,
     "metadata": {},
     "output_type": "execute_result"
    }
   ],
   "source": [
    "tmp.shape"
   ]
  },
  {
   "cell_type": "code",
   "execution_count": 60,
   "metadata": {
    "collapsed": true
   },
   "outputs": [],
   "source": [
    "tmp = tmp.reset_index()"
   ]
  },
  {
   "cell_type": "code",
   "execution_count": 61,
   "metadata": {
    "collapsed": false
   },
   "outputs": [
    {
     "data": {
      "text/plain": [
       "0     1.0\n",
       "1     1.0\n",
       "2     1.0\n",
       "3     1.0\n",
       "4     1.0\n",
       "5     1.0\n",
       "6     1.0\n",
       "7     1.0\n",
       "8     1.0\n",
       "9     1.0\n",
       "10    1.0\n",
       "11    1.0\n",
       "12    1.0\n",
       "13    1.0\n",
       "14    1.0\n",
       "15    1.0\n",
       "16    1.0\n",
       "17    1.0\n",
       "18    1.0\n",
       "19    1.0\n",
       "20    1.0\n",
       "21    1.0\n",
       "22    1.0\n",
       "23    1.0\n",
       "24    1.0\n",
       "Name: Carbohydrate, by difference, dtype: float64"
      ]
     },
     "execution_count": 61,
     "metadata": {},
     "output_type": "execute_result"
    }
   ],
   "source": [
    "tmp['Carbohydrate, by difference']"
   ]
  },
  {
   "cell_type": "code",
   "execution_count": 62,
   "metadata": {
    "collapsed": false
   },
   "outputs": [
    {
     "data": {
      "text/plain": [
       "array(['Food_Group', '10:0', '12:0', '13:0', '14:0', '14:1', '15:0',\n",
       "       '15:1', '16:0', '16:1 c', '16:1 t', '16:1 undifferentiated', '17:0',\n",
       "       '17:1', '18:0', '18:1 c', '18:1 t', '18:1 undifferentiated',\n",
       "       '18:1-11t (18:1t n-7)', '18:2 CLAs', '18:2 i', '18:2 n-6 c,c',\n",
       "       '18:2 t not further defined', '18:2 t,t', '18:2 undifferentiated',\n",
       "       '18:3 n-3 c,c,c (ALA)', '18:3 n-6 c,c,c', '18:3 undifferentiated',\n",
       "       '18:3i', '18:4', '20:0', '20:1', '20:2 n-6 c,c', '20:3 n-3',\n",
       "       '20:3 n-6', '20:3 undifferentiated', '20:4 n-6',\n",
       "       '20:4 undifferentiated', '20:5 n-3 (EPA)', '21:5', '22:0', '22:1 c',\n",
       "       '22:1 t', '22:1 undifferentiated', '22:4', '22:5 n-3 (DPA)',\n",
       "       '22:6 n-3 (DHA)', '24:0', '24:1 c', '4:0', '6:0', '8:0',\n",
       "       'Adjusted Protein', 'Alanine', 'Alcohol, ethyl', 'Arginine', 'Ash',\n",
       "       'Aspartic acid', 'Beta-sitosterol', 'Betaine', 'Caffeine',\n",
       "       'Calcium, Ca', 'Campesterol', 'Carbohydrate, by difference',\n",
       "       'Carotene, alpha', 'Carotene, beta', 'Cholesterol',\n",
       "       'Choline, total', 'Copper, Cu', 'Cryptoxanthin, beta', 'Cystine',\n",
       "       'Dihydrophylloquinone', 'Energy',\n",
       "       'Fatty acids, total monounsaturated',\n",
       "       'Fatty acids, total polyunsaturated',\n",
       "       'Fatty acids, total saturated', 'Fatty acids, total trans',\n",
       "       'Fatty acids, total trans-monoenoic',\n",
       "       'Fatty acids, total trans-polyenoic', 'Fiber, total dietary',\n",
       "       'Fluoride, F', 'Folate, DFE', 'Folate, food', 'Folate, total',\n",
       "       'Folic acid', 'Fructose', 'Galactose', 'Glucose (dextrose)',\n",
       "       'Glutamic acid', 'Glycine', 'Histidine', 'Hydroxyproline',\n",
       "       'Iron, Fe', 'Isoleucine', 'Lactose', 'Leucine',\n",
       "       'Lutein + zeaxanthin', 'Lycopene', 'Lysine', 'Magnesium, Mg',\n",
       "       'Maltose', 'Manganese, Mn', 'Menaquinone-4', 'Methionine', 'Niacin',\n",
       "       'Pantothenic acid', 'Phenylalanine', 'Phosphorus, P',\n",
       "       'Phytosterols', 'Potassium, K', 'Proline', 'Protein', 'Retinol',\n",
       "       'Riboflavin', 'Selenium, Se', 'Serine', 'Sodium, Na', 'Starch',\n",
       "       'Stigmasterol', 'Sucrose', 'Sugars, total', 'Theobromine',\n",
       "       'Thiamin', 'Threonine', 'Tocopherol, beta', 'Tocopherol, delta',\n",
       "       'Tocopherol, gamma', 'Total lipid (fat)', 'Tryptophan', 'Tyrosine',\n",
       "       'Valine', 'Vitamin A, IU', 'Vitamin A, RAE', 'Vitamin B-12',\n",
       "       'Vitamin B-12, added', 'Vitamin B-6',\n",
       "       'Vitamin C, total ascorbic acid', 'Vitamin D',\n",
       "       'Vitamin D (D2 + D3)', 'Vitamin D2 (ergocalciferol)',\n",
       "       'Vitamin D3 (cholecalciferol)', 'Vitamin E (alpha-tocopherol)',\n",
       "       'Vitamin E, added', 'Vitamin K (phylloquinone)', 'Water', 'Zinc, Zn'], dtype=object)"
      ]
     },
     "execution_count": 62,
     "metadata": {},
     "output_type": "execute_result"
    }
   ],
   "source": [
    "tmp.columns.unique()"
   ]
  },
  {
   "cell_type": "code",
   "execution_count": 63,
   "metadata": {
    "collapsed": false
   },
   "outputs": [
    {
     "data": {
      "text/plain": [
       "0    1.0\n",
       "1    1.0\n",
       "2    1.0\n",
       "Name: Sucrose, dtype: float64"
      ]
     },
     "execution_count": 63,
     "metadata": {},
     "output_type": "execute_result"
    }
   ],
   "source": [
    "tmp['Sucrose'].head(3).T"
   ]
  },
  {
   "cell_type": "code",
   "execution_count": 64,
   "metadata": {
    "collapsed": false
   },
   "outputs": [
    {
     "data": {
      "text/html": [
       "<div>\n",
       "<table border=\"1\" class=\"dataframe\">\n",
       "  <thead>\n",
       "    <tr style=\"text-align: right;\">\n",
       "      <th>Nutrient</th>\n",
       "      <th>Food_Group</th>\n",
       "      <th>10:0</th>\n",
       "      <th>12:0</th>\n",
       "      <th>13:0</th>\n",
       "      <th>14:0</th>\n",
       "      <th>14:1</th>\n",
       "      <th>15:0</th>\n",
       "      <th>15:1</th>\n",
       "      <th>16:0</th>\n",
       "      <th>16:1 c</th>\n",
       "      <th>...</th>\n",
       "      <th>Vitamin C, total ascorbic acid</th>\n",
       "      <th>Vitamin D</th>\n",
       "      <th>Vitamin D (D2 + D3)</th>\n",
       "      <th>Vitamin D2 (ergocalciferol)</th>\n",
       "      <th>Vitamin D3 (cholecalciferol)</th>\n",
       "      <th>Vitamin E (alpha-tocopherol)</th>\n",
       "      <th>Vitamin E, added</th>\n",
       "      <th>Vitamin K (phylloquinone)</th>\n",
       "      <th>Water</th>\n",
       "      <th>Zinc, Zn</th>\n",
       "    </tr>\n",
       "  </thead>\n",
       "  <tbody>\n",
       "    <tr>\n",
       "      <th>0</th>\n",
       "      <td>American Indian/Alaska Native Foods</td>\n",
       "      <td>1.0</td>\n",
       "      <td>1.0</td>\n",
       "      <td>0.0</td>\n",
       "      <td>1.0</td>\n",
       "      <td>1.0</td>\n",
       "      <td>1.0</td>\n",
       "      <td>1.0</td>\n",
       "      <td>1.0</td>\n",
       "      <td>1.0</td>\n",
       "      <td>...</td>\n",
       "      <td>1.0</td>\n",
       "      <td>1.0</td>\n",
       "      <td>1.0</td>\n",
       "      <td>0.0</td>\n",
       "      <td>0.0</td>\n",
       "      <td>1.0</td>\n",
       "      <td>1.0</td>\n",
       "      <td>1.0</td>\n",
       "      <td>1.0</td>\n",
       "      <td>1.0</td>\n",
       "    </tr>\n",
       "    <tr>\n",
       "      <th>1</th>\n",
       "      <td>Baby Foods</td>\n",
       "      <td>1.0</td>\n",
       "      <td>1.0</td>\n",
       "      <td>1.0</td>\n",
       "      <td>1.0</td>\n",
       "      <td>1.0</td>\n",
       "      <td>1.0</td>\n",
       "      <td>1.0</td>\n",
       "      <td>1.0</td>\n",
       "      <td>0.0</td>\n",
       "      <td>...</td>\n",
       "      <td>1.0</td>\n",
       "      <td>1.0</td>\n",
       "      <td>1.0</td>\n",
       "      <td>0.0</td>\n",
       "      <td>1.0</td>\n",
       "      <td>1.0</td>\n",
       "      <td>1.0</td>\n",
       "      <td>1.0</td>\n",
       "      <td>1.0</td>\n",
       "      <td>1.0</td>\n",
       "    </tr>\n",
       "    <tr>\n",
       "      <th>2</th>\n",
       "      <td>Baked Products</td>\n",
       "      <td>1.0</td>\n",
       "      <td>1.0</td>\n",
       "      <td>1.0</td>\n",
       "      <td>1.0</td>\n",
       "      <td>1.0</td>\n",
       "      <td>1.0</td>\n",
       "      <td>1.0</td>\n",
       "      <td>1.0</td>\n",
       "      <td>1.0</td>\n",
       "      <td>...</td>\n",
       "      <td>1.0</td>\n",
       "      <td>1.0</td>\n",
       "      <td>1.0</td>\n",
       "      <td>0.0</td>\n",
       "      <td>1.0</td>\n",
       "      <td>1.0</td>\n",
       "      <td>1.0</td>\n",
       "      <td>1.0</td>\n",
       "      <td>1.0</td>\n",
       "      <td>1.0</td>\n",
       "    </tr>\n",
       "    <tr>\n",
       "      <th>3</th>\n",
       "      <td>Beef Products</td>\n",
       "      <td>1.0</td>\n",
       "      <td>1.0</td>\n",
       "      <td>0.0</td>\n",
       "      <td>1.0</td>\n",
       "      <td>1.0</td>\n",
       "      <td>1.0</td>\n",
       "      <td>1.0</td>\n",
       "      <td>1.0</td>\n",
       "      <td>1.0</td>\n",
       "      <td>...</td>\n",
       "      <td>1.0</td>\n",
       "      <td>1.0</td>\n",
       "      <td>1.0</td>\n",
       "      <td>0.0</td>\n",
       "      <td>1.0</td>\n",
       "      <td>1.0</td>\n",
       "      <td>1.0</td>\n",
       "      <td>1.0</td>\n",
       "      <td>1.0</td>\n",
       "      <td>1.0</td>\n",
       "    </tr>\n",
       "    <tr>\n",
       "      <th>4</th>\n",
       "      <td>Beverages</td>\n",
       "      <td>1.0</td>\n",
       "      <td>1.0</td>\n",
       "      <td>1.0</td>\n",
       "      <td>1.0</td>\n",
       "      <td>1.0</td>\n",
       "      <td>1.0</td>\n",
       "      <td>1.0</td>\n",
       "      <td>1.0</td>\n",
       "      <td>1.0</td>\n",
       "      <td>...</td>\n",
       "      <td>1.0</td>\n",
       "      <td>1.0</td>\n",
       "      <td>1.0</td>\n",
       "      <td>1.0</td>\n",
       "      <td>0.0</td>\n",
       "      <td>1.0</td>\n",
       "      <td>1.0</td>\n",
       "      <td>1.0</td>\n",
       "      <td>1.0</td>\n",
       "      <td>1.0</td>\n",
       "    </tr>\n",
       "    <tr>\n",
       "      <th>5</th>\n",
       "      <td>Breakfast Cereals</td>\n",
       "      <td>1.0</td>\n",
       "      <td>1.0</td>\n",
       "      <td>1.0</td>\n",
       "      <td>1.0</td>\n",
       "      <td>1.0</td>\n",
       "      <td>1.0</td>\n",
       "      <td>1.0</td>\n",
       "      <td>1.0</td>\n",
       "      <td>1.0</td>\n",
       "      <td>...</td>\n",
       "      <td>1.0</td>\n",
       "      <td>1.0</td>\n",
       "      <td>1.0</td>\n",
       "      <td>1.0</td>\n",
       "      <td>1.0</td>\n",
       "      <td>1.0</td>\n",
       "      <td>1.0</td>\n",
       "      <td>1.0</td>\n",
       "      <td>1.0</td>\n",
       "      <td>1.0</td>\n",
       "    </tr>\n",
       "    <tr>\n",
       "      <th>6</th>\n",
       "      <td>Cereal Grains and Pasta</td>\n",
       "      <td>1.0</td>\n",
       "      <td>1.0</td>\n",
       "      <td>1.0</td>\n",
       "      <td>1.0</td>\n",
       "      <td>1.0</td>\n",
       "      <td>1.0</td>\n",
       "      <td>1.0</td>\n",
       "      <td>1.0</td>\n",
       "      <td>1.0</td>\n",
       "      <td>...</td>\n",
       "      <td>1.0</td>\n",
       "      <td>1.0</td>\n",
       "      <td>1.0</td>\n",
       "      <td>0.0</td>\n",
       "      <td>0.0</td>\n",
       "      <td>1.0</td>\n",
       "      <td>1.0</td>\n",
       "      <td>1.0</td>\n",
       "      <td>1.0</td>\n",
       "      <td>1.0</td>\n",
       "    </tr>\n",
       "    <tr>\n",
       "      <th>7</th>\n",
       "      <td>Dairy and Egg Products</td>\n",
       "      <td>1.0</td>\n",
       "      <td>1.0</td>\n",
       "      <td>1.0</td>\n",
       "      <td>1.0</td>\n",
       "      <td>1.0</td>\n",
       "      <td>1.0</td>\n",
       "      <td>1.0</td>\n",
       "      <td>1.0</td>\n",
       "      <td>1.0</td>\n",
       "      <td>...</td>\n",
       "      <td>1.0</td>\n",
       "      <td>1.0</td>\n",
       "      <td>1.0</td>\n",
       "      <td>1.0</td>\n",
       "      <td>1.0</td>\n",
       "      <td>1.0</td>\n",
       "      <td>1.0</td>\n",
       "      <td>1.0</td>\n",
       "      <td>1.0</td>\n",
       "      <td>1.0</td>\n",
       "    </tr>\n",
       "    <tr>\n",
       "      <th>8</th>\n",
       "      <td>Fast Foods</td>\n",
       "      <td>1.0</td>\n",
       "      <td>1.0</td>\n",
       "      <td>1.0</td>\n",
       "      <td>1.0</td>\n",
       "      <td>1.0</td>\n",
       "      <td>1.0</td>\n",
       "      <td>1.0</td>\n",
       "      <td>1.0</td>\n",
       "      <td>1.0</td>\n",
       "      <td>...</td>\n",
       "      <td>1.0</td>\n",
       "      <td>1.0</td>\n",
       "      <td>1.0</td>\n",
       "      <td>0.0</td>\n",
       "      <td>1.0</td>\n",
       "      <td>1.0</td>\n",
       "      <td>1.0</td>\n",
       "      <td>1.0</td>\n",
       "      <td>1.0</td>\n",
       "      <td>1.0</td>\n",
       "    </tr>\n",
       "    <tr>\n",
       "      <th>9</th>\n",
       "      <td>Fats and Oils</td>\n",
       "      <td>1.0</td>\n",
       "      <td>1.0</td>\n",
       "      <td>1.0</td>\n",
       "      <td>1.0</td>\n",
       "      <td>1.0</td>\n",
       "      <td>1.0</td>\n",
       "      <td>1.0</td>\n",
       "      <td>1.0</td>\n",
       "      <td>1.0</td>\n",
       "      <td>...</td>\n",
       "      <td>1.0</td>\n",
       "      <td>1.0</td>\n",
       "      <td>1.0</td>\n",
       "      <td>0.0</td>\n",
       "      <td>1.0</td>\n",
       "      <td>1.0</td>\n",
       "      <td>1.0</td>\n",
       "      <td>1.0</td>\n",
       "      <td>1.0</td>\n",
       "      <td>1.0</td>\n",
       "    </tr>\n",
       "  </tbody>\n",
       "</table>\n",
       "<p>10 rows × 146 columns</p>\n",
       "</div>"
      ],
      "text/plain": [
       "Nutrient                           Food_Group  10:0  12:0  13:0  14:0  14:1  \\\n",
       "0         American Indian/Alaska Native Foods   1.0   1.0   0.0   1.0   1.0   \n",
       "1                                  Baby Foods   1.0   1.0   1.0   1.0   1.0   \n",
       "2                              Baked Products   1.0   1.0   1.0   1.0   1.0   \n",
       "3                               Beef Products   1.0   1.0   0.0   1.0   1.0   \n",
       "4                                   Beverages   1.0   1.0   1.0   1.0   1.0   \n",
       "5                           Breakfast Cereals   1.0   1.0   1.0   1.0   1.0   \n",
       "6                     Cereal Grains and Pasta   1.0   1.0   1.0   1.0   1.0   \n",
       "7                      Dairy and Egg Products   1.0   1.0   1.0   1.0   1.0   \n",
       "8                                  Fast Foods   1.0   1.0   1.0   1.0   1.0   \n",
       "9                               Fats and Oils   1.0   1.0   1.0   1.0   1.0   \n",
       "\n",
       "Nutrient  15:0  15:1  16:0  16:1 c    ...     Vitamin C, total ascorbic acid  \\\n",
       "0          1.0   1.0   1.0     1.0    ...                                1.0   \n",
       "1          1.0   1.0   1.0     0.0    ...                                1.0   \n",
       "2          1.0   1.0   1.0     1.0    ...                                1.0   \n",
       "3          1.0   1.0   1.0     1.0    ...                                1.0   \n",
       "4          1.0   1.0   1.0     1.0    ...                                1.0   \n",
       "5          1.0   1.0   1.0     1.0    ...                                1.0   \n",
       "6          1.0   1.0   1.0     1.0    ...                                1.0   \n",
       "7          1.0   1.0   1.0     1.0    ...                                1.0   \n",
       "8          1.0   1.0   1.0     1.0    ...                                1.0   \n",
       "9          1.0   1.0   1.0     1.0    ...                                1.0   \n",
       "\n",
       "Nutrient  Vitamin D  Vitamin D (D2 + D3)  Vitamin D2 (ergocalciferol)  \\\n",
       "0               1.0                  1.0                          0.0   \n",
       "1               1.0                  1.0                          0.0   \n",
       "2               1.0                  1.0                          0.0   \n",
       "3               1.0                  1.0                          0.0   \n",
       "4               1.0                  1.0                          1.0   \n",
       "5               1.0                  1.0                          1.0   \n",
       "6               1.0                  1.0                          0.0   \n",
       "7               1.0                  1.0                          1.0   \n",
       "8               1.0                  1.0                          0.0   \n",
       "9               1.0                  1.0                          0.0   \n",
       "\n",
       "Nutrient  Vitamin D3 (cholecalciferol)  Vitamin E (alpha-tocopherol)  \\\n",
       "0                                  0.0                           1.0   \n",
       "1                                  1.0                           1.0   \n",
       "2                                  1.0                           1.0   \n",
       "3                                  1.0                           1.0   \n",
       "4                                  0.0                           1.0   \n",
       "5                                  1.0                           1.0   \n",
       "6                                  0.0                           1.0   \n",
       "7                                  1.0                           1.0   \n",
       "8                                  1.0                           1.0   \n",
       "9                                  1.0                           1.0   \n",
       "\n",
       "Nutrient  Vitamin E, added  Vitamin K (phylloquinone)  Water  Zinc, Zn  \n",
       "0                      1.0                        1.0    1.0       1.0  \n",
       "1                      1.0                        1.0    1.0       1.0  \n",
       "2                      1.0                        1.0    1.0       1.0  \n",
       "3                      1.0                        1.0    1.0       1.0  \n",
       "4                      1.0                        1.0    1.0       1.0  \n",
       "5                      1.0                        1.0    1.0       1.0  \n",
       "6                      1.0                        1.0    1.0       1.0  \n",
       "7                      1.0                        1.0    1.0       1.0  \n",
       "8                      1.0                        1.0    1.0       1.0  \n",
       "9                      1.0                        1.0    1.0       1.0  \n",
       "\n",
       "[10 rows x 146 columns]"
      ]
     },
     "execution_count": 64,
     "metadata": {},
     "output_type": "execute_result"
    }
   ],
   "source": [
    "tmp.head(10)"
   ]
  }
 ],
 "metadata": {
  "anaconda-cloud": {},
  "kernelspec": {
   "display_name": "Python [conda env:dsi]",
   "language": "python",
   "name": "conda-env-dsi-py"
  },
  "language_info": {
   "codemirror_mode": {
    "name": "ipython",
    "version": 2
   },
   "file_extension": ".py",
   "mimetype": "text/x-python",
   "name": "python",
   "nbconvert_exporter": "python",
   "pygments_lexer": "ipython2",
   "version": "2.7.12"
  },
  "widgets": {
   "state": {
    "2873cdb8249943ee8af7bcf4af4bd2fd": {
     "views": [
      {
       "cell_index": 27
      }
     ]
    },
    "61b9e5cf477048b3bf4f5666497541f4": {
     "views": [
      {
       "cell_index": 27
      }
     ]
    },
    "64723eaa040d4ef7bea7655a365cab74": {
     "views": [
      {
       "cell_index": 27
      }
     ]
    },
    "6eca45e5f9a348b3b3339eb9c04748b8": {
     "views": [
      {
       "cell_index": 27
      }
     ]
    },
    "f477d0d0e31b4deeaea56bb48134b73b": {
     "views": [
      {
       "cell_index": 27
      }
     ]
    }
   },
   "version": "1.2.0"
  }
 },
 "nbformat": 4,
 "nbformat_minor": 1
}
