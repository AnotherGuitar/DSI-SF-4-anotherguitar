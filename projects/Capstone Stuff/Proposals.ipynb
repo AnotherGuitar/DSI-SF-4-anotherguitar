{
 "cells": [
  {
   "cell_type": "markdown",
   "metadata": {},
   "source": [
    "# Capstone Proposals:\n",
    "    \n",
    "As Americans, we have an enormous variety of foods commonly available at grocery stores, corner shops, and increasingly, online. For one project, I'd like to take a look at the fundamental ingredients and nutrients that compose this great variety. My hope would be to predict the number of nutrients found in certain food items, as well as looking hollistically at the ingredients that are most common in our foods. I would like to then relate this to general dietary habits of the US population, and get a granular idea of the nutrient composition of diets. The stretch goal would be to predict the changes in nutrient-use given an increasing population of vegans, where I could estimate increases in required nutrient needs based on 'normal' diets. I'm unsure whether this would be kosher, because obviously I can't check the quality of my predictions for the future. I could, however, see if I could predict correlations on historical data in growth of the vegan diet in the US, and then use that model to predict the effect of future growth of vegan diets.\n",
    "       \n",
    "*** (I'm still pondering the best way to go about this, but at least you can see where I'm hoping to take this) ***\n",
    "    \n",
    "'Nutrient Database from 2012' - https://catalog.data.gov/dataset/usda-national-nutrient-database-for-standard-reference\n",
    "'Nutrient Database from 2009' - https://catalog.data.gov/dataset/usda-national-nutrient-database-for-standard-reference-release-22\n",
    "    \n",
    "Partially pre-cleaned nutrient data - https://github.com/mhess126/usda_national_nutrients\n",
    "USDA API (not sure if this could be useful yet?) - https://ndb.nal.usda.gov/ndb/api/doc\n",
    "    \n",
    "    \n",
    "I'm still looking for better data to work with that could give me some idea of dietary habits, but here's where I've been looking - https://catalog.data.gov/dataset?q=bureauCode:%22005:13%22 ; https://catalog.data.gov/dataset?q=usda+consumption+national+nutrient&sort=views_recent+desc&ext_location=&ext_bbox=&ext_prev_extent=-142.03125%2C2.4601811810210052%2C-59.0625%2C58.63121664342478\n",
    "    \n",
    "    \n",
    "Alternatively, I could look at pricing these ingredients, based on the foodtypes that we find them in. For example, take a chili sauce. Of this sauce, take a look at the unique ingredients, and their respective portion size in the sauce. Let's say that black beans compose 20% of the chili, and the chili runs 5 dollars/unit. Then the pricing for the black bean ingredient would be 1 dollar.\n",
    "\n",
    "From there, I would want to observe how expensive these ingredients can get and how their prices change depending on what products they may be found in. \n",
    "    \n",
    "'Food Price Outlook, current' - https://catalog.data.gov/dataset/food-price-outlook\n",
    "    "
   ]
  },
  {
   "cell_type": "code",
   "execution_count": 1,
   "metadata": {
    "collapsed": false
   },
   "outputs": [],
   "source": [
    "# pip install scrapy\n",
    "# pip install --upgrade zope2\n",
    "\n",
    "import foursquare\n",
    "import json\n",
    "import matplotlib.pyplot as plt\n",
    "import numpy as np\n",
    "import pandas as pd\n",
    "import random\n",
    "import requests\n",
    "from scrapy import Selector\n",
    "from scrapy.http import HtmlResponse\n",
    "import seaborn as sns\n",
    "import time\n",
    "import unicodedata"
   ]
  },
  {
   "cell_type": "code",
   "execution_count": 2,
   "metadata": {
    "collapsed": false
   },
   "outputs": [],
   "source": [
    "CLIENT_ID = '33NDJLQ342FAMTNX5Z55PR0PQQOJZRAZZ3XEAI0ERQXEJRUL'\n",
    "CLIENT_SECRET = 'FGMFNZGMWUR1ILZFGH2NV1OKQY3WK5AAPHWKXTFWRR3B4Z4E'\n",
    "client = foursquare.Foursquare(client_id=CLIENT_ID, client_secret=CLIENT_SECRET)"
   ]
  },
  {
   "cell_type": "code",
   "execution_count": 20,
   "metadata": {
    "collapsed": false
   },
   "outputs": [
    {
     "name": "stdout",
     "output_type": "stream",
     "text": [
      "-122.355079651\n",
      "[37.8127675576, 37.7078622611]\n",
      "70\n"
     ]
    }
   ],
   "source": [
    "#Let's define a geo dictionary whose bounds encompass all of SF, and another 4 miles south as well (so ~7mi x 11mi)\n",
    "ne = {'ne_lat': -122.3550796509, 'ne_long': 37.8127675576}\n",
    "sw = {'sw_lat': -122.5164413452, 'sw_long': 37.7078622611}\n",
    "\n",
    "# east/west\n",
    "lat_bounds = [ne['ne_lat'], sw['sw_lat']]\n",
    "print lat_bounds[0]\n",
    "# north/south\n",
    "lon_bounds = [ne['ne_long'], sw['sw_long']]\n",
    "print lon_bounds\n",
    "\n",
    "#increment ~ half a mile (in latitude/longitude)\n",
    "increment = 0.017\n",
    "\n",
    "# The gridding below moves North, starting from the bottom SW corner boundary, and then moves east half a mile,\n",
    "# and repeats the process until stopping at the NE corner boundary.\n",
    "grid_pairs = []\n",
    "for lat in np.arange(lat_bounds[1], lat_bounds[0], increment):\n",
    "    for lon in np.arange(lon_bounds[1], lon_bounds[0], increment):\n",
    "        grid_pairs.append([lat, lon])\n",
    "        \n",
    "print len(grid_pairs)\n",
    "# for x, y in grid_pairs:\n",
    "#     print x, y"
   ]
  },
  {
   "cell_type": "code",
   "execution_count": 4,
   "metadata": {
    "collapsed": false
   },
   "outputs": [
    {
     "name": "stdout",
     "output_type": "stream",
     "text": [
      "--- 11.4930729866 active seconds ---\n"
     ]
    }
   ],
   "source": [
    "# This will independently pull the venue names and id codes that correspond to the geographical areas\n",
    "# I paired off in the previous step with grid_pairs. The names and id's will be subesquently used to\n",
    "# construct menu url's, which I then intend to scrape.\n",
    "unique_venues_from_search = []\n",
    "unique_venue_names_from_search = []\n",
    "start_time = time.time()\n",
    "\n",
    "#My hypothesis is that there are 18k items to get (360 pairs * 50 offset limit)\n",
    "urls_collected = 0\n",
    "# for i in range(len(grid_pairs)+1):\n",
    "#     single_loop_limit = i * 499.\n",
    "#     print \"loop # %d \" %i\n",
    "for x, y in grid_pairs:\n",
    "    try:\n",
    "        search = client.venues.search(params={'ll': '%.2f, %.2f' % (y, x),'query': 'food', 'limit':'50',\n",
    "                                      'intent':'browse','radius':'800'})\n",
    "        searched_venue_ids = [search['venues'][i]['id'] for i in range(len(search['venues']))]\n",
    "        searched_name_ids = [search['venues'][i]['name'] for i in range(len(search['venues']))]\n",
    "        for next_id, next_name in zip(searched_venue_ids, searched_name_ids):\n",
    "            unique_venues_from_search.append(next_id)\n",
    "            unique_venue_names_from_search.append(next_name)\n",
    "#         print('--- %s loop-active seconds ---' % (time.time() - start_time))\n",
    "    except:\n",
    "        print('Sleeping...')\n",
    "#         time.sleep(random.randint(115,140))\n",
    "print('--- %s active seconds ---' % (time.time() - start_time))"
   ]
  },
  {
   "cell_type": "code",
   "execution_count": 5,
   "metadata": {
    "collapsed": false
   },
   "outputs": [
    {
     "name": "stdout",
     "output_type": "stream",
     "text": [
      "358 358\n"
     ]
    }
   ],
   "source": [
    "print len(unique_venue_names_from_search), len(unique_venues_from_search)"
   ]
  },
  {
   "cell_type": "code",
   "execution_count": 6,
   "metadata": {
    "collapsed": false
   },
   "outputs": [
    {
     "data": {
      "text/plain": [
       "([u'Food Fair',\n",
       "  u'Food Fair',\n",
       "  u'Asian American Food Company',\n",
       "  u'Other Avenues Food Store',\n",
       "  u'7-Eleven'],\n",
       " [u'4e3d8765ae60454236667cc4',\n",
       "  u'4e3d8765ae60454236667cc4',\n",
       "  u'463bfdccf964a52026461fe3',\n",
       "  u'4a90954ff964a520a61820e3',\n",
       "  u'4afba001f964a520d51e22e3'])"
      ]
     },
     "execution_count": 6,
     "metadata": {},
     "output_type": "execute_result"
    }
   ],
   "source": [
    "unique_venue_names_from_search[:5], unique_venues_from_search[:5]"
   ]
  },
  {
   "cell_type": "code",
   "execution_count": 7,
   "metadata": {
    "collapsed": false
   },
   "outputs": [
    {
     "data": {
      "text/plain": [
       "358"
      ]
     },
     "execution_count": 7,
     "metadata": {},
     "output_type": "execute_result"
    }
   ],
   "source": [
    "#NOTE: THIS ISN'T WORKING B/C SOME OF THE MENUS DON'T ALIGN PROPERLY IN MY FOOR LOOP - ASK DAVIDDD\n",
    "\n",
    "#this works for the .search api calls only (need a diff process b/c .explore doesn't return names)\n",
    "menu_urls_from_search = []\n",
    "base_url = 'https://foursquare.com/v/'\n",
    "for venue_id, venue_name in zip(unique_venues_from_search, unique_venue_names_from_search):\n",
    "    dat_id = unicodedata.normalize('NFKD', venue_id).encode('ascii','ignore')\n",
    "    dat_name = unicodedata.normalize('NFKD', venue_name).encode('ascii','ignore')\n",
    "    dat_name = dat_name.lower().replace('/','-').replace(' ','-')\n",
    "    transformed_url = base_url+dat_name+'/'+dat_id+'/menu'\n",
    "    menu_urls_from_search.append(transformed_url)\n",
    "len(menu_urls_from_search)"
   ]
  },
  {
   "cell_type": "code",
   "execution_count": 8,
   "metadata": {
    "collapsed": false
   },
   "outputs": [],
   "source": [
    "# Testing that no venues have been duplicated with my searches\n",
    "unique_urls_from_search = list(set(menu_urls_from_search))"
   ]
  },
  {
   "cell_type": "code",
   "execution_count": null,
   "metadata": {
    "collapsed": true
   },
   "outputs": [],
   "source": [
    "#NOTE: HERE IS WHERE I LAST HAD MY .EXPLORE FUNCTIONALITY"
   ]
  },
  {
   "cell_type": "code",
   "execution_count": 31,
   "metadata": {
    "collapsed": false
   },
   "outputs": [],
   "source": [
    "unique_venues = []\n",
    "for offset in range(50, 200, 50):\n",
    "    #intent:browse let's use use radius; radius is radius in meters around given 'll'; 800 meters (dimension I elected)\n",
    "    #is approx 0.5 miles (but I may adjust the radius going forward)\n",
    "    #note: i don't need to include the radius here, b/c foursquare will automatically modify it dependent on\n",
    "    #the density of venues in that area, but just to be sure i grab as many as possible...\n",
    "    \n",
    "    search = client.venues.explore(params={'ll': '%.2f, %.2f' % [(y, x) for x, y in grid_pairs], 'radius': '800',\n",
    "                                          'section': 'food','limit':'50','offset':''+str(offset)+''})\n",
    "    \n",
    "    #NOTE: i need to figure out what the response variables are for .explore, so i know how to grab the venue_id's\n",
    "    #NOTE: no offset available in the .search call\n",
    "    \n",
    "    #if i use this (below) api call, i need to pull out all the non-food places (which won't have menus)\n",
    "    #i'd still have to do that regularly, but this could mean i get way fewer venues of value (read: food venues)\n",
    "    #alternatively, by using the above api call, i can guarantee i pull food items, but only the most popular ones.\n",
    "    #so either way, there might be some missing info. If i collate all the data though, and put those venues together,\n",
    "    #i should get a pretty comprehensive list!\n",
    "\n",
    "    \n",
    "    \n",
    "    #... so offset won't work for this..., only for .explore\n",
    "    ven_ids[offset] = [search['venues'][i]['id'] for i in range(len(search['venues']))]\n",
    "    "
   ]
  },
  {
   "cell_type": "code",
   "execution_count": 25,
   "metadata": {
    "collapsed": false
   },
   "outputs": [],
   "source": [
    "# Now that I have plenty of urls, let's plug them into a scraper so i can populate my df. Here are the headers\n",
    "# I'm looking to get as well...\n",
    "\n",
    "column_headers = ['venue_name', 'venue_desc_list', 'venue_menu_url', 'venue_rated', 'meta_menu_n', 'depth_menus_n',\n",
    "                  'menu_item_name', 'menu_item_price', 'menu_item_desc']\n",
    "\n",
    "df_ready_rows = []\n",
    "def parse_url(url, data=False):\n",
    "    \n",
    "#     venue_rows = []\n",
    "    response               =  requests.get(url)\n",
    "    \n",
    "    #Steps:\n",
    "    #1) get the unicode objects\n",
    "    #2) change objects from unicode to string\n",
    "    \n",
    "    venue_name_uni         =  Selector(text=response.text).xpath('//h1[@class=\"venueName\"]/text()').extract()\n",
    "    venue_name             = unicodedata.normalize('NFKD', venue_name_uni[0]).encode('ascii','ignore')\n",
    "    \n",
    "    #also need to do an iteration to capture the multiple descriptors\n",
    "    venue_desc_uni         =  Selector(text=response.text).xpath('//span[@class=\"unlinkedCategory\"]/\\\n",
    "    text()').extract()\n",
    "    \n",
    "    #I'll make a list to capture the entire description:\n",
    "    venue_desc_list        = []\n",
    "    for venue_desc_phrase in range(len(venue_desc_uni)):\n",
    "        venue_desc_n       = unicodedata.normalize('NFKD', venue_desc_uni[venue_desc_phrase]).encode('ascii',\n",
    "                                                                                                  'ignore')\n",
    "        venue_desc_list.append(venue_desc_n)\n",
    "\n",
    "    #The url too, right?\n",
    "    venue_menu_url         = url\n",
    "\n",
    "    #Grabbing the venue rating, just a note: venueScore positive/neutral/negative, but I'm only getting the\n",
    "    #rating 1-10\n",
    "    venueScore_options     = ['positive','neutral','negative']\n",
    "    venue_rated = []\n",
    "    for vs_option in venueScore_options:\n",
    "        try:\n",
    "            venue_rating_uni        = Selector(text=response.text).xpath('//div[@class=\"venueRateBlock  \"]/\\\n",
    "    span[@class=\"venueScore '+vs_option+'\"]/span/text()').extract()\n",
    "            venue_rated             = unicodedata.normalize('NFKD', venue_rating_uni[0]).encode('ascii','ignore')\n",
    "            venue_rated = float(venue_rated)\n",
    "        except:\n",
    "            pass\n",
    "        \n",
    "    #Even if there is no rating, I'd still like to keep track of that...\n",
    "    if venue_rated == np.nan:\n",
    "        venue_rated = 'rating_not_available'\n",
    "        \n",
    "    #And I'll transform the list back into a string...\n",
    "#     venue_rated = venue_rated[0]\n",
    "    \n",
    "    #NOTE: do i also need to account for when menus don't have titles? because in that case meta_menu_list\n",
    "    #could/would\n",
    "    #return null. if so, perhaps just do a 'try excepct:pass' function if it can't find titles, but could it still\n",
    "    #grab the menu items? maybe i should just put in a \"null title\" for the meta_menu_n to overcome this\n",
    "    #I no longer think this is an issue, but maybe something to put in the appendix for later?\n",
    "    \n",
    "    meta_menu_list      =  Selector(text=response.text).xpath('//h2[@class=\"categoryName\"]/text()').extract()\n",
    "        \n",
    "    for meta_menu_item in range(len(meta_menu_list)):\n",
    "        \n",
    "        meta_menu_n         = unicodedata.normalize('NFKD', meta_menu_list[meta_menu_item]).encode('ascii',\n",
    "                                                                                                   'ignore')\n",
    "        \n",
    "#         print \"meta menu title %d:\" %(meta_menu_item+1), meta_menu_n, \"# of meta menus:\", len(meta_menu_list)\n",
    "        \n",
    "        depth_menus_n_uni = Selector(text=response.text).xpath('//div[@class=\"menu\"]['+str(meta_menu_item+1)+']/\\\n",
    "        div[@class=\"menuItems\"]/div[@class=\"section\"]/div[@class=\"sectionHeader\"]/\\\n",
    "        div[@class=\"sectionName\"]/text()').extract()\n",
    "        \n",
    "        for meta_depth_nn in range(len(depth_menus_n_uni)):\n",
    "            \n",
    "            depth_menus_n     = unicodedata.normalize('NFKD', depth_menus_n_uni[meta_depth_nn]\n",
    "                                                     ).encode('ascii','ignore')\n",
    "\n",
    "            #get the name of the depth menu, and record it's location as 'n_level'\n",
    "            n_level = meta_depth_nn+1\n",
    "#             print \"depth menu title %d:\" %(n_level), depth_menus_n\n",
    "            \n",
    "            #let's grab the entire depth menu:\n",
    "            depth_menu_id_uni = Selector(text=response.text).xpath('//div[@class=\"menu\"]\\\n",
    "            ['+str(meta_menu_item+1)+']/div[@class=\"menuItems\"]/div[@class=\"section\"]['+str(n_level)+']/\\\n",
    "            div[@class=\"sectionHeader\"]/div[@class=\"sectionName\"]/text()').extract()\n",
    "            depth_menu_id     = unicodedata.normalize('NFKD', depth_menu_id_uni[0]\n",
    "                                                     ).encode('ascii','ignore')\n",
    "            depth_menu_id = len(depth_menu_id_uni)\n",
    "#             print \"#id of depth menu:\", depth_menu_id\n",
    "            \n",
    "            #loop throught the left and right side of each container:\n",
    "            left_or_right_list = ['left','right']\n",
    "            \n",
    "            for left_or_right in left_or_right_list:\n",
    "    \n",
    "                #need the length of the [left/right] container, to iterate through:\n",
    "                container_len_uni = Selector(text=response.text).xpath('//div[@class=\"menu\"]\\\n",
    "                ['+str(meta_menu_item+1)+']/div[@class=\"menuItems\"]/div[@class=\"section\"]['+str(n_level)+']/div\\\n",
    "                [@class=\"entryContainer\"]/div[@class=\"'+left_or_right+'Column\"]/\\\n",
    "                div[@class=\"entry\"]/node()[1]//text()').extract()\n",
    "#                 print \"left_check:\", left_or_right, \"contain len:\", len(container_len_uni)\n",
    "            \n",
    "                for section_n in range(len(container_len_uni)):                    \n",
    "                    \n",
    "                    #now we can get the name of that menu item...\n",
    "                    menu_item_name_uni = Selector(text=response.text).xpath('//div[@class=\"menu\"]\\\n",
    "                    ['+str(meta_menu_item+1)+']/div[@class=\"menuItems\"]/div[@class=\"section\"]\\\n",
    "                    ['+str(n_level)+']/div\\\n",
    "                    [@class=\"entryContainer\"]/div[@class=\"'+left_or_right+'Column\"]/div[@class=\"entry\"]\\\n",
    "                    ['+str(section_n+1)+']/node()[1]//text()').extract()\n",
    "                    menu_item_name     = unicodedata.normalize('NFKD', menu_item_name_uni[0]\n",
    "                                                                    ).encode('ascii','ignore')\n",
    "#                     print \"menu_item_name:\", menu_item_name\n",
    "                    \n",
    "                    #and then we can get the price (if there is one...)\n",
    "                    try:\n",
    "                        menu_item_price_uni = Selector(text=response.text).xpath('//div[@class=\"menu\"]\\\n",
    "                    ['+str(meta_menu_item+1)+']/div[@class=\"menuItems\"]/div[@class=\"section\"]\\\n",
    "                    ['+str(n_level)+']/div\\\n",
    "                    [@class=\"entryContainer\"]/div[@class=\"'+left_or_right+'Column\"]/div[@class=\"entry\"]\\\n",
    "                    ['+str(section_n+1)+']/node()[2]//text()').extract()\n",
    "                        menu_item_price     = unicodedata.normalize('NFKD', menu_item_price_uni[0]\n",
    "                                                                    ).encode('ascii','ignore')\n",
    "                        menu_item_price = float(menu_item_price)\n",
    "#                         print \"menu_item_price:\", menu_item_price\n",
    "                    except:\n",
    "#                         print \"menu_item_price:\", \"price_not_available\"\n",
    "                        menu_item_price = 'price_not_available'\n",
    "                    \n",
    "                    #and finally the description (if there is one...)\n",
    "                    try:\n",
    "                        menu_item_desc_uni = Selector(text=response.text).xpath('//div[@class=\"menu\"]\\\n",
    "                    ['+str(meta_menu_item+1)+']/div[@class=\"menuItems\"]/div[@class=\"section\"]\\\n",
    "                    ['+str(n_level)+']/div\\\n",
    "                    [@class=\"entryContainer\"]/div[@class=\"'+left_or_right+'Column\"]/div[@class=\"entry\"]\\\n",
    "                    ['+str(section_n+1)+']/node()[3]//text()').extract()\n",
    "                        menu_item_desc     = unicodedata.normalize('NFKD', menu_item_desc_uni[0]\n",
    "                                                                    ).encode('ascii','ignore')\n",
    "#                         print \"menu_item_desc:\", menu_item_desc\n",
    "                    except:\n",
    "#                         print \"menu_item_desc:\", \"desc_not_available\"\n",
    "                        menu_item_desc = 'desc_not_available'\n",
    "\n",
    "                    # Finally, I'll append my results so that when I wrap up the fuction, I can finish with\n",
    "                    # a prepared set of info, dataframe ready.\n",
    "                    df_ready_rows.append([venue_name,\n",
    "                                       venue_desc_list,\n",
    "                                       venue_menu_url,\n",
    "                                       venue_rated,\n",
    "                                       meta_menu_n,\n",
    "                                       depth_menus_n,\n",
    "                                       menu_item_name,\n",
    "                                       menu_item_price,\n",
    "                                       menu_item_desc])\n",
    "#     df_ready_rows.append(venue_rows)\n",
    "    return df_ready_rows\n",
    "# "
   ]
  },
  {
   "cell_type": "code",
   "execution_count": 10,
   "metadata": {
    "collapsed": false
   },
   "outputs": [
    {
     "data": {
      "text/plain": [
       "280"
      ]
     },
     "execution_count": 10,
     "metadata": {},
     "output_type": "execute_result"
    }
   ],
   "source": [
    "len(unique_urls_from_search)\n",
    "#This amounts to roughly 8% of my total venues searched i.e. 280/(70*50)"
   ]
  },
  {
   "cell_type": "code",
   "execution_count": 11,
   "metadata": {
    "collapsed": false
   },
   "outputs": [],
   "source": [
    "# parse_url('https://foursquare.com/v/grand-sichuan-house/4b1c3b4cf964a520bb0424e3/menu')"
   ]
  },
  {
   "cell_type": "code",
   "execution_count": 12,
   "metadata": {
    "collapsed": false
   },
   "outputs": [
    {
     "name": "stdout",
     "output_type": "stream",
     "text": [
      "--- 0.49055480957 seconds ---\n",
      "--- 12.5686228275 seconds ---\n",
      "--- 12.7575688362 seconds ---\n",
      "--- 12.9671459198 seconds ---\n",
      "--- 13.1560468674 seconds ---\n",
      "--- 13.3051497936 seconds ---\n",
      "--- 25.0519609451 seconds ---\n",
      "--- 25.3167629242 seconds ---\n",
      "--- 25.493188858 seconds ---\n",
      "--- 37.2827179432 seconds ---\n",
      "--- 37.6100490093 seconds ---\n",
      "--- 52.5052340031 seconds ---\n",
      "--- 52.6898667812 seconds ---\n",
      "--- 53.4898679256 seconds ---\n",
      "--- 62.1172599792 seconds ---\n",
      "--- 64.9277229309 seconds ---\n",
      "--- 65.1554119587 seconds ---\n",
      "--- 77.1680719852 seconds ---\n",
      "--- 77.3154718876 seconds ---\n",
      "--- 77.5070137978 seconds ---\n",
      "--- 89.2520778179 seconds ---\n",
      "--- 89.5217859745 seconds ---\n",
      "--- 89.6632127762 seconds ---\n",
      "--- 89.8353009224 seconds ---\n",
      "--- 90.3072829247 seconds ---\n",
      "--- 90.7108669281 seconds ---\n",
      "--- 101.565645933 seconds ---\n",
      "--- 101.976698875 seconds ---\n",
      "--- 113.615211964 seconds ---\n",
      "--- 113.790491819 seconds ---\n"
     ]
    }
   ],
   "source": [
    "# Could be not working because they don't have a menu, or because they're not a restaurant. So could be useful to\n",
    "# later determine if they are or aren't restaurants to begin with\n",
    "start_time = time.time()\n",
    "for menu_url in unique_urls_from_search[:30]:\n",
    "    try:\n",
    "        parse_url(menu_url)\n",
    "    except:\n",
    "        pass\n",
    "    print(\"--- %s seconds ---\" % (time.time() - start_time))"
   ]
  },
  {
   "cell_type": "code",
   "execution_count": 14,
   "metadata": {
    "collapsed": false
   },
   "outputs": [
    {
     "name": "stdout",
     "output_type": "stream",
     "text": [
      "43\n"
     ]
    }
   ],
   "source": [
    "print len(df_ready_rows)"
   ]
  },
  {
   "cell_type": "code",
   "execution_count": 16,
   "metadata": {
    "collapsed": false
   },
   "outputs": [
    {
     "data": {
      "text/plain": [
       "(43, 9)"
      ]
     },
     "execution_count": 16,
     "metadata": {},
     "output_type": "execute_result"
    }
   ],
   "source": [
    "search_else = pd.DataFrame(df_ready_rows, columns=column_headers)\n",
    "search_else.shape"
   ]
  },
  {
   "cell_type": "code",
   "execution_count": 17,
   "metadata": {
    "collapsed": false
   },
   "outputs": [],
   "source": [
    "for j in search_else.venue_desc_list:\n",
    "    if 'vegan' in j[0]:\n",
    "        print \"vegans\""
   ]
  },
  {
   "cell_type": "code",
   "execution_count": 18,
   "metadata": {
    "collapsed": false
   },
   "outputs": [
    {
     "data": {
      "text/html": [
       "<div>\n",
       "<table border=\"1\" class=\"dataframe\">\n",
       "  <thead>\n",
       "    <tr style=\"text-align: right;\">\n",
       "      <th></th>\n",
       "      <th>venue_name</th>\n",
       "      <th>venue_desc_list</th>\n",
       "      <th>venue_menu_url</th>\n",
       "      <th>venue_rated</th>\n",
       "      <th>meta_menu_n</th>\n",
       "      <th>depth_menus_n</th>\n",
       "      <th>menu_item_name</th>\n",
       "      <th>menu_item_price</th>\n",
       "      <th>menu_item_desc</th>\n",
       "    </tr>\n",
       "  </thead>\n",
       "  <tbody>\n",
       "    <tr>\n",
       "      <th>0</th>\n",
       "      <td>Victor's</td>\n",
       "      <td>[Mexican Restaurant]</td>\n",
       "      <td>https://foursquare.com/v/victor's/4a898fc8f964...</td>\n",
       "      <td>7.5</td>\n",
       "      <td>Main Menu</td>\n",
       "      <td>Tacos</td>\n",
       "      <td>Beef Or Grilled Chicken</td>\n",
       "      <td>2.65</td>\n",
       "      <td>desc_not_available</td>\n",
       "    </tr>\n",
       "    <tr>\n",
       "      <th>1</th>\n",
       "      <td>Victor's</td>\n",
       "      <td>[Mexican Restaurant]</td>\n",
       "      <td>https://foursquare.com/v/victor's/4a898fc8f964...</td>\n",
       "      <td>7.5</td>\n",
       "      <td>Main Menu</td>\n",
       "      <td>Tacos</td>\n",
       "      <td>Chile Verde Or Pork</td>\n",
       "      <td>2.65</td>\n",
       "      <td>desc_not_available</td>\n",
       "    </tr>\n",
       "    <tr>\n",
       "      <th>2</th>\n",
       "      <td>Victor's</td>\n",
       "      <td>[Mexican Restaurant]</td>\n",
       "      <td>https://foursquare.com/v/victor's/4a898fc8f964...</td>\n",
       "      <td>7.5</td>\n",
       "      <td>Main Menu</td>\n",
       "      <td>Tacos</td>\n",
       "      <td>Chicken Mole</td>\n",
       "      <td>2.65</td>\n",
       "      <td>desc_not_available</td>\n",
       "    </tr>\n",
       "    <tr>\n",
       "      <th>3</th>\n",
       "      <td>Victor's</td>\n",
       "      <td>[Mexican Restaurant]</td>\n",
       "      <td>https://foursquare.com/v/victor's/4a898fc8f964...</td>\n",
       "      <td>7.5</td>\n",
       "      <td>Main Menu</td>\n",
       "      <td>Tacos</td>\n",
       "      <td>Nachos</td>\n",
       "      <td>1.5</td>\n",
       "      <td>Cheese, salsa, sour cream, refried beans, grou...</td>\n",
       "    </tr>\n",
       "    <tr>\n",
       "      <th>4</th>\n",
       "      <td>Victor's</td>\n",
       "      <td>[Mexican Restaurant]</td>\n",
       "      <td>https://foursquare.com/v/victor's/4a898fc8f964...</td>\n",
       "      <td>7.5</td>\n",
       "      <td>Main Menu</td>\n",
       "      <td>Tortas</td>\n",
       "      <td>Beef Or Grilled Chicken</td>\n",
       "      <td>5.7</td>\n",
       "      <td>desc_not_available</td>\n",
       "    </tr>\n",
       "  </tbody>\n",
       "</table>\n",
       "</div>"
      ],
      "text/plain": [
       "  venue_name       venue_desc_list  \\\n",
       "0   Victor's  [Mexican Restaurant]   \n",
       "1   Victor's  [Mexican Restaurant]   \n",
       "2   Victor's  [Mexican Restaurant]   \n",
       "3   Victor's  [Mexican Restaurant]   \n",
       "4   Victor's  [Mexican Restaurant]   \n",
       "\n",
       "                                      venue_menu_url  venue_rated meta_menu_n  \\\n",
       "0  https://foursquare.com/v/victor's/4a898fc8f964...          7.5   Main Menu   \n",
       "1  https://foursquare.com/v/victor's/4a898fc8f964...          7.5   Main Menu   \n",
       "2  https://foursquare.com/v/victor's/4a898fc8f964...          7.5   Main Menu   \n",
       "3  https://foursquare.com/v/victor's/4a898fc8f964...          7.5   Main Menu   \n",
       "4  https://foursquare.com/v/victor's/4a898fc8f964...          7.5   Main Menu   \n",
       "\n",
       "  depth_menus_n           menu_item_name menu_item_price  \\\n",
       "0         Tacos  Beef Or Grilled Chicken            2.65   \n",
       "1         Tacos      Chile Verde Or Pork            2.65   \n",
       "2         Tacos             Chicken Mole            2.65   \n",
       "3         Tacos                   Nachos             1.5   \n",
       "4        Tortas  Beef Or Grilled Chicken             5.7   \n",
       "\n",
       "                                      menu_item_desc  \n",
       "0                                 desc_not_available  \n",
       "1                                 desc_not_available  \n",
       "2                                 desc_not_available  \n",
       "3  Cheese, salsa, sour cream, refried beans, grou...  \n",
       "4                                 desc_not_available  "
      ]
     },
     "execution_count": 18,
     "metadata": {},
     "output_type": "execute_result"
    }
   ],
   "source": [
    "search_else.loc[:50[]"
   ]
  },
  {
   "cell_type": "code",
   "execution_count": 19,
   "metadata": {
    "collapsed": false
   },
   "outputs": [
    {
     "data": {
      "text/plain": [
       "array([\"https://foursquare.com/v/victor's/4a898fc8f964a520660820e3/menu\",\n",
       "       'https://foursquare.com/v/artesano/51e0ad55498eb7f2b6ed10e2/menu'], dtype=object)"
      ]
     },
     "execution_count": 19,
     "metadata": {},
     "output_type": "execute_result"
    }
   ],
   "source": [
    "something_else.venue_menu_url.unique()"
   ]
  },
  {
   "cell_type": "code",
   "execution_count": null,
   "metadata": {
    "collapsed": true
   },
   "outputs": [],
   "source": [
    "#NOTES: going to want to cull all the multiples from the menu url's that i grab?\n",
    "#should i make the loop above this cell more efficient by checking and storing which url's don't work?\n",
    "#B/C then I can exclude them the next time i run my loops ; BUT, it's probably better to keep track of these,\n",
    "#because while some won't even be eateries, many will be eateries that simply don't have foursqare menus.\n",
    "#In such cases, knowing the venue information could still be valuable, because we can surface those to users who\n",
    "#wish to manually add items (could possibly add items by taking pictures of the menu where the item is located)?"
   ]
  },
  {
   "cell_type": "code",
   "execution_count": null,
   "metadata": {
    "collapsed": true
   },
   "outputs": [],
   "source": []
  },
  {
   "cell_type": "code",
   "execution_count": 21,
   "metadata": {
    "collapsed": false
   },
   "outputs": [
    {
     "name": "stdout",
     "output_type": "stream",
     "text": [
      "[] []\n",
      "--- 0.255792856216 seconds ---\n",
      "[] []\n",
      "--- 0.517818927765 seconds ---\n",
      "[] []\n",
      "--- 0.735308885574 seconds ---\n",
      "[] []\n",
      "--- 0.981924057007 seconds ---\n",
      "[] []\n",
      "--- 1.25415992737 seconds ---\n",
      "[] []\n",
      "--- 1.4582760334 seconds ---\n",
      "[] []\n",
      "--- 1.63622689247 seconds ---\n",
      "[] []\n",
      "--- 1.88748502731 seconds ---\n",
      "[] []\n",
      "--- 2.34382987022 seconds ---\n",
      "[u'http://www.blazepizza.com/menu', u'https://foursquare.com/v/peking-restaurant/4b97141ef964a520e5f634e3/menu', u'https://foursquare.com/v/la-baguette/529d49c111d27cfebb6c8740/menu', u'https://foursquare.com/v/cocola-bakery/4b3fd429f964a520e3af25e3/menu', u'https://foursquare.com/v/little-beijing/4b1f13bff964a520b62324e3/menu', u'https://foursquare.com/v/shabu-house/4ec87aab02d5888e9d1a1da7/menu', u'https://foursquare.com/v/paradise-pizza--pasta/4af7939ef964a520eb0922e3/menu', u'https://foursquare.com/v/fuji/4a944e31f964a520262120e3/menu', u'https://foursquare.com/v/sri-thai-cuisine/4bd5111ccfa7b7132f6125da/menu', u'http://toasteatery.com/files/toastmenu_052815.pdf', u'https://foursquare.com/v/trattoria-da-vittorio/5195394d498e344eeb952b4f/menu', u'https://foursquare.com/v/bursa/4a692042f964a520a5cb1fe3/menu', u'https://foursquare.com/v/el-toreador/43179600f964a52069271fe3/menu', u'https://foursquare.com/v/fresca/4ad152fdf964a5200dde20e3/menu', u'https://foursquare.com/v/mozzarella-di-bufala/4a4d27d0f964a5209aad1fe3/menu', u'https://foursquare.com/v/roti-indian-bistro/49fa41c3f964a520e16d1fe3/menu', u'https://foursquare.com/v/lam-hoa-thuan-restaurant/4b04bb5ef964a520675622e3/menu', u'https://foursquare.com/v/spiazzo-ristorante/4be72d932457a593b8a6ad15/menu'] [u'Blaze Pizza', u'Peking Restaurant', u'La Baguette', u'Cocola Bakery', u'Little Beijing', u'Shabu House', u'Paradise Pizza & Pasta', u'Fuji', u'Sri Thai Cuisine', u'Toast Eatery', u'Trattoria Da Vittorio', u'Bursa', u'El Toreador', u'Fresca', u'Mozzarella di Bufala', u'Roti Indian Bistro', u'Lam Hoa Thuan Restaurant', u'Spiazzo Ristorante']\n",
      "--- 2.767608881 seconds ---\n",
      "[u'https://foursquare.com/v/wins-restaurant/4bac12bef964a5205be23ae3/menu', u'https://foursquare.com/v/ph%E1%BB%9F-hu%E1%BB%B9nh-hi%E1%BB%87p-2--kevin--chriss-noodle-house/4b1c7936f964a520b70724e3/menu', u'https://foursquare.com/v/peking-restaurant/4b97141ef964a520e5f634e3/menu', u'https://foursquare.com/v/ph%E1%BB%9F-ph%C3%BA-qu%E1%BB%91c-vietnamese/43c8ff1df964a520932d1fe3/menu', u'https://foursquare.com/v/the-taco-shop-at-underdogs/4adb9f2df964a520762921e3/menu', u'https://foursquare.com/v/handy-deli/4a5ad4d7f964a520d8ba1fe3/menu', u'https://foursquare.com/v/little-beijing/4b1f13bff964a520b62324e3/menu', u'https://foursquare.com/v/brothers-pizza/4a73a3a9f964a52009dd1fe3/menu', u'https://foursquare.com/v/the-spot-lounge/4a90d20bf964a520911920e3/menu', u'https://foursquare.com/v/ristorante-marcello/4c80518374d7b60c92da6cd8/menu', u'https://foursquare.com/v/underdog/49d00adcf964a520f95a1fe3/menu', u'https://foursquare.com/v/mings-diner/4ae217faf964a520a58a21e3/menu', u'http://kingdomofdumpling.com/menu/', u'https://foursquare.com/v/kufuya-japanese-restaurant/4ceb52b2948f224bdf58005e/menu', u'https://foursquare.com/v/shin-toe-bul-yi/4a0f4909f964a52047761fe3/menu', u'https://foursquare.com/v/pacific-cafe/3fd66200f964a52001ed1ee3/menu', u'https://foursquare.com/v/dumpling-kitchen/4b78acfdf964a52063dd2ee3/menu', u'https://foursquare.com/v/kitchen-kura/44afbe50f964a5202c351fe3/menu', u'https://foursquare.com/v/izakaya-sozai/4b6cdf81f964a520ba5a2ce3/menu', u'https://foursquare.com/v/taraval-okazu-ya-restaurant/4a750e56f964a5206ae01fe3/menu', u'https://foursquare.com/v/kingdom-of-dumpling/4a39a40bf964a520a69f1fe3/menu', u'https://foursquare.com/v/the-bistro-at-cliff-house/4a05dcf9f964a5208d721fe3/menu', u'https://foursquare.com/v/g-cube-cafe/4ce76a9a595cb1f72caac214/menu', u'https://foursquare.com/v/cliff-house/4bf0588dd5bc0f470f366921/menu', u'https://foursquare.com/v/sutros-at-cliff-house/4b81adfbf964a5205cb730e3/menu', u'https://foursquare.com/v/old-mandarin-islamic-restaurant-%E8%80%81%E5%8C%97%E4%BA%AC/4a59b889f964a52084b91fe3/menu', u'https://foursquare.com/v/el-burrito-express/4ab96dc7f964a520587f20e3/menu', u'https://foursquare.com/v/louis-restaurant/4a6bf605f964a52053d01fe3/menu', u'https://foursquare.com/v/lous-cafe/54d14561498ecb61eca88c0f/menu', u'https://foursquare.com/v/pagan/4a336d27f964a5202e9b1fe3/menu', u'https://foursquare.com/v/jang-soo-bbq/4a779c1ef964a520e7e41fe3/menu', u'https://foursquare.com/v/cafe-enchante/4a676d0bf964a52066c91fe3/menu', u'https://foursquare.com/v/han-il-kwan/46c5f703f964a520094a1fe3/menu', u'https://foursquare.com/v/tommys-mexican-restaurant/3fd66200f964a520a3ec1ee3/menu', u'https://foursquare.com/v/java-beach-cafe/49cc7e5af964a52084591fe3/menu', u'https://foursquare.com/v/enjoy-vegetarian-restaurant/49f916c7f964a520606d1fe3/menu', u'https://foursquare.com/v/irving-subs-and-cheese-shop/4b636f17f964a52083792ae3/menu'] [u\"Win's Restaurant\", u\"Ph\\u1edf Hu\\u1ef9nh Hi\\u1ec7p 2 - Kevin & Chris's Noodle House\", u'Peking Restaurant', u'Ph\\u1edf Ph\\xfa Qu\\u1ed1c Vietnamese', u\"The Taco Shop at Underdog's\", u'Handy Deli', u'Little Beijing', u'Brothers Pizza', u'The Spot Lounge', u'Ristorante Marcello', u'Underdog', u\"Ming's Diner\", u'Kingdom of Dumpling', u'Kufu-ya Japanese Restaurant', u'Shin Toe Bul Yi', u'Pacific Cafe', u'Dumpling Kitchen', u'Kitchen Kura', u'Izakaya Sozai', u'Taraval Okazu Ya Restaurant', u'Kingdom of Dumpling', u'The Bistro at Cliff House', u'G Cube Cafe', u'Cliff House', u\"Sutro's at Cliff House\", u'Old Mandarin Islamic Restaurant \\u8001\\u5317\\u4eac', u'El Burrito Express', u\"Louis' Restaurant\", u\"Lou's Cafe\", u'Pagan', u'Jang Soo BBQ', u'Cafe Enchante', u'Han Il Kwan', u\"Tommy's Mexican Restaurant\", u'Java Beach Cafe', u'Enjoy Vegetarian Restaurant', u'Irving Subs and Cheese Shop']\n",
      "--- 3.52655887604 seconds ---\n",
      "[u'http://kappougomi.com/menu', u'https://foursquare.com/v/blue-fin-sushi/4341c600f964a52061281fe3/menu', u'https://foursquare.com/v/sri-thai-cuisine/4bd5111ccfa7b7132f6125da/menu', u'https://foursquare.com/v/gordo-taqueria/4ab81a41f964a520327c20e3/menu', u'https://foursquare.com/v/volcano-curry-of-japan/49f2b815f964a520626a1fe3/menu', u'https://foursquare.com/v/tia-margarita/49eb6b29f964a520d6661fe3/menu', u'https://foursquare.com/v/han-il-kwan/46c5f703f964a520094a1fe3/menu', u'https://foursquare.com/v/hong-kong-lounge-%E7%A9%97%E9%A6%99%E9%85%92%E5%AE%B6/4b19d3f4f964a520f6e423e3/menu', u'https://foursquare.com/v/buffalo-burgers/49fd3a31f964a520146f1fe3/menu', u'https://foursquare.com/v/pisces-california-cuisine/4acff744f964a52021d720e3/menu', u'https://foursquare.com/v/tazaki-sushi/4aa028cdf964a5208c3e20e3/menu', u'https://foursquare.com/v/judahlicious/4a91c857f964a520c81b20e3/menu', u'https://foursquare.com/v/sea-breeze-cafe/44427842f964a52049321fe3/menu', u'https://foursquare.com/v/golden-gate-indian-cuisine-and-pizza/49bd4db7f964a52066541fe3/menu', u'https://foursquare.com/v/thai-cottage/4af4f086f964a52093f721e3/menu', u'https://foursquare.com/v/shabu-house/47fbb4e5f964a520d34e1fe3/menu', u'https://foursquare.com/v/celias-by-the-beach/43fa0185f964a520d82f1fe3/menu', u'https://foursquare.com/v/outerlands/4a354111f964a520ad9c1fe3/menu', u'https://foursquare.com/v/men-oh-tokushima-ramen/500b59ede4b0c262435cd218/menu', u'https://foursquare.com/v/thanh-long/4a90b5b7f964a520361920e3/menu', u'https://foursquare.com/v/kabuto/3fd66200f964a520d0ec1ee3/menu', u'https://foursquare.com/v/heartbaker/51bbd2745019f457c98383a3/menu', u'https://foursquare.com/v/dragon-river-restaurant/4a8a36d1f964a5200c0a20e3/menu', u'http://sanfrancisco.menupages.com/restaurants/sichuan-home/menu', u'https://foursquare.com/v/ariake-sushi-bar/4a5ea637f964a520f9be1fe3/menu', u'https://foursquare.com/v/java-beach-cafe/4383b100f964a520fb2a1fe3/menu', u'https://foursquare.com/v/house-of-bagels/4a2be6f4f964a520eb961fe3/menu', u'https://foursquare.com/v/lam-hoa-thuan-restaurant/4b04bb5ef964a520675622e3/menu', u'https://foursquare.com/v/lois-vietnamese-restaurant/4ade5a6cf964a520447521e3/menu', u'https://foursquare.com/v/marnee-thai/3fd66200f964a52021ed1ee3/menu', u'https://foursquare.com/v/chabaa-thai-cuisine/4a653692f964a52072c71fe3/menu', u'https://foursquare.com/v/sunrise-deli/4ae4b1b2f964a520339d21e3/menu', u'https://foursquare.com/v/shangrila-vegetarian-restaurant/4b7629aff964a520f0402ee3/menu'] [u'Kappou Gomi', u'Blue Fin Sushi', u'Sri Thai Cuisine', u'Gordo Taqueria', u'Volcano Curry of Japan', u'Tia Margarita', u'Han Il Kwan', u'Hong Kong Lounge \\u7a57\\u9999\\u9152\\u5bb6', u'Buffalo Burgers', u'Pisces California Cuisine', u'Tazaki Sushi', u'Judahlicious', u'Sea Breeze Cafe', u'Golden Gate Indian Cuisine and Pizza', u'Thai Cottage', u'Shabu House', u\"Celia's by the Beach\", u'Outerlands', u'Men Oh Tokushima Ramen', u'Thanh Long', u'Kabuto', u'Heartbaker', u'Dragon River Restaurant', u'Sichuan Home', u'Ariake Sushi Bar', u'Java Beach Cafe', u'House Of Bagels', u'Lam Hoa Thuan Restaurant', u\"Loi's Vietnamese Restaurant\", u'Marnee Thai', u'Chabaa Thai Cuisine', u'Sunrise Deli', u'Shangri-La Vegetarian Restaurant']\n",
      "--- 4.39879989624 seconds ---\n",
      "[u'https://foursquare.com/v/gaspares-pizza/4a63e6e4f964a520fcc51fe3/menu', u'http://kappougomi.com/menu', u'https://foursquare.com/v/volcano-curry-of-japan/49f2b815f964a520626a1fe3/menu', u'https://foursquare.com/v/gordo-taqueria/4ab81a41f964a520327c20e3/menu', u'https://foursquare.com/v/hong-kong-lounge-%E7%A9%97%E9%A6%99%E9%85%92%E5%AE%B6/4b19d3f4f964a520f6e423e3/menu', u'https://foursquare.com/v/buffalo-burgers/49fd3a31f964a520146f1fe3/menu', u'https://foursquare.com/v/heartbaker/51bbd2745019f457c98383a3/menu', u'https://foursquare.com/v/han-il-kwan/46c5f703f964a520094a1fe3/menu', u'https://foursquare.com/v/shabu-house/47fbb4e5f964a520d34e1fe3/menu', u'https://foursquare.com/v/men-oh-tokushima-ramen/500b59ede4b0c262435cd218/menu', u'https://foursquare.com/v/kabuto/3fd66200f964a520d0ec1ee3/menu', u'https://foursquare.com/v/dragon-river-restaurant/4a8a36d1f964a5200c0a20e3/menu', u'https://foursquare.com/v/house-of-bagels/4a2be6f4f964a520eb961fe3/menu', u'https://foursquare.com/v/ariake-sushi-bar/4a5ea637f964a520f9be1fe3/menu', u'http://sanfrancisco.menupages.com/restaurants/sichuan-home/menu', u'https://foursquare.com/v/dong-bei-mama/4d856c8640a7a35d677421be/menu', u'https://foursquare.com/v/my-tofu-house/4387a580f964a5200f2b1fe3/menu', u'https://foursquare.com/v/korean-village-wooden-charcoal-bbq-house/4ab820faf964a5204d7c20e3/menu', u'https://foursquare.com/v/hamburger-haven/4a2ad2dff964a52056961fe3/menu', u'https://foursquare.com/v/sri-thai-cuisine/4bd5111ccfa7b7132f6125da/menu', u'https://foursquare.com/v/good-luck-dim-sum-%E5%A5%BD%E9%81%8B%E9%BB%9E%E5%BF%83/3fd66200f964a520f0ec1ee3/menu', u'https://foursquare.com/v/village-market/4a649269f964a5204ac61fe3/menu', u'https://foursquare.com/v/chili-house/507c7fe9e4b0f2e0883863d6/menu'] [u\"Gaspare's Pizza\", u'Kappou Gomi', u'Volcano Curry of Japan', u'Gordo Taqueria', u'Hong Kong Lounge \\u7a57\\u9999\\u9152\\u5bb6', u'Buffalo Burgers', u'Heartbaker', u'Han Il Kwan', u'Shabu House', u'Men Oh Tokushima Ramen', u'Kabuto', u'Dragon River Restaurant', u'House Of Bagels', u'Ariake Sushi Bar', u'Sichuan Home', u'Dong Bei Mama', u'My Tofu House', u'Korean Village Wooden Charcoal BBQ House', u'Hamburger Haven', u'Sri Thai Cuisine', u'Good Luck Dim Sum \\u597d\\u904b\\u9ede\\u5fc3', u'Village Market', u'Chili House']\n",
      "--- 5.23193597794 seconds ---\n",
      "[] []\n",
      "--- 5.60702490807 seconds ---\n",
      "[] []\n",
      "--- 5.95950698853 seconds ---\n",
      "[u'https://foursquare.com/v/lous-cafe/54d14561498ecb61eca88c0f/menu', u'https://foursquare.com/v/el-toreador/43179600f964a52069271fe3/menu', u'https://foursquare.com/v/g-cube-cafe/4ce76a9a595cb1f72caac214/menu', u'https://foursquare.com/v/fresca/4ad152fdf964a5200dde20e3/menu', u'https://foursquare.com/v/bangkok-garden/4abedc04f964a5204e9020e3/menu', u'https://foursquare.com/v/dumpling-kitchen/4b78acfdf964a52063dd2ee3/menu', u'https://foursquare.com/v/sushiraw-4/4c1afcbdb9f876b054a37946/menu', u'https://foursquare.com/v/shin-toe-bul-yi/4a0f4909f964a52047761fe3/menu', u'https://foursquare.com/v/spiazzo-ristorante/4be72d932457a593b8a6ad15/menu', u'https://foursquare.com/v/tonight-soju-bar/4ec4917a775b7dea8761c6ed/menu', u'https://foursquare.com/v/mings-diner/4ae217faf964a520a58a21e3/menu', u'http://kingdomofdumpling.com/menu/', u'https://foursquare.com/v/new-tsing-tao/4bccd3e4937ca593f6d7ab92/menu', u'https://foursquare.com/v/ristorante-marcello/4c80518374d7b60c92da6cd8/menu', u'https://foursquare.com/v/submarine-center/47bae8a8f964a520d14d1fe3/menu', u'https://foursquare.com/v/the-spot-lounge/4a90d20bf964a520911920e3/menu', u'https://foursquare.com/v/java-beach-cafe/49cc7e5af964a52084591fe3/menu', u'https://foursquare.com/v/old-mandarin-islamic-restaurant-%E8%80%81%E5%8C%97%E4%BA%AC/4a59b889f964a52084b91fe3/menu', u'https://foursquare.com/v/ks-kitchen/4b039d7af964a520e74f22e3/menu', u'https://foursquare.com/v/jollibee/4b14f8a6f964a5209ca723e3/menu', u'https://foursquare.com/v/ll-hawaiian-barbecue/4abc1fe2f964a5207d8620e3/menu', u'https://foursquare.com/v/wins-restaurant/4bac12bef964a5205be23ae3/menu'] [u\"Lou's Cafe\", u'El Toreador', u'G Cube Cafe', u'Fresca', u'Bangkok Garden', u'Dumpling Kitchen', u'SushiRaw #4', u'Shin Toe Bul Yi', u'Spiazzo Ristorante', u'Tonight Soju Bar', u\"Ming's Diner\", u'Kingdom of Dumpling', u'New Tsing Tao', u'Ristorante Marcello', u'Submarine Center', u'The Spot Lounge', u'Java Beach Cafe', u'Old Mandarin Islamic Restaurant \\u8001\\u5317\\u4eac', u\"K's Kitchen\", u'Jollibee', u'L&L Hawaiian Barbecue', u\"Win's Restaurant\"]\n",
      "--- 6.62663793564 seconds ---\n",
      "[u'https://foursquare.com/v/peking-restaurant/4b97141ef964a520e5f634e3/menu', u'https://foursquare.com/v/little-beijing/4b1f13bff964a520b62324e3/menu', u'https://foursquare.com/v/wins-restaurant/4bac12bef964a5205be23ae3/menu', u'https://foursquare.com/v/tay-giang/4b05ff6ff964a52031e722e3/menu', u'https://foursquare.com/v/old-mandarin-islamic-restaurant-%E8%80%81%E5%8C%97%E4%BA%AC/4a59b889f964a52084b91fe3/menu', u'https://foursquare.com/v/chouchou/40f9bd80f964a520d50a1fe3/menu', u'https://foursquare.com/v/java-beach-cafe/49cc7e5af964a52084591fe3/menu', u'https://foursquare.com/v/brothers-pizza/4a73a3a9f964a52009dd1fe3/menu', u'https://foursquare.com/v/pho-ha-tien/440d7b3ff964a5208f301fe3/menu', u'https://foursquare.com/v/the-fog-lifter-caf%C3%A9/4df15c6bc65bf55ee522aada/menu', u'https://foursquare.com/v/pops-sandwich-shop/4a43d33af964a520d7a61fe3/menu', u'https://foursquare.com/v/enjoy-vegetarian-restaurant/49f916c7f964a520606d1fe3/menu', u'https://foursquare.com/v/hall-of-flame-burger/4b7f38cdf964a520362030e3/menu', u'https://foursquare.com/v/chabaa-thai-cuisine/4a653692f964a52072c71fe3/menu', u'https://foursquare.com/v/sunrise-deli/4ae4b1b2f964a520339d21e3/menu', u'https://foursquare.com/v/marnee-thai/3fd66200f964a52021ed1ee3/menu', u'https://foursquare.com/v/lam-hoa-thuan-restaurant/4b04bb5ef964a520675622e3/menu', u'https://foursquare.com/v/ks-kitchen/4b039d7af964a520e74f22e3/menu', u'https://foursquare.com/v/lois-vietnamese-restaurant/4ade5a6cf964a520447521e3/menu', u'https://foursquare.com/v/ph%E1%BB%9F-hu%E1%BB%B9nh-hi%E1%BB%87p-2--kevin--chriss-noodle-house/4b1c7936f964a520b70724e3/menu', u'https://foursquare.com/v/shangrila-vegetarian-restaurant/4b7629aff964a520f0402ee3/menu', u'https://foursquare.com/v/handy-deli/4a5ad4d7f964a520d8ba1fe3/menu', u'https://foursquare.com/v/devils-teeth-baking-company/4db0bc8e0437a93f7f7a23e7/menu', u'https://foursquare.com/v/the-taco-shop-at-underdogs/4adb9f2df964a520762921e3/menu', u'https://foursquare.com/v/ph%E1%BB%9F-ph%C3%BA-qu%E1%BB%91c-vietnamese/43c8ff1df964a520932d1fe3/menu', u'https://foursquare.com/v/the-pizza-place-on-noriega/4a0f5f06f964a52056761fe3/menu', u'https://foursquare.com/v/underdog/49d00adcf964a520f95a1fe3/menu'] [u'Peking Restaurant', u'Little Beijing', u\"Win's Restaurant\", u'Tay Giang', u'Old Mandarin Islamic Restaurant \\u8001\\u5317\\u4eac', u'Chouchou', u'Java Beach Cafe', u'Brothers Pizza', u'Pho Ha Tien', u'The Fog Lifter Caf\\xe9', u\"Pop's Sandwich Shop\", u'Enjoy Vegetarian Restaurant', u'Hall Of Flame Burger', u'Chabaa Thai Cuisine', u'Sunrise Deli', u'Marnee Thai', u'Lam Hoa Thuan Restaurant', u\"K's Kitchen\", u\"Loi's Vietnamese Restaurant\", u\"Ph\\u1edf Hu\\u1ef9nh Hi\\u1ec7p 2 - Kevin & Chris's Noodle House\", u'Shangri-La Vegetarian Restaurant', u'Handy Deli', u\"Devil's Teeth Baking Company\", u\"The Taco Shop at Underdog's\", u'Ph\\u1edf Ph\\xfa Qu\\u1ed1c Vietnamese', u'The Pizza Place on Noriega', u'Underdog']\n",
      "--- 7.35725402832 seconds ---\n",
      "[u'https://foursquare.com/v/park-gyros/4a10e48af964a52007771fe3/menu', u'https://foursquare.com/v/pasquales-pizza/3fd66200f964a5202af11ee3/menu', u'https://foursquare.com/v/pacific-catch-westcoast-fish-house/49dd5b31f964a520fe5f1fe3/menu', u'https://foursquare.com/v/plutos/4293c000f964a52030241fe3/menu', u'https://foursquare.com/v/crepevine/44003663f964a52013301fe3/menu', u'https://foursquare.com/v/lavash/49b3268cf964a520e1521fe3/menu', u'https://foursquare.com/v/the-yellow-submarine/4a298355f964a5209f951fe3/menu', u'https://foursquare.com/v/lime-tree-southeast-asian-kitchen/471de6f7f964a520ba4b1fe3/menu', u'https://foursquare.com/v/koo/44a93c68f964a520f9341fe3/menu', u'https://foursquare.com/v/pisces-california-cuisine/4acff744f964a52021d720e3/menu', u'https://foursquare.com/v/wooly-pig-cafe/4d278413b818a35de03c8c8a/menu', u'https://foursquare.com/v/han-il-kwan/46c5f703f964a520094a1fe3/menu', u'https://foursquare.com/v/lous-cafe/54d14561498ecb61eca88c0f/menu', u'https://foursquare.com/v/sushi-zen/4b78bc3ff964a520fddf2ee3/menu', u'https://foursquare.com/v/el-burrito-express/4ab96dc7f964a520587f20e3/menu', u'https://foursquare.com/v/tonight-soju-bar/4ec4917a775b7dea8761c6ed/menu', u'https://foursquare.com/v/seniores-pizza/4a88f509f964a520c40720e3/menu', u'https://foursquare.com/v/kingdom-of-dumpling/4a39a40bf964a520a69f1fe3/menu', u'https://foursquare.com/v/taraval-okazu-ya-restaurant/4a750e56f964a5206ae01fe3/menu', u'https://foursquare.com/v/dumpling-kitchen/4b78acfdf964a52063dd2ee3/menu', u'http://kingdomofdumpling.com/menu/', u'https://foursquare.com/v/ristorante-marcello/4c80518374d7b60c92da6cd8/menu', u'https://foursquare.com/v/judahlicious/4a91c857f964a520c81b20e3/menu', u'https://foursquare.com/v/sea-breeze-cafe/44427842f964a52049321fe3/menu', u'https://foursquare.com/v/shanghai-dumpling-king/49da8f69f964a520945e1fe3/menu', u'https://foursquare.com/v/outerlands/4a354111f964a520ad9c1fe3/menu', u'https://foursquare.com/v/celias-by-the-beach/43fa0185f964a520d82f1fe3/menu', u'https://foursquare.com/v/simple-pleasures-cafe/3fd66200f964a520d3ec1ee3/menu', u'https://foursquare.com/v/golden-gate-indian-cuisine-and-pizza/49bd4db7f964a52066541fe3/menu', u'https://foursquare.com/v/ton-kiang/3fd66200f964a520d4ec1ee3/menu', u'https://foursquare.com/v/john-campbells-irish-bakery/49d8056ff964a520935d1fe3/menu', u'https://foursquare.com/v/kitaro-japanese-restaurant/43a89f9df964a520752c1fe3/menu', u'https://foursquare.com/v/thai-cottage/4af4f086f964a52093f721e3/menu', u'https://foursquare.com/v/tommys-mexican-restaurant/3fd66200f964a520a3ec1ee3/menu', u'https://foursquare.com/v/turtle-tower-restaurant/49d27124f964a520ab5b1fe3/menu', u'https://foursquare.com/v/aziza/49eac9cef964a52099661fe3/menu', u'https://foursquare.com/v/belly-burgers/49fdf226f964a5204c6f1fe3/menu', u'https://foursquare.com/v/gordo-taqueria/4ab81a41f964a520327c20e3/menu'] [u'Park Gyros', u\"Pasquale's Pizza\", u'Pacific Catch, Westcoast Fish House', u\"Pluto's\", u'Crepevine', u'Lavash', u'The Yellow Submarine', u'Lime Tree Southeast Asian Kitchen', u'Koo', u'Pisces California Cuisine', u'Wooly Pig Cafe', u'Han Il Kwan', u\"Lou's Cafe\", u'Sushi Zen', u'El Burrito Express', u'Tonight Soju Bar', u\"Seniore's Pizza\", u'Kingdom of Dumpling', u'Taraval Okazu Ya Restaurant', u'Dumpling Kitchen', u'Kingdom of Dumpling', u'Ristorante Marcello', u'Judahlicious', u'Sea Breeze Cafe', u'Shanghai Dumpling King', u'Outerlands', u\"Celia's by the Beach\", u'Simple Pleasures Cafe', u'Golden Gate Indian Cuisine and Pizza', u'Ton Kiang', u\"John Campbell's Irish Bakery\", u'Kitaro Japanese Restaurant', u'Thai Cottage', u\"Tommy's Mexican Restaurant\", u'Turtle Tower Restaurant', u'Aziza', u'Belly Burgers', u'Gordo Taqueria']\n",
      "--- 8.21970391273 seconds ---\n",
      "[u'https://foursquare.com/v/good-luck-dim-sum-%E5%A5%BD%E9%81%8B%E9%BB%9E%E5%BF%83/3fd66200f964a520f0ec1ee3/menu', u'https://foursquare.com/v/chili-house/507c7fe9e4b0f2e0883863d6/menu', u'https://foursquare.com/v/tawans-thai-food/4a7decacf964a52034f01fe3/menu', u'https://foursquare.com/v/pagan/4a336d27f964a5202e9b1fe3/menu', u'https://foursquare.com/v/king-of-thai-noodle/3fd66200f964a520d7ec1ee3/menu', u'https://foursquare.com/v/red-a-bakery-%E7%BA%A2a-%E9%A5%BC%E5%BA%97/4a118c8ff964a52022771fe3/menu', u'https://foursquare.com/v/sakesan-sushi--bistro/511c1d15e4b0d03f6aefa838/menu', u'https://foursquare.com/v/pacific-cafe/3fd66200f964a52001ed1ee3/menu', u'https://foursquare.com/v/kufuya-japanese-restaurant/4ceb52b2948f224bdf58005e/menu', u'https://foursquare.com/v/village-market/4a649269f964a5204ac61fe3/menu', u'https://foursquare.com/v/the-richmond/43f4dde6f964a520a02f1fe3/menu', u'https://foursquare.com/v/shanghai-dumpling-king/49da8f69f964a520945e1fe3/menu', u'https://foursquare.com/v/schuberts-bakery/4ad6765ef964a5204c0721e3/menu', u'https://foursquare.com/v/ashleys-cafe/4d7b32f2d1c28eeca58a0774/menu', u'https://foursquare.com/v/little-vietnam-cafe/4a999200f964a520202f20e3/menu', u'https://foursquare.com/v/taiwan-restaurant-%E5%8F%B0%E7%81%A3%E9%A3%AF%E5%BA%97/3fd66200f964a52005ed1ee3/menu', u'https://foursquare.com/v/yuubi-japanese-restaurant/4f769338e4b055c75fd4bdf0/menu', u'https://foursquare.com/v/tanuki-restaurant-%E7%8B%B8%E5%A3%BD%E5%8F%B8/3fd66200f964a52006ed1ee3/menu', u'https://foursquare.com/v/simple-pleasures-cafe/3fd66200f964a520d3ec1ee3/menu', u'https://foursquare.com/v/cinderella-bakery--caf%C3%A9/3fd66200f964a520e5ec1ee3/menu', u'https://foursquare.com/v/sushi-bistro/436d4780f964a520c9291fe3/menu', u'https://foursquare.com/v/mandalay/3fd66200f964a520feec1ee3/menu', u'http://www.kitchenistanbulsf.com/#!menu/ch8j', u'https://foursquare.com/v/shabu-house/519ec122498e505febe8df9b/menu', u'https://foursquare.com/v/muguboka-korean-bbq/457c2ffff964a520003f1fe3/menu', u'https://foursquare.com/v/cafe-europa/50a9a382e4b05977cf4d47bf/menu', u'http://www.kojakitchen.com/restaurant-menu', u'https://foursquare.com/v/camp-bbq/4fac0ae8e4b03d09561e1649/menu', u'https://foursquare.com/v/china-first-restaurant-%E5%8F%88%E4%B8%80%E6%9D%91%E6%B5%B7%E9%AE%AE%E5%B0%8F%E9%A4%A8/4b11914ef964a520787f23e3/menu', u'https://foursquare.com/v/cassava/4f4c3b8ae4b0f9202359da21/menu', u'https://foursquare.com/v/genki-crepes/42829c80f964a52020221fe3/menu', u'https://foursquare.com/v/blue-danube-coffee-house/572fa3c5498ec2eb89e95319/menu', u'https://foursquare.com/v/burma-superstar/42cc7080f964a520e7251fe3/menu', u'https://foursquare.com/v/kim-son-restaurant/4b070b96f964a52023f622e3/menu', u'https://foursquare.com/v/good-noodle-restaurant/49f3872cf964a520b16a1fe3/menu', u'http://sanfrancisco.menupages.com/restaurants/marla-bakery/'] [u'Good Luck Dim Sum \\u597d\\u904b\\u9ede\\u5fc3', u'Chili House', u\"Tawan's Thai Food\", u'Pagan', u'King of Thai Noodle', u'Red A Bakery \\u7ea2A \\u997c\\u5e97', u'Sakesan Sushi & Bistro', u'Pacific Cafe', u'Kufu-ya Japanese Restaurant', u'Village Market', u'the Richmond', u'Shanghai Dumpling King', u\"Schubert's Bakery\", u\"Ashley's Cafe\", u'Little Vietnam Cafe', u'Taiwan Restaurant \\u53f0\\u7063\\u98ef\\u5e97', u'Yuubi Japanese Restaurant', u'Tanuki Restaurant \\u72f8\\u58fd\\u53f8', u'Simple Pleasures Cafe', u'Cinderella Bakery & Caf\\xe9', u'Sushi Bistro', u'Mandalay', u'Kitchen Istanbul', u'Shabu House', u'Muguboka Korean BBQ', u'Cafe Europa', u'KoJa Kitchen', u'Camp BBQ', u'China First Restaurant \\u53c8\\u4e00\\u6751\\u6d77\\u9bae\\u5c0f\\u9928', u'Cassava', u'Genki Crepes', u'Blue Danube Coffee House', u'Burma Superstar', u'Kim Son Restaurant', u'Good Noodle Restaurant', u'Marla Bakery']\n",
      "--- 8.89708900452 seconds ---\n",
      "[u'https://foursquare.com/v/jang-soo-bbq/4a779c1ef964a520e7e41fe3/menu', u'https://foursquare.com/v/village-market/4a649269f964a5204ac61fe3/menu', u'https://foursquare.com/v/hamburger-haven/4a2ad2dff964a52056961fe3/menu', u'https://foursquare.com/v/dong-bei-mama/4d856c8640a7a35d677421be/menu', u'https://foursquare.com/v/ashleys-cafe/4d7b32f2d1c28eeca58a0774/menu', u'https://foursquare.com/v/good-luck-dim-sum-%E5%A5%BD%E9%81%8B%E9%BB%9E%E5%BF%83/3fd66200f964a520f0ec1ee3/menu', u'https://foursquare.com/v/chili-house/507c7fe9e4b0f2e0883863d6/menu', u'https://foursquare.com/v/my-tofu-house/4387a580f964a5200f2b1fe3/menu', u'https://foursquare.com/v/korean-village-wooden-charcoal-bbq-house/4ab820faf964a5204d7c20e3/menu', u'https://foursquare.com/v/tanuki-restaurant-%E7%8B%B8%E5%A3%BD%E5%8F%B8/3fd66200f964a52006ed1ee3/menu', u'https://foursquare.com/v/red-a-bakery-%E7%BA%A2a-%E9%A5%BC%E5%BA%97/4a118c8ff964a52022771fe3/menu', u'https://foursquare.com/v/sakesan-sushi--bistro/511c1d15e4b0d03f6aefa838/menu', u'https://foursquare.com/v/king-of-thai-noodle/3fd66200f964a520d7ec1ee3/menu', u'https://foursquare.com/v/mandalay/3fd66200f964a520feec1ee3/menu', u'https://foursquare.com/v/han-il-kwan/46c5f703f964a520094a1fe3/menu', u'https://foursquare.com/v/pagan/4a336d27f964a5202e9b1fe3/menu', u'https://foursquare.com/v/cafe-europa/50a9a382e4b05977cf4d47bf/menu', u'https://foursquare.com/v/schuberts-bakery/4ad6765ef964a5204c0721e3/menu', u'https://foursquare.com/v/tawans-thai-food/4a7decacf964a52034f01fe3/menu', u'https://foursquare.com/v/little-vietnam-cafe/4a999200f964a520202f20e3/menu', u'https://foursquare.com/v/taiwan-restaurant-%E5%8F%B0%E7%81%A3%E9%A3%AF%E5%BA%97/3fd66200f964a52005ed1ee3/menu', u'https://foursquare.com/v/shabu-house/519ec122498e505febe8df9b/menu', u'http://www.kitchenistanbulsf.com/#!menu/ch8j', u'https://foursquare.com/v/kings-thai-cuisine-2/3fd66200f964a520f9ec1ee3/menu', u'http://www.kojakitchen.com/restaurant-menu', u'https://foursquare.com/v/china-first-restaurant-%E5%8F%88%E4%B8%80%E6%9D%91%E6%B5%B7%E9%AE%AE%E5%B0%8F%E9%A4%A8/4b11914ef964a520787f23e3/menu', u'https://foursquare.com/v/genki-crepes/42829c80f964a52020221fe3/menu', u'https://foursquare.com/v/pacific-cafe/3fd66200f964a52001ed1ee3/menu', u'https://foursquare.com/v/blue-danube-coffee-house/572fa3c5498ec2eb89e95319/menu', u'https://foursquare.com/v/burma-superstar/42cc7080f964a520e7251fe3/menu', u'https://foursquare.com/v/kufuya-japanese-restaurant/4ceb52b2948f224bdf58005e/menu'] [u'Jang Soo BBQ', u'Village Market', u'Hamburger Haven', u'Dong Bei Mama', u\"Ashley's Cafe\", u'Good Luck Dim Sum \\u597d\\u904b\\u9ede\\u5fc3', u'Chili House', u'My Tofu House', u'Korean Village Wooden Charcoal BBQ House', u'Tanuki Restaurant \\u72f8\\u58fd\\u53f8', u'Red A Bakery \\u7ea2A \\u997c\\u5e97', u'Sakesan Sushi & Bistro', u'King of Thai Noodle', u'Mandalay', u'Han Il Kwan', u'Pagan', u'Cafe Europa', u\"Schubert's Bakery\", u\"Tawan's Thai Food\", u'Little Vietnam Cafe', u'Taiwan Restaurant \\u53f0\\u7063\\u98ef\\u5e97', u'Shabu House', u'Kitchen Istanbul', u\"King's Thai Cuisine #2\", u'KoJa Kitchen', u'China First Restaurant \\u53c8\\u4e00\\u6751\\u6d77\\u9bae\\u5c0f\\u9928', u'Genki Crepes', u'Pacific Cafe', u'Blue Danube Coffee House', u'Burma Superstar', u'Kufu-ya Japanese Restaurant']\n",
      "--- 9.59520792961 seconds ---\n",
      "[] []\n",
      "--- 9.98605799675 seconds ---\n",
      "[u'https://foursquare.com/v/batter-up/4d8e960d5091a1cdea139401/menu', u'https://foursquare.com/v/bravos-pizza/4b064e19f964a52094ea22e3/menu', u'https://foursquare.com/v/taqueria-la-iguana-azul/4bcff5c641b9ef3bae61f9e5/menu', u'https://foursquare.com/v/jaffa-city-cafe/47fe1c0af964a520e44e1fe3/menu', u'https://foursquare.com/v/little-joes-pizza/4b63b31cf964a520d28c2ae3/menu', u'https://foursquare.com/v/ks-kitchen/4b039d7af964a520e74f22e3/menu', u'https://foursquare.com/v/paradise-pizza--pasta/4af7939ef964a520eb0922e3/menu'] [u'Batter Up', u\"Bravo's Pizza\", u'Taqueria La Iguana Azul', u'Jaffa City Cafe', u\"Little Joe's Pizza\", u\"K's Kitchen\", u'Paradise Pizza & Pasta']\n",
      "--- 10.395911932 seconds ---\n",
      "[u'https://foursquare.com/v/broaster-chicken/4b7f3313f964a520891e30e3/menu', u'https://foursquare.com/v/monterey-deli/4aabcfd6f964a5202c5a20e3/menu', u'https://foursquare.com/v/original-joes-westlake/56a2acbd498ee1a54d04a90b/menu', u'https://foursquare.com/v/el-pollo-supremo/4a91b32ef964a5206c1b20e3/menu', u'https://foursquare.com/v/burgermeister/4e38af5e887777123dcc22b4/menu', u'https://foursquare.com/v/batter-up/4d8e960d5091a1cdea139401/menu', u'https://foursquare.com/v/seniores-pizza/4a88f509f964a520c40720e3/menu', u'https://foursquare.com/v/tonight-soju-bar/4ec4917a775b7dea8761c6ed/menu', u'https://foursquare.com/v/bravos-pizza/4b064e19f964a52094ea22e3/menu', u'https://foursquare.com/v/jollibee/4b14f8a6f964a5209ca723e3/menu', u'https://foursquare.com/v/sushiraw-4/4c1afcbdb9f876b054a37946/menu', u'https://foursquare.com/v/sushi-zen/4b78bc3ff964a520fddf2ee3/menu', u'https://foursquare.com/v/ll-hawaiian-barbecue/4abc1fe2f964a5207d8620e3/menu', u'https://foursquare.com/v/taqueria-la-iguana-azul/4bcff5c641b9ef3bae61f9e5/menu', u'https://foursquare.com/v/ph%E1%BB%9F-hu%E1%BB%B9nh-hi%E1%BB%87p-3--kevins-noodle-house/4a7ddc63f964a520f1ef1fe3/menu', u'https://foursquare.com/v/little-joes-pizza/4b63b31cf964a520d28c2ae3/menu', u'https://foursquare.com/v/lous-cafe/54d14561498ecb61eca88c0f/menu', u'https://foursquare.com/v/primo-pizza/4b21aa3af964a520c73f24e3/menu', u'https://foursquare.com/v/el-burrito-express/4ab96dc7f964a520587f20e3/menu', u'https://foursquare.com/v/g-cube-cafe/4ce76a9a595cb1f72caac214/menu', u'https://foursquare.com/v/kingdom-of-dumpling/4a39a40bf964a520a69f1fe3/menu', u'https://foursquare.com/v/taraval-okazu-ya-restaurant/4a750e56f964a5206ae01fe3/menu', u'https://foursquare.com/v/bangkok-garden/4abedc04f964a5204e9020e3/menu', u'https://foursquare.com/v/tao-sushi/546960f7498eac74bd5baf47/menu', u'https://foursquare.com/v/taqueria-guadalajara/4b244110f964a520c76424e3/menu', u'http://yummyhousetogo.com/menu.html', u'https://foursquare.com/v/taquerias-el-farolito/4a0e123af964a520c2751fe3/menu', u'https://foursquare.com/v/mam%C3%A1-art-cafe/4a3970fcf964a520719f1fe3/menu', u'https://foursquare.com/v/dumpling-kitchen/4b78acfdf964a52063dd2ee3/menu', u'https://foursquare.com/v/shin-toe-bul-yi/4a0f4909f964a52047761fe3/menu', u'https://foursquare.com/v/henrys-hunan-restaurant/4ceec3b83b03f04de88d3bdc/menu', u'https://foursquare.com/v/filam-bbq/4adba6f4f964a520c72921e3/menu', u'http://kingdomofdumpling.com/menu/', u'https://foursquare.com/v/mings-diner/4ae217faf964a520a58a21e3/menu'] [u'Broaster Chicken', u'Monterey Deli', u\"Original Joe's Westlake\", u'El Pollo Supremo', u'Burgermeister', u'Batter Up', u\"Seniore's Pizza\", u'Tonight Soju Bar', u\"Bravo's Pizza\", u'Jollibee', u'SushiRaw #4', u'Sushi Zen', u'L&L Hawaiian Barbecue', u'Taqueria La Iguana Azul', u\"Ph\\u1edf Hu\\u1ef9nh Hi\\u1ec7p 3 - Kevin's Noodle House\", u\"Little Joe's Pizza\", u\"Lou's Cafe\", u'Primo Pizza', u'El Burrito Express', u'G Cube Cafe', u'Kingdom of Dumpling', u'Taraval Okazu Ya Restaurant', u'Bangkok Garden', u'Tao Sushi', u'Taqueria Guadalajara', u'Ty Sandwich', u'Taquerias El Farolito', u'Mam\\xe1 Art Cafe', u'Dumpling Kitchen', u'Shin Toe Bul Yi', u\"Henry's Hunan Restaurant\", u'Fil-Am BBQ', u'Kingdom of Dumpling', u\"Ming's Diner\"]\n",
      "--- 11.1680190563 seconds ---\n",
      "[u'https://foursquare.com/v/peking-restaurant/4b97141ef964a520e5f634e3/menu', u'https://foursquare.com/v/little-beijing/4b1f13bff964a520b62324e3/menu', u'https://foursquare.com/v/pho-ha-tien/440d7b3ff964a5208f301fe3/menu', u'https://foursquare.com/v/the-fog-lifter-caf%C3%A9/4df15c6bc65bf55ee522aada/menu', u'https://foursquare.com/v/ks-kitchen/4b039d7af964a520e74f22e3/menu', u'https://foursquare.com/v/the-spot-lounge/4a90d20bf964a520911920e3/menu', u'https://foursquare.com/v/noriega-teriyaki-house/4a56c167f964a520c1b51fe3/menu', u'https://foursquare.com/v/enjoy-vegetarian-restaurant/49f916c7f964a520606d1fe3/menu', u'https://foursquare.com/v/monterey-deli/4aabcfd6f964a5202c5a20e3/menu', u'https://foursquare.com/v/tay-giang/4b05ff6ff964a52031e722e3/menu', u'https://foursquare.com/v/hall-of-flame-burger/4b7f38cdf964a520362030e3/menu', u'https://foursquare.com/v/wins-restaurant/4bac12bef964a5205be23ae3/menu', u'https://foursquare.com/v/nan-king-road-bistro/4a6a6616f964a52058cd1fe3/menu', u'https://foursquare.com/v/you-see-sushi/4a7345b9f964a520fcdb1fe3/menu', u'https://foursquare.com/v/arizmendi-bakery/3fd66200f964a520bdf11ee3/menu', u'http://baianopizzeria.com/menu.html', u'https://foursquare.com/v/nabe/50cfe6afe4b021539e1ab4e7/menu', u'https://foursquare.com/v/peasant-pies/4ac7ab1df964a520f0b820e3/menu', u'https://foursquare.com/v/yummy-yummy/443fde11f964a5203a321fe3/menu', u'https://foursquare.com/v/san-tung-chinese-restaurant-%E5%B1%B1%E6%9D%B1%E5%B0%8F%E9%A4%A8/4ab0402ff964a520ad6620e3/menu', u'https://foursquare.com/v/new-eritrea-restaurant--bar/443fddaff964a52039321fe3/menu', u'https://foursquare.com/v/kitchen-kura/44afbe50f964a5202c351fe3/menu', u'https://foursquare.com/v/izakaya-sozai/4b6cdf81f964a520ba5a2ce3/menu', u'https://foursquare.com/v/irving-subs-and-cheese-shop/4b636f17f964a52083792ae3/menu', u'https://foursquare.com/v/sushi-kazu/4b6e1f96f964a52029ac2ce3/menu', u'https://foursquare.com/v/perilla/4b1b3d2bf964a52002fa23e3/menu'] [u'Peking Restaurant', u'Little Beijing', u'Pho Ha Tien', u'The Fog Lifter Caf\\xe9', u\"K's Kitchen\", u'The Spot Lounge', u'Noriega Teriyaki House', u'Enjoy Vegetarian Restaurant', u'Monterey Deli', u'Tay Giang', u'Hall Of Flame Burger', u\"Win's Restaurant\", u'Nan King Road Bistro', u'You See Sushi', u'Arizmendi Bakery', u'Baiano Pizza', u'Nabe', u'Peasant Pies', u'Yummy Yummy', u'San Tung Chinese Restaurant \\u5c71\\u6771\\u5c0f\\u9928 (San Tung Chinese Restaurant)', u'New Eritrea Restaurant & Bar', u'Kitchen Kura', u'Izakaya Sozai', u'Irving Subs and Cheese Shop', u'Sushi Kazu', u'Perilla']\n",
      "--- 11.7930860519 seconds ---\n",
      "[u'https://foursquare.com/v/bacon-bacon/4e1a0a90e4cd49a7e3f9244f/menu', u'https://foursquare.com/v/chouchou/40f9bd80f964a520d50a1fe3/menu', u'https://foursquare.com/v/zazie/49b094fdf964a520c8521fe3/menu', u'https://foursquare.com/v/padrecito/50ef30e4e4b00a55d27ff6d5/menu', u'https://foursquare.com/v/parada-22/4bc3a2f974a9a5931edad4f6/menu', u'http://www.cha3.com/cha-cha-cha---haight---dinner-menu.html', u'https://foursquare.com/v/burgermeister/43d0a1bdf964a520ee2d1fe3/menu', u'https://foursquare.com/v/tonight-soju-bar/4ec4917a775b7dea8761c6ed/menu', u'https://foursquare.com/v/escape-from-new-york-pizza/44786832f964a520ca331fe3/menu', u'https://foursquare.com/v/the-richmond/43f4dde6f964a520a02f1fe3/menu', u'https://foursquare.com/v/ploy-ii-thai-cuisine/4b89f389f964a520425832e3/menu', u'http://burmabear.com/menu/', u'http://crepelavie.com/#!menu/ch8j', u'https://foursquare.com/v/siam-lotus-thai-cuisine/4a150ae5f964a52093781fe3/menu', u'https://foursquare.com/v/velo-rouge-cafe/43c12ef9f964a520392d1fe3/menu', u'https://foursquare.com/v/seniores-pizza/4a88f509f964a520c40720e3/menu', u'https://foursquare.com/v/han-il-kwan/46c5f703f964a520094a1fe3/menu', u'https://foursquare.com/v/sushi-bistro/436d4780f964a520c9291fe3/menu', u'https://foursquare.com/v/cinderella-bakery--caf%C3%A9/3fd66200f964a520e5ec1ee3/menu', u'https://foursquare.com/v/muguboka-korean-bbq/457c2ffff964a520003f1fe3/menu', u'https://foursquare.com/v/sushi-zen/4b78bc3ff964a520fddf2ee3/menu', u'https://foursquare.com/v/uncle-boys/4b2187ebf964a5205c3d24e3/menu', u'http://www.sparrowbarandkitchen.com/#!design/c1pwt', u'https://foursquare.com/v/submarine-center/47bae8a8f964a520d14d1fe3/menu', u'https://foursquare.com/v/bacon-bacon/4ef3795c0e61358da48ddef4/menu', u'https://foursquare.com/v/lous-cafe/54d14561498ecb61eca88c0f/menu', u'https://foursquare.com/v/el-toreador/43179600f964a52069271fe3/menu', u'https://foursquare.com/v/bursa/4a692042f964a520a5cb1fe3/menu', u'https://foursquare.com/v/roti-indian-bistro/49fa41c3f964a520e16d1fe3/menu', u'https://foursquare.com/v/el-burrito-express/4ab96dc7f964a520587f20e3/menu', u'https://foursquare.com/v/mozzarella-di-bufala/4a4d27d0f964a5209aad1fe3/menu', u'https://foursquare.com/v/pops-sandwich-shop/4a43d33af964a520d7a61fe3/menu', u'https://foursquare.com/v/dong-bei-mama/4d856c8640a7a35d677421be/menu', u'https://foursquare.com/v/ariake-sushi-bar/4a5ea637f964a520f9be1fe3/menu', u'https://foursquare.com/v/kabuto/3fd66200f964a520d0ec1ee3/menu', u'https://foursquare.com/v/korean-village-wooden-charcoal-bbq-house/4ab820faf964a5204d7c20e3/menu', u'https://foursquare.com/v/trattoria-da-vittorio/5195394d498e344eeb952b4f/menu', u'https://foursquare.com/v/my-tofu-house/4387a580f964a5200f2b1fe3/menu'] [u'Bacon Bacon', u'Chouchou', u'Zazie', u'Padrecito', u'Parada 22', u'Cha Cha Cha', u'Burgermeister', u'Tonight Soju Bar', u'Escape From New York Pizza', u'the Richmond', u'Ploy II Thai Cuisine', u'Burma Bear', u'Cr\\xeape La Vie', u'Siam Lotus Thai Cuisine', u'Velo Rouge Cafe', u\"Seniore's Pizza\", u'Han Il Kwan', u'Sushi Bistro', u'Cinderella Bakery & Caf\\xe9', u'Muguboka Korean BBQ', u'Sushi Zen', u\"Uncle Boy's\", u'Sparrow Bar and Kitchen', u'Submarine Center', u'Bacon Bacon', u\"Lou's Cafe\", u'El Toreador', u'Bursa', u'Roti Indian Bistro', u'El Burrito Express', u'Mozzarella di Bufala', u\"Pop's Sandwich Shop\", u'Dong Bei Mama', u'Ariake Sushi Bar', u'Kabuto', u'Korean Village Wooden Charcoal BBQ House', u'Trattoria Da Vittorio', u'My Tofu House']\n",
      "--- 12.5844910145 seconds ---\n",
      "[u'https://foursquare.com/v/han-il-kwan/46c5f703f964a520094a1fe3/menu', u'https://foursquare.com/v/wako/53893dea498ef911b521951c/menu', u'https://foursquare.com/v/giorgios-pizzeria/4534010cf964a520923b1fe3/menu', u'https://foursquare.com/v/john-campbells-irish-bakery/49d8056ff964a520935d1fe3/menu', u'https://foursquare.com/v/bstar-cafe/4c0095c6379020a128d1467f/menu', u'https://foursquare.com/v/chapeau/3fd66200f964a520ccec1ee3/menu', u'https://foursquare.com/v/shan-dong-best/4c8fc6a904a1b60c19eea13e/menu', u'https://foursquare.com/v/kitaro-japanese-restaurant/43a89f9df964a520752c1fe3/menu', u'https://foursquare.com/v/eats/3fd66200f964a520ecec1ee3/menu', u'https://foursquare.com/v/star-india/45fed293f964a5208e441fe3/menu', u'https://foursquare.com/v/turtle-tower-restaurant/49d27124f964a520ab5b1fe3/menu', u'https://foursquare.com/v/belly-burgers/49fdf226f964a5204c6f1fe3/menu', u'https://foursquare.com/v/aziza/49eac9cef964a52099661fe3/menu', u'https://foursquare.com/v/ton-kiang/3fd66200f964a520d4ec1ee3/menu', u'https://foursquare.com/v/bazaar-cafe/45e4525df964a5203b431fe3/menu', u'https://foursquare.com/v/angelinas-cafe/4b2537ddf964a520366e24e3/menu', u'https://foursquare.com/v/velo-rouge-cafe/43c12ef9f964a520392d1fe3/menu', u'https://foursquare.com/v/tommys-mexican-restaurant/3fd66200f964a520a3ec1ee3/menu', u'https://foursquare.com/v/pizzetta-211/40df5f80f964a52096011fe3/menu', u'https://foursquare.com/v/gordo-taqueria/4a062117f964a520bb721fe3/menu', u'https://foursquare.com/v/ppq-dungeness-island/42ec1480f964a520a1261fe3/menu', u'http://www.fiorella-sf.com/menus/', u'https://foursquare.com/v/cafe-enchante/4a676d0bf964a52066c91fe3/menu', u'http://www.hongkonglounge2.com/menu-1/', u'https://foursquare.com/v/hard-knox-cafe/49eb6c30f964a520d7661fe3/menu', u'https://foursquare.com/v/daigo-sushi/505a8013e4b08096cab04de2/menu', u'https://foursquare.com/v/jang-soo-bbq/4a779c1ef964a520e7e41fe3/menu', u'https://foursquare.com/v/park-gyros/4a10e48af964a52007771fe3/menu', u'https://foursquare.com/v/pacific-catch-westcoast-fish-house/49dd5b31f964a520fe5f1fe3/menu', u'https://foursquare.com/v/nopalito/4f8f447f7716cd1fbf769274/menu', u'https://foursquare.com/v/marnee-thai/49bb1b50f964a520d3531fe3/menu', u'https://foursquare.com/v/park-chow/3fd66200f964a52026f11ee3/menu', u'https://foursquare.com/v/sociale/42fd3800f964a520f0261fe3/menu', u'https://foursquare.com/v/magic-flute-ristorante/4a3e9f70f964a52027a31fe3/menu', u'https://foursquare.com/v/spruce/4a64a8f4f964a5206cc61fe3/menu', u'https://foursquare.com/v/ebisu/3fd66200f964a52017ed1ee3/menu', u'https://foursquare.com/v/assab-eritrean-restaurant/47a101e7f964a520764d1fe3/menu', u'https://foursquare.com/v/irving-subs-and-cheese-shop/4b636f17f964a52083792ae3/menu', u'https://foursquare.com/v/san-tung-chinese-restaurant-%E5%B1%B1%E6%9D%B1%E5%B0%8F%E9%A4%A8/4ab0402ff964a520ad6620e3/menu', u'https://foursquare.com/v/yummy-yummy/443fde11f964a5203a321fe3/menu'] [u'Han Il Kwan', u'Wako', u\"Giorgio's Pizzeria\", u\"John Campbell's Irish Bakery\", u'B\\u2605Star Cafe', u'Chapeau!', u'Shan Dong Best', u'Kitaro Japanese Restaurant', u'Eats', u'Star India', u'Turtle Tower Restaurant', u'Belly Burgers', u'Aziza', u'Ton Kiang', u'Bazaar Cafe', u\"Angelina's Cafe\", u'Velo Rouge Cafe', u\"Tommy's Mexican Restaurant\", u'Pizzetta 211', u'Gordo Taqueria', u'PPQ Dungeness Island', u'Fiorella', u'Cafe Enchante', u'Hong Kong Lounge II \\u7a57\\u9999\\u5c0f\\u9928', u'Hard Knox Cafe', u'Daigo Sushi', u'Jang Soo BBQ', u'Park Gyros', u'Pacific Catch, Westcoast Fish House', u'Nopalito', u'Marnee Thai', u'Park Chow', u'Sociale', u'Magic Flute Ristorante', u'Spruce', u'Ebisu', u'Assab Eritrean Restaurant', u'Irving Subs and Cheese Shop', u'San Tung Chinese Restaurant \\u5c71\\u6771\\u5c0f\\u9928 (San Tung Chinese Restaurant)', u'Yummy Yummy']\n",
      "--- 13.2912418842 seconds ---\n",
      "[u'https://foursquare.com/v/bazaar-cafe/45e4525df964a5203b431fe3/menu', u'https://foursquare.com/v/angelinas-cafe/4b2537ddf964a520366e24e3/menu', u'https://foursquare.com/v/bella-trattoria-italiana/3fd66200f964a520dbec1ee3/menu', u'https://foursquare.com/v/volcano-curry-of-japan/49f2b815f964a520626a1fe3/menu', u'http://kappougomi.com/menu', u'https://foursquare.com/v/pizzetta-211/40df5f80f964a52096011fe3/menu', u'https://foursquare.com/v/shan-dong-best/4c8fc6a904a1b60c19eea13e/menu', u'https://foursquare.com/v/star-india/45fed293f964a5208e441fe3/menu', u'https://foursquare.com/v/john-campbells-irish-bakery/49d8056ff964a520935d1fe3/menu', u'https://foursquare.com/v/kitaro-japanese-restaurant/43a89f9df964a520752c1fe3/menu', u'https://foursquare.com/v/turtle-tower-restaurant/49d27124f964a520ab5b1fe3/menu', u'https://foursquare.com/v/belly-burgers/49fdf226f964a5204c6f1fe3/menu', u'https://foursquare.com/v/aziza/49eac9cef964a52099661fe3/menu', u'https://foursquare.com/v/gordo-taqueria/4a062117f964a520bb721fe3/menu', u'https://foursquare.com/v/the-richmond/43f4dde6f964a520a02f1fe3/menu', u'https://foursquare.com/v/cinderella-bakery--caf%C3%A9/3fd66200f964a520e5ec1ee3/menu', u'https://foursquare.com/v/ton-kiang/3fd66200f964a520d4ec1ee3/menu', u'https://foursquare.com/v/magic-flute-ristorante/4a3e9f70f964a52027a31fe3/menu', u'https://foursquare.com/v/sushi-bistro/436d4780f964a520c9291fe3/menu', u'https://foursquare.com/v/sociale/42fd3800f964a520f0261fe3/menu', u'https://foursquare.com/v/spruce/4a64a8f4f964a5206cc61fe3/menu', u'https://foursquare.com/v/ppq-dungeness-island/42ec1480f964a520a1261fe3/menu', u'https://foursquare.com/v/muguboka-korean-bbq/457c2ffff964a520003f1fe3/menu', u'http://www.fiorella-sf.com/menus/', u'https://foursquare.com/v/uncle-boys/4b2187ebf964a5205c3d24e3/menu', u'https://foursquare.com/v/tommys-mexican-restaurant/3fd66200f964a520a3ec1ee3/menu', u'https://foursquare.com/v/han-il-kwan/46c5f703f964a520094a1fe3/menu', u'https://foursquare.com/v/hard-knox-cafe/49eb6c30f964a520d7661fe3/menu', u'https://foursquare.com/v/daigo-sushi/505a8013e4b08096cab04de2/menu', u'http://www.hongkonglounge2.com/menu-1/', u'https://foursquare.com/v/cafe-enchante/4a676d0bf964a52066c91fe3/menu', u'https://foursquare.com/v/jang-soo-bbq/4a779c1ef964a520e7e41fe3/menu', u'https://foursquare.com/v/velo-rouge-cafe/43c12ef9f964a520392d1fe3/menu', u'https://foursquare.com/v/assab-eritrean-restaurant/47a101e7f964a520764d1fe3/menu', u'https://foursquare.com/v/garibaldis/4a712f71f964a5202cd91fe3/menu', u'https://foursquare.com/v/osteria/4a6a4963f964a52007cd1fe3/menu', u'https://foursquare.com/v/the-corner-store/502ec364e4b07730f4305a9d/menu', u'https://foursquare.com/v/pagan/4a336d27f964a5202e9b1fe3/menu', u'https://foursquare.com/v/pacific-cafe/3fd66200f964a52001ed1ee3/menu'] [u'Bazaar Cafe', u\"Angelina's Cafe\", u'Bella Trattoria Italiana', u'Volcano Curry of Japan', u'Kappou Gomi', u'Pizzetta 211', u'Shan Dong Best', u'Star India', u\"John Campbell's Irish Bakery\", u'Kitaro Japanese Restaurant', u'Turtle Tower Restaurant', u'Belly Burgers', u'Aziza', u'Gordo Taqueria', u'the Richmond', u'Cinderella Bakery & Caf\\xe9', u'Ton Kiang', u'Magic Flute Ristorante', u'Sushi Bistro', u'Sociale', u'Spruce', u'PPQ Dungeness Island', u'Muguboka Korean BBQ', u'Fiorella', u\"Uncle Boy's\", u\"Tommy's Mexican Restaurant\", u'Han Il Kwan', u'Hard Knox Cafe', u'Daigo Sushi', u'Hong Kong Lounge II \\u7a57\\u9999\\u5c0f\\u9928', u'Cafe Enchante', u'Jang Soo BBQ', u'Velo Rouge Cafe', u'Assab Eritrean Restaurant', u\"Garibaldi's\", u'Osteria', u'The Corner Store', u'Pagan', u'Pacific Cafe']\n",
      "--- 14.0051739216 seconds ---\n",
      "[] []\n",
      "--- 14.4006919861 seconds ---\n",
      "[u'https://foursquare.com/v/hawaiian-drive-inn/4b48ed18f964a520b65d26e3/menu', u'https://foursquare.com/v/vals-restaurant-and-lounge/4b552a7cf964a5206cdd27e3/menu', u'http://www.orientalkitchencolma.com/menu.html', u'https://foursquare.com/v/sams-sandwiches--coffee/4bfacf101c1da593edf97d0e/menu', u'https://foursquare.com/v/vikings-giant-submarines/4b6cc9aff964a52070542ce3/menu', u'https://foursquare.com/v/tanis-kitchen/49fa211df964a520c76d1fe3/menu', u'https://foursquare.com/v/nations-giant-hamburgers/4b28b6a5f964a520c99424e3/menu'] [u'Hawaiian Drive Inn', u\"Val's Restaurant and Lounge\", u'Oriental Kitchen', u\"Sam's Sandwiches & Coffee\", u\"Viking's Giant Submarines\", u\"Tani's Kitchen\", u\"Nation's Giant Hamburgers\"]\n",
      "--- 14.6701569557 seconds ---\n",
      "[u'https://foursquare.com/v/shabu-house/4ec87aab02d5888e9d1a1da7/menu', u'https://foursquare.com/v/cocola-bakery/4b3fd429f964a520e3af25e3/menu', u'http://www.blazepizza.com/menu', u'https://foursquare.com/v/la-baguette/529d49c111d27cfebb6c8740/menu', u'https://foursquare.com/v/tokyo-express/4b3a6303f964a520246625e3/menu', u'https://foursquare.com/v/paradise-pizza--pasta/4af7939ef964a520eb0922e3/menu', u'https://foursquare.com/v/fuji/4a944e31f964a520262120e3/menu', u'https://foursquare.com/v/mozzarella-di-bufala/4a4d27d0f964a5209aad1fe3/menu', u'https://foursquare.com/v/trattoria-da-vittorio/5195394d498e344eeb952b4f/menu', u'http://toasteatery.com/files/toastmenu_052815.pdf', u'https://foursquare.com/v/roti-indian-bistro/49fa41c3f964a520e16d1fe3/menu', u'https://foursquare.com/v/new-tsing-tao/4bccd3e4937ca593f6d7ab92/menu', u'https://foursquare.com/v/spiazzo-ristorante/4be72d932457a593b8a6ad15/menu', u'https://foursquare.com/v/submarine-center/47bae8a8f964a520d14d1fe3/menu', u'https://foursquare.com/v/fresca/4ad152fdf964a5200dde20e3/menu', u'https://foursquare.com/v/bursa/4a692042f964a520a5cb1fe3/menu', u'https://foursquare.com/v/el-toreador/43179600f964a52069271fe3/menu', u'https://foursquare.com/v/pops-sandwich-shop/4a43d33af964a520d7a61fe3/menu', u'https://foursquare.com/v/ll-hawaiian-barbecue/4abc1fe2f964a5207d8620e3/menu', u'https://foursquare.com/v/jollibee/4b14f8a6f964a5209ca723e3/menu', u'https://foursquare.com/v/boulevard-cafe/49e9de32f964a52006661fe3/menu', u'https://foursquare.com/v/balompie-cafe-3/4b54ddeff964a52079d027e3/menu'] [u'Shabu House', u'Cocola Bakery', u'Blaze Pizza', u'La Baguette', u'Tokyo Express', u'Paradise Pizza & Pasta', u'Fuji', u'Mozzarella di Bufala', u'Trattoria Da Vittorio', u'Toast Eatery', u'Roti Indian Bistro', u'New Tsing Tao', u'Spiazzo Ristorante', u'Submarine Center', u'Fresca', u'Bursa', u'El Toreador', u\"Pop's Sandwich Shop\", u'L&L Hawaiian Barbecue', u'Jollibee', u'Boulevard Cafe', u'Balompie Cafe #3']\n",
      "--- 15.0749628544 seconds ---\n",
      "[u'https://foursquare.com/v/zante-pizza-and-indian-cuisine/4478eeeef964a520d2331fe3/menu', u'https://foursquare.com/v/oye-managua/4b46ad6bf964a520b02626e3/menu', u'https://foursquare.com/v/the-front-porch/4695204ef964a520dd481fe3/menu', u'http://www.mamajissf.com/menu/dinner.html', u'https://foursquare.com/v/thai-house-express/46a24448f964a52029491fe3/menu', u'https://foursquare.com/v/anchor-oyster-bar/432a0b00f964a520de271fe3/menu', u'http://sanfrancisco.menupages.com/restaurants/pizzahacker/menu', u'https://foursquare.com/v/harveys/413e4b80f964a520501c1fe3/menu', u'https://foursquare.com/v/emmys-spaghetti-shack/42accc80f964a52039251fe3/menu', u'http://www.listingextensions.com/f43115baa3/3457691113/menu', u'https://foursquare.com/v/wild-pepper/4a7b8efaf964a52067eb1fe3/menu', u'http://www.blazepizza.com/menu', u'https://foursquare.com/v/taqueria-cancun/4ed70cf1f7905836bfa69df2/menu', u'http://www.larksf.com', u'https://foursquare.com/v/bravos-pizza/4b064e19f964a52094ea22e3/menu', u'https://foursquare.com/v/old-bus-tavern/55a33e80498ebb1b4a0d45df/menu', u'https://foursquare.com/v/taboun-mediterranean/4a9fe1c1f964a520733d20e3/menu', u'https://foursquare.com/v/fiore-caff%C3%A8/4dbf426781545e1cc7ca93ae/menu', u'https://foursquare.com/v/rossis-deli/4a42841bf964a520eaa51fe3/menu', u'https://foursquare.com/v/marcellos-pizza/432a0b00f964a520d7271fe3/menu', u'http://kasaindian.com/menu/', u'http://static1.squarespace.com/static/549327b8e4b0d5186e3478c2/t/5652766de4b0328b44d06679/1448244845209/dinner+menu+11.21.15+for+online.pdf', u'https://foursquare.com/v/zazie/49b094fdf964a520c8521fe3/menu', u'https://foursquare.com/v/anda-piroshki/4e75890315209522b162a58c/menu', u'https://foursquare.com/v/pi-bar/4a94231ef964a5207f2020e3/menu', u'https://foursquare.com/v/bernal-star/4bc881f86501c9b61f364029/menu', u'https://foursquare.com/v/padrecito/50ef30e4e4b00a55d27ff6d5/menu', u'https://foursquare.com/v/lous-cafe/54d14561498ecb61eca88c0f/menu', u'https://foursquare.com/v/burgermeister/43d0a1bdf964a520ee2d1fe3/menu', u'https://foursquare.com/v/kiji-sushi-bar--cuisine/43c99cdef964a520a02d1fe3/menu', u'https://foursquare.com/v/papalote-mexican-grill/43b439b6f964a520bc2c1fe3/menu', u'http://astersf.com/food/', u'https://foursquare.com/v/bisou-bistronomy/4bd48dfd5631c9b62399a230/menu', u'https://foursquare.com/v/arizmendi-bakery-panaderia--pizzeria/4ca4d6a3d7c33704acd2ac62/menu', u'https://foursquare.com/v/koo/44a93c68f964a520f9341fe3/menu', u'https://foursquare.com/v/catch/432a0b00f964a520d9271fe3/menu', u'https://foursquare.com/v/lime-tree-southeast-asian-kitchen/471de6f7f964a520ba4b1fe3/menu', u'https://foursquare.com/v/the-yellow-submarine/4a298355f964a5209f951fe3/menu', u'https://foursquare.com/v/lavash/49b3268cf964a520e1521fe3/menu', u'https://foursquare.com/v/wooly-pig-cafe/4d278413b818a35de03c8c8a/menu'] [u'Zante Pizza and Indian Cuisine', u'oye! managua', u'The Front Porch', u\"MaMa Ji's\", u'Thai House Express', u'Anchor Oyster Bar', u'PizzaHacker', u\"Harvey's\", u\"Emmy's Spaghetti Shack\", u'Blue Plate', u'Wild Pepper', u'Blaze Pizza', u'Taqueria Cancun', u'Lark', u\"Bravo's Pizza\", u'Old Bus Tavern', u'Taboun Mediterranean', u'Fiore Caff\\xe8', u\"Rossi's Deli\", u\"Marcello's Pizza\", u'Kasa Indian Eatery', u\"Al's Place\", u'Zazie', u'Anda Piroshki', u'Pi Bar', u'Bernal Star', u'Padrecito', u\"Lou's Cafe\", u'Burgermeister', u'Kiji Sushi Bar & Cuisine', u'Papalote Mexican Grill', u'Aster', u'Bisou Bistronomy', u'Arizmendi Bakery Panaderia & Pizzeria', u'Koo', u'Catch', u'Lime Tree Southeast Asian Kitchen', u'The Yellow Submarine', u'Lavash', u'Wooly Pig Cafe']\n",
      "--- 15.722755909 seconds ---\n",
      "[u'https://foursquare.com/v/nopa/44646408f964a52026331fe3/menu', u'https://foursquare.com/v/thorough-bread-and-pastry/49f13784f964a5209f691fe3/menu', u'http://sanfrancisco.menupages.com/restaurants/jasmine-garden/menu', u'https://foursquare.com/v/chow/3fd66200f964a52025f11ee3/menu', u'https://foursquare.com/v/bar-crudo/44e37004f964a52042371fe3/menu', u'https://foursquare.com/v/green-chile-kitchen/44fbed60f964a52080381fe3/menu', u'https://foursquare.com/v/matching-half-cafe/4aea176df964a52047b921e3/menu', u'https://foursquare.com/v/woodhouse-fish-co/44a4f50ef964a520e7341fe3/menu', u'http://4505meats.com/wp-content/uploads/2014/05/4505Meats_takeout_050114.pdf', u'https://foursquare.com/v/saru-sushi-bar/4f2a012ce4b0a7b3771950bb/menu', u'http://sanfrancisco.menupages.com/restaurants/taqueria-el-castillito-4/menu', u'http://themillsf.com/menu/', u'https://foursquare.com/v/rosamunde-sausage-grill/435ec700f964a5201c291fe3/menu', u'https://foursquare.com/v/namu-gaji/4f359f3b7beb8cc43414ab62/menu', u'https://foursquare.com/v/tsunami/43bc75f6f964a520f92c1fe3/menu', u'https://foursquare.com/v/izakaya-sozai/4b6cdf81f964a520ba5a2ce3/menu', u'http://izaramen.com/portfolio/abc/', u'http://hamletsf.com', u'https://foursquare.com/v/little-star-pizza/433dd180f964a52048281fe3/menu', u'https://foursquare.com/v/muguboka-korean-bbq/457c2ffff964a520003f1fe3/menu', u'https://foursquare.com/v/sushi-bistro/436d4780f964a520c9291fe3/menu', u'https://foursquare.com/v/delfina/4af303e1f964a520cee921e3/menu', u'https://foursquare.com/v/pizzeria-delfina/44088735f964a52058301fe3/menu', u'https://foursquare.com/v/cinderella-bakery--caf%C3%A9/3fd66200f964a520e5ec1ee3/menu', u'https://foursquare.com/v/mozzeria/4ea36cb79a527d65177eadd9/menu', u'https://foursquare.com/v/tartine-bakery/42814b00f964a52002221fe3/menu', u'https://foursquare.com/v/pakwan/49fd1ce0f964a5200b6f1fe3/menu', u'https://foursquare.com/v/chloes-caf%C3%A9/454f85bff964a520de3c1fe3/menu', u'https://foursquare.com/v/mission-beach-cafe/49d3e0f0f964a520205c1fe3/menu', u'https://foursquare.com/v/monks-kettle/47d7ba05f964a520234e1fe3/menu', u'http://www.hongkonglounge2.com/menu-1/', u'https://foursquare.com/v/the-taco-shop-at-underdogs/4adb9f2df964a520762921e3/menu', u'https://foursquare.com/v/ph%E1%BB%9F-ph%C3%BA-qu%E1%BB%91c-vietnamese/43c8ff1df964a520932d1fe3/menu', u'https://foursquare.com/v/picaro-cafe/41e46880f964a520e01e1fe3/menu', u'https://foursquare.com/v/giordano-bros/4e4da9e6d22daf51d25dcf8d/menu', u'https://foursquare.com/v/range/44b7cc5ef964a52076351fe3/menu', u'https://foursquare.com/v/chaya-vegetarian-japanese-restaurant/44ccee85f964a52016361fe3/menu', u'https://foursquare.com/v/craftsman-and-wolves/4fab3157bb3d83ffee63d747/menu', u'https://foursquare.com/v/rheas-market--deli/4a888cbff964a520dc0620e3/menu', u'https://foursquare.com/v/mau/505aa37ee4b09d25dc9e7557/menu', u'https://foursquare.com/v/puerto-alegre/3fd66200f964a52059ed1ee3/menu', u'https://foursquare.com/v/locanda/4db22d538154f5a745d9c093/menu'] [u'Nopa', u'Thorough Bread and Pastry', u'Jasmine Garden', u'Chow', u'Bar Crudo', u'Green Chile Kitchen', u'Matching Half Cafe', u'Woodhouse Fish Co.', u'4505 Burgers & BBQ', u'Saru Sushi Bar', u'El Castillito', u'The Mill', u'Rosamunde Sausage Grill', u'Namu Gaji', u'Tsunami', u'Izakaya Sozai', u'Iza Ramen', u'Hamlet', u'Little Star Pizza', u'Muguboka Korean BBQ', u'Sushi Bistro', u'Delfina', u'Pizzeria Delfina', u'Cinderella Bakery & Caf\\xe9', u'Mozzeria', u'Tartine Bakery', u'Pakwan', u\"Chloe's Caf\\xe9\", u'Mission Beach Cafe', u'Monk\\u2019s Kettle', u'Hong Kong Lounge II \\u7a57\\u9999\\u5c0f\\u9928', u\"The Taco Shop at Underdog's\", u'Ph\\u1edf Ph\\xfa Qu\\u1ed1c Vietnamese', u'Picaro Cafe', u'Giordano Bros.', u'Range', u'Cha-Ya Vegetarian Japanese Restaurant', u'Craftsman and Wolves', u\"Rhea's Market & Deli\", u'Mau', u'Puerto Alegre', u'Locanda']\n",
      "--- 16.6935310364 seconds ---\n",
      "[u'http://ijjisf.com/menu', u'https://foursquare.com/v/fat-angel-food--libation/4b70fb2bf964a52074362de3/menu', u'https://foursquare.com/v/village-market/4a649269f964a5204ac61fe3/menu', u'https://foursquare.com/v/state-bird-provisions/4ef52a378231b0d6238dd471/menu', u'http://theprogress-sf.com', u'https://foursquare.com/v/padrecito/50ef30e4e4b00a55d27ff6d5/menu', u'https://foursquare.com/v/out-the-door/4ac80a3cf964a52051bb20e3/menu', u'https://foursquare.com/v/dosa/4aff8b4af964a520663922e3/menu', u'https://foursquare.com/v/zazie/49b094fdf964a520c8521fe3/menu', u'https://foursquare.com/v/spqr/4744d11ff964a520854c1fe3/menu', u'https://foursquare.com/v/la-boulangerie-de-san-francisco/4a579b5ef964a52074b61fe3/menu', u'https://foursquare.com/v/woodhouse-fish-co/4a73b153f964a52035dd1fe3/menu', u'https://foursquare.com/v/roam-artisan-burgers/5036e1e4e4b0c173555542aa/menu', u'https://foursquare.com/v/my-tofu-house/4387a580f964a5200f2b1fe3/menu', u'https://foursquare.com/v/pizzeria-delfina/49fdbacbf964a520236f1fe3/menu', u'https://foursquare.com/v/jane/4d50a1433626a093c29b1cbd/menu', u'https://foursquare.com/v/la-m%C3%A9diterran%C3%A9e/43cc0e7df964a520c92d1fe3/menu', u'https://foursquare.com/v/benkyodo/4a22141ff964a5205c7d1fe3/menu', u'https://foursquare.com/v/rosamunde-sausage-grill/435ec700f964a5201c291fe3/menu', u'http://izaramen.com/portfolio/abc/', u'https://foursquare.com/v/jackson-fillmore/3fd66200f964a520a3eb1ee3/menu', u'https://foursquare.com/v/koo/44a93c68f964a520f9341fe3/menu', u'https://foursquare.com/v/lardoise/49d30c0ff964a520e85b1fe3/menu', u'http://www.petitcrenn.com', u'https://foursquare.com/v/lavash/49b3268cf964a520e1521fe3/menu', u'https://foursquare.com/v/suppenk%C3%BCche/42c5d900f964a520d5251fe3/menu', u'https://foursquare.com/v/pacific-catch-westcoast-fish-house/49dd5b31f964a520fe5f1fe3/menu', u'https://foursquare.com/v/kabuto/3fd66200f964a520d0ec1ee3/menu', u'https://foursquare.com/v/domo-sushi/49ce86fff964a520515a1fe3/menu', u'https://foursquare.com/v/nopalito/4f8f447f7716cd1fbf769274/menu', u'https://foursquare.com/v/heartbaker/51bbd2745019f457c98383a3/menu', u'https://foursquare.com/v/roses-cafe/44f03c85f964a520f2371fe3/menu', u'http://www.octavia-sf.com/dinner/', u'http://sanfrancisco.menupages.com/restaurants/taqueria-el-castillito-4/menu', u'http://sanfrancisco.menupages.com/restaurants/souvla/menu', u'https://foursquare.com/v/ebisu/3fd66200f964a52017ed1ee3/menu', u'https://foursquare.com/v/gamine/4a306c39f964a52067991fe3/menu', u'http://revelrybistro.com/#revelry-menu', u'https://foursquare.com/v/arts-cafe/3fd66200f964a52019f11ee3/menu', u'http://sanfrancisco.menupages.com/restaurants/jasmine-garden/menu'] [u'Ijji sushi', u'Fat Angel Food & Libation', u'Village Market', u'State Bird Provisions', u'The Progress', u'Padrecito', u'Out The Door', u'Dosa', u'Zazie', u'SPQR', u'La Boulangerie de San Francisco', u'Woodhouse Fish Co.', u'Roam Artisan Burgers', u'My Tofu House', u'Pizzeria Delfina', u'Jane', u'La M\\xe9diterran\\xe9e', u'Benkyodo', u'Rosamunde Sausage Grill', u'Iza Ramen', u'Jackson Fillmore', u'Koo', u\"L'Ardoise\", u'Petit Crenn', u'Lavash', u'Suppenk\\xfcche', u'Pacific Catch, Westcoast Fish House', u'Kabuto', u'Domo Sushi', u'Nopalito', u'Heartbaker', u\"Rose's Cafe\", u'Octavia', u'El Castillito', u'Souvla', u'Ebisu', u'Gamine', u'Revelry', u\"Art's Cafe\", u'Jasmine Garden']\n",
      "--- 17.3889670372 seconds ---\n",
      "[u'https://foursquare.com/v/luccas-delicatessen/4a620c4df964a520e7c21fe3/menu', u'https://foursquare.com/v/village-market/4a649269f964a5204ac61fe3/menu', u'https://foursquare.com/v/blue-barn-gourmet/4a0b8ce1f964a52000751fe3/menu', u'https://foursquare.com/v/isa-restaurant/437d1980f964a520ae2a1fe3/menu', u'https://foursquare.com/v/bistro-aix/45058f03f964a52009391fe3/menu', u'https://foursquare.com/v/green-chile-kitchen/44fbed60f964a52080381fe3/menu', u'https://foursquare.com/v/dosa/4aff8b4af964a520663922e3/menu', u'https://foursquare.com/v/matching-half-cafe/4aea176df964a52047b921e3/menu', u'https://foursquare.com/v/state-bird-provisions/4ef52a378231b0d6238dd471/menu', u'http://theprogress-sf.com', u'https://foursquare.com/v/fat-angel-food--libation/4b70fb2bf964a52074362de3/menu', u'https://foursquare.com/v/pacific-catch/49d050a3f964a5201c5b1fe3/menu', u'https://foursquare.com/v/bistro-central-parc/4b63a759f964a520ee892ae3/menu', u'https://foursquare.com/v/little-star-pizza/433dd180f964a52048281fe3/menu', u'https://foursquare.com/v/tsunami/43bc75f6f964a520f92c1fe3/menu', u'https://foursquare.com/v/velo-rouge-cafe/43c12ef9f964a520392d1fe3/menu', u'https://foursquare.com/v/benkyodo/4a22141ff964a5205c7d1fe3/menu', u'https://foursquare.com/v/muguboka-korean-bbq/457c2ffff964a520003f1fe3/menu', u'http://themillsf.com/menu/', u'https://foursquare.com/v/cinderella-bakery--caf%C3%A9/3fd66200f964a520e5ec1ee3/menu', u'https://foursquare.com/v/the-brazen-head/49cf2129f964a520a15a1fe3/menu', u'https://foursquare.com/v/sushi-bistro/436d4780f964a520c9291fe3/menu', u'http://4505meats.com/wp-content/uploads/2014/05/4505Meats_takeout_050114.pdf', u'https://foursquare.com/v/zushi-puzzle/43ee0337f964a5205b2f1fe3/menu', u'https://foursquare.com/v/bar-crudo/44e37004f964a52042371fe3/menu', u'https://foursquare.com/v/my-tofu-house/4387a580f964a5200f2b1fe3/menu', u'https://foursquare.com/v/nopa/44646408f964a52026331fe3/menu', u'https://foursquare.com/v/capannina/4a5c0897f964a5202abc1fe3/menu', u'http://www.octavia-sf.com/dinner/', u'https://foursquare.com/v/nopalito/49be8fe0f964a520b9541fe3/menu', u'https://foursquare.com/v/roam-artisan-burgers/4c2176b99390c9b61127c9cd/menu', u'https://foursquare.com/v/vinyl-coffee--wine-bar/4d3bc1a93ec9a35dfe904281/menu', u'https://foursquare.com/v/pork-store-cafe/3fd66200f964a52024ee1ee3/menu', u'https://foursquare.com/v/magnolia-gastropub--brewery/3fd66200f964a52066ed1ee3/menu', u'https://foursquare.com/v/ragazza/4c95857cf7cfa1cd0aaebe15/menu'] [u\"Lucca's Delicatessen\", u'Village Market', u'Blue Barn Gourmet', u'Isa Restaurant', u'Bistro Aix', u'Green Chile Kitchen', u'Dosa', u'Matching Half Cafe', u'State Bird Provisions', u'The Progress', u'Fat Angel Food & Libation', u'Pacific Catch', u'Bistro Central Parc', u'Little Star Pizza', u'Tsunami', u'Velo Rouge Cafe', u'Benkyodo', u'Muguboka Korean BBQ', u'The Mill', u'Cinderella Bakery & Caf\\xe9', u'The Brazen Head', u'Sushi Bistro', u'4505 Burgers & BBQ', u'Zushi Puzzle', u'Bar Crudo', u'My Tofu House', u'Nopa', u'Capannina', u'Octavia', u'Nopalito', u'Roam Artisan Burgers', u'Vinyl Coffee & Wine Bar', u'Pork Store Cafe', u'Magnolia Gastropub & Brewery', u'Ragazza']\n",
      "--- 18.2116558552 seconds ---\n",
      "[u'https://foursquare.com/v/umami-burger/4e80db1a49012726b72494ec/menu', u'https://foursquare.com/v/the-brazen-head/49cf2129f964a520a15a1fe3/menu', u'https://foursquare.com/v/the-brixton/4cc4a5f6dba3ef3bd29c0705/menu', u'https://foursquare.com/v/palm-house/5367c631498e5c347cf18838/menu', u'https://foursquare.com/v/la-canasta/4a74d2b2f964a520b3df1fe3/menu', u'http://belgasf.com/menus/', u'https://foursquare.com/v/atami-sushi-bar--grill/4a57fea9f964a52036b71fe3/menu', u'https://foursquare.com/v/perrys/4a0499aaf964a5200d721fe3/menu', u'https://foursquare.com/v/la-boulangerie-de-san-francisco/49cf64aaf964a520a65a1fe3/menu', u'https://foursquare.com/v/capannina/4a5c0897f964a5202abc1fe3/menu', u'https://foursquare.com/v/lite-bite/4e482555814d84e76a9b3bdc/menu', u'https://foursquare.com/v/roam-artisan-burgers/4c2176b99390c9b61127c9cd/menu', u'https://foursquare.com/v/boboquivaris/476a5dc2f964a520fa4c1fe3/menu', u'https://foursquare.com/v/jackson-fillmore/3fd66200f964a520a3eb1ee3/menu', u'https://foursquare.com/v/pane-e-vino/43753080f964a520292a1fe3/menu', u'https://foursquare.com/v/garibaldis/4a712f71f964a5202cd91fe3/menu', u'http://www.thepubsf.com/menus/index.html', u'https://foursquare.com/v/mccormick--kuletos/44d21e78f964a52039361fe3/menu', u'https://foursquare.com/v/osteria/4a6a4963f964a52007cd1fe3/menu', u'https://foursquare.com/v/chouquets/49d64d88f964a520b25c1fe3/menu', u'https://foursquare.com/v/michaelis-food-store-liquor--delicatessen/4e1787d91f6eb95598713ae5/menu', u'https://foursquare.com/v/spruce/4a64a8f4f964a5206cc61fe3/menu', u'https://foursquare.com/v/elizas-restaurant/43d3e1b4f964a5202a2e1fe3/menu', u'https://foursquare.com/v/magic-flute-ristorante/4a3e9f70f964a52027a31fe3/menu', u'http://www.b-onthego.com', u'https://foursquare.com/v/tataki/49bc5f17f964a52031541fe3/menu', u'https://foursquare.com/v/sociale/42fd3800f964a520f0261fe3/menu', u'https://foursquare.com/v/la-m%C3%A9diterran%C3%A9e/43cc0e7df964a520c92d1fe3/menu', u'https://foursquare.com/v/restaurant-gary-danko/3fd66200f964a52025ee1ee3/menu', u'https://foursquare.com/v/helmand-palace/4a73b450f964a5203fdd1fe3/menu', u'https://foursquare.com/v/my-ivy/4d4f762c3626a0934cdc10bd/menu', u'https://foursquare.com/v/the-matterhorn-swiss-restaurant/4a921720f964a520cc1c20e3/menu', u'https://foursquare.com/v/jane/4d50a1433626a093c29b1cbd/menu', u'https://foursquare.com/v/fresca/42b21280f964a52076251fe3/menu', u'https://foursquare.com/v/cioppinos/4a63aae2f964a5208bc51fe3/menu', u'https://foursquare.com/v/pizzeria-delfina/49fdbacbf964a520236f1fe3/menu', u'https://foursquare.com/v/leopolds/4d0549672f96f04d94382254/menu'] [u'Umami Burger', u'The Brazen Head', u'The Brixton', u'Palm House', u'La Canasta', u'Belga', u'Atami Sushi Bar & Grill', u\"Perry's\", u'La Boulangerie de San Francisco', u'Capannina', u'lite bite', u'Roam Artisan Burgers', u\"Boboquivari's\", u'Jackson Fillmore', u'Pane e Vino', u\"Garibaldi's\", u'The Pub at Ghirardelli Square', u\"McCormick & Kuleto's\", u'Osteria', u\"Chouquet's\", u\"Michaeli's Food Store, Liquor, & Delicatessen\", u'Spruce', u\"Eliza's Restaurant\", u'Magic Flute Ristorante', u'b. on the go', u'Tataki', u'Sociale', u'La M\\xe9diterran\\xe9e', u'Restaurant Gary Danko', u'Helmand Palace', u'My Ivy', u'The Matterhorn Swiss Restaurant', u'Jane', u'Fresca', u\"Cioppino's\", u'Pizzeria Delfina', u\"Leopold's\"]\n",
      "--- 18.8774149418 seconds ---\n",
      "[] []\n",
      "--- 19.1667280197 seconds ---\n",
      "[u'https://foursquare.com/v/hunan-chef/4bcfa515a8b3a59325b8625f/menu', u'https://foursquare.com/v/angkor-borei/3fd66200f964a520c1ec1ee3/menu', u'https://foursquare.com/v/fat-beli-deli/4adcc1a5f964a520762f21e3/menu', u'https://foursquare.com/v/moonlight-cafe/4a832ca5f964a52047fa1fe3/menu', u'https://foursquare.com/v/queens-louisiana-poboy-cafe/4af730aff964a520fa0622e3/menu', u'https://foursquare.com/v/vinorosso/4ae4ff0cf964a520f49f21e3/menu', u'https://foursquare.com/v/la-ciccia/49bed272f964a520e3541fe3/menu', u'https://foursquare.com/v/tacos-los-altos/4a57fd7ef964a52031b71fe3/menu', u'https://foursquare.com/v/pomelo/42210d80f964a520a91f1fe3/menu', u'https://foursquare.com/v/la-nebbia/52aa6567498e3872b15c4aa5/menu', u'https://foursquare.com/v/el-huarache-loco/49fc89c3f964a520b36e1fe3/menu', u'https://foursquare.com/v/piqueos/4a2debe9f964a52008981fe3/menu', u'https://foursquare.com/v/little-nepal/4a862f58f964a520b40020e3/menu', u'https://foursquare.com/v/toast-eatery/454f45eef964a520d43c1fe3/menu', u'https://foursquare.com/v/oye-managua/4b46ad6bf964a520b02626e3/menu', u'https://foursquare.com/v/alices-restaurant/4a59328df964a520f2b81fe3/menu', u'https://foursquare.com/v/regent-thai/49cde3dcf964a520175a1fe3/menu', u'https://foursquare.com/v/tselogs/4a0dd0f7f964a5209e751fe3/menu', u'https://foursquare.com/v/clay-oven/4a74f295f964a52019e01fe3/menu', u'https://foursquare.com/v/the-front-porch/4695204ef964a520dd481fe3/menu', u'https://foursquare.com/v/goood-frikin-chicken/43b29cc3f964a520a52c1fe3/menu', u'https://foursquare.com/v/noeteca/4ad3cd2bf964a52064e620e3/menu', u'http://sanfrancisco.menupages.com/restaurants/pizzahacker/menu', u'https://foursquare.com/v/pad-thai/40870b00f964a520a7f21ee3/menu', u'https://foursquare.com/v/the-fog-lifter-caf%C3%A9/4df15c6bc65bf55ee522aada/menu', u'https://foursquare.com/v/pho-ha-tien/440d7b3ff964a5208f301fe3/menu', u'https://foursquare.com/v/emmys-spaghetti-shack/42accc80f964a52039251fe3/menu', u'http://www.listingextensions.com/f43115baa3/3457691113/menu'] [u'Hunan Chef', u'Angkor Borei', u'Fat Beli Deli', u'Moonlight Cafe', u\"Queen's Louisiana Po-Boy Cafe\", u'VinoRosso', u'La Ciccia', u'Tacos Los Altos', u'Pomelo', u'La Nebbia', u'El Huarache Loco', u\"Piqueo's\", u'Little Nepal', u'Toast Eatery', u'oye! managua', u\"Alice's Restaurant\", u'Regent Thai', u'Tselogs', u'Clay Oven', u'The Front Porch', u\"Goood Frikin' Chicken\", u'Noeteca', u'PizzaHacker', u'Pad Thai', u'The Fog Lifter Caf\\xe9', u'Pho Ha Tien', u\"Emmy's Spaghetti Shack\", u'Blue Plate']\n",
      "--- 19.8691279888 seconds ---\n",
      "[u'https://foursquare.com/v/fiore-caff%C3%A8/4dbf426781545e1cc7ca93ae/menu', u'https://foursquare.com/v/papalote-mexican-grill/43b439b6f964a520bc2c1fe3/menu', u'https://foursquare.com/v/red-cafe/4a2b6e95f964a520cf961fe3/menu', u'https://foursquare.com/v/diandas-italian-american-pastry/4b1053b9f964a520de6d23e3/menu', u'https://foursquare.com/v/la-taqueria/455877bff964a520453d1fe3/menu', u'https://foursquare.com/v/arizmendi-bakery-panaderia--pizzeria/4ca4d6a3d7c33704acd2ac62/menu', u'https://foursquare.com/v/hillside-supper-club/4f600b86e4b039028ef5049b/menu', u'https://foursquare.com/v/taqueria-el-farolito/44ff5a91f964a520a5381fe3/menu', u'https://foursquare.com/v/beretta/49a2545cf964a52094521fe3/menu', u'https://foursquare.com/v/kiji-sushi-bar--cuisine/43c99cdef964a520a02d1fe3/menu', u'http://astersf.com/food/', u'https://foursquare.com/v/sugoi-sushi/502c6c2ce4b04515095be460/menu', u'https://foursquare.com/v/velvet-cantina/43c148e5f964a5203f2d1fe3/menu', u'https://foursquare.com/v/deccan-spice/5775ec91498e65da230f0a57/menu', u'http://san-francisco.eat24hours.com/r-image-market-deli/32218', u'https://foursquare.com/v/lucca-ravioli-company/49e79a69f964a520d7641fe3/menu', u'http://wisesonsdeli.com/24th-street-deli-menu', u'https://foursquare.com/v/revolution-cafe/4a75206cf964a5209de01fe3/menu', u'https://foursquare.com/v/sun-rise-restaurant/4a43a2faf964a520a0a61fe3/menu', u'https://foursquare.com/v/lol%C3%B3-cevicheria/49dcd054f964a520a45f1fe3/menu', u'https://foursquare.com/v/aslams-rasoi/44e799b6f964a52094371fe3/menu', u'https://foursquare.com/v/udupi-palace/49dad092f964a520b25e1fe3/menu', u'https://foursquare.com/v/dosa/439b6598f964a520e12b1fe3/menu', u'https://foursquare.com/v/henrys-hunan-restaurant/4ceec3b83b03f04de88d3bdc/menu', u'https://foursquare.com/v/foreign-cinema/3fd66200f964a520a0ec1ee3/menu', u'http://www.californiossf.com/cuisine.html', u'https://foursquare.com/v/lolinda/50243fd229a61e4b21a26e16/menu', u'http://www.lolosf.com/menu/', u'https://foursquare.com/v/el-techo/51896b72498e1bcc776ddaa8/menu', u'https://foursquare.com/v/taquerias-el-farolito/4a0e123af964a520c2751fe3/menu', u'https://foursquare.com/v/tortas-los-picudos/4b4a581df964a520a48426e3/menu', u'https://foursquare.com/v/el-gallo-giro-taco-truck/4a2af3b9f964a52073961fe3/menu', u'https://foursquare.com/v/taquerias-el-farolito/4a206042f964a520757c1fe3/menu', u'https://foursquare.com/v/thai-house-express/46a24448f964a52029491fe3/menu', u'http://yummyhousetogo.com/menu.html'] [u'Fiore Caff\\xe8', u'Papalote Mexican Grill', u'Red Cafe', u\"Dianda's Italian American Pastry\", u'La Taqueria', u'Arizmendi Bakery Panaderia & Pizzeria', u'Hillside Supper Club', u'Taqueria El Farolito', u'Beretta', u'Kiji Sushi Bar & Cuisine', u'Aster', u'Sugoi Sushi', u'Velvet Cantina', u'Deccan Spice', u'R Image Market', u'Lucca Ravioli Company', u'Wise Sons Jewish Delicatessen', u'Revolution Cafe', u'Sun Rise Restaurant', u'Lol\\xf3 Cevicheria', u\"Aslam's Rasoi\", u'Udupi Palace', u'Dosa', u\"Henry's Hunan Restaurant\", u'Foreign Cinema', u'Californios', u'Lolinda', u'Lol\\xf3', u'El Techo', u'Taquerias El Farolito', u'Tortas Los Picudos', u'El Gallo Giro (Taco Truck)', u'Taquerias El Farolito', u'Thai House Express', u'Ty Sandwich']\n",
      "--- 20.6818509102 seconds ---\n",
      "[u'https://foursquare.com/v/patxis-pizza/4cccf2a372106dcb93d79f99/menu', u'https://foursquare.com/v/little-star-pizza/4537f9daf964a520c73b1fe3/menu', u'https://foursquare.com/v/foreign-cinema/3fd66200f964a520a0ec1ee3/menu', u'https://foursquare.com/v/noe-valley-bakery/4a390f6cf964a520179f1fe3/menu', u'https://foursquare.com/v/mission-beach-cafe/49d3e0f0f964a520205c1fe3/menu', u'https://foursquare.com/v/revolution-cafe/4a75206cf964a5209de01fe3/menu', u'https://foursquare.com/v/lolinda/50243fd229a61e4b21a26e16/menu', u'https://foursquare.com/v/el-techo/51896b72498e1bcc776ddaa8/menu', u'https://foursquare.com/v/lol%C3%B3-cevicheria/49dcd054f964a520a45f1fe3/menu', u'https://foursquare.com/v/beretta/49a2545cf964a52094521fe3/menu', u'https://foursquare.com/v/contigo/49c6bdfef964a52077571fe3/menu', u'http://babujisf.com/menu/', u'https://foursquare.com/v/arizmendi-bakery-panaderia--pizzeria/4ca4d6a3d7c33704acd2ac62/menu', u'https://foursquare.com/v/papalote-mexican-grill/43b439b6f964a520bc2c1fe3/menu', u'https://foursquare.com/v/lim%C3%B3n-peruvian-rotisserie/42d1b680f964a52007261fe3/menu', u'http://www.californiossf.com/cuisine.html', u'https://foursquare.com/v/burma-love/54976d5c498eccc96c62bc55/menu', u'https://foursquare.com/v/chloes-caf%C3%A9/454f85bff964a520de3c1fe3/menu', u'https://foursquare.com/v/rosamunde-sausage-grill/435ec700f964a5201c291fe3/menu', u'https://foursquare.com/v/taqueria-el-farolito/44ff5a91f964a520a5381fe3/menu', u'https://foursquare.com/v/stable-cafe/49b1a93df964a520d9521fe3/menu', u'https://foursquare.com/v/schmidts/4a01fe11f964a5201e711fe3/menu', u'https://foursquare.com/v/walzwerk/43470c00f964a52080281fe3/menu', u'https://foursquare.com/v/heirloom-caf%C3%A9/4be39634b02ec9b68f0f50c0/menu', u'http://ijjisf.com/menu', u'https://foursquare.com/v/la-taqueria/455877bff964a520453d1fe3/menu', u'https://foursquare.com/v/red-cafe/4a2b6e95f964a520cf961fe3/menu', u'https://foursquare.com/v/the-little-chihuahua/49daea87f964a520be5e1fe3/menu', u'http://static1.squarespace.com/static/549327b8e4b0d5186e3478c2/t/5652766de4b0328b44d06679/1448244845209/dinner+menu+11.21.15+for+online.pdf', u'https://foursquare.com/v/ragazza/4c95857cf7cfa1cd0aaebe15/menu', u'http://wisesonsdeli.com/24th-street-deli-menu', u'https://foursquare.com/v/flour--water/4a8b6942f964a520660c20e3/menu', u'http://revelrybistro.com/#revelry-menu', u'https://foursquare.com/v/old-jerusalem-restaurant/4a721f10f964a52069da1fe3/menu', u'https://foursquare.com/v/el-gallo-giro-taco-truck/4a2af3b9f964a52073961fe3/menu', u'http://sanfrancisco.menupages.com/restaurants/izakaya-rintaro/menu', u'https://foursquare.com/v/salumeria/4fc541fb7716c8a1e24eec6c/menu', u'https://foursquare.com/v/central-kitchen/4faaba890cd6e74f6f96bab1/menu', u'https://foursquare.com/v/bacon-bacon/4ef3795c0e61358da48ddef4/menu', u'https://foursquare.com/v/zuni-cafe/435d7580f964a5201a291fe3/menu', u'https://foursquare.com/v/nopalito/49be8fe0f964a520b9541fe3/menu'] [u'Patxi\\u2019s Pizza', u'Little Star Pizza', u'Foreign Cinema', u'Noe Valley Bakery', u'Mission Beach Cafe', u'Revolution Cafe', u'Lolinda', u'El Techo', u'Lol\\xf3 Cevicheria', u'Beretta', u'Contigo', u'Babu Ji', u'Arizmendi Bakery Panaderia & Pizzeria', u'Papalote Mexican Grill', u'Lim\\xf3n Peruvian Rotisserie', u'Californios', u'Burma Love', u\"Chloe's Caf\\xe9\", u'Rosamunde Sausage Grill', u'Taqueria El Farolito', u'Stable Cafe', u\"Schmidt's\", u'Walzwerk', u'Heirloom Caf\\xe9', u'Ijji sushi', u'La Taqueria', u'Red Cafe', u'The Little Chihuahua', u\"Al's Place\", u'Ragazza', u'Wise Sons Jewish Delicatessen', u'flour + water', u'Revelry', u'Old Jerusalem Restaurant', u'El Gallo Giro (Taco Truck)', u'Rintaro', u'Salumeria', u'Central Kitchen', u'Bacon Bacon', u'Zuni Cafe', u'Nopalito']\n",
      "--- 21.6098270416 seconds ---\n",
      "[u'https://foursquare.com/v/chow/3fd66200f964a52025f11ee3/menu', u'https://foursquare.com/v/teds-market--deli/4b54df8ff964a520c7d027e3/menu', u'https://foursquare.com/v/swan-oyster-depot/44d1ef97f964a52031361fe3/menu', u'https://foursquare.com/v/thorough-bread-and-pastry/49f13784f964a5209f691fe3/menu', u'https://foursquare.com/v/lardoise/49d30c0ff964a520e85b1fe3/menu', u'https://foursquare.com/v/bobs-donut--pastry-shop/44cf44a2f964a52020361fe3/menu', u'http://mensho.tokyo', u'https://foursquare.com/v/bite/4a949740f964a520132220e3/menu', u'https://foursquare.com/v/house-of-prime-rib/42e03700f964a52065261fe3/menu', u'https://foursquare.com/v/flour--co/50a9c2edebcac7b7e6fde8f7/menu', u'http://liholihoyachtclub.com/menu/dinner', u'http://www.flyingfalafel.com/#menu', u'https://foursquare.com/v/little-star-pizza/4537f9daf964a520c73b1fe3/menu', u'https://foursquare.com/v/pearls-deluxe-burgers/49c6844cf964a52054571fe3/menu', u'https://foursquare.com/v/catheads-bbq/4f04b8028b81d71b4cc4685f/menu', u'https://foursquare.com/v/vive-la-tarte/55554f0a498e7ffc6883325c/menu', u'https://foursquare.com/v/dinosaurs/4c393e38dfb0e21e2a3ab0a8/menu', u'https://foursquare.com/v/the-cake-gallery/4c95253c58d4b60cde9d2f29/menu', u'https://foursquare.com/v/magnolia-gastropub--brewery/3fd66200f964a52066ed1ee3/menu', u'https://foursquare.com/v/sushi-time/43d569acf964a520442e1fe3/menu', u'https://foursquare.com/v/t%C3%BA-lan-restaurant/41799f00f964a520c11d1fe3/menu', u'https://foursquare.com/v/restaurant-eiji/45e98072f964a5207e431fe3/menu', u'https://foursquare.com/v/garibaldis/4a712f71f964a5202cd91fe3/menu', u'https://foursquare.com/v/starbelly/4a789bbbf964a52004e61fe3/menu', u'https://foursquare.com/v/walzwerk/43470c00f964a52080281fe3/menu', u'https://foursquare.com/v/monks-kettle/47d7ba05f964a520234e1fe3/menu', u'http://sanfrancisco.menupages.com/restaurants/izakaya-rintaro/menu', u'https://foursquare.com/v/super-duper-burger/4bc38e68abf49521beedc393/menu', u'http://www.craftsman-wolves.com/caw-pacific/', u'https://foursquare.com/v/truly-mediterranean/43da737ff964a5207d2e1fe3/menu', u'https://foursquare.com/v/ryokos-japanese-restaurant--bar/433c8000f964a52043281fe3/menu', u'https://foursquare.com/v/pancho-villa-taqueria/43917d6df964a5205c2b1fe3/menu', u'https://foursquare.com/v/limon-rotisserie/4adc91adf964a520572d21e3/menu', u'https://foursquare.com/v/locanda/4db22d538154f5a745d9c093/menu', u'https://foursquare.com/v/frances/4b00cb8ef964a520274122e3/menu', u'https://foursquare.com/v/split-pea-seduction/49f20fb9f964a520da691fe3/menu', u'https://foursquare.com/v/gamine/4a306c39f964a52067991fe3/menu', u'https://foursquare.com/v/keiko-%C3%A0-nob-hill/4ebacbf2108192bf75c5b0ba/menu', u'https://foursquare.com/v/roam-artisan-burgers/4c2176b99390c9b61127c9cd/menu', u'https://foursquare.com/v/roses-cafe/44f03c85f964a520f2371fe3/menu', u'https://foursquare.com/v/ak-subs/45206915f964a520b73a1fe3/menu', u'https://foursquare.com/v/big-4-restaurant/44f72e06f964a5204b381fe3/menu', u'https://foursquare.com/v/deli-board/4bb2595c42959c7430b7202c/menu', u'https://foursquare.com/v/bacon-bacon/4ef3795c0e61358da48ddef4/menu'] [u'Chow', u\"Ted's Market & Deli\", u'Swan Oyster Depot', u'Thorough Bread and Pastry', u\"L'Ardoise\", u\"Bob's Donut & Pastry Shop\", u'Mensho Tokyo', u'Bite', u'House of Prime Rib', u'Flour & Co', u'Liholiho Yacht Club', u'The Flying Falafel', u'Little Star Pizza', u\"Pearl's Deluxe Burgers\", u\"CatHead's BBQ\", u'Vive La Tarte', u'Dinosaurs', u'The Cake Gallery', u'Magnolia Gastropub & Brewery', u'Sushi Time', u'T\\xfa Lan Restaurant', u'Restaurant Eiji', u\"Garibaldi's\", u'Starbelly', u'Walzwerk', u'Monk\\u2019s Kettle', u'Rintaro', u'Super Duper Burger', u'Craftsman and Wolves', u'Truly Mediterranean', u\"Ryoko's Japanese Restaurant & Bar\", u'Pancho Villa Taqueria', u'Limon Rotisserie', u'Locanda', u'Frances', u'Split Pea Seduction', u'Gamine', u'Keiko \\xe0 Nob Hill', u'Roam Artisan Burgers', u\"Rose's Cafe\", u'AK Subs', u'Big 4 Restaurant', u'Deli Board', u'Bacon Bacon']\n",
      "--- 22.6190788746 seconds ---\n",
      "[u'https://foursquare.com/v/blue-barn-gourmet/4a0b8ce1f964a52000751fe3/menu', u'https://foursquare.com/v/luccas-delicatessen/4a620c4df964a520e7c21fe3/menu', u'https://foursquare.com/v/delarosa/4b0d8fe5f964a5201e4b23e3/menu', u'https://foursquare.com/v/keiko-%C3%A0-nob-hill/4ebacbf2108192bf75c5b0ba/menu', u'https://foursquare.com/v/pl%C3%A4j/4fe942b1e4b0f69d225327ad/menu', u'http://mensho.tokyo', u'https://foursquare.com/v/pearls-deluxe-burgers/49c6844cf964a52054571fe3/menu', u'https://foursquare.com/v/tacolicious/4b4bf0e8f964a520bdab26e3/menu', u'https://foursquare.com/v/marina-deli--liquors/49dcfaddf964a520d35f1fe3/menu', u'https://foursquare.com/v/jardini%C3%A8re/49d3e017f964a5201e5c1fe3/menu', u'https://foursquare.com/v/mamacita/437bc800f964a520792a1fe3/menu', u'https://foursquare.com/v/garibaldis/4a712f71f964a5202cd91fe3/menu', u'https://foursquare.com/v/a16/4587a2b6f964a520c63f1fe3/menu', u'http://www.monsieurbenjamin.com/#about', u'http://www.petitcrenn.com', u'https://foursquare.com/v/big-4-restaurant/44f72e06f964a5204b381fe3/menu', u'https://foursquare.com/v/suppenk%C3%BCche/42c5d900f964a520d5251fe3/menu', u'http://sanfrancisco.menupages.com/restaurants/souvla/menu', u'https://foursquare.com/v/little-star-pizza/433dd180f964a52048281fe3/menu', u'https://foursquare.com/v/absinthe-brasserie--bar/43dc103ef964a520992e1fe3/menu', u'https://foursquare.com/v/chez-maman/50064523e4b0f7aff2050d6a/menu', u'https://foursquare.com/v/domo-sushi/49ce86fff964a520515a1fe3/menu', u'https://foursquare.com/v/ryokos-japanese-restaurant--bar/433c8000f964a52043281fe3/menu', u'https://foursquare.com/v/nojo-ramen-tavern/4d8eabc7d265236af9a71017/menu', u'https://foursquare.com/v/fatted-calf/4c996073db10b60cdde7896d/menu', u'http://themillsf.com/menu/', u'http://4505meats.com/wp-content/uploads/2014/05/4505Meats_takeout_050114.pdf', u'https://foursquare.com/v/matching-half-cafe/4aea176df964a52047b921e3/menu', u'https://foursquare.com/v/bar-crudo/44e37004f964a52042371fe3/menu', u'https://foursquare.com/v/green-chile-kitchen/44fbed60f964a52080381fe3/menu', u'http://www.calarestaurant.com/#menu', u'http://20thcenturycafe.com', u'https://foursquare.com/v/rich-table/500088f7d63e64b62bc19e6e/menu', u'https://foursquare.com/v/nopa/44646408f964a52026331fe3/menu', u'http://revelrybistro.com/#revelry-menu', u'https://foursquare.com/v/greens-restaurant/4a1c397bf964a520257b1fe3/menu', u'https://foursquare.com/v/kin-khao/52e20b3311d241e331b41f31/menu', u'http://www.flyingfalafel.com/#menu', u'https://foursquare.com/v/restaurant-gary-danko/3fd66200f964a52025ee1ee3/menu', u'https://foursquare.com/v/zuni-cafe/435d7580f964a5201a291fe3/menu', u'https://foursquare.com/v/t%C3%BA-lan-restaurant/41799f00f964a520c11d1fe3/menu', u'https://foursquare.com/v/dotties-true-blue-cafe/4a5a3157f964a520ddb91fe3/menu'] [u'Blue Barn Gourmet', u\"Lucca's Delicatessen\", u'Delarosa', u'Keiko \\xe0 Nob Hill', u'PL\\xc4J', u'Mensho Tokyo', u\"Pearl's Deluxe Burgers\", u'Tacolicious', u'Marina Deli & Liquors', u'Jardini\\xe8re', u'Mamacita', u\"Garibaldi's\", u'A16', u'Monsieur Benjamin', u'Petit Crenn', u'Big 4 Restaurant', u'Suppenk\\xfcche', u'Souvla', u'Little Star Pizza', u'Absinthe Brasserie & Bar', u'Chez Maman', u'Domo Sushi', u\"Ryoko's Japanese Restaurant & Bar\", u'Nojo Ramen Tavern', u'Fatted Calf', u'The Mill', u'4505 Burgers & BBQ', u'Matching Half Cafe', u'Bar Crudo', u'Green Chile Kitchen', u'Cala', u'20th Century Cafe', u'Rich Table', u'Nopa', u'Revelry', u'Greens Restaurant', u'Kin Khao', u'The Flying Falafel', u'Restaurant Gary Danko', u'Zuni Cafe', u'T\\xfa Lan Restaurant', u\"Dottie's True Blue Cafe\"]\n",
      "--- 23.3332929611 seconds ---\n",
      "[u'https://foursquare.com/v/terzo/4a59485af964a5202cb91fe3/menu', u'https://foursquare.com/v/roses-cafe/44f03c85f964a520f2371fe3/menu', u'https://foursquare.com/v/amarena/49f75320f964a520826c1fe3/menu', u'https://foursquare.com/v/the-boys-deli/4bfb357d65fbc9b6f62f916c/menu', u'https://foursquare.com/v/za-pizza/42b21280f964a5206c251fe3/menu', u'http://sanfrancisco.menupages.com/restaurants/elephant-sushi/menu', u'https://foursquare.com/v/frascati/4a0f8354f964a52070761fe3/menu', u'https://foursquare.com/v/stones-throw/525ded0c11d25a209c704b01/menu', u'http://www.lordstanleysf.com/menu', u'http://piermarket.com/menu/', u'https://foursquare.com/v/crab-house/4aab2426f964a5201d5920e3/menu', u'https://foursquare.com/v/fog-harbor-fish-house/4bb78e967421a59307a6c040/menu', u'https://foursquare.com/v/harris-restaurant/3fd66200f964a5202cee1ee3/menu', u'http://www.craftsman-wolves.com/caw-pacific/', u'https://foursquare.com/v/freddies-sandwiches/49d323f2f964a520f05b1fe3/menu', u'https://foursquare.com/v/petite-deli/4abe5941f964a520e28c20e3/menu', u'https://foursquare.com/v/ristorante-milano/42b21280f964a5206f251fe3/menu', u'https://foursquare.com/v/the-bell-tower/42accc80f964a52040251fe3/menu', u'https://foursquare.com/v/seven-hills/4ce72844678aa09348b8e0ea/menu', u'https://foursquare.com/v/house-of-prime-rib/42e03700f964a52065261fe3/menu', u'https://foursquare.com/v/jackson-fillmore/3fd66200f964a520a3eb1ee3/menu', u'https://foursquare.com/v/cocotte/5078e44ee4b0da2384e74824/menu', u'https://foursquare.com/v/1760/5112d5d5183f854c00e9cbce/menu', u'https://foursquare.com/v/mamas-on-washington-square/3fd66200f964a520a9ec1ee3/menu', u'https://foursquare.com/v/millers-east-coast-delicatessen/46865b76f964a5203e481fe3/menu', u'https://foursquare.com/v/marios-bohemian-cigar-store-cafe/49f264f8f964a520286a1fe3/menu', u'https://foursquare.com/v/park-tavern/4e54752db61c93816c09a9d5/menu', u'https://foursquare.com/v/il-pollaio/4bc7787c15a7ef3ba77779da/menu', u'https://foursquare.com/v/original-joes/4f16eb51c2eea9e9912b089a/menu', u'https://foursquare.com/v/co-nam/505a8cfde4b08096cab53875/menu', u'https://foursquare.com/v/tonys-pizza-napoletana/4a469839f964a52029a91fe3/menu', u'https://foursquare.com/v/tacolicious/51ce3b8f498e9a2d61bcb7ca/menu', u'https://foursquare.com/v/bobs-donut--pastry-shop/44cf44a2f964a52020361fe3/menu', u'https://foursquare.com/v/acquerello/3fd66200f964a52013ed1ee3/menu', u'https://foursquare.com/v/don-pistos/4b2956f6f964a5202e9d24e3/menu', u'https://foursquare.com/v/lai-hong-lounge-%E8%8D%94%E9%A6%99%E5%B0%8F%E9%A4%A8/50412c01e4b09c6ce4491149/menu', u'https://foursquare.com/v/firenze-by-night-ristorante/4ab1c8baf964a520906a20e3/menu', u'https://foursquare.com/v/sotto-mare-oysteria-and-seafood-restaurant/4aebaaccf964a52042c421e3/menu', u'https://foursquare.com/v/hillstone/41044980f964a520700b1fe3/menu', u'http://www.ruthschris.com/menu/dinner/', u'https://foursquare.com/v/golden-boy-pizza/42814b00f964a520ef211fe3/menu'] [u'Terzo', u\"Rose's Cafe\", u'Amarena', u\"The Boy's Deli\", u'Za Pizza', u'Elephant Sushi', u'Frascati', u'Stones Throw', u'Lord Stanley', u'Pier Market Seafood Restaurant', u'Crab House', u'Fog Harbor Fish House', u\"Harris' Restaurant\", u'Craftsman and Wolves', u\"Freddie's Sandwiches\", u'Petite Deli', u'Ristorante Milano', u'The Bell Tower', u'Seven Hills', u'House of Prime Rib', u'Jackson Fillmore', u'Cocotte', u'1760', u\"Mama's on Washington Square\", u\"Miller's East Coast Delicatessen\", u\"Mario's Bohemian Cigar Store Cafe\", u'Park Tavern', u'Il Pollaio', u\"Original Joe's\", u'Co Nam', u'Tony\\u2019s Pizza Napoletana', u'Tacolicious', u\"Bob's Donut & Pastry Shop\", u'Acquerello', u\"Don Pisto's\", u'Lai Hong Lounge \\u8354\\u9999\\u5c0f\\u9928', u'Firenze by Night Ristorante', u'Sotto Mare Oysteria and Seafood Restaurant', u'Hillstone', u\"Ruth's Chris Steak House\", u'Golden Boy Pizza']\n",
      "--- 24.0525369644 seconds ---\n",
      "[] []\n",
      "--- 24.2800679207 seconds ---\n",
      "[u'https://foursquare.com/v/destination-baking-company/4b9d47e2f964a520c39f36e3/menu', u'https://foursquare.com/v/spicy-bite-indian-cuisine/4a6e3db2f964a52048d41fe3/menu', u'https://foursquare.com/v/zante-pizza-and-indian-cuisine/4478eeeef964a520d2331fe3/menu', u'https://foursquare.com/v/the-old-clam-house/4b22b38df964a520134c24e3/menu', u'https://foursquare.com/v/vikings-giant-submarines/4b6cc9aff964a52070542ce3/menu', u'https://foursquare.com/v/bayshore-taqueria/5455491a498ed7a6b8ba2117/menu', u'https://foursquare.com/v/angkor-borei/3fd66200f964a520c1ec1ee3/menu', u'https://foursquare.com/v/la-corneta/45052b29f964a520e5381fe3/menu', u'https://foursquare.com/v/little-joes-pizza/4b63b31cf964a520d28c2ae3/menu', u'https://foursquare.com/v/gialina-pizzeria/4a415045f964a52015a51fe3/menu', u'https://foursquare.com/v/tataki-canyon/4ee2d7440e011d5244a1a2b1/menu', u'https://foursquare.com/v/le-ptit-laurent/4a414f7af964a52013a51fe3/menu', u'https://foursquare.com/v/manzoni/4ef010c00e01e1fde2099099/menu', u'https://foursquare.com/v/oye-managua/4b46ad6bf964a520b02626e3/menu', u'https://foursquare.com/v/taqueria-la-iguana-azul/4bcff5c641b9ef3bae61f9e5/menu', u'https://foursquare.com/v/bravos-pizza/4b064e19f964a52094ea22e3/menu', u'http://allgoodpizza.com/menu/', u'https://foursquare.com/v/batter-up/4d8e960d5091a1cdea139401/menu', u'https://foursquare.com/v/goood-frikin-chicken/43b29cc3f964a520a52c1fe3/menu', u'http://sanfrancisco.menupages.com/restaurants/pizzahacker/menu', u'https://foursquare.com/v/el-pollo-supremo/4a91b32ef964a5206c1b20e3/menu', u'https://foursquare.com/v/the-front-porch/4695204ef964a520dd481fe3/menu', u'https://foursquare.com/v/la-ciccia/49bed272f964a520e3541fe3/menu', u'https://foursquare.com/v/la-nebbia/52aa6567498e3872b15c4aa5/menu', u'https://foursquare.com/v/pomelo/42210d80f964a520a91f1fe3/menu', u'https://foursquare.com/v/pad-thai/40870b00f964a520a7f21ee3/menu', u'https://foursquare.com/v/emmys-spaghetti-shack/42accc80f964a52039251fe3/menu', u'http://www.listingextensions.com/f43115baa3/3457691113/menu', u'https://foursquare.com/v/toast-eatery/454f45eef964a520d43c1fe3/menu', u'https://foursquare.com/v/taqueria-cancun/4ed70cf1f7905836bfa69df2/menu', u'https://foursquare.com/v/los-panchos/4a6ab0a4f964a520d9cd1fe3/menu', u'https://foursquare.com/v/old-bus-tavern/55a33e80498ebb1b4a0d45df/menu', u'https://foursquare.com/v/hillside-supper-club/4f600b86e4b039028ef5049b/menu'] [u'Destination Baking Company', u'Spicy Bite Indian Cuisine', u'Zante Pizza and Indian Cuisine', u'The Old Clam House', u\"Viking's Giant Submarines\", u'Bayshore Taqueria', u'Angkor Borei', u'La Corneta', u\"Little Joe's Pizza\", u'Gialina Pizzeria', u'Tataki Canyon', u\"Le P'tit Laurent\", u'Manzoni', u'oye! managua', u'Taqueria La Iguana Azul', u\"Bravo's Pizza\", u'All Good Pizza', u'Batter Up', u\"Goood Frikin' Chicken\", u'PizzaHacker', u'El Pollo Supremo', u'The Front Porch', u'La Ciccia', u'La Nebbia', u'Pomelo', u'Pad Thai', u\"Emmy's Spaghetti Shack\", u'Blue Plate', u'Toast Eatery', u'Taqueria Cancun', u'Los Panchos', u'Old Bus Tavern', u'Hillside Supper Club']\n",
      "--- 24.9939930439 seconds ---\n",
      "[u'https://foursquare.com/v/regent-thai/49cde3dcf964a520175a1fe3/menu', u'https://foursquare.com/v/taqueria-el-farolito/44ff5a91f964a520a5381fe3/menu', u'https://foursquare.com/v/el-gallo-giro-taco-truck/4a2af3b9f964a52073961fe3/menu', u'https://foursquare.com/v/papalote-mexican-grill/43b439b6f964a520bc2c1fe3/menu', u'https://foursquare.com/v/arizmendi-bakery-panaderia--pizzeria/4ca4d6a3d7c33704acd2ac62/menu', u'https://foursquare.com/v/fiore-caff%C3%A8/4dbf426781545e1cc7ca93ae/menu', u'https://foursquare.com/v/el-metate/48484314f964a52074501fe3/menu', u'https://foursquare.com/v/velvet-cantina/43c148e5f964a5203f2d1fe3/menu', u'https://foursquare.com/v/chloes-caf%C3%A9/454f85bff964a520de3c1fe3/menu', u'http://allgoodpizza.com/menu/', u'https://foursquare.com/v/radio-africa--kitchen/4f56b36a6b7406c0ea010e9b/menu', u'https://foursquare.com/v/beretta/49a2545cf964a52094521fe3/menu', u'http://www.californiossf.com/cuisine.html', u'https://foursquare.com/v/sugoi-sushi/502c6c2ce4b04515095be460/menu', u'https://foursquare.com/v/deccan-spice/5775ec91498e65da230f0a57/menu', u'https://foursquare.com/v/lol%C3%B3-cevicheria/49dcd054f964a520a45f1fe3/menu', u'https://foursquare.com/v/revolution-cafe/4a75206cf964a5209de01fe3/menu', u'https://foursquare.com/v/lucca-ravioli-company/49e79a69f964a520d7641fe3/menu', u'https://foursquare.com/v/queens-louisiana-poboy-cafe/4af730aff964a520fa0622e3/menu', u'https://foursquare.com/v/heirloom-caf%C3%A9/4be39634b02ec9b68f0f50c0/menu', u'https://foursquare.com/v/lim%C3%B3n-peruvian-rotisserie/42d1b680f964a52007261fe3/menu', u'http://hamletsf.com', u'https://foursquare.com/v/foreign-cinema/3fd66200f964a520a0ec1ee3/menu', u'https://foursquare.com/v/lolinda/50243fd229a61e4b21a26e16/menu', u'https://foursquare.com/v/el-techo/51896b72498e1bcc776ddaa8/menu', u'https://foursquare.com/v/kiji-sushi-bar--cuisine/43c99cdef964a520a02d1fe3/menu', u'https://foursquare.com/v/destination-baking-company/4b9d47e2f964a520c39f36e3/menu', u'https://foursquare.com/v/aslams-rasoi/44e799b6f964a52094371fe3/menu', u'https://foursquare.com/v/saru-sushi-bar/4f2a012ce4b0a7b3771950bb/menu', u'https://foursquare.com/v/udupi-palace/49dad092f964a520b25e1fe3/menu', u'https://foursquare.com/v/atlas-cafe/4085b980f964a5208bf21ee3/menu', u'https://foursquare.com/v/dosa/439b6598f964a520e12b1fe3/menu', u'https://foursquare.com/v/flour--water/4a8b6942f964a520660c20e3/menu', u'https://foursquare.com/v/salumeria/4fc541fb7716c8a1e24eec6c/menu', u'https://foursquare.com/v/schmidts/4a01fe11f964a5201e711fe3/menu', u'https://foursquare.com/v/central-kitchen/4faaba890cd6e74f6f96bab1/menu', u'https://foursquare.com/v/tataki-canyon/4ee2d7440e011d5244a1a2b1/menu', u'http://www.lolosf.com/menu/', u'https://foursquare.com/v/blowfish-sushi-to-die-for/40e0b100f964a520e1091fe3/menu', u'https://foursquare.com/v/manzoni/4ef010c00e01e1fde2099099/menu'] [u'Regent Thai', u'Taqueria El Farolito', u'El Gallo Giro (Taco Truck)', u'Papalote Mexican Grill', u'Arizmendi Bakery Panaderia & Pizzeria', u'Fiore Caff\\xe8', u'El Metate', u'Velvet Cantina', u\"Chloe's Caf\\xe9\", u'All Good Pizza', u'Radio Africa & Kitchen', u'Beretta', u'Californios', u'Sugoi Sushi', u'Deccan Spice', u'Lol\\xf3 Cevicheria', u'Revolution Cafe', u'Lucca Ravioli Company', u\"Queen's Louisiana Po-Boy Cafe\", u'Heirloom Caf\\xe9', u'Lim\\xf3n Peruvian Rotisserie', u'Hamlet', u'Foreign Cinema', u'Lolinda', u'El Techo', u'Kiji Sushi Bar & Cuisine', u'Destination Baking Company', u\"Aslam's Rasoi\", u'Saru Sushi Bar', u'Udupi Palace', u'Atlas Cafe', u'Dosa', u'flour + water', u'Salumeria', u\"Schmidt's\", u'Central Kitchen', u'Tataki Canyon', u'Lol\\xf3', u'Blowfish Sushi to Die For', u'Manzoni']\n",
      "--- 25.8806960583 seconds ---\n",
      "[u'https://foursquare.com/v/taqueria-el-farolito/44ff5a91f964a520a5381fe3/menu', u'https://foursquare.com/v/pancho-villa-taqueria/43917d6df964a5205c2b1fe3/menu', u'https://foursquare.com/v/locanda/4db22d538154f5a745d9c093/menu', u'https://foursquare.com/v/papito/4da89a38fa8c4175d0be1e75/menu', u'https://foursquare.com/v/puerto-alegre/3fd66200f964a52059ed1ee3/menu', u'https://foursquare.com/v/limon-rotisserie/4adc91adf964a520572d21e3/menu', u'https://foursquare.com/v/panchitas-pupuseria-restaurant-2/49ba1cbdf964a5205d531fe3/menu', u'https://foursquare.com/v/beretta/49a2545cf964a52094521fe3/menu', u'https://foursquare.com/v/truly-mediterranean/43da737ff964a5207d2e1fe3/menu', u'https://foursquare.com/v/chez-maman-east/44fc6d0bf964a52085381fe3/menu', u'https://foursquare.com/v/giordano-bros/4e4da9e6d22daf51d25dcf8d/menu', u'https://foursquare.com/v/catheads-bbq/4f04b8028b81d71b4cc4685f/menu', u'https://foursquare.com/v/picaro-cafe/41e46880f964a520e01e1fe3/menu', u'https://foursquare.com/v/tartine-bakery/42814b00f964a52002221fe3/menu', u'https://foursquare.com/v/la-taqueria/455877bff964a520453d1fe3/menu', u'https://foursquare.com/v/monks-kettle/47d7ba05f964a520234e1fe3/menu', u'https://foursquare.com/v/arizmendi-bakery-panaderia--pizzeria/4ca4d6a3d7c33704acd2ac62/menu', u'https://foursquare.com/v/pizzeria-delfina/44088735f964a52058301fe3/menu', u'https://foursquare.com/v/red-cafe/4a2b6e95f964a520cf961fe3/menu', u'https://foursquare.com/v/delfina/4af303e1f964a520cee921e3/menu', u'https://foursquare.com/v/little-star-pizza/4537f9daf964a520c73b1fe3/menu', u'https://foursquare.com/v/papalote-mexican-grill/43b439b6f964a520bc2c1fe3/menu', u'https://foursquare.com/v/plow/4c966048f244b1f7b0e6331d/menu', u'https://foursquare.com/v/pakwan/49fd1ce0f964a5200b6f1fe3/menu', u'https://foursquare.com/v/bellota/573e8ba3cd102b8b7351f55a/menu', u'https://foursquare.com/v/old-jerusalem-restaurant/4a721f10f964a52069da1fe3/menu', u'https://foursquare.com/v/namu-gaji/4f359f3b7beb8cc43414ab62/menu', u'https://foursquare.com/v/mozzeria/4ea36cb79a527d65177eadd9/menu', u'http://babujisf.com/menu/', u'https://foursquare.com/v/burma-love/54976d5c498eccc96c62bc55/menu', u'https://foursquare.com/v/una-pizza-napoletana/4c8a74b755f9b713e4294add/menu', u'http://static1.squarespace.com/static/549327b8e4b0d5186e3478c2/t/5652766de4b0328b44d06679/1448244845209/dinner+menu+11.21.15+for+online.pdf', u'https://foursquare.com/v/teds-market--deli/4b54df8ff964a520c7d027e3/menu', u'https://foursquare.com/v/mission-beach-cafe/49d3e0f0f964a520205c1fe3/menu', u'https://foursquare.com/v/the-cake-gallery/4c95253c58d4b60cde9d2f29/menu', u'https://foursquare.com/v/ak-subs/45206915f964a520b73a1fe3/menu', u'https://foursquare.com/v/basil-thai-restaurant--bar/435c2400f964a5200e291fe3/menu', u'http://www.ainasf.com', u'http://pacifica.dinosaursrestaurant.com/menu/', u'https://foursquare.com/v/piccino-cafe/4a6f9b3af964a52097d61fe3/menu', u'http://hamletsf.com', u'https://foursquare.com/v/old-bus-tavern/55a33e80498ebb1b4a0d45df/menu', u'https://foursquare.com/v/zuni-cafe/435d7580f964a5201a291fe3/menu', u'https://foursquare.com/v/marcellas-lasagneria--cucina/4f8b1e6bbe77b15e3ac57be0/menu'] [u'Taqueria El Farolito', u'Pancho Villa Taqueria', u'Locanda', u'Papito', u'Puerto Alegre', u'Limon Rotisserie', u\"Panchita's Pupuseria Restaurant #2\", u'Beretta', u'Truly Mediterranean', u'Chez Maman East', u'Giordano Bros.', u\"CatHead's BBQ\", u'Picaro Cafe', u'Tartine Bakery', u'La Taqueria', u'Monk\\u2019s Kettle', u'Arizmendi Bakery Panaderia & Pizzeria', u'Pizzeria Delfina', u'Red Cafe', u'Delfina', u'Little Star Pizza', u'Papalote Mexican Grill', u'Plow', u'Pakwan', u'Bellota', u'Old Jerusalem Restaurant', u'Namu Gaji', u'Mozzeria', u'Babu Ji', u'Burma Love', u'Una Pizza Napoletana', u\"Al's Place\", u\"Ted's Market & Deli\", u'Mission Beach Cafe', u'The Cake Gallery', u'AK Subs', u'Basil Thai Restaurant & Bar', u\"'\\u0101ina\", u'Dinosaurs', u'Piccino Cafe', u'Hamlet', u'Old Bus Tavern', u'Zuni Cafe', u\"Marcella's Lasagneria & Cucina\"]\n",
      "--- 26.7666480541 seconds ---\n",
      "[u'https://foursquare.com/v/big-4-restaurant/44f72e06f964a5204b381fe3/menu', u'https://foursquare.com/v/anchor--hope/49d111f5f964a520575b1fe3/menu', u'http://sanfrancisco.menupages.com/restaurants/izakaya-rintaro/menu', u'https://foursquare.com/v/muraccis-japanese-curry--grill/49ba1813f964a52059531fe3/menu', u'https://foursquare.com/v/flour--co/50a9c2edebcac7b7e6fde8f7/menu', u'http://www.sababasf.com/#!menu/szs2r', u'http://sanfrancisco.menupages.com/restaurants/souvla/menu', u'http://superduperburgers.com/#two', u'https://foursquare.com/v/little-skillet/4a0c561df964a52022751fe3/menu', u'https://foursquare.com/v/la-fusion/4e555696d4c0c50afda6168f/menu', u'https://foursquare.com/v/keiko-%C3%A0-nob-hill/4ebacbf2108192bf75c5b0ba/menu', u'https://foursquare.com/v/suppenk%C3%BCche/42c5d900f964a520d5251fe3/menu', u'https://foursquare.com/v/domo-sushi/49ce86fff964a520515a1fe3/menu', u'http://www.petitcrenn.com', u'https://foursquare.com/v/se%C3%B1or-sisig/4c65ee1e7abde21e01516268/menu', u'https://foursquare.com/v/swan-oyster-depot/44d1ef97f964a52031361fe3/menu', u'http://revelrybistro.com/#revelry-menu', u'https://foursquare.com/v/walzwerk/43470c00f964a52080281fe3/menu', u'https://foursquare.com/v/burma-love/54976d5c498eccc96c62bc55/menu', u'http://www.ruthschris.com/menu/dinner/', u'https://foursquare.com/v/rg-lounge/49efa893f964a520e5681fe3/menu', u'https://foursquare.com/v/bobs-donut--pastry-shop/44cf44a2f964a52020361fe3/menu', u'https://foursquare.com/v/golden-star-vietnamese-restaurant/4a8b2acff964a520a00b20e3/menu', u'http://www.octavia-sf.com/dinner/', u'https://foursquare.com/v/two-sons-sandwiches/50787024e4b0e94246b955aa/menu', u'https://foursquare.com/v/tadich-grill/49f67c43f964a520486c1fe3/menu', u'https://foursquare.com/v/perbacco/459b7818f964a52089401fe3/menu', u'https://foursquare.com/v/live-sushi-bar/4a445686f964a52077a71fe3/menu', u'https://foursquare.com/v/z--y-restaurant/4bf20c757077952137a63e7c/menu', u'https://www.eatsa.com/menu', u'http://sanfrancisco.menupages.com/restaurants/kusakabe/menu', u'https://foursquare.com/v/mission-beach-cafe/49d3e0f0f964a520205c1fe3/menu', u'https://foursquare.com/v/little-star-pizza/4537f9daf964a520c73b1fe3/menu', u'https://foursquare.com/v/house-of-prime-rib/42e03700f964a52065261fe3/menu', u'https://foursquare.com/v/benkyodo/4a22141ff964a5205c7d1fe3/menu', u'https://foursquare.com/v/roka-akor/50be8ac5f31c223ae77cdeb7/menu', u'https://foursquare.com/v/stable-cafe/49b1a93df964a520d9521fe3/menu', u'https://foursquare.com/v/pancho-villa-taqueria/43917d6df964a5205c2b1fe3/menu', u'https://foursquare.com/v/bix/3fd66200f964a5205af11ee3/menu', u'https://foursquare.com/v/truly-mediterranean/43da737ff964a5207d2e1fe3/menu', u'https://foursquare.com/v/tosca-cafe/3fd66200f964a52042ed1ee3/menu', u'https://www.eatsa.com/menu', u'http://www.craftsman-wolves.com/caw-pacific/', u'https://foursquare.com/v/cotogna/4cd0a38e5b5ca35de6317df0/menu'] [u'Big 4 Restaurant', u'Anchor & Hope', u'Rintaro', u\"Muracci's Japanese Curry & Grill\", u'Flour & Co', u'Sababa', u'Souvla', u'Super Duper Burger', u'Little Skillet', u'La Fusion', u'Keiko \\xe0 Nob Hill', u'Suppenk\\xfcche', u'Domo Sushi', u'Petit Crenn', u'Se\\xf1or Sisig', u'Swan Oyster Depot', u'Revelry', u'Walzwerk', u'Burma Love', u\"Ruth's Chris Steak House\", u'R&G Lounge', u\"Bob's Donut & Pastry Shop\", u'Golden Star Vietnamese Restaurant', u'Octavia', u'Two Sons Sandwiches', u'Tadich Grill', u'Perbacco', u'Live Sushi Bar', u'Z & Y Restaurant', u'eatsa', u'Kusakabe', u'Mission Beach Cafe', u'Little Star Pizza', u'House of Prime Rib', u'Benkyodo', u'Roka Akor', u'Stable Cafe', u'Pancho Villa Taqueria', u'Bix', u'Truly Mediterranean', u'Tosca Cafe', u'eatsa', u'Craftsman and Wolves', u'Cotogna']\n",
      "--- 27.8348360062 seconds ---\n",
      "[u'https://foursquare.com/v/tadich-grill/49f67c43f964a520486c1fe3/menu', u'https://foursquare.com/v/quince/4a3dd25bf964a520b1a21fe3/menu', u'https://foursquare.com/v/saigon-sandwich/43eb7d31f964a520392f1fe3/menu', u'https://foursquare.com/v/perbacco/459b7818f964a52089401fe3/menu', u'http://chubbynoodle.com/menu-3-1/', u'https://foursquare.com/v/split-pea-seduction/49f20fb9f964a520da691fe3/menu', u'http://www.ruthschris.com/menu/dinner/', u'https://foursquare.com/v/golden-boy-pizza/42814b00f964a520ef211fe3/menu', u'https://foursquare.com/v/sotto-mare-oysteria-and-seafood-restaurant/4aebaaccf964a52042c421e3/menu', u'https://foursquare.com/v/tin-vietnamese/4af09c87f964a520a1dd21e3/menu', u'https://foursquare.com/v/brendas-french-soul-food/49f356f8f964a5208a6a1fe3/menu', u'https://foursquare.com/v/tonys-pizza-napoletana/4a469839f964a52029a91fe3/menu', u'https://foursquare.com/v/marios-bohemian-cigar-store-cafe/49f264f8f964a520286a1fe3/menu', u'https://www.eatsa.com/menu', u'https://foursquare.com/v/zero-zero/4c44d4b9dcd61b8df9e67b56/menu', u'https://foursquare.com/v/stones-throw/525ded0c11d25a209c704b01/menu', u'https://foursquare.com/v/kokkari-estiatorio/4570691ff964a5205c3e1fe3/menu', u'https://foursquare.com/v/house-of-prime-rib/42e03700f964a52065261fe3/menu', u'http://www.craftsman-wolves.com/caw-pacific/', u'https://foursquare.com/v/za-pizza/42b21280f964a5206c251fe3/menu', u'https://foursquare.com/v/park-tavern/4e54752db61c93816c09a9d5/menu', u'https://foursquare.com/v/oasis-grill/4a6f5d0ef964a520fdd51fe3/menu', u'http://bluebarngourmet.com/menus/', u'https://foursquare.com/v/deli-board/4bb2595c42959c7430b7202c/menu', u'https://foursquare.com/v/vive-la-tarte/55554f0a498e7ffc6883325c/menu', u'https://www.eatsa.com/menu', u'https://foursquare.com/v/yank-sing/4479910ef964a520d8331fe3/menu', u'http://www.octavia-sf.com/dinner/', u'https://foursquare.com/v/coqueta/5140f0cae4b0161c893167e7/menu', u'https://foursquare.com/v/la-mar/4a625b58f964a520d6c31fe3/menu', u'https://foursquare.com/v/garaje/511ab11fe4b078c672896eab/menu', u'https://foursquare.com/v/boulevard/3fd66200f964a52052ed1ee3/menu', u'https://foursquare.com/v/roli-roti-gourmet-rotisserie/4a8462a9f964a5206bfc1fe3/menu', u'https://foursquare.com/v/boccalone-salumeria/4a736f6ff964a5206edc1fe3/menu', u'https://foursquare.com/v/slanted-door/3fd66200f964a52018ed1ee3/menu', u'https://foursquare.com/v/hog-island-oyster-co/43fed1fff964a520fe2f1fe3/menu', u'https://foursquare.com/v/acme-bread-company/4a9190adf964a520b61a20e3/menu', u'https://foursquare.com/v/ozumo/4aebd409f964a520e9c421e3/menu', u'https://foursquare.com/v/darwin-cafe/4c4e30871b8e1b8dd9d3c426/menu', u'http://www.hrdcoffeeshop.com/menu', u'https://foursquare.com/v/pl%C3%A4j/4fe942b1e4b0f69d225327ad/menu', u'https://foursquare.com/v/primavera/4bae4f93f964a5200fa13be3/menu', u'https://foursquare.com/v/jardini%C3%A8re/49d3e017f964a5201e5c1fe3/menu'] [u'Tadich Grill', u'Quince', u'Saigon Sandwich', u'Perbacco', u'Chubby Noodle', u'Split Pea Seduction', u\"Ruth's Chris Steak House\", u'Golden Boy Pizza', u'Sotto Mare Oysteria and Seafood Restaurant', u'Tin Vietnamese', u\"Brenda's French Soul Food\", u'Tony\\u2019s Pizza Napoletana', u\"Mario's Bohemian Cigar Store Cafe\", u'eatsa', u'Zero Zero', u'Stones Throw', u'Kokkari Estiatorio', u'House of Prime Rib', u'Craftsman and Wolves', u'Za Pizza', u'Park Tavern', u'Oasis Grill', u'Blue Barn Gourmet', u'Deli Board', u'Vive La Tarte', u'eatsa', u'Yank Sing', u'Octavia', u'Coqueta', u'La Mar', u'Garaje', u'Boulevard', u'Roli Roti Gourmet Rotisserie', u'Boccalone Salumeria', u'Slanted Door', u'Hog Island Oyster Co.', u'Acme Bread Company', u'Ozumo', u'Darwin Cafe', u'HRD Coffee Shop', u'PL\\xc4J', u'Primavera', u'Jardini\\xe8re']\n",
      "--- 28.615267992 seconds ---\n",
      "[u'https://foursquare.com/v/roka-akor/50be8ac5f31c223ae77cdeb7/menu', u'http://trestlesf.com/dinner', u'https://foursquare.com/v/z--y-restaurant/4bf20c757077952137a63e7c/menu', u'https://foursquare.com/v/bix/3fd66200f964a5205af11ee3/menu', u'https://foursquare.com/v/amarena/49f75320f964a520826c1fe3/menu', u'https://foursquare.com/v/leopolds/4d0549672f96f04d94382254/menu', u'https://foursquare.com/v/bocadillos/457eebaff964a520443f1fe3/menu', u'https://foursquare.com/v/boboquivaris/476a5dc2f964a520fa4c1fe3/menu', u'https://foursquare.com/v/la-folie/49e04b9af964a5204f611fe3/menu', u'https://foursquare.com/v/kokkari-estiatorio/4570691ff964a5205c3e1fe3/menu', u'https://foursquare.com/v/cafe-me/49f94018f964a520736d1fe3/menu', u'http://sanfrancisco.menupages.com/restaurants/kusakabe/menu', u'https://foursquare.com/v/coqueta/5140f0cae4b0161c893167e7/menu', u'https://foursquare.com/v/gioia-pizzeria/4f8610dc7beb3d3766ee7124/menu', u'http://bluebarngourmet.com/menus/', u'https://foursquare.com/v/golden-star-vietnamese-restaurant/4a8b2acff964a520a00b20e3/menu', u'https://foursquare.com/v/venticello/4aaaf29ef964a520395820e3/menu', u'https://foursquare.com/v/seven-hills/4ce72844678aa09348b8e0ea/menu', u'https://foursquare.com/v/ristorante-milano/42b21280f964a5206f251fe3/menu', u'https://foursquare.com/v/rg-lounge/49efa893f964a520e5681fe3/menu', u'https://foursquare.com/v/the-plant-cafe-organic/4abbb03ef964a520668420e3/menu', u'https://foursquare.com/v/eastern-bakery/4ac7c020f964a52087b920e3/menu', u'https://foursquare.com/v/city-view-restaurant/4abfdac7f964a5209f9220e3/menu', u'https://foursquare.com/v/la-mar/4a625b58f964a520d6c31fe3/menu', u'https://foursquare.com/v/keiko-%C3%A0-nob-hill/4ebacbf2108192bf75c5b0ba/menu', u'http://www.craftsman-wolves.com/caw-pacific/', u'https://foursquare.com/v/greens-restaurant/4a1c397bf964a520257b1fe3/menu', u'https://foursquare.com/v/harris-restaurant/3fd66200f964a5202cee1ee3/menu', u'https://foursquare.com/v/michael-mina/4cae131abf70236aa86305f9/menu', u'https://foursquare.com/v/big-4-restaurant/44f72e06f964a5204b381fe3/menu', u'https://foursquare.com/v/tadich-grill/49f67c43f964a520486c1fe3/menu', u'https://foursquare.com/v/perbacco/459b7818f964a52089401fe3/menu', u'https://foursquare.com/v/barbacco/4b47a128f964a520203826e3/menu', u'https://foursquare.com/v/oasis-grill/4a6f5d0ef964a520fdd51fe3/menu', u'https://foursquare.com/v/la-fusion/4e555696d4c0c50afda6168f/menu', u'https://foursquare.com/v/slanted-door/3fd66200f964a52018ed1ee3/menu', u'http://superduperburgers.com/#two', u'https://foursquare.com/v/hog-island-oyster-co/43fed1fff964a520fe2f1fe3/menu', u'https://foursquare.com/v/roam-artisan-burgers/4c2176b99390c9b61127c9cd/menu', u'http://www.pabuizakaya.com/sf/menus/dinner', u'https://foursquare.com/v/se%C3%B1or-sisig/4c65ee1e7abde21e01516268/menu', u'https://foursquare.com/v/acme-bread-company/4a9190adf964a520b61a20e3/menu', u'http://www.sababasf.com/#!menu/szs2r'] [u'Roka Akor', u'Trestle', u'Z & Y Restaurant', u'Bix', u'Amarena', u\"Leopold's\", u'Bocadillos', u\"Boboquivari's\", u'La Folie', u'Kokkari Estiatorio', u'Cafe Me', u'Kusakabe', u'Coqueta', u'Gioia Pizzeria', u'Blue Barn Gourmet', u'Golden Star Vietnamese Restaurant', u'Venticello', u'Seven Hills', u'Ristorante Milano', u'R&G Lounge', u'The Plant Cafe Organic', u'Eastern Bakery', u'City View Restaurant', u'La Mar', u'Keiko \\xe0 Nob Hill', u'Craftsman and Wolves', u'Greens Restaurant', u\"Harris' Restaurant\", u'Michael Mina', u'Big 4 Restaurant', u'Tadich Grill', u'Perbacco', u'Barbacco', u'Oasis Grill', u'La Fusion', u'Slanted Door', u'Super Duper Burger', u'Hog Island Oyster Co.', u'Roam Artisan Burgers', u'PABU', u'Se\\xf1or Sisig', u'Acme Bread Company', u'Sababa']\n",
      "--- 29.5911240578 seconds ---\n",
      "[] []\n",
      "--- 29.7850899696 seconds ---\n",
      "[] []\n",
      "--- 30.0273430347 seconds ---\n",
      "[u'https://foursquare.com/v/sun-rise-restaurant/4a43a2faf964a520a0a61fe3/menu', u'https://foursquare.com/v/goood-frikin-chicken/43b29cc3f964a520a52c1fe3/menu', u'https://foursquare.com/v/old-jerusalem-restaurant/4a721f10f964a52069da1fe3/menu', u'http://wisesonsdeli.com/24th-street-deli-menu', u'https://foursquare.com/v/oye-managua/4b46ad6bf964a520b02626e3/menu', u'https://foursquare.com/v/el-metate/48484314f964a52074501fe3/menu', u'https://foursquare.com/v/el-gallo-giro-taco-truck/4a2af3b9f964a52073961fe3/menu', u'https://foursquare.com/v/the-front-porch/4695204ef964a520dd481fe3/menu', u'https://foursquare.com/v/zante-pizza-and-indian-cuisine/4478eeeef964a520d2331fe3/menu', u'https://foursquare.com/v/red-cafe/4a2b6e95f964a520cf961fe3/menu', u'https://foursquare.com/v/angkor-borei/3fd66200f964a520c1ec1ee3/menu', u'https://foursquare.com/v/spicy-bite-indian-cuisine/4a6e3db2f964a52048d41fe3/menu', u'https://foursquare.com/v/la-taqueria/455877bff964a520453d1fe3/menu', u'https://foursquare.com/v/diandas-italian-american-pastry/4b1053b9f964a520de6d23e3/menu', u'http://static1.squarespace.com/static/549327b8e4b0d5186e3478c2/t/5652766de4b0328b44d06679/1448244845209/dinner+menu+11.21.15+for+online.pdf', u'https://foursquare.com/v/pi-bar/4a94231ef964a5207f2020e3/menu', u'https://foursquare.com/v/wild-pepper/4a7b8efaf964a52067eb1fe3/menu', u'https://foursquare.com/v/taqueria-el-farolito/44ff5a91f964a520a5381fe3/menu', u'https://foursquare.com/v/piccino-cafe/4a6f9b3af964a52097d61fe3/menu', u'http://www.ainasf.com', u'https://foursquare.com/v/balompie-cafe-3/4b54ddeff964a52079d027e3/menu', u'https://foursquare.com/v/la-corneta-taqueria/49f2801ef964a520386a1fe3/menu', u'https://foursquare.com/v/noeteca/4ad3cd2bf964a52064e620e3/menu', u'https://foursquare.com/v/hard-knox-cafe/46840627f964a5202d481fe3/menu', u'https://foursquare.com/v/just-for-you/43dc10aef964a5209a2e1fe3/menu', u'http://magnoliasmokestack.com/menus.php', u'https://foursquare.com/v/marcellas-lasagneria--cucina/4f8b1e6bbe77b15e3ac57be0/menu', u'https://foursquare.com/v/serpentine/47629427f964a520e54c1fe3/menu', u'http://www.californiossf.com/cuisine.html', u'https://foursquare.com/v/papalote-mexican-grill/43b439b6f964a520bc2c1fe3/menu'] [u'Sun Rise Restaurant', u\"Goood Frikin' Chicken\", u'Old Jerusalem Restaurant', u'Wise Sons Jewish Delicatessen', u'oye! managua', u'El Metate', u'El Gallo Giro (Taco Truck)', u'The Front Porch', u'Zante Pizza and Indian Cuisine', u'Red Cafe', u'Angkor Borei', u'Spicy Bite Indian Cuisine', u'La Taqueria', u\"Dianda's Italian American Pastry\", u\"Al's Place\", u'Pi Bar', u'Wild Pepper', u'Taqueria El Farolito', u'Piccino Cafe', u\"'\\u0101ina\", u'Balompie Cafe #3', u'La Corneta Taqueria', u'Noeteca', u'Hard Knox Cafe', u'Just For You', u'Smokestack', u\"Marcella's Lasagneria & Cucina\", u'Serpentine', u'Californios', u'Papalote Mexican Grill']\n",
      "--- 30.8191759586 seconds ---\n",
      "[u'https://foursquare.com/v/el-techo/51896b72498e1bcc776ddaa8/menu', u'https://foursquare.com/v/taqueria-canc%C3%BAn/43e879cbf964a5200f2f1fe3/menu', u'https://foursquare.com/v/maruya/525de2a511d238bf4df944d3/menu', u'https://foursquare.com/v/lolinda/50243fd229a61e4b21a26e16/menu', u'http://www.lazybearsf.com/food/', u'https://foursquare.com/v/ak-subs/45206915f964a520b73a1fe3/menu', u'https://foursquare.com/v/foreign-cinema/3fd66200f964a520a0ec1ee3/menu', u'https://foursquare.com/v/la-oaxaque%C3%B1a-bakery--restaurant/4b2c4865f964a5202cc524e3/menu', u'https://foursquare.com/v/walzwerk/43470c00f964a52080281fe3/menu', u'https://foursquare.com/v/catheads-bbq/4f04b8028b81d71b4cc4685f/menu', u'https://foursquare.com/v/the-sycamore/4c253819c11dc9b634d82624/menu', u'http://www.hogandrocks.com/menu/dinner/', u'https://squareup.com/market/linea-caffe-llc/', u'https://foursquare.com/v/the-sandwich-place/43fa004df964a520d72f1fe3/menu', u'https://foursquare.com/v/lol%C3%B3-cevicheria/49dcd054f964a520a45f1fe3/menu', u'https://foursquare.com/v/revolution-cafe/4a75206cf964a5209de01fe3/menu', u'https://foursquare.com/v/taqueria-el-farolito/44ff5a91f964a520a5381fe3/menu', u'https://foursquare.com/v/the-cake-gallery/4c95253c58d4b60cde9d2f29/menu', u'http://www.lolosf.com/menu/', u'https://foursquare.com/v/dosa/439b6598f964a520e12b1fe3/menu', u'https://foursquare.com/v/udupi-palace/49dad092f964a520b25e1fe3/menu', u'https://foursquare.com/v/rheas-market--deli/4a888cbff964a520dc0620e3/menu', u'https://foursquare.com/v/la-taqueria/455877bff964a520453d1fe3/menu', u'https://foursquare.com/v/chaya-vegetarian-japanese-restaurant/44ccee85f964a52016361fe3/menu', u'https://foursquare.com/v/craftsman-and-wolves/4fab3157bb3d83ffee63d747/menu', u'https://foursquare.com/v/range/44b7cc5ef964a52076351fe3/menu', u'https://foursquare.com/v/basil-thai-restaurant--bar/435c2400f964a5200e291fe3/menu', u'https://foursquare.com/v/wicked-grounds/4aab1d67f964a520005920e3/menu', u'https://foursquare.com/v/mau/505aa37ee4b09d25dc9e7557/menu', u'https://foursquare.com/v/red-cafe/4a2b6e95f964a520cf961fe3/menu', u'https://foursquare.com/v/lucca-ravioli-company/49e79a69f964a520d7641fe3/menu', u'https://foursquare.com/v/pancho-villa-taqueria/43917d6df964a5205c2b1fe3/menu', u'https://foursquare.com/v/beretta/49a2545cf964a52094521fe3/menu', u'https://foursquare.com/v/locanda/4db22d538154f5a745d9c093/menu', u'https://foursquare.com/v/puerto-alegre/3fd66200f964a52059ed1ee3/menu', u'https://foursquare.com/v/una-pizza-napoletana/4c8a74b755f9b713e4294add/menu', u'https://foursquare.com/v/panchitas-pupuseria-restaurant-2/49ba1cbdf964a5205d531fe3/menu', u'https://foursquare.com/v/limon-rotisserie/4adc91adf964a520572d21e3/menu', u'https://foursquare.com/v/old-jerusalem-restaurant/4a721f10f964a52069da1fe3/menu', u'https://foursquare.com/v/arinell-pizza/436e9900f964a520e9291fe3/menu', u'https://foursquare.com/v/truly-mediterranean/43da737ff964a5207d2e1fe3/menu', u'https://foursquare.com/v/teds-market--deli/4b54df8ff964a520c7d027e3/menu', u'https://foursquare.com/v/arizmendi-bakery-panaderia--pizzeria/4ca4d6a3d7c33704acd2ac62/menu'] [u'El Techo', u'Taqueria Canc\\xfan', u'Maruya', u'Lolinda', u'Lazy Bear', u'AK Subs', u'Foreign Cinema', u'La Oaxaque\\xf1a Bakery & Restaurant', u'Walzwerk', u\"CatHead's BBQ\", u'The Sycamore', u'Hog & Rocks', u'Linea Caffe', u'The Sandwich Place', u'Lol\\xf3 Cevicheria', u'Revolution Cafe', u'Taqueria El Farolito', u'The Cake Gallery', u'Lol\\xf3', u'Dosa', u'Udupi Palace', u\"Rhea's Market & Deli\", u'La Taqueria', u'Cha-Ya Vegetarian Japanese Restaurant', u'Craftsman and Wolves', u'Range', u'Basil Thai Restaurant & Bar', u'Wicked Grounds', u'Mau', u'Red Cafe', u'Lucca Ravioli Company', u'Pancho Villa Taqueria', u'Beretta', u'Locanda', u'Puerto Alegre', u'Una Pizza Napoletana', u\"Panchita's Pupuseria Restaurant #2\", u'Limon Rotisserie', u'Old Jerusalem Restaurant', u'Arinell Pizza', u'Truly Mediterranean', u\"Ted's Market & Deli\", u'Arizmendi Bakery Panaderia & Pizzeria']\n",
      "--- 32.1426329613 seconds ---\n",
      "[u'https://foursquare.com/v/perbacco/459b7818f964a52089401fe3/menu', u'https://foursquare.com/v/yank-sing/4479910ef964a520d8331fe3/menu', u'https://foursquare.com/v/waterbar/49b41d95f964a520e7521fe3/menu', u'https://foursquare.com/v/hookers-sweet-treats/4c1664e1b7b9c9283461ae37/menu', u'https://foursquare.com/v/ozumo/4aebd409f964a520e9c421e3/menu', u'https://foursquare.com/v/saigon-sandwich/43eb7d31f964a520392f1fe3/menu', u'http://liholihoyachtclub.com/menu/dinner', u'http://www.thechairmantruck.com/menu', u'https://foursquare.com/v/boulevard/3fd66200f964a52052ed1ee3/menu', u'https://foursquare.com/v/rg-lounge/49efa893f964a520e5681fe3/menu', u'https://foursquare.com/v/teds-market--deli/4b54df8ff964a520c7d027e3/menu', u'https://foursquare.com/v/lers-ros-thai/49dd8602f964a52018601fe3/menu', u'https://foursquare.com/v/oasis-grill/4a6f5d0ef964a520fdd51fe3/menu', u'https://foursquare.com/v/bite/4a949740f964a520132220e3/menu', u'https://foursquare.com/v/big-4-restaurant/44f72e06f964a5204b381fe3/menu', u'https://foursquare.com/v/golden-star-vietnamese-restaurant/4a8b2acff964a520a00b20e3/menu', u'https://foursquare.com/v/brendas-french-soul-food/49f356f8f964a5208a6a1fe3/menu', u'https://foursquare.com/v/live-sushi-bar/4a445686f964a52077a71fe3/menu', u'https://foursquare.com/v/catheads-bbq/4f04b8028b81d71b4cc4685f/menu', u'http://sanfrancisco.menupages.com/restaurants/kusakabe/menu', u'https://foursquare.com/v/roli-roti-gourmet-rotisserie/4a8462a9f964a5206bfc1fe3/menu', u'https://foursquare.com/v/boccalone-salumeria/4a736f6ff964a5206edc1fe3/menu', u'https://foursquare.com/v/primavera/4bae4f93f964a5200fa13be3/menu', u'https://foursquare.com/v/two-sons-sandwiches/50787024e4b0e94246b955aa/menu', u'http://sanfrancisco.menupages.com/restaurants/izakaya-rintaro/menu', u'http://www.calarestaurant.com/#menu', u'https://foursquare.com/v/z--y-restaurant/4bf20c757077952137a63e7c/menu', u'http://trestlesf.com/dinner', u'https://foursquare.com/v/acme-bread-company/4a9190adf964a520b61a20e3/menu', u'https://foursquare.com/v/roka-akor/50be8ac5f31c223ae77cdeb7/menu', u'https://foursquare.com/v/hog-island-oyster-co/43fed1fff964a520fe2f1fe3/menu', u'https://foursquare.com/v/bix/3fd66200f964a5205af11ee3/menu', u'https://foursquare.com/v/slanted-door/3fd66200f964a52018ed1ee3/menu', u'https://foursquare.com/v/kokkari-estiatorio/4570691ff964a5205c3e1fe3/menu', u'https://foursquare.com/v/keiko-%C3%A0-nob-hill/4ebacbf2108192bf75c5b0ba/menu', u'https://foursquare.com/v/nojo-ramen-tavern/4d8eabc7d265236af9a71017/menu', u'https://foursquare.com/v/flour--co/50a9c2edebcac7b7e6fde8f7/menu', u'https://foursquare.com/v/jardini%C3%A8re/49d3e017f964a5201e5c1fe3/menu', u'https://foursquare.com/v/cotogna/4cd0a38e5b5ca35de6317df0/menu', u'https://foursquare.com/v/quince/4a3dd25bf964a520b1a21fe3/menu', u'https://foursquare.com/v/pl%C3%A4j/4fe942b1e4b0f69d225327ad/menu', u'https://foursquare.com/v/la-mar/4a625b58f964a520d6c31fe3/menu', u'https://foursquare.com/v/chez-maman-east/44fc6d0bf964a52085381fe3/menu', u'https://foursquare.com/v/plow/4c966048f244b1f7b0e6331d/menu', u'https://foursquare.com/v/papito/4da89a38fa8c4175d0be1e75/menu'] [u'Perbacco', u'Yank Sing', u'Waterbar', u\"Hooker's Sweet Treats\", u'Ozumo', u'Saigon Sandwich', u'Liholiho Yacht Club', u'The Chairman', u'Boulevard', u'R&G Lounge', u\"Ted's Market & Deli\", u'Lers Ros Thai', u'Oasis Grill', u'Bite', u'Big 4 Restaurant', u'Golden Star Vietnamese Restaurant', u\"Brenda's French Soul Food\", u'Live Sushi Bar', u\"CatHead's BBQ\", u'Kusakabe', u'Roli Roti Gourmet Rotisserie', u'Boccalone Salumeria', u'Primavera', u'Two Sons Sandwiches', u'Rintaro', u'Cala', u'Z & Y Restaurant', u'Trestle', u'Acme Bread Company', u'Roka Akor', u'Hog Island Oyster Co.', u'Bix', u'Slanted Door', u'Kokkari Estiatorio', u'Keiko \\xe0 Nob Hill', u'Nojo Ramen Tavern', u'Flour & Co', u'Jardini\\xe8re', u'Cotogna', u'Quince', u'PL\\xc4J', u'La Mar', u'Chez Maman East', u'Plow', u'Papito']\n",
      "--- 32.9799199104 seconds ---\n",
      "[u'https://foursquare.com/v/z--y-restaurant/4bf20c757077952137a63e7c/menu', u'https://foursquare.com/v/quince/4a3dd25bf964a520b1a21fe3/menu', u'https://foursquare.com/v/acme-bread-company/4a9190adf964a520b61a20e3/menu', u'https://foursquare.com/v/cotogna/4cd0a38e5b5ca35de6317df0/menu', u'https://foursquare.com/v/slanted-door/3fd66200f964a52018ed1ee3/menu', u'https://foursquare.com/v/hog-island-oyster-co/43fed1fff964a520fe2f1fe3/menu', u'https://foursquare.com/v/primavera/4bae4f93f964a5200fa13be3/menu', u'https://foursquare.com/v/4505-meatschicharrones/4ab297c7f964a520846b20e3/menu', u'https://foursquare.com/v/la-mar/4a625b58f964a520d6c31fe3/menu', u'https://foursquare.com/v/epic-steak/4884e11ff964a5203e511fe3/menu', u'https://foursquare.com/v/zero-zero/4c44d4b9dcd61b8df9e67b56/menu', u'https://foursquare.com/v/the-cavalier/51fd7b3b498eeb50fe51d9a8/menu', u'https://foursquare.com/v/waterbar/49b41d95f964a520e7521fe3/menu', u'https://foursquare.com/v/garaje/511ab11fe4b078c672896eab/menu', u'https://foursquare.com/v/kin-khao/52e20b3311d241e331b41f31/menu', u'https://foursquare.com/v/tosca-cafe/3fd66200f964a52042ed1ee3/menu', u'https://foursquare.com/v/coqueta/5140f0cae4b0161c893167e7/menu', u'http://www.delpopolosf.com/menu', u'https://foursquare.com/v/naked-lunch/4a8c5c11f964a520c40d20e3/menu', u'http://hashirisf.com/menu/', u'https://foursquare.com/v/the-american-grilled-cheese-kitchen/4bd1e1f1a8b3a593bb9e665f/menu', u'https://foursquare.com/v/ryokos-japanese-restaurant--bar/433c8000f964a52043281fe3/menu', u'https://foursquare.com/v/del-popolo/4fa2d0d8e4b018dc465a278f/menu', u'http://www.hrdcoffeeshop.com/menu', u'https://foursquare.com/v/darwin-cafe/4c4e30871b8e1b8dd9d3c426/menu', u'https://foursquare.com/v/big-4-restaurant/44f72e06f964a5204b381fe3/menu', u'https://foursquare.com/v/the-house/4b0a2fe5f964a520492223e3/menu', u'https://foursquare.com/v/tin-vietnamese/4af09c87f964a520a1dd21e3/menu', u'http://sanfrancisco.menupages.com/restaurants/il-casaro/menu', u'https://foursquare.com/v/molinari-delicatessen/4a01fbbdf964a5201c711fe3/menu', u'https://foursquare.com/v/busters/49cc4c38f964a52067591fe3/menu', u'http://chubbynoodle.com/menu-3-1/', u'https://foursquare.com/v/mos-grill/4a76580bf964a520dfe21fe3/menu', u'https://foursquare.com/v/capos/50086129e4b038aa4f935f9e/menu', u'https://foursquare.com/v/pearls-deluxe-burgers/49c6844cf964a52054571fe3/menu', u'https://foursquare.com/v/alexanders-steakhouse/4beca4ec8bbcc928ca9d8cb1/menu', u'https://foursquare.com/v/dotties-true-blue-cafe/4a5a3157f964a520ddb91fe3/menu', u'https://foursquare.com/v/t%C3%BA-lan-restaurant/41799f00f964a520c11d1fe3/menu', u'https://foursquare.com/v/montesacro/5528570a498eab857713a307/menu', u'https://foursquare.com/v/split-pea-seduction/49f20fb9f964a520da691fe3/menu', u'https://foursquare.com/v/farm--table/4b008eadf964a520733f22e3/menu', u'https://foursquare.com/v/baonecci-ristorante/4b24598cf964a5204a6624e3/menu', u'https://foursquare.com/v/golden-boy-pizza/42814b00f964a520ef211fe3/menu'] [u'Z & Y Restaurant', u'Quince', u'Acme Bread Company', u'Cotogna', u'Slanted Door', u'Hog Island Oyster Co.', u'Primavera', u'4505 Meats/Chicharrones', u'La Mar', u'Epic Steak', u'Zero Zero', u'The Cavalier', u'Waterbar', u'Garaje', u'Kin Khao', u'Tosca Cafe', u'Coqueta', u'Del Popolo', u'Naked Lunch', u'Hashiri', u'The American Grilled Cheese Kitchen', u\"Ryoko's Japanese Restaurant & Bar\", u'Del Popolo', u'HRD Coffee Shop', u'Darwin Cafe', u'Big 4 Restaurant', u'The House', u'Tin Vietnamese', u'il Casaro Pizzeria & Mozzarella Bar', u'Molinari Delicatessen', u\"Buster's\", u'Chubby Noodle', u\"Mo's Grill\", u\"Capo's\", u\"Pearl's Deluxe Burgers\", u\"Alexander's Steakhouse\", u\"Dottie's True Blue Cafe\", u'T\\xfa Lan Restaurant', u'Montesacro', u'Split Pea Seduction', u'farm : table', u'Baonecci Ristorante', u'Golden Boy Pizza']\n",
      "--- 33.7849099636 seconds ---\n",
      "[u'https://foursquare.com/v/cafe-me/49f94018f964a520736d1fe3/menu', u'http://trestlesf.com/dinner', u'http://www.scomas.com/#home-catalog', u'https://foursquare.com/v/hunan-homes-restaurant/4a47ee99f964a52053aa1fe3/menu', u'https://foursquare.com/v/bocadillos/457eebaff964a520443f1fe3/menu', u'https://foursquare.com/v/slanted-door/3fd66200f964a52018ed1ee3/menu', u'http://sanfrancisco.menupages.com/restaurants/kusakabe/menu', u'https://foursquare.com/v/lai-hong-lounge-%E8%8D%94%E9%A6%99%E5%B0%8F%E9%A4%A8/50412c01e4b09c6ce4491149/menu', u'https://foursquare.com/v/hog-island-oyster-co/43fed1fff964a520fe2f1fe3/menu', u'https://foursquare.com/v/z--y-restaurant/4bf20c757077952137a63e7c/menu', u'https://foursquare.com/v/acme-bread-company/4a9190adf964a520b61a20e3/menu', u'https://foursquare.com/v/boccalone-salumeria/4a736f6ff964a5206edc1fe3/menu', u'https://foursquare.com/v/oasis-grill/4a6f5d0ef964a520fdd51fe3/menu', u'https://foursquare.com/v/san-francisco-fish-company/4a2d819bf964a520b9971fe3/menu', u'https://foursquare.com/v/roli-roti-gourmet-rotisserie/4a8462a9f964a5206bfc1fe3/menu', u'https://foursquare.com/v/4505-meatschicharrones/4ab297c7f964a520846b20e3/menu', u'https://foursquare.com/v/primavera/4bae4f93f964a5200fa13be3/menu', u'https://foursquare.com/v/golden-star-vietnamese-restaurant/4a8b2acff964a520a00b20e3/menu', u'https://foursquare.com/v/one-market-restaurant/44b2a62df964a52042351fe3/menu', u'https://foursquare.com/v/rg-lounge/49efa893f964a520e5681fe3/menu', u'https://foursquare.com/v/city-view-restaurant/4abfdac7f964a5209f9220e3/menu', u'https://foursquare.com/v/barbacco/4b47a128f964a520203826e3/menu', u'https://foursquare.com/v/perbacco/459b7818f964a52089401fe3/menu', u'https://foursquare.com/v/michael-mina/4cae131abf70236aa86305f9/menu', u'https://foursquare.com/v/tadich-grill/49f67c43f964a520486c1fe3/menu', u'https://foursquare.com/v/restaurant-gary-danko/3fd66200f964a52025ee1ee3/menu', u'http://www.pabuizakaya.com/sf/menus/dinner', u'https://foursquare.com/v/eastern-bakery/4ac7c020f964a52087b920e3/menu', u'http://misterjius.com/menu-1/', u'https://www.eatsa.com/menu', u'https://foursquare.com/v/boulevard/3fd66200f964a52052ed1ee3/menu', u'https://foursquare.com/v/chaya-brasserie/3fd66200f964a5202fed1ee3/menu', u'https://foursquare.com/v/se%C3%B1or-sisig/4c65ee1e7abde21e01516268/menu', u'https://foursquare.com/v/ozumo/4aebd409f964a520e9c421e3/menu', u'https://foursquare.com/v/yank-sing/4479910ef964a520d8331fe3/menu', u'https://foursquare.com/v/la-fusion/4e555696d4c0c50afda6168f/menu', u'https://foursquare.com/v/zarzuela/3fd66200f964a5209ef11ee3/menu', u'http://superduperburgers.com/#two', u'http://sanfrancisco.menupages.com/restaurants/elephant-sushi/menu', u'https://foursquare.com/v/okoze-sushi/449b0faef964a520a1341fe3/menu', u'https://foursquare.com/v/venticello/4aaaf29ef964a520395820e3/menu', u'https://foursquare.com/v/za-pizza/42b21280f964a5206c251fe3/menu', u'https://www.eatsa.com/menu'] [u'Cafe Me', u'Trestle', u\"Scoma's Restaurant\", u\"Hunan Home's Restaurant\", u'Bocadillos', u'Slanted Door', u'Kusakabe', u'Lai Hong Lounge \\u8354\\u9999\\u5c0f\\u9928', u'Hog Island Oyster Co.', u'Z & Y Restaurant', u'Acme Bread Company', u'Boccalone Salumeria', u'Oasis Grill', u'San Francisco Fish Company', u'Roli Roti Gourmet Rotisserie', u'4505 Meats/Chicharrones', u'Primavera', u'Golden Star Vietnamese Restaurant', u'One Market Restaurant', u'R&G Lounge', u'City View Restaurant', u'Barbacco', u'Perbacco', u'Michael Mina', u'Tadich Grill', u'Restaurant Gary Danko', u'PABU', u'Eastern Bakery', u\"Mister Jiu's\", u'eatsa', u'Boulevard', u'Chaya Brasserie', u'Se\\xf1or Sisig', u'Ozumo', u'Yank Sing', u'La Fusion', u'Zarzuela', u'Super Duper Burger', u'Elephant Sushi', u'Okoze Sushi', u'Venticello', u'Za Pizza', u'eatsa']\n",
      "--- 34.5639359951 seconds ---\n",
      "[u'https://foursquare.com/v/yvonnes-southern-sweets/4d795607c307a35d0aa44231/menu', u'https://foursquare.com/v/garden-cafe/4f328c3419836c91c7e27e41/menu', u'https://foursquare.com/v/golden-city-gourmet-chinese-food/4d362c4048cdb1f776f8f037/menu', u'https://foursquare.com/v/hop-li-restaurant/4e4dccb0bd41b76bef934d46/menu', u'https://foursquare.com/v/debbie-does-dinner/4f32647019836c91c7d35299/menu', u'https://foursquare.com/v/peking-wok-restaurant/4bf1ef82a09076b021f429d4/menu', u'https://foursquare.com/v/cr%C3%AApe--brioche-inc/57e3c846498e6e8019ad67cf/menu', u'https://foursquare.com/v/pizza-palace/4e4deb00bd41b76bef9551c7/menu', u'https://foursquare.com/v/the-jewel-restaurant/4e4dccb6bd41b76bef934d99/menu', u'https://foursquare.com/v/day-darnet-catering/4f44561619836ed001938bdf/menu'] [u\"Yvonne's Southern Sweets\", u'Garden Cafe', u'Golden City Gourmet Chinese Food', u'Hop Li Restaurant', u'Debbie does Dinner', u'Peking Wok Restaurant', u'Cr\\xeape & Brioche Inc.', u'Pizza Palace', u'The Jewel Restaurant', u'Day Darnet Catering']\n",
      "--- 35.0032200813 seconds ---\n",
      "[u'https://foursquare.com/v/luen-fat/4e4d4abdbd413c4cc66ff82e/menu', u'https://foursquare.com/v/subway/4b8091dcf964a520a17d30e3/menu', u'https://foursquare.com/v/soo-fong/4b3c15fdf964a520958125e3/menu', u'https://foursquare.com/v/la-laguna-taqueria/4b8f1e92f964a520f74933e3/menu', u'https://foursquare.com/v/pizza-joint/4af1e518f964a52034e421e3/menu', u'https://foursquare.com/v/aguila-de-oro-taqueria/4c1d75a18b3aa59389b19a5f/menu', u'https://foursquare.com/v/yvonnes-southern-sweets/4d795607c307a35d0aa44231/menu', u'https://foursquare.com/v/garden-cafe/4f328c3419836c91c7e27e41/menu', u'https://foursquare.com/v/golden-city-gourmet-chinese-food/4d362c4048cdb1f776f8f037/menu', u'https://foursquare.com/v/hop-li-restaurant/4e4dccb0bd41b76bef934d46/menu', u'https://foursquare.com/v/debbie-does-dinner/4f32647019836c91c7d35299/menu', u'https://foursquare.com/v/daddy-boys-pizza/4e4dccabbd41b76bef934cfd/menu'] [u'Luen Fat', u'SUBWAY', u'Soo Fong', u'La Laguna Taqueria', u'Pizza Joint', u'Aguila De Oro Taqueria', u\"Yvonne's Southern Sweets\", u'Garden Cafe', u'Golden City Gourmet Chinese Food', u'Hop Li Restaurant', u'Debbie does Dinner', u\"Daddy Boy's Pizza\"]\n",
      "--- 35.4690608978 seconds ---\n",
      "[u'https://foursquare.com/v/chez-maman-east/44fc6d0bf964a52085381fe3/menu', u'https://foursquare.com/v/la-paz-restaurant-pupuseria/4b735e70f964a52017ab2de3/menu', u'https://foursquare.com/v/papito/4da89a38fa8c4175d0be1e75/menu', u'http://macdaddysf.com/menu.html', u'https://foursquare.com/v/pera/4b05bc2cf964a520f8e122e3/menu', u'https://foursquare.com/v/punjab-restaurant/4aa3331af964a520a34320e3/menu', u'http://goathill.com/menu', u'https://foursquare.com/v/aperto/4880eb2cf964a5202e511fe3/menu', u'https://foursquare.com/v/sunflower/4a8141daf964a520aef61fe3/menu', u'https://foursquare.com/v/little-nepal/4a862f58f964a520b40020e3/menu', u'http://www.stemkitchensf.com/menu/', u'https://foursquare.com/v/piqueos/4a2debe9f964a52008981fe3/menu'] [u'Chez Maman East', u'La Paz Restaurant Pupuseria', u'Papito', u'Mac Daddy', u'Pera', u'Punjab Restaurant', u'Goat Hill Pizza', u'Aperto', u'Sunflower', u'Little Nepal', u'STEM Kitchen & Garden', u\"Piqueo's\"]\n",
      "--- 35.7817289829 seconds ---\n",
      "[u'https://foursquare.com/v/south-beach-cafe/461e6d5cf964a52079451fe3/menu', u'https://foursquare.com/v/alexanders-steakhouse/4beca4ec8bbcc928ca9d8cb1/menu', u'https://foursquare.com/v/dynamo-donut--coffee/49ccf971f964a520a6591fe3/menu', u'https://foursquare.com/v/bellota/573e8ba3cd102b8b7351f55a/menu', u'https://foursquare.com/v/brickhouse-cafe/440db456f964a52097301fe3/menu', u'https://foursquare.com/v/fringale/3fd66200f964a5201bed1ee3/menu', u'http://pacifica.dinosaursrestaurant.com/menu/', u'https://foursquare.com/v/mission-dispatch/4fac1576e4b0bcc0c134148b/menu', u'https://foursquare.com/v/el-metate/48484314f964a52074501fe3/menu', u'https://foursquare.com/v/blowfish-sushi-to-die-for/40e0b100f964a520e1091fe3/menu', u'https://foursquare.com/v/the-butler--the-chef-bistro/4458a790f964a520d3321fe3/menu', u'https://foursquare.com/v/la-torta-gorda/4a06ff0bf964a52015731fe3/menu', u'http://turtletowersf.com/menu', u'https://foursquare.com/v/universal-cafe/40e0b100f964a520e2091fe3/menu', u'https://foursquare.com/v/darwin-cafe/4c4e30871b8e1b8dd9d3c426/menu', u'http://www.hrdcoffeeshop.com/menu', u'https://foursquare.com/v/south-park-cafe/4474333bf964a520ac331fe3/menu', u'http://www.listingextensions.com/f43115baa3/3313708501/menu', u'https://foursquare.com/v/central-kitchen/4faaba890cd6e74f6f96bab1/menu', u'https://foursquare.com/v/salumeria/4fc541fb7716c8a1e24eec6c/menu', u'https://foursquare.com/v/the-lord-george/55e23dc8498eac3941432ec0/menu', u'https://foursquare.com/v/the-american-grilled-cheese-kitchen/4bd1e1f1a8b3a593bb9e665f/menu', u'https://foursquare.com/v/so/4b477ea0f964a520f63326e3/menu', u'https://foursquare.com/v/atlas-cafe/4085b980f964a5208bf21ee3/menu', u'http://goathill.com/menu', u'https://foursquare.com/v/garaje/511ab11fe4b078c672896eab/menu', u'https://foursquare.com/v/sunrise-cafe/4a64ef66f964a52000c71fe3/menu', u'https://foursquare.com/v/flour--water/4a8b6942f964a520660c20e3/menu', u'https://foursquare.com/v/taquerias-el-farolito/4a206042f964a520757c1fe3/menu', u'https://foursquare.com/v/tortas-los-picudos/4b4a581df964a520a48426e3/menu', u'https://foursquare.com/v/the-old-clam-house/4b22b38df964a520134c24e3/menu', u'https://foursquare.com/v/ak-subs/45206915f964a520b73a1fe3/menu', u'https://foursquare.com/v/radio-africa--kitchen/4f56b36a6b7406c0ea010e9b/menu', u'http://dearmomsf.com/menu/', u'https://foursquare.com/v/el-gallo-giro-taco-truck/4a2af3b9f964a52073961fe3/menu'] [u'South Beach Cafe', u\"Alexander's Steakhouse\", u'Dynamo Donut & Coffee', u'Bellota', u'Brickhouse Cafe', u'Fringale', u'Dinosaurs', u'Mission Dispatch', u'El Metate', u'Blowfish Sushi to Die For', u'The Butler & The Chef Bistro', u'La Torta Gorda', u'Turtle Tower #3', u'Universal Cafe', u'Darwin Cafe', u'HRD Coffee Shop', u'South Park Cafe', u'Caffe Centro', u'Central Kitchen', u'Salumeria', u'The Lord George', u'The American Grilled Cheese Kitchen', u'SO', u'Atlas Cafe', u'Goat Hill Pizza', u'Garaje', u'Sunrise Cafe', u'flour + water', u'Taquerias El Farolito', u'Tortas Los Picudos', u'The Old Clam House', u'AK Subs', u'Radio Africa & Kitchen', u'Dear Mom', u'El Gallo Giro (Taco Truck)']\n",
      "--- 36.5501358509 seconds ---\n",
      "[u'http://www.thegrovesf.com/menu.html', u'https://foursquare.com/v/boccalone-salumeria/4a736f6ff964a5206edc1fe3/menu', u'https://www.eatsa.com/menu', u'https://foursquare.com/v/the-sentinel/49defb9ff964a520b9601fe3/menu', u'https://foursquare.com/v/the-garden-court/4aeb5f72f964a5207cc121e3/menu', u'https://foursquare.com/v/acme-bread-company/4a9190adf964a520b61a20e3/menu', u'http://pacifica.dinosaursrestaurant.com/menu/', u'https://foursquare.com/v/hog-island-oyster-co/43fed1fff964a520fe2f1fe3/menu', u'https://foursquare.com/v/super-duper-burger/5010936ce4b0abd8740f8fb7/menu', u'https://foursquare.com/v/slanted-door/3fd66200f964a52018ed1ee3/menu', u'https://foursquare.com/v/per-diem/4ee965055c5c0575fa5a3fe7/menu', u'https://foursquare.com/v/out-the-door/45e9bc10f964a52082431fe3/menu', u'https://foursquare.com/v/oasis-grill/4a6f5d0ef964a520fdd51fe3/menu', u'http://www.pabuizakaya.com/sf/menus/dinner', u'https://foursquare.com/v/tropisue%C3%B1o/4a5f8994f964a520d5bf1fe3/menu', u'https://foursquare.com/v/minamoto-kitchoan/4a9845bcf964a520462b20e3/menu', u'http://www.delarosasf.com/food/', u'https://foursquare.com/v/hakkasan/50b57f55e4b09c0e1e84166a/menu', u'https://foursquare.com/v/barbacco/4b47a128f964a520203826e3/menu', u'https://foursquare.com/v/super-duper-burger/4ddd32f9d4c082f960d7fe2b/menu', u'https://foursquare.com/v/perbacco/459b7818f964a52089401fe3/menu', u'https://foursquare.com/v/tin-vietnamese/4af09c87f964a520a1dd21e3/menu', u'https://foursquare.com/v/amber-india/4acab395f964a520d8c220e3/menu', u'https://foursquare.com/v/tadich-grill/49f67c43f964a520486c1fe3/menu', u'https://foursquare.com/v/michael-mina/4cae131abf70236aa86305f9/menu', u'https://foursquare.com/v/workshop-cafe/51e08f37498e1d7e82c50708/menu', u'http://www.omakasesf.com/menu/', u'https://foursquare.com/v/se%C3%B1or-sisig/4c65ee1e7abde21e01516268/menu', u'https://foursquare.com/v/jolt-n-bolt/49c7d2bbf964a520c7571fe3/menu', u'https://foursquare.com/v/skool-restaurant/4c1e9060eac020a10dec49c2/menu', u'https://foursquare.com/v/la-mar/4a625b58f964a520d6c31fe3/menu', u'https://foursquare.com/v/plow/4c966048f244b1f7b0e6331d/menu', u'https://foursquare.com/v/bellota/573e8ba3cd102b8b7351f55a/menu', u'https://foursquare.com/v/the-cavalier/51fd7b3b498eeb50fe51d9a8/menu', u'https://foursquare.com/v/deli-board/4bb2595c42959c7430b7202c/menu', u'https://foursquare.com/v/sushirrito/5169c1b4498eb65b81bd735a/menu', u'https://foursquare.com/v/hazels-kitchen/49dc0700f964a5204a5f1fe3/menu', u'https://foursquare.com/v/san-francisco-design-center-showplace--garden-court/4a70d52cf964a5208fd81fe3/menu', u'https://foursquare.com/v/gitane/49baa46af964a5208f531fe3/menu', u'https://foursquare.com/v/chez-maman-east/44fc6d0bf964a52085381fe3/menu', u'https://foursquare.com/v/the-plant-cafe-organic/4abbb03ef964a520668420e3/menu', u'http://hashirisf.com/menu/', u'https://foursquare.com/v/caf%C3%A9-claude/40f47780f964a520960a1fe3/menu', u'https://foursquare.com/v/del-popolo/4fa2d0d8e4b018dc465a278f/menu', u'http://www.sababasf.com/#!menu/szs2r'] [u'The Grove', u'Boccalone Salumeria', u'eatsa', u'The Sentinel', u'The Garden Court', u'Acme Bread Company', u'Dinosaurs', u'Hog Island Oyster Co.', u'Super Duper Burger', u'Slanted Door', u'Per Diem', u'Out the Door', u'Oasis Grill', u'PABU', u'Tropisue\\xf1o', u'Minamoto Kitchoan', u'Delarosa', u'Hakkasan', u'Barbacco', u'Super Duper Burger', u'Perbacco', u'Tin Vietnamese', u'Amber India', u'Tadich Grill', u'Michael Mina', u'Workshop Cafe', u'OMAKASE', u'Se\\xf1or Sisig', u\"Jolt 'n Bolt\", u'Skool Restaurant', u'La Mar', u'Plow', u'Bellota', u'The Cavalier', u'Deli Board', u'Sushirrito', u\"Hazel's Kitchen\", u'San Francisco Design Center Showplace & Garden Court', u'Gitane', u'Chez Maman East', u'The Plant Cafe Organic', u'Hashiri', u'Caf\\xe9 Claude', u'Del Popolo', u'Sababa']\n",
      "--- 37.5687439442 seconds ---\n",
      "[u'https://foursquare.com/v/trou-normand/53192adc498e20ab5bf6d887/menu', u'https://foursquare.com/v/mourad/54aa5a96498e0326ab850c28/menu', u'https://foursquare.com/v/ayola/4a947cccf964a520c42120e3/menu', u'https://foursquare.com/v/twenty-five-lusk/4c72eddd0e23b1f784201fdc/menu', u'https://foursquare.com/v/alexanders-steakhouse/4beca4ec8bbcc928ca9d8cb1/menu', u'https://foursquare.com/v/per-diem/4ee965055c5c0575fa5a3fe7/menu', u'https://foursquare.com/v/se%C3%B1or-sisig/4c65ee1e7abde21e01516268/menu', u'https://foursquare.com/v/kokkari-estiatorio/4570691ff964a5205c3e1fe3/menu', u'https://foursquare.com/v/the-sentinel/49defb9ff964a520b9601fe3/menu', u'http://insitu.sfmoma.org/menu', u'https://foursquare.com/v/the-garden-court/4aeb5f72f964a5207cc121e3/menu', u'https://foursquare.com/v/workshop-cafe/51e08f37498e1d7e82c50708/menu', u'http://www.thegrovesf.com/menu.html', u'https://foursquare.com/v/marlowe/4b71ed7af964a520b3642de3/menu', u'https://foursquare.com/v/minamoto-kitchoan/4a9845bcf964a520462b20e3/menu', u'https://foursquare.com/v/cafe-me/49f94018f964a520736d1fe3/menu', u'https://foursquare.com/v/hakkasan/50b57f55e4b09c0e1e84166a/menu', u'https://foursquare.com/v/la-fusion/4e555696d4c0c50afda6168f/menu', u'https://foursquare.com/v/sushirrito/5169c1b4498eb65b81bd735a/menu', u'http://sanfrancisco.menupages.com/restaurants/kusakabe/menu', u'http://www.sababasf.com/#!menu/szs2r', u'https://foursquare.com/v/zero-zero/4c44d4b9dcd61b8df9e67b56/menu', u'https://foursquare.com/v/muraccis-japanese-curry--grill/49ba1813f964a52059531fe3/menu', u'https://foursquare.com/v/gitane/49baa46af964a5208f531fe3/menu', u'https://foursquare.com/v/super-duper-burger/4ddd32f9d4c082f960d7fe2b/menu', u'http://superduperburgers.com/#two', u'https://foursquare.com/v/ramen-underground/4e498f31b61c6886484fe715/menu', u'https://foursquare.com/v/bix/3fd66200f964a5205af11ee3/menu', u'https://foursquare.com/v/bocadillos/457eebaff964a520443f1fe3/menu', u'https://foursquare.com/v/city-view-restaurant/4abfdac7f964a5209f9220e3/menu', u'https://foursquare.com/v/tropisue%C3%B1o/4a5f8994f964a520d5bf1fe3/menu', u'https://foursquare.com/v/akikos-restaurant--sushi-bar/49e7e380f964a52027651fe3/menu', u'http://www.delarosasf.com/food/', u'https://foursquare.com/v/quince/4a3dd25bf964a520b1a21fe3/menu', u'https://foursquare.com/v/amber-india/4acab395f964a520d8c220e3/menu', u'https://foursquare.com/v/roka-akor/50be8ac5f31c223ae77cdeb7/menu', u'https://foursquare.com/v/rg-lounge/49efa893f964a520e5681fe3/menu', u'https://foursquare.com/v/cotogna/4cd0a38e5b5ca35de6317df0/menu', u'https://foursquare.com/v/coi/49daac09f964a520a25e1fe3/menu', u'http://trestlesf.com/dinner', u'https://foursquare.com/v/hops--hominy/4ed9a975be7be28336ddc111/menu', u'https://foursquare.com/v/caff%C3%A8-macaroni/4aca5050f964a52060c120e3/menu', u'https://foursquare.com/v/eo-kitchen-and-bar/3fd66200f964a52090ed1ee3/menu', u'https://foursquare.com/v/golden-star-vietnamese-restaurant/4a8b2acff964a520a00b20e3/menu'] [u'Trou Normand', u'Mourad', u'Ayola', u'Twenty Five Lusk', u\"Alexander's Steakhouse\", u'Per Diem', u'Se\\xf1or Sisig', u'Kokkari Estiatorio', u'The Sentinel', u'In Situ', u'The Garden Court', u'Workshop Cafe', u'The Grove', u'Marlowe', u'Minamoto Kitchoan', u'Cafe Me', u'Hakkasan', u'La Fusion', u'Sushirrito', u'Kusakabe', u'Sababa', u'Zero Zero', u\"Muracci's Japanese Curry & Grill\", u'Gitane', u'Super Duper Burger', u'Super Duper Burger', u'Ramen Underground', u'Bix', u'Bocadillos', u'City View Restaurant', u'Tropisue\\xf1o', u'Akiko\\u2019s Restaurant & Sushi Bar', u'Delarosa', u'Quince', u'Amber India', u'Roka Akor', u'R&G Lounge', u'Cotogna', u'Coi', u'Trestle', u'Hops & Hominy', u'Caff\\xe8 Macaroni', u'E&O Kitchen and Bar', u'Golden Star Vietnamese Restaurant']\n",
      "--- 38.397758007 seconds ---\n",
      "[u'https://foursquare.com/v/roka-akor/50be8ac5f31c223ae77cdeb7/menu', u'https://foursquare.com/v/mixt-greens/4a0312fff964a52086711fe3/menu', u'http://sanfrancisco.menupages.com/restaurants/kusakabe/menu', u'https://foursquare.com/v/tlaloc-sabor-mexicano/4a028565f964a5205c711fe3/menu', u'https://foursquare.com/v/bocadillos/457eebaff964a520443f1fe3/menu', u'https://foursquare.com/v/barcha/562a7e02498e31c0f71e2a49/menu', u'https://foursquare.com/v/naked-lunch/4a8c5c11f964a520c40d20e3/menu', u'https://foursquare.com/v/caff%C3%A8-macaroni/4aca5050f964a52060c120e3/menu', u'https://foursquare.com/v/town-hall/4a4d0faaf964a52080ad1fe3/menu', u'http://trestlesf.com/dinner', u'https://foursquare.com/v/house-of-nanking/3fd66200f964a520d2ed1ee3/menu', u'https://foursquare.com/v/fog-harbor-fish-house/4bb78e967421a59307a6c040/menu', u'http://piermarket.com/menu/', u'https://foursquare.com/v/don-pistos/4b2956f6f964a5202e9d24e3/menu', u'https://foursquare.com/v/tosca-cafe/3fd66200f964a52042ed1ee3/menu', u'https://foursquare.com/v/crab-house/4aab2426f964a5201d5920e3/menu', u'https://foursquare.com/v/%C3%A8-tutto-qua/4a46a5d9f964a5203da91fe3/menu', u'https://foursquare.com/v/mos-grill/4a76580bf964a520dfe21fe3/menu', u'https://foursquare.com/v/baonecci-ristorante/4b24598cf964a5204a6624e3/menu', u'http://chubbynoodle.com/menu-3-1/', u'https://foursquare.com/v/freddies-sandwiches/49d323f2f964a520f05b1fe3/menu', u'https://foursquare.com/v/hunan-homes-restaurant/4a47ee99f964a52053aa1fe3/menu', u'https://foursquare.com/v/the-house/4b0a2fe5f964a520492223e3/menu', u'http://sanfrancisco.menupages.com/restaurants/il-casaro/menu', u'https://foursquare.com/v/golden-boy-pizza/42814b00f964a520ef211fe3/menu', u'https://foursquare.com/v/franchino/4a7cd069f964a520bbed1fe3/menu', u'https://foursquare.com/v/alfreds-steakhouse/3fd66200f964a520baec1ee3/menu', u'https://foursquare.com/v/se%C3%B1or-sisig/4c65ee1e7abde21e01516268/menu', u'https://foursquare.com/v/the-stinking-rose/3fd66200f964a520a9ed1ee3/menu', u'https://foursquare.com/v/sotto-mare-oysteria-and-seafood-restaurant/4aebaaccf964a52042c421e3/menu', u'https://foursquare.com/v/busters/49cc4c38f964a52067591fe3/menu', u'https://foursquare.com/v/mamas-on-washington-square/3fd66200f964a520a9ec1ee3/menu', u'https://foursquare.com/v/bund-shanghai-restaurant/4ab83586f964a520907c20e3/menu', u'https://foursquare.com/v/park-tavern/4e54752db61c93816c09a9d5/menu', u'https://foursquare.com/v/molinari-delicatessen/4a01fbbdf964a5201c711fe3/menu', u'https://foursquare.com/v/tonys-pizza-napoletana/4a469839f964a52029a91fe3/menu', u'https://foursquare.com/v/z--y-restaurant/4bf20c757077952137a63e7c/menu', u'https://foursquare.com/v/city-view-restaurant/4abfdac7f964a5209f9220e3/menu', u'https://foursquare.com/v/calzones/49c9a70bf964a5208e581fe3/menu'] [u'Roka Akor', u'Mixt Greens', u'Kusakabe', u'Tlaloc Sabor Mexicano', u'Bocadillos', u'Barcha', u'Naked Lunch', u'Caff\\xe8 Macaroni', u'Town Hall', u'Trestle', u'House of Nanking', u'Fog Harbor Fish House', u'Pier Market Seafood Restaurant', u\"Don Pisto's\", u'Tosca Cafe', u'Crab House', u'\\xc8 Tutto Qua!', u\"Mo's Grill\", u'Baonecci Ristorante', u'Chubby Noodle', u\"Freddie's Sandwiches\", u\"Hunan Home's Restaurant\", u'The House', u'il Casaro Pizzeria & Mozzarella Bar', u'Golden Boy Pizza', u'Franchino', u\"Alfred's Steakhouse\", u'Se\\xf1or Sisig', u'The Stinking Rose', u'Sotto Mare Oysteria and Seafood Restaurant', u\"Buster's\", u\"Mama's on Washington Square\", u'Bund Shanghai Restaurant', u'Park Tavern', u'Molinari Delicatessen', u'Tony\\u2019s Pizza Napoletana', u'Z & Y Restaurant', u'City View Restaurant', u\"Calzone's\"]\n",
      "--- 39.1086959839 seconds ---\n",
      "[] []\n",
      "--- 39.3368370533 seconds ---\n",
      "[] []\n",
      "--- 39.5642309189 seconds ---\n",
      "[u'https://foursquare.com/v/caftec/4f44a54519836ed001958498/menu', u'https://foursquare.com/v/the-jewel-restaurant/4e4dccb6bd41b76bef934d99/menu', u'https://foursquare.com/v/day-darnet-catering/4f44561619836ed001938bdf/menu'] [u'Caftec', u'The Jewel Restaurant', u'Day Darnet Catering']\n",
      "--- 39.8635668755 seconds ---\n",
      "[] []\n",
      "--- 40.0898709297 seconds ---\n",
      "[] []\n",
      "--- 40.6396279335 seconds ---\n",
      "[] []\n",
      "--- 41.0785779953 seconds ---\n",
      "[] []\n",
      "--- 41.3139128685 seconds ---\n"
     ]
    }
   ],
   "source": [
    "# NOTE: I rewrote the searched_venue_ids part, to work with the .explore API endpoints\n",
    "unique_venues_from_explore = []\n",
    "unique_venue_names_from_explore = []\n",
    "start_time = time.time()\n",
    "for x, y in grid_pairs:\n",
    "    try:\n",
    "        explore = client.venues.explore(params={'ll': '%.2f, %.2f' % (y, x), 'llAcc':'100.0','radius': '3000',\n",
    "                                               'section': 'food','limit':'50','offset':'50','sortByDistance':'1'})\n",
    "        explored_venue_ids = []\n",
    "        explored_venue_names = []\n",
    "        for i in range(len(explore['groups'][0]['items'])):\n",
    "            try:\n",
    "                pulled_id = explore['groups'][0]['items'][i]['venue']['menu']['url']\n",
    "                explored_venue_ids.append(pulled_id)\n",
    "                pulled_name = explore['groups'][0]['items'][i]['venue']['name']\n",
    "                explored_venue_names.append(pulled_name)\n",
    "            except:\n",
    "                pass\n",
    "        for next_id, next_name in zip(explored_venue_ids, explored_venue_names):\n",
    "            if 'foursquare.com' in str(next_id):\n",
    "                unique_venues_from_explore.append(next_id)\n",
    "                unique_venue_names_from_explore.append(next_name)\n",
    "        print(\"--- %s seconds ---\" % (time.time() - start_time))\n",
    "    except:\n",
    "        pass"
   ]
  },
  {
   "cell_type": "code",
   "execution_count": 22,
   "metadata": {
    "collapsed": false
   },
   "outputs": [
    {
     "name": "stdout",
     "output_type": "stream",
     "text": [
      "1362 1362\n"
     ]
    }
   ],
   "source": [
    "print len(unique_venue_names_from_explore), len(unique_venues_from_explore)"
   ]
  },
  {
   "cell_type": "code",
   "execution_count": 26,
   "metadata": {
    "collapsed": false
   },
   "outputs": [
    {
     "name": "stdout",
     "output_type": "stream",
     "text": [
      "--- 4.78885889053 seconds ---\n",
      "--- 22.3803648949 seconds ---\n",
      "--- 51.3394248486 seconds ---\n",
      "--- 61.2552258968 seconds ---\n",
      "--- 65.0905029774 seconds ---\n",
      "--- 69.841105938 seconds ---\n",
      "--- 85.9875249863 seconds ---\n",
      "--- 92.3588399887 seconds ---\n",
      "--- 94.4333457947 seconds ---\n",
      "--- 99.9304938316 seconds ---\n",
      "--- 106.302963972 seconds ---\n",
      "--- 117.754977942 seconds ---\n",
      "--- 126.242200851 seconds ---\n",
      "--- 136.669624805 seconds ---\n",
      "--- 147.496289968 seconds ---\n",
      "--- 151.145290852 seconds ---\n",
      "--- 165.825152874 seconds ---\n",
      "--- 169.614964962 seconds ---\n",
      "--- 174.458040953 seconds ---\n",
      "--- 176.92544198 seconds ---\n",
      "--- 180.788144827 seconds ---\n",
      "--- 183.491753817 seconds ---\n",
      "--- 198.771272898 seconds ---\n",
      "--- 203.05129981 seconds ---\n",
      "--- 205.352755785 seconds ---\n",
      "--- 215.284732819 seconds ---\n",
      "--- 217.5648489 seconds ---\n",
      "--- 229.305387974 seconds ---\n",
      "--- 236.550656796 seconds ---\n",
      "--- 240.609205008 seconds ---\n"
     ]
    }
   ],
   "source": [
    "# Actually, through the Explore endpoint, I was able to directly grab the menu url, so no need to manually build my\n",
    "# url this time...\n",
    "start_time = time.time()\n",
    "for menu_url in unique_venues_from_explore[:30]:\n",
    "    try:\n",
    "        parse_url(menu_url)\n",
    "    except:\n",
    "        pass\n",
    "    print(\"--- %s seconds ---\" % (time.time() - start_time))\n",
    "#Takes about 4 mins for 30 url's"
   ]
  },
  {
   "cell_type": "code",
   "execution_count": 36,
   "metadata": {
    "collapsed": false
   },
   "outputs": [
    {
     "data": {
      "text/plain": [
       "(3103, 9)"
      ]
     },
     "execution_count": 36,
     "metadata": {},
     "output_type": "execute_result"
    }
   ],
   "source": [
    "explore_else = pd.DataFrame(df_ready_rows, columns=column_headers)\n",
    "explore_else.shape"
   ]
  },
  {
   "cell_type": "code",
   "execution_count": 91,
   "metadata": {
    "collapsed": false
   },
   "outputs": [
    {
     "data": {
      "text/html": [
       "<div>\n",
       "<table border=\"1\" class=\"dataframe\">\n",
       "  <thead>\n",
       "    <tr style=\"text-align: right;\">\n",
       "      <th></th>\n",
       "      <th>venue_name</th>\n",
       "      <th>venue_desc_list</th>\n",
       "      <th>venue_menu_url</th>\n",
       "      <th>venue_rated</th>\n",
       "      <th>meta_menu_n</th>\n",
       "      <th>depth_menus_n</th>\n",
       "      <th>menu_item_name</th>\n",
       "      <th>menu_item_price</th>\n",
       "      <th>menu_item_desc</th>\n",
       "    </tr>\n",
       "  </thead>\n",
       "  <tbody>\n",
       "    <tr>\n",
       "      <th>0</th>\n",
       "      <td>Peking Restaurant</td>\n",
       "      <td>[Chinese Restaurant]</td>\n",
       "      <td>https://foursquare.com/v/peking-restaurant/4b9...</td>\n",
       "      <td>6.9</td>\n",
       "      <td>Main Menu</td>\n",
       "      <td>Appetizers</td>\n",
       "      <td>Vegetable Pot Stickers (6)</td>\n",
       "      <td>4.95</td>\n",
       "      <td>desc_not_available</td>\n",
       "    </tr>\n",
       "    <tr>\n",
       "      <th>1</th>\n",
       "      <td>Peking Restaurant</td>\n",
       "      <td>[Chinese Restaurant]</td>\n",
       "      <td>https://foursquare.com/v/peking-restaurant/4b9...</td>\n",
       "      <td>6.9</td>\n",
       "      <td>Main Menu</td>\n",
       "      <td>Appetizers</td>\n",
       "      <td>Fried Won Ton (10)</td>\n",
       "      <td>3.95</td>\n",
       "      <td>desc_not_available</td>\n",
       "    </tr>\n",
       "    <tr>\n",
       "      <th>2</th>\n",
       "      <td>Peking Restaurant</td>\n",
       "      <td>[Chinese Restaurant]</td>\n",
       "      <td>https://foursquare.com/v/peking-restaurant/4b9...</td>\n",
       "      <td>6.9</td>\n",
       "      <td>Main Menu</td>\n",
       "      <td>Appetizers</td>\n",
       "      <td>Boiled Shrimp Dumplings (10)</td>\n",
       "      <td>5.5</td>\n",
       "      <td>desc_not_available</td>\n",
       "    </tr>\n",
       "    <tr>\n",
       "      <th>3</th>\n",
       "      <td>Peking Restaurant</td>\n",
       "      <td>[Chinese Restaurant]</td>\n",
       "      <td>https://foursquare.com/v/peking-restaurant/4b9...</td>\n",
       "      <td>6.9</td>\n",
       "      <td>Main Menu</td>\n",
       "      <td>Appetizers</td>\n",
       "      <td>Combination Hot Appetizers (for Two)</td>\n",
       "      <td>7.95</td>\n",
       "      <td>2 egg rolls, 4 fried shrimps and 4 pot stickers.</td>\n",
       "    </tr>\n",
       "    <tr>\n",
       "      <th>4</th>\n",
       "      <td>Peking Restaurant</td>\n",
       "      <td>[Chinese Restaurant]</td>\n",
       "      <td>https://foursquare.com/v/peking-restaurant/4b9...</td>\n",
       "      <td>6.9</td>\n",
       "      <td>Main Menu</td>\n",
       "      <td>Appetizers</td>\n",
       "      <td>Vegetarian Egg Rolls (4) *</td>\n",
       "      <td>3.95</td>\n",
       "      <td>desc_not_available</td>\n",
       "    </tr>\n",
       "  </tbody>\n",
       "</table>\n",
       "</div>"
      ],
      "text/plain": [
       "          venue_name       venue_desc_list  \\\n",
       "0  Peking Restaurant  [Chinese Restaurant]   \n",
       "1  Peking Restaurant  [Chinese Restaurant]   \n",
       "2  Peking Restaurant  [Chinese Restaurant]   \n",
       "3  Peking Restaurant  [Chinese Restaurant]   \n",
       "4  Peking Restaurant  [Chinese Restaurant]   \n",
       "\n",
       "                                      venue_menu_url  venue_rated meta_menu_n  \\\n",
       "0  https://foursquare.com/v/peking-restaurant/4b9...          6.9   Main Menu   \n",
       "1  https://foursquare.com/v/peking-restaurant/4b9...          6.9   Main Menu   \n",
       "2  https://foursquare.com/v/peking-restaurant/4b9...          6.9   Main Menu   \n",
       "3  https://foursquare.com/v/peking-restaurant/4b9...          6.9   Main Menu   \n",
       "4  https://foursquare.com/v/peking-restaurant/4b9...          6.9   Main Menu   \n",
       "\n",
       "  depth_menus_n                        menu_item_name menu_item_price  \\\n",
       "0    Appetizers            Vegetable Pot Stickers (6)            4.95   \n",
       "1    Appetizers                    Fried Won Ton (10)            3.95   \n",
       "2    Appetizers          Boiled Shrimp Dumplings (10)             5.5   \n",
       "3    Appetizers  Combination Hot Appetizers (for Two)            7.95   \n",
       "4    Appetizers            Vegetarian Egg Rolls (4) *            3.95   \n",
       "\n",
       "                                     menu_item_desc  \n",
       "0                                desc_not_available  \n",
       "1                                desc_not_available  \n",
       "2                                desc_not_available  \n",
       "3  2 egg rolls, 4 fried shrimps and 4 pot stickers.  \n",
       "4                                desc_not_available  "
      ]
     },
     "execution_count": 91,
     "metadata": {},
     "output_type": "execute_result"
    }
   ],
   "source": [
    "explore_else.head()"
   ]
  },
  {
   "cell_type": "code",
   "execution_count": null,
   "metadata": {
    "collapsed": true
   },
   "outputs": [],
   "source": [
    "#BELOW ARE POTENTIALLY USEFUL, BUT UNUSED MATERIAL::"
   ]
  },
  {
   "cell_type": "code",
   "execution_count": 79,
   "metadata": {
    "collapsed": false
   },
   "outputs": [
    {
     "name": "stdout",
     "output_type": "stream",
     "text": [
      "155 [1690, 1691, 1692, 1693, 1694, 1695, 1696, 1697, 1698, 1699, 1700, 1701, 1702, 1703, 1704, 1705, 1706, 1707, 1708, 1709, 1710, 1711, 1712, 1713, 1714, 1715, 1716, 1717, 1718, 1719, 1720, 1721, 1722, 1723, 1724, 1725, 1726, 1727, 1728, 1729, 1730, 1731, 1732, 1733, 1734, 1735, 1736, 1737, 1738, 1739, 1740, 1741, 1742, 1743, 1744, 1745, 1746, 1747, 1748, 1749, 1750, 1751, 1752, 1753, 1754, 1755, 1756, 1757, 1758, 1759, 1760, 1761, 1762, 1763, 1764, 1765, 1766, 1767, 1768, 1769, 1770, 1771, 1772, 1773, 1774, 1775, 1776, 1777, 1778, 1779, 1780, 1781, 1782, 1783, 1784, 1785, 1786, 1787, 1788, 1789, 1790, 1791, 1792, 1793, 1794, 1795, 1796, 1797, 1798, 1799, 1800, 1801, 1802, 1803, 1804, 1805, 1806, 1807, 1808, 1809, 1810, 1811, 1812, 1813, 1814, 1815, 1816, 1817, 1818, 1819, 1820, 1821, 1822, 1823, 1824, 1825, 1826, 1827, 1828, 1829, 1830, 1831, 1832, 1833, 1834, 1835, 1836, 1837, 1838, 1839, 1840, 1841, 1842, 1843, 1844]\n"
     ]
    }
   ],
   "source": [
    "# Here I'm just testing out a prototype search function\n",
    "count = 0\n",
    "loc_list = []\n",
    "for i in range(explore_else.shape[0]):\n",
    "    flat_desc = ' '.join(explore_else.venue_desc_list[i])\n",
    "    if 'asian' in flat_desc.lower():\n",
    "        count += 1\n",
    "        loc_list.append(i)\n",
    "print count, loc_list"
   ]
  },
  {
   "cell_type": "code",
   "execution_count": 90,
   "metadata": {
    "collapsed": false
   },
   "outputs": [
    {
     "data": {
      "text/html": [
       "<div>\n",
       "<table border=\"1\" class=\"dataframe\">\n",
       "  <thead>\n",
       "    <tr style=\"text-align: right;\">\n",
       "      <th></th>\n",
       "      <th>venue_name</th>\n",
       "      <th>venue_desc_list</th>\n",
       "      <th>venue_menu_url</th>\n",
       "      <th>venue_rated</th>\n",
       "      <th>meta_menu_n</th>\n",
       "      <th>depth_menus_n</th>\n",
       "      <th>menu_item_name</th>\n",
       "      <th>menu_item_price</th>\n",
       "      <th>menu_item_desc</th>\n",
       "    </tr>\n",
       "  </thead>\n",
       "  <tbody>\n",
       "    <tr>\n",
       "      <th>1844</th>\n",
       "      <td>Lam Hoa Thuan Restaurant</td>\n",
       "      <td>[Asian Restaurant]</td>\n",
       "      <td>https://foursquare.com/v/lam-hoa-thuan-restaur...</td>\n",
       "      <td>7.5</td>\n",
       "      <td>Main Menu</td>\n",
       "      <td>Beverages</td>\n",
       "      <td>Chedaudo</td>\n",
       "      <td>2.25</td>\n",
       "      <td>Red bean drink with coconut milk</td>\n",
       "    </tr>\n",
       "  </tbody>\n",
       "</table>\n",
       "</div>"
      ],
      "text/plain": [
       "                    venue_name     venue_desc_list  \\\n",
       "1844  Lam Hoa Thuan Restaurant  [Asian Restaurant]   \n",
       "\n",
       "                                         venue_menu_url  venue_rated  \\\n",
       "1844  https://foursquare.com/v/lam-hoa-thuan-restaur...          7.5   \n",
       "\n",
       "     meta_menu_n depth_menus_n menu_item_name menu_item_price  \\\n",
       "1844   Main Menu     Beverages       Chedaudo            2.25   \n",
       "\n",
       "                        menu_item_desc  \n",
       "1844  Red bean drink with coconut milk  "
      ]
     },
     "execution_count": 90,
     "metadata": {},
     "output_type": "execute_result"
    }
   ],
   "source": [
    "for i in loc_list:\n",
    "    dffff = explore_else.loc[[i]]\n",
    "dffff"
   ]
  },
  {
   "cell_type": "code",
   "execution_count": 72,
   "metadata": {
    "collapsed": true
   },
   "outputs": [],
   "source": [
    "# This will be the func to add the next offset to my completed venue list...\n",
    "def extend_unique_venues(unique_venues, proposed_venue):\n",
    "    if proposed_venue not in unique_venues:\n",
    "        unique_venues.append(proposed_venue)"
   ]
  },
  {
   "cell_type": "code",
   "execution_count": null,
   "metadata": {
    "collapsed": true
   },
   "outputs": [],
   "source": [
    "# # Category/column titles, in order:\n",
    "# # [venue_name, venue_desc_list, venue_menu_url, venue_rated], [meta_menu_n], [depth_menus_n], [menu_item_name,\n",
    "# # menu_item_price, menu_item_desc]\n",
    "\n",
    "# venue_rows = []\n",
    "# for [venue_name, venue_desc_list, venue_menu_url, venue_rated] in venues: \n",
    "#     for meta_menu in meta_menu_n:\n",
    "#         for depth_menu in depth_menus_n:\n",
    "#             venue_rows.append([venue_name,\n",
    "#                                venue_desc_list,\n",
    "#                                venue_rated,\n",
    "#                                meta_menu,\n",
    "#                                depth_menu,\n",
    "#                                menu_item_name,\n",
    "#                                menu_item_price,\n",
    "#                                menu_item_desc])"
   ]
  },
  {
   "cell_type": "code",
   "execution_count": 9,
   "metadata": {
    "collapsed": true
   },
   "outputs": [],
   "source": [
    "# # Category/column titles, in order:\n",
    "# # [venue_name, venue_desc_list, venue_menu_url, venue_rated], [meta_menu_n], [depth_menus_n], [menu_item_name,\n",
    "# # menu_item_price, menu_item_desc]\n",
    "\n",
    "# venue_dict = {}\n",
    "# for [venue_name, venue_desc_list, venue_menu_url, venue_rated] in venues:\n",
    "#     venue_dict[venue_name] = {'desc_list':venue_desc_list,\n",
    "#                               'menu_url':venue_menu_url,\n",
    "#                               'rating':venue_rated}\n",
    "    \n",
    "#     for meta_menu in meta_menu_n:\n",
    "#         venue_dict[venue_name][meta_menu] = {}\n",
    "            \n",
    "#         for depth_menu in depth_menus_n:\n",
    "#             venue_dict[venue_name][meta_menu][depth_menu] = {'menu_item_name':menu_item_name,\n",
    "#                                                              'menu_item_price':menu_item_price,\n",
    "#                                                              'menu_item_desc':menu_item_desc}\n",
    "            \n"
   ]
  }
 ],
 "metadata": {
  "anaconda-cloud": {},
  "kernelspec": {
   "display_name": "Python [conda env:dsi]",
   "language": "python",
   "name": "conda-env-dsi-py"
  },
  "language_info": {
   "codemirror_mode": {
    "name": "ipython",
    "version": 2
   },
   "file_extension": ".py",
   "mimetype": "text/x-python",
   "name": "python",
   "nbconvert_exporter": "python",
   "pygments_lexer": "ipython2",
   "version": "2.7.12"
  }
 },
 "nbformat": 4,
 "nbformat_minor": 1
}
