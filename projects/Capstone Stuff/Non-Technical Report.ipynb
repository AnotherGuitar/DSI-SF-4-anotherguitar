{
 "cells": [
  {
   "cell_type": "markdown",
   "metadata": {},
   "source": [
    "# Next Dish"
   ]
  },
  {
   "cell_type": "markdown",
   "metadata": {},
   "source": [
    "About four months ago, I made a significant personal dietary change - by 'going vegan.' Though I had fully expected the difficulties that would come with my regular grocery shopping, I was honestly surprised to discover how difficult it was to source meals on the go.\n",
    "\n",
    "To first understand the perpsective of a vegan looking to eat out, you have to understand how different the experience is compared to someone who adheres to an Omni (or omnivorous) diet - or frankly other less strict diets. Perhaps the best resources that currently exist are apps like Yelp and Foursquare. However, a quick search for vegan items on either of these apps surfaces, at best, a few restaurants that may or may not actually serve vegan dishes. Why? Reviews or tips by disgruntled vegan users may be surfaced - not relevant venues. Other times, you are forced to look through menu after menu searching for items that might fit the dietary requirements. Worse yet, you are only able to search through nearby venues, even if you were willing to take public transportation a few stops to find suitable options. You might be surprised at the lengths that vegan consumers are willing to go just to be able to find food! Interestingly, many of these issues stem principally from the different ways that customers look at sourcing their meals - the one-size-fits-all approach Yelp and Foursquare take of just surfacing local venues isn't good enough.\n",
    "\n",
    "But offline, one can often locate vegan dishes at omnivorous venues, not just at vegan-focused ones. So I set out to instead prioritize what has thusly been overlooked in software products: the dishes themselves. For my project, I hope to predict whether or not a particular menu item is vegan. By building a relatively robust predictive model, I could then see a few direct-to-consumer business opportunities. For example, I could create a Foursquare-esque competitor that would surface strictly menu items predicted to be vegan. To improve the quality of results, I would suggest adding user inputs, such as a voting mechanism, as a check to corroborate the predicted options surfaced via my model. Alternatively, I would hope to leverage my work to create a simple widget that would surface likely food groups (for example, if the item has dairy/eggs) when provided a user inputted food item. This type of tool would also help to develop new verticals, where I could surface vegan-friendly dishes to vegans, gluten-free dishes to gluten-free folks, etc.\n",
    "\n",
    "I could also make a tool that lets a user enter a food item as a query, and output the predicted likelihood of that item being vegan, or having certain ingredient-level characteristics."
   ]
  },
  {
   "cell_type": "markdown",
   "metadata": {},
   "source": [
    "## Sourcing menu information"
   ]
  },
  {
   "cell_type": "markdown",
   "metadata": {},
   "source": [
    "I was fortunately able to use a combination of sources to extract all the data I would need. I used Foursquare to help me figure out which venues had menus that were available online, and then I extracted that information, down to the dish-level. As part of my data collection, I pulled everything from the price of each menu item, to the sub-menus, to the venue's collective rating by users. But in order to determine what ingredients might be in any dish that I found through Foursquare, I would need to find a reputable source that I could compare my menu datat to.\n",
    "\n",
    "Fortunately, I was able to find a relatively comprehensive dataset from the USDA. They had organized information on over 8,100 unique food items, labeling which food group an item belonged to as well as ingredient-level information on each item. This allowed me to create a simple model that would tell me what a typical food item looked like for a given food group. In total, there were 25 unique food groups, which "
   ]
  }
 ],
 "metadata": {
  "anaconda-cloud": {},
  "kernelspec": {
   "display_name": "Python [conda env:dsi]",
   "language": "python",
   "name": "conda-env-dsi-py"
  },
  "language_info": {
   "codemirror_mode": {
    "name": "ipython",
    "version": 2
   },
   "file_extension": ".py",
   "mimetype": "text/x-python",
   "name": "python",
   "nbconvert_exporter": "python",
   "pygments_lexer": "ipython2",
   "version": "2.7.12"
  }
 },
 "nbformat": 4,
 "nbformat_minor": 1
}
