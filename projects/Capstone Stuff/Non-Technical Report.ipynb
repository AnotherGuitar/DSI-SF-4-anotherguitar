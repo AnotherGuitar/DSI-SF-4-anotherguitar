{
 "cells": [
  {
   "cell_type": "markdown",
   "metadata": {},
   "source": [
    "# Next Dish"
   ]
  },
  {
   "cell_type": "markdown",
   "metadata": {},
   "source": [
    "## Introduction"
   ]
  },
  {
   "cell_type": "markdown",
   "metadata": {},
   "source": [
    "About four months ago, I made a significant personal dietary change - by 'going vegan.' Though I had fully expected the difficulties that would come with my regular grocery shopping, I was honestly surprised to discover how difficult it was to source meals on the go.\n",
    "\n",
    "To first understand the perpsective of a vegan looking to eat out, you have to understand how different the experience is compared to someone who adheres to an Omni (or omnivorous) diet - or frankly other less strict diets. Perhaps the best resources that currently exist are apps like Yelp and Foursquare. However, a quick search for vegan items on either of these apps surfaces, at best, a few restaurants that may or may not actually serve vegan dishes. Why? Reviews or tips by disgruntled vegan users may be surfaced - not relevant venues. Other times, you are forced to look through menu after menu searching for items that might fit the dietary requirements. Worse yet, you are only able to search through nearby venues, even if you were willing to take public transportation a few stops to find suitable options. You might be surprised at the lengths that vegan consumers are willing to go just to be able to find food! Interestingly, many of these issues stem principally from the different ways that customers look at sourcing their meals - the one-size-fits-all approach Yelp and Foursquare take of just surfacing local venues isn't good enough.\n",
    "\n",
    "But offline, one can often locate vegan dishes at omnivorous venues, not just at vegan-focused ones. So I set out to instead prioritize what has thusly been overlooked in software products: the dishes themselves. For my project, I hope to predict whether or not a particular menu item is vegan. By building a relatively robust predictive model, I could then see a few direct-to-consumer business opportunities. For example, I could create a Foursquare-esque competitor that would surface strictly menu items predicted to be vegan. To improve the quality of results, I would suggest adding user inputs, such as a voting mechanism, as a check to corroborate the predicted options surfaced via my model. Alternatively, I would hope to leverage my work to create a simple widget that would surface likely food groups (for example, if the item has dairy/eggs) when provided a user inputted food item. This type of tool would also help to develop new verticals, where I could surface vegan-friendly dishes to vegans, gluten-free dishes to gluten-free folks, etc.\n",
    "\n",
    "I could also make a tool that lets a user enter a food item as a query, and output the predicted likelihood of that item being vegan, or having certain ingredient-level characteristics."
   ]
  },
  {
   "cell_type": "markdown",
   "metadata": {},
   "source": [
    "## Sourcing menu information"
   ]
  },
  {
   "cell_type": "markdown",
   "metadata": {},
   "source": [
    "I was fortunately able to use a combination of sources to extract all the data I would need. I used Foursquare to help me figure out which venues had menus that were available online, and then I extracted that information, down to the dish-level. As part of my data collection, I pulled everything from the price of each menu item, to the sub-menus, to the venue's collective rating by users. But in order to determine what ingredients might be in any dish that I found through Foursquare, I would need to find a reputable source that I could compare my menu datat to.\n",
    "\n",
    "Fortunately, I was able to find a relatively comprehensive dataset from the USDA. They had organized information on over 8,100 unique food items, labeling which food group an item belonged to as well as ingredient-level information on each item. This allowed me to create a simple model that would tell me what a typical food item looked like for a given food group. In total, there were 25 unique food groups, which provided a good structure for dividing up all the food items collected from Foursquare."
   ]
  },
  {
   "cell_type": "markdown",
   "metadata": {},
   "source": [
    "## High-level view of the Foursquare dishes"
   ]
  },
  {
   "cell_type": "markdown",
   "metadata": {},
   "source": [
    "Before I dive into the process of collating the USDA data with the Foursquare data, there were a few bigger picture trends that I found interesting. As a proportion, for instance, vegan dishes were generally more varied across vegan venues than their omni (omnivorous) counterparts. Omni venues tend to have more overlapping menus as a result, providing a more homogenous dining experience. Also, ethnic foods were a far larger proportion of the total number of vegan dishes than for omni dishes, so this doubtlessly reinforced the trend of diverse foods in the vegan subset.\n",
    "\n",
    "The pricing data yielded highly contrarian results. Compared to the omni median dish price, the vegan median dish price was over a dollar cheaper. Furthermore, the vegan dish prices are far more normally distributed, compared to omni dish prices. This means that the average price for a vegan dish is around $8$, and you can find that most dishes will be priced relatively close to that central price. However with omni dishes, while the average price is above $10$ per dish, there are also far more items above the $10$ average price than are below it."
   ]
  },
  {
   "cell_type": "markdown",
   "metadata": {},
   "source": [
    "## How to assign dishes to the correct food group"
   ]
  },
  {
   "cell_type": "markdown",
   "metadata": {},
   "source": [
    "So. Given that I was able to figure out that there were 25 food groups, I had to come up with a viable way to assign each dish, one by one, into one or more of those groups. So my strategy involved a couple steps: 1) I would make a tool to help me automate the decision-making process. 2) I would modify that tool so that it would be able to handle a modest number of anomalous food dishes. From there, I could just apply the tool to each menu item, and wait for the results.\n",
    "\n",
    "Automating the food-group matching proved to be challenging, but the effort ultimately paid off. My general approach was to figure out how common a unique term would appear across the food descriptions of each unique food group. Then, I was able to rank which food groups yielded the best matches to the term. When testing this automation tool, I was pleased to find that many of my English language query results made intuitive sense (for example, 'tofu' was being labeled as a legume product, because of the soy in it). The more difficult aspect arose from modifying the tool to accept more than a single unique term. Considering that this project was a simplistic first-iteration, I decided to simple look at each term in a complex query and apply my tool. So the basic theory was a sum-of-parts model. Unfortunately, this approach introduced a great deal of noise into batching food items into the correct groups. On the input side, the queries that I was drawing from my Foursquare data were direct and unadulterated. Because of that, menu items like 'chicken salad with chips and a pickle' confused my tool significantly. Instead of assuming that the 'chicken salad' component was most important, the tool gave equal importance to the pickle and the chips. And on the output side, my food groups were not as sophisticated as I first assumed. While they were able to accurately batch items that had clearly defined food groups (for example, 'cheese' was easy to batch as being a dairy product), many dishes are often more complex. So a quiche may have cheese, and vegetables, and perhaps a meat ingredient - the tool thus had a hard time figuring out which group to rank most highly."
   ]
  },
  {
   "cell_type": "markdown",
   "metadata": {},
   "source": [
    "## Results"
   ]
  },
  {
   "cell_type": "markdown",
   "metadata": {},
   "source": [
    "As you may have guessed by now, due to the issues encountered batching the dishes into the proper food groups, I had troubles making an accurate prediction on the vegan question. My initial strategy had been that if I could get relatively well-defined food groups, like for beef, dairy, vegetables etc, it would be easy to rule out a vegan item quickly. From there, I'd be able to focus on optimizing around the more obscure or subtle food groups, and help the model get better at affirmatively choosing vegan dishes. The core of the aforementioned issues, though, revolves around the first-principle difficulty of classifying an anomalous variable both consistently and accurately. I was and still remain somewhat optimistic on this front only because there are definitive categories that help dwindle down the likely choices of how to classify a dish (again, the beef, dairy, and egg categories are prime examples). What may also help in advancing this project to its ultimate goal would be a user input to assist my predictions. If a user input was able to verify a predicted outcome of a dish being vegan/not-vegan, I would have stronger data with which to train my models on. Nonetheless, I am pleased with the progress I was able to make, as I now feel that I have a much more complete understanding of the true bottlenecks in developing a predictor like the one I have outlined. Perhaps one day, I'll be able to develop a user-facing product based on the success of the project."
   ]
  }
 ],
 "metadata": {
  "anaconda-cloud": {},
  "kernelspec": {
   "display_name": "Python [conda env:dsi]",
   "language": "python",
   "name": "conda-env-dsi-py"
  },
  "language_info": {
   "codemirror_mode": {
    "name": "ipython",
    "version": 2
   },
   "file_extension": ".py",
   "mimetype": "text/x-python",
   "name": "python",
   "nbconvert_exporter": "python",
   "pygments_lexer": "ipython2",
   "version": "2.7.12"
  }
 },
 "nbformat": 4,
 "nbformat_minor": 1
}
