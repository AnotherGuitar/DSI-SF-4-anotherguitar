{
 "cells": [
  {
   "cell_type": "code",
   "execution_count": 1,
   "metadata": {
    "collapsed": true
   },
   "outputs": [],
   "source": [
    "# brew install graphviz\n",
    "# pip install pydotplus\n",
    "# pip install scrapy\n",
    "# pip install --upgrade zope2\n",
    "\n",
    "from collections import Counter\n",
    "import foursquare\n",
    "from ipywidgets import widgets\n",
    "from IPython.display import display, Image\n",
    "import json\n",
    "import matplotlib.pyplot as plt\n",
    "import numpy as np\n",
    "import operator\n",
    "from operator import itemgetter\n",
    "import pandas as pd\n",
    "import patsy\n",
    "import pickle\n",
    "import pydotplus\n",
    "import random\n",
    "import requests\n",
    "import seaborn as sns\n",
    "from scrapy import Selector\n",
    "from scrapy.http import HtmlResponse\n",
    "from sqlalchemy import create_engine\n",
    "import sqlite3\n",
    "#LinReg, LogReg\n",
    "from sklearn.cross_validation import cross_val_score, train_test_split\n",
    "from sklearn.grid_search import GridSearchCV\n",
    "from sklearn.linear_model import Ridge, Lasso, ElasticNet, LinearRegression, LogisticRegression,\\\n",
    "RidgeCV, LassoCV, ElasticNetCV\n",
    "from sklearn.preprocessing import StandardScaler\n",
    "from sklearn.feature_extraction.text import CountVectorizer, TfidfVectorizer\n",
    "# Decision trees, Random Forest\n",
    "from sklearn.ensemble import RandomForestClassifier\n",
    "from sklearn.externals.six import StringIO\n",
    "from sklearn.metrics import classification_report, confusion_matrix\n",
    "from sklearn.tree import DecisionTreeClassifier, DecisionTreeRegressor, export_graphviz\n",
    "import textacy\n",
    "import textacy.data\n",
    "import time\n",
    "import unicodedata\n",
    "\n",
    "%matplotlib inline\n",
    "%config InlineBackend.figure_format = 'retina'"
   ]
  },
  {
   "cell_type": "code",
   "execution_count": 8,
   "metadata": {
    "collapsed": true
   },
   "outputs": [],
   "source": [
    "conn = sqlite3.connect('./../../../../../Downloads/allrecipe.db')"
   ]
  },
  {
   "cell_type": "code",
   "execution_count": 28,
   "metadata": {
    "collapsed": false
   },
   "outputs": [
    {
     "data": {
      "text/plain": [
       "array([u'Bread', u'Breakfast and Brunch', u'null', u'Main Dish',\n",
       "       u'Side Dish', u'Healthy Recipes', u'World Cuisine',\n",
       "       u'Everyday Cooking', u'Appetizers and Snacks', u'Desserts',\n",
       "       u'Fruits and Vegetables', u'Holidays and Events', u'U.S. Recipes',\n",
       "       u'Ingredients'], dtype=object)"
      ]
     },
     "execution_count": 28,
     "metadata": {},
     "output_type": "execute_result"
    }
   ],
   "source": [
    "c = conn.cursor()\n",
    "sql = c.execute('SELECT * FROM recipes')\n",
    "# graph, meta, and recipes lists\n",
    "# print c.fetchall()\n",
    "example = pd.DataFrame(c.fetchall())\n",
    "example[2].unique()"
   ]
  },
  {
   "cell_type": "code",
   "execution_count": 29,
   "metadata": {
    "collapsed": false
   },
   "outputs": [
    {
     "data": {
      "text/plain": [
       "(999, 801)"
      ]
     },
     "execution_count": 29,
     "metadata": {},
     "output_type": "execute_result"
    }
   ],
   "source": [
    "example.shape"
   ]
  },
  {
   "cell_type": "code",
   "execution_count": null,
   "metadata": {
    "collapsed": true
   },
   "outputs": [],
   "source": []
  }
 ],
 "metadata": {
  "anaconda-cloud": {},
  "kernelspec": {
   "display_name": "Python [conda env:dsi]",
   "language": "python",
   "name": "conda-env-dsi-py"
  },
  "language_info": {
   "codemirror_mode": {
    "name": "ipython",
    "version": 2
   },
   "file_extension": ".py",
   "mimetype": "text/x-python",
   "name": "python",
   "nbconvert_exporter": "python",
   "pygments_lexer": "ipython2",
   "version": "2.7.12"
  }
 },
 "nbformat": 4,
 "nbformat_minor": 1
}
