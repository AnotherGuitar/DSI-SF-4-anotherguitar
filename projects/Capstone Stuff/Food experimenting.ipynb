{
 "cells": [
  {
   "cell_type": "code",
   "execution_count": 1,
   "metadata": {
    "collapsed": true
   },
   "outputs": [],
   "source": [
    "# brew install graphviz\n",
    "# pip install pydotplus\n",
    "# pip install scrapy\n",
    "# pip install --upgrade zope2\n",
    "\n",
    "from collections import Counter\n",
    "import foursquare\n",
    "from ipywidgets import widgets\n",
    "from IPython.display import display, Image\n",
    "import json\n",
    "import matplotlib.pyplot as plt\n",
    "import numpy as np\n",
    "import operator\n",
    "from operator import itemgetter\n",
    "import pandas as pd\n",
    "import patsy\n",
    "import pickle\n",
    "import pydotplus\n",
    "import random\n",
    "import requests\n",
    "import seaborn as sns\n",
    "from scrapy import Selector\n",
    "from scrapy.http import HtmlResponse\n",
    "from sqlalchemy import create_engine\n",
    "import sqlite3\n",
    "#LinReg, LogReg\n",
    "from sklearn.cross_validation import cross_val_score, train_test_split\n",
    "from sklearn.grid_search import GridSearchCV\n",
    "from sklearn.linear_model import Ridge, Lasso, ElasticNet, LinearRegression, LogisticRegression,\\\n",
    "RidgeCV, LassoCV, ElasticNetCV\n",
    "from sklearn.preprocessing import StandardScaler\n",
    "from sklearn.feature_extraction.text import CountVectorizer, TfidfVectorizer\n",
    "# Decision trees, Random Forest\n",
    "from sklearn.ensemble import RandomForestClassifier\n",
    "from sklearn.externals.six import StringIO\n",
    "from sklearn.metrics import classification_report, confusion_matrix\n",
    "from sklearn.tree import DecisionTreeClassifier, DecisionTreeRegressor, export_graphviz\n",
    "import textacy\n",
    "import textacy.data\n",
    "import time\n",
    "import unicodedata\n",
    "\n",
    "%matplotlib inline\n",
    "%config InlineBackend.figure_format = 'retina'"
   ]
  },
  {
   "cell_type": "code",
   "execution_count": 2,
   "metadata": {
    "collapsed": true
   },
   "outputs": [],
   "source": [
    "recipes = pd.read_csv('../../../../../Downloads/whats_in_the_fridge-master/data/recipes_clean_w_rfc_model.csv')"
   ]
  },
  {
   "cell_type": "code",
   "execution_count": 5,
   "metadata": {
    "collapsed": false
   },
   "outputs": [
    {
     "data": {
      "text/plain": [
       "['chocolate', 'dessert', 'cake']                  374\n",
       "['chocolate', 'dessert', 'cookie']                313\n",
       "['chocolate', 'dessert', 'candy']                 217\n",
       "['beef', 'main dish', 'steak']                    199\n",
       "['chocolate', 'dessert', 'brownie']               175\n",
       "['beef', 'dinner', 'steak']                       164\n",
       "['chocolate', 'dessert', 'baking']                164\n",
       "['chocolate', 'dessert', 'cupcake']               151\n",
       "['easy', 'fall']                                  147\n",
       "['apple', 'dessert', 'pie']                       128\n",
       "['dairy', 'dessert', 'cookie']                    118\n",
       "['chicken', 'main dish', 'grilling']              110\n",
       "['chocolate', 'dessert']                          107\n",
       "['dairy', 'dessert', 'cake']                      104\n",
       "['chicken', 'dinner', 'roasting']                  99\n",
       "['dairy', 'dessert', 'homemade ice cream']         97\n",
       "['chocolate', 'dessert', 'homemade ice cream']     97\n",
       "['chocolate', 'dessert', 'pie']                    90\n",
       "['beef', 'lunch', 'sandwich']                      85\n",
       "['apple', 'dessert', 'baking']                     83\n",
       "['chicken', 'dinner']                              82\n",
       "['chicken', 'main dish']                           82\n",
       "['potato', 'side dish']                            79\n",
       "['nuts', 'dessert', 'baking']                      78\n",
       "['chicken', 'dinner', 'sauteing']                  77\n",
       "['beef', 'dinner', 'roast']                        75\n",
       "['dessert', 'cookie', 'baking']                    74\n",
       "['pork', 'dinner', 'roast']                        73\n",
       "['chicken', 'main dish', 'salad']                  72\n",
       "['shrimp', 'appetizer', 'grilling']                72\n",
       "                                                 ... \n",
       "['avocado', 'side dish', 'baking']                  1\n",
       "['fish', 'lunch', 'pesto']                          1\n",
       "['shellfish', 'salad dressing', 'easy']             1\n",
       "['cod', 'main dish', 'salad']                       1\n",
       "['fish', 'dinner', 'fries']                         1\n",
       "['chicken', 'dinner', 'cajun']                      1\n",
       "['pear', 'side dish', 'puree']                      1\n",
       "['poultry', 'lunch', 'grilling']                    1\n",
       "['turkey', 'appetizer', 'pastry']                   1\n",
       "['gin', 'main dish', 'easy']                        1\n",
       "['eggs', 'pie', 'southern']                         1\n",
       "['sausage', 'appetizer', 'pie']                     1\n",
       "['tuna', 'pizza', 'baking']                         1\n",
       "['lamb', 'lunch', 'greek']                          1\n",
       "['beans and legumes', 'dinner', 'casserole']        1\n",
       "['eggs', 'cheesecake', 'baking']                    1\n",
       "['zucchini', 'lunch', 'stuffing and dressing']      1\n",
       "['grains', 'salad', 'marinating']                   1\n",
       "['black eyed pea', 'dinner', 'southern']            1\n",
       "['main dish', 'roasting', 'southern']               1\n",
       "['corn', 'salad', 'marinating']                     1\n",
       "['raspberry', 'dessert', 'brownie']                 1\n",
       "['tomato', 'sauce', 'spring']                       1\n",
       "['eggs', 'side dish', 'european']                   1\n",
       "['chocolate', 'doughnuts', 'baking']                1\n",
       "['eggs', 'soup', 'chinese']                         1\n",
       "['tomato', 'appetizer', 'meatballs']                1\n",
       "['spinach', 'soup', 'chinese']                      1\n",
       "['meat', 'risotto', 'simmer']                       1\n",
       "['scallop', 'poaching', 'mexican']                  1\n",
       "Name: categories, dtype: int64"
      ]
     },
     "execution_count": 5,
     "metadata": {},
     "output_type": "execute_result"
    }
   ],
   "source": [
    "recipes.categories.value_counts()"
   ]
  },
  {
   "cell_type": "code",
   "execution_count": 8,
   "metadata": {
    "collapsed": true
   },
   "outputs": [],
   "source": [
    "conn = sqlite3.connect('./../../../../../Downloads/allrecipe.db')"
   ]
  },
  {
   "cell_type": "code",
   "execution_count": 28,
   "metadata": {
    "collapsed": false
   },
   "outputs": [
    {
     "data": {
      "text/plain": [
       "array([u'Bread', u'Breakfast and Brunch', u'null', u'Main Dish',\n",
       "       u'Side Dish', u'Healthy Recipes', u'World Cuisine',\n",
       "       u'Everyday Cooking', u'Appetizers and Snacks', u'Desserts',\n",
       "       u'Fruits and Vegetables', u'Holidays and Events', u'U.S. Recipes',\n",
       "       u'Ingredients'], dtype=object)"
      ]
     },
     "execution_count": 28,
     "metadata": {},
     "output_type": "execute_result"
    }
   ],
   "source": [
    "c = conn.cursor()\n",
    "sql = c.execute('SELECT * FROM recipes')\n",
    "# graph, meta, and recipes lists\n",
    "# print c.fetchall()\n",
    "example = pd.DataFrame(c.fetchall())\n",
    "example[2].unique()"
   ]
  },
  {
   "cell_type": "code",
   "execution_count": 29,
   "metadata": {
    "collapsed": false
   },
   "outputs": [
    {
     "data": {
      "text/plain": [
       "(999, 801)"
      ]
     },
     "execution_count": 29,
     "metadata": {},
     "output_type": "execute_result"
    }
   ],
   "source": [
    "example.shape"
   ]
  },
  {
   "cell_type": "code",
   "execution_count": null,
   "metadata": {
    "collapsed": true
   },
   "outputs": [],
   "source": []
  }
 ],
 "metadata": {
  "anaconda-cloud": {},
  "kernelspec": {
   "display_name": "Python [conda env:dsi]",
   "language": "python",
   "name": "conda-env-dsi-py"
  },
  "language_info": {
   "codemirror_mode": {
    "name": "ipython",
    "version": 2
   },
   "file_extension": ".py",
   "mimetype": "text/x-python",
   "name": "python",
   "nbconvert_exporter": "python",
   "pygments_lexer": "ipython2",
   "version": "2.7.12"
  }
 },
 "nbformat": 4,
 "nbformat_minor": 1
}
