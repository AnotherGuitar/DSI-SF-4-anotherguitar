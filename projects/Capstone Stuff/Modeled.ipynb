{
 "cells": [
  {
   "cell_type": "code",
   "execution_count": 1,
   "metadata": {
    "collapsed": true
   },
   "outputs": [],
   "source": [
    "# pip install scrapy\n",
    "# pip install --upgrade zope2\n",
    "\n",
    "from collections import Counter\n",
    "import foursquare\n",
    "from ipywidgets import widgets\n",
    "from IPython.display import display\n",
    "import json\n",
    "import matplotlib.pyplot as plt\n",
    "import numpy as np\n",
    "import operator\n",
    "from operator import itemgetter\n",
    "import pandas as pd\n",
    "import pickle\n",
    "import random\n",
    "import requests\n",
    "from scrapy import Selector\n",
    "from scrapy.http import HtmlResponse\n",
    "import seaborn as sns\n",
    "from sqlalchemy import create_engine\n",
    "import sqlite3\n",
    "import textacy\n",
    "import textacy.data\n",
    "import time\n",
    "import unicodedata\n",
    "\n",
    "%matplotlib inline\n",
    "%config InlineBackend.figure_format = 'retina'"
   ]
  },
  {
   "cell_type": "code",
   "execution_count": 2,
   "metadata": {
    "collapsed": true
   },
   "outputs": [],
   "source": [
    "updated_food = pd.read_pickle('../../../../Accounts/Electo:Computad/\\\n",
    "MacBook Pro/Software/Github/Old_repos/DSI-SF-4-anotherguitar/projects/Capstone Stuff/updated_food.pkl')"
   ]
  },
  {
   "cell_type": "code",
   "execution_count": 6,
   "metadata": {
    "collapsed": true
   },
   "outputs": [],
   "source": [
    "# Make a function that will put a 1 in the row if that group is represented, and 0 if not:\n",
    "def check_group(ref_group, food_groups):\n",
    "    \n",
    "    if food_groups == None:\n",
    "        return 0\n",
    "    elif len(food_groups.split(',')) == 1:\n",
    "        if ref_group.replace(',','') in food_groups:\n",
    "            return 1\n",
    "        else:\n",
    "            return 0\n",
    "\n",
    "    elif len(food_groups.split(',')) >= 1:\n",
    "        for a_group in food_groups.split(','):\n",
    "            if ref_group.replace(',','') in a_group:\n",
    "                return 1\n",
    "        return 0\n",
    "    else:\n",
    "        return 0"
   ]
  },
  {
   "cell_type": "markdown",
   "metadata": {},
   "source": [
    "__First, we can run this on the item_fg category__"
   ]
  },
  {
   "cell_type": "code",
   "execution_count": 7,
   "metadata": {
    "collapsed": false
   },
   "outputs": [
    {
     "data": {
      "text/plain": [
       "Index([u'venue_name', u'venue_desc_list', u'vegan_venue_check',\n",
       "       u'venue_menu_url', u'venue_rated', u'meta_menu_n', u'depth_menus_n',\n",
       "       u'menu_item_name', u'menu_item_price', u'menu_item_desc',\n",
       "       u'count_desc_list', u'count_item_name', u'count_item_desc', u'item_fg',\n",
       "       u'depth_menu_fg', u'item_fg_renewed', u'meta_menu_fg'],\n",
       "      dtype='object')"
      ]
     },
     "execution_count": 7,
     "metadata": {},
     "output_type": "execute_result"
    }
   ],
   "source": [
    "updated_food = updated_food.drop([\n",
    "        'Dairy and Egg Products', 'Spices and Herbs', 'Fats and Oils',\n",
    "       'Poultry Products', 'Soups, Sauces, and Gravies',\n",
    "       'Sausages and Luncheon Meats', 'Breakfast Cereals', 'Snacks',\n",
    "       'Fruits and Fruit Juices', 'Pork Products',\n",
    "       'Vegetables and Vegetable Products', 'Nut and Seed Products',\n",
    "       'Beef Products', 'Beverages', 'Finfish and Shellfish Products',\n",
    "       'Legumes and Legume Products', 'Lamb, Veal, and Game Products',\n",
    "       'Baked Products', 'Sweets', 'Cereal Grains and Pasta',\n",
    "       'Meals, Entrees, and Sidedishes'\n",
    "    ], axis=1)\n",
    "updated_food.columns"
   ]
  },
  {
   "cell_type": "code",
   "execution_count": 8,
   "metadata": {
    "collapsed": false
   },
   "outputs": [
    {
     "data": {
      "text/plain": [
       "Index([u'venue_name', u'venue_desc_list', u'vegan_venue_check',\n",
       "       u'venue_menu_url', u'venue_rated', u'meta_menu_n', u'depth_menus_n',\n",
       "       u'menu_item_name', u'menu_item_price', u'menu_item_desc',\n",
       "       u'count_desc_list', u'count_item_name', u'count_item_desc', u'item_fg',\n",
       "       u'depth_menu_fg', u'item_fg_renewed', u'meta_menu_fg'],\n",
       "      dtype='object')"
      ]
     },
     "execution_count": 8,
     "metadata": {},
     "output_type": "execute_result"
    }
   ],
   "source": [
    "updated_food.columns"
   ]
  },
  {
   "cell_type": "code",
   "execution_count": null,
   "metadata": {
    "collapsed": true
   },
   "outputs": [],
   "source": [
    "for i in dads.Food_Group.unique():\n",
    "#     print 'next loop'\n",
    "    if i.replace(',','') not in tmp_banned_cat:\n",
    "        current_ref_group = i.replace(',','')\n",
    "        updated_food[i] = updated_food.item_fg_renewed.map(lambda x: check_group(current_ref_group, x))"
   ]
  },
  {
   "cell_type": "markdown",
   "metadata": {},
   "source": [
    "now run the model over the dataframe only inclusive of the correct features"
   ]
  },
  {
   "cell_type": "code",
   "execution_count": null,
   "metadata": {
    "collapsed": true
   },
   "outputs": [],
   "source": []
  },
  {
   "cell_type": "markdown",
   "metadata": {},
   "source": [
    "__Then, we can run this on the item_fg_renewed category__"
   ]
  },
  {
   "cell_type": "code",
   "execution_count": null,
   "metadata": {
    "collapsed": true
   },
   "outputs": [],
   "source": []
  },
  {
   "cell_type": "markdown",
   "metadata": {},
   "source": [
    "__We can also run this on the depth_menu_fg category__"
   ]
  },
  {
   "cell_type": "code",
   "execution_count": null,
   "metadata": {
    "collapsed": true
   },
   "outputs": [],
   "source": []
  },
  {
   "cell_type": "code",
   "execution_count": null,
   "metadata": {
    "collapsed": true
   },
   "outputs": [],
   "source": []
  },
  {
   "cell_type": "markdown",
   "metadata": {},
   "source": [
    "__And finally on the meta_menu_fg category__"
   ]
  },
  {
   "cell_type": "code",
   "execution_count": null,
   "metadata": {
    "collapsed": true
   },
   "outputs": [],
   "source": []
  },
  {
   "cell_type": "markdown",
   "metadata": {},
   "source": [
    "perform unique models on each of meta menu, item_fg (restricted to 3 fg's) and item_fg_renewed (newest preprocessing)"
   ]
  },
  {
   "cell_type": "code",
   "execution_count": null,
   "metadata": {
    "collapsed": true
   },
   "outputs": [],
   "source": []
  }
 ],
 "metadata": {
  "anaconda-cloud": {},
  "kernelspec": {
   "display_name": "Python [conda env:dsi]",
   "language": "python",
   "name": "conda-env-dsi-py"
  },
  "language_info": {
   "codemirror_mode": {
    "name": "ipython",
    "version": 2
   },
   "file_extension": ".py",
   "mimetype": "text/x-python",
   "name": "python",
   "nbconvert_exporter": "python",
   "pygments_lexer": "ipython2",
   "version": "2.7.12"
  }
 },
 "nbformat": 4,
 "nbformat_minor": 1
}
