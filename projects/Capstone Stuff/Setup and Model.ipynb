{
 "cells": [
  {
   "cell_type": "code",
   "execution_count": 1,
   "metadata": {
    "collapsed": true
   },
   "outputs": [],
   "source": [
    "# pip install scrapy\n",
    "# pip install --upgrade zope2\n",
    "\n",
    "from collections import Counter\n",
    "import foursquare\n",
    "import json\n",
    "import matplotlib.pyplot as plt\n",
    "import numpy as np\n",
    "import pandas as pd\n",
    "import pickle\n",
    "import random\n",
    "import requests\n",
    "from scrapy import Selector\n",
    "from scrapy.http import HtmlResponse\n",
    "import seaborn as sns\n",
    "from sqlalchemy import create_engine\n",
    "import sqlite3\n",
    "import textacy\n",
    "import textacy.data\n",
    "import time\n",
    "import unicodedata\n",
    "\n",
    "%matplotlib inline\n",
    "%config InlineBackend.figure_format = 'retina'"
   ]
  },
  {
   "cell_type": "code",
   "execution_count": 2,
   "metadata": {
    "collapsed": false
   },
   "outputs": [],
   "source": [
    "usda = pd.read_pickle('../../../../Accounts/Electo:Computad/\\\n",
    "MacBook Pro/Software/Github/Old_repos/DSI-SF-4-anotherguitar/projects/Capstone Stuff/usda.pkl')\n",
    "food = pd.read_pickle('../../../../Accounts/Electo:Computad/\\\n",
    "MacBook Pro/Software/Github/Old_repos/DSI-SF-4-anotherguitar/projects/Capstone Stuff/explore_endpoint_df.pkl')\n",
    "vegan = food[food.vegan_venue_check == 'vegan']"
   ]
  },
  {
   "cell_type": "code",
   "execution_count": 3,
   "metadata": {
    "collapsed": true
   },
   "outputs": [],
   "source": [
    "def word_counter(unique_desc):\n",
    "    single_string = ' '.join(unique_desc)\n",
    "    count_string = len(single_string.split())\n",
    "    return count_string"
   ]
  },
  {
   "cell_type": "code",
   "execution_count": 4,
   "metadata": {
    "collapsed": true
   },
   "outputs": [],
   "source": [
    "# have to count the number of words in each list and add this as a new column to the dataframe\n",
    "update_to_food = food\n",
    "update_to_food['count_desc_list'] = food.venue_desc_list.map(lambda x: word_counter(x))"
   ]
  },
  {
   "cell_type": "code",
   "execution_count": 5,
   "metadata": {
    "collapsed": true
   },
   "outputs": [],
   "source": [
    "def item_desc_counter(phrase):\n",
    "    if phrase == 'desc_not_available':\n",
    "        return 0\n",
    "    else:\n",
    "        countered = len(phrase.split())\n",
    "        return countered"
   ]
  },
  {
   "cell_type": "code",
   "execution_count": 6,
   "metadata": {
    "collapsed": true
   },
   "outputs": [],
   "source": [
    "update_to_food['count_item_name'] = food.menu_item_name.map(lambda x: len(x.split()))\n",
    "update_to_food['count_item_desc'] = food.menu_item_desc.map(lambda x: item_desc_counter(x))"
   ]
  },
  {
   "cell_type": "code",
   "execution_count": 7,
   "metadata": {
    "collapsed": false
   },
   "outputs": [
    {
     "data": {
      "text/html": [
       "<div>\n",
       "<table border=\"1\" class=\"dataframe\">\n",
       "  <thead>\n",
       "    <tr style=\"text-align: right;\">\n",
       "      <th></th>\n",
       "      <th>venue_name</th>\n",
       "      <th>venue_desc_list</th>\n",
       "      <th>vegan_venue_check</th>\n",
       "      <th>venue_menu_url</th>\n",
       "      <th>venue_rated</th>\n",
       "      <th>meta_menu_n</th>\n",
       "      <th>depth_menus_n</th>\n",
       "      <th>menu_item_name</th>\n",
       "      <th>menu_item_price</th>\n",
       "      <th>menu_item_desc</th>\n",
       "      <th>count_desc_list</th>\n",
       "      <th>count_item_name</th>\n",
       "      <th>count_item_desc</th>\n",
       "    </tr>\n",
       "  </thead>\n",
       "  <tbody>\n",
       "    <tr>\n",
       "      <th>1064</th>\n",
       "      <td>Amber India</td>\n",
       "      <td>[Indian Restaurant, Vegetarian / Vegan Restaur...</td>\n",
       "      <td>vegan</td>\n",
       "      <td>https://foursquare.com/v/amber-india/4acab395f...</td>\n",
       "      <td>8.6</td>\n",
       "      <td>Dessert Menu</td>\n",
       "      <td>Ports, Madeira, &amp; Dessert Wines</td>\n",
       "      <td>Tokaji, Disznoko, Kesoi Szuret, Hungary '08</td>\n",
       "      <td>9</td>\n",
       "      <td>desc_not_available</td>\n",
       "      <td>6</td>\n",
       "      <td>6</td>\n",
       "      <td>0</td>\n",
       "    </tr>\n",
       "    <tr>\n",
       "      <th>1065</th>\n",
       "      <td>Amber India</td>\n",
       "      <td>[Indian Restaurant, Vegetarian / Vegan Restaur...</td>\n",
       "      <td>vegan</td>\n",
       "      <td>https://foursquare.com/v/amber-india/4acab395f...</td>\n",
       "      <td>8.6</td>\n",
       "      <td>Dessert Menu</td>\n",
       "      <td>Ports, Madeira, &amp; Dessert Wines</td>\n",
       "      <td>Tawny Port, Graham's 20 Yr</td>\n",
       "      <td>11</td>\n",
       "      <td>desc_not_available</td>\n",
       "      <td>6</td>\n",
       "      <td>5</td>\n",
       "      <td>0</td>\n",
       "    </tr>\n",
       "  </tbody>\n",
       "</table>\n",
       "</div>"
      ],
      "text/plain": [
       "       venue_name                                    venue_desc_list  \\\n",
       "1064  Amber India  [Indian Restaurant, Vegetarian / Vegan Restaur...   \n",
       "1065  Amber India  [Indian Restaurant, Vegetarian / Vegan Restaur...   \n",
       "\n",
       "     vegan_venue_check                                     venue_menu_url  \\\n",
       "1064             vegan  https://foursquare.com/v/amber-india/4acab395f...   \n",
       "1065             vegan  https://foursquare.com/v/amber-india/4acab395f...   \n",
       "\n",
       "     venue_rated   meta_menu_n                    depth_menus_n  \\\n",
       "1064         8.6  Dessert Menu  Ports, Madeira, & Dessert Wines   \n",
       "1065         8.6  Dessert Menu  Ports, Madeira, & Dessert Wines   \n",
       "\n",
       "                                   menu_item_name menu_item_price  \\\n",
       "1064  Tokaji, Disznoko, Kesoi Szuret, Hungary '08               9   \n",
       "1065                   Tawny Port, Graham's 20 Yr              11   \n",
       "\n",
       "          menu_item_desc  count_desc_list  count_item_name  count_item_desc  \n",
       "1064  desc_not_available                6                6                0  \n",
       "1065  desc_not_available                6                5                0  "
      ]
     },
     "execution_count": 7,
     "metadata": {},
     "output_type": "execute_result"
    }
   ],
   "source": [
    "update_to_food.head()\n",
    "vegan_update = update_to_food[update_to_food.vegan_venue_check == 'vegan']\n",
    "vegan_update.head(2)"
   ]
  },
  {
   "cell_type": "code",
   "execution_count": 8,
   "metadata": {
    "collapsed": true
   },
   "outputs": [],
   "source": [
    "usda = usda.drop('ComName', axis=1)\n",
    "usda = usda.drop('FG_Cd', axis=1)"
   ]
  },
  {
   "cell_type": "code",
   "execution_count": 9,
   "metadata": {
    "collapsed": false
   },
   "outputs": [
    {
     "data": {
      "text/html": [
       "<div>\n",
       "<table border=\"1\" class=\"dataframe\">\n",
       "  <thead>\n",
       "    <tr style=\"text-align: right;\">\n",
       "      <th></th>\n",
       "      <th>Food_No</th>\n",
       "      <th>Food_Group</th>\n",
       "      <th>Description</th>\n",
       "      <th>Nutr_No</th>\n",
       "      <th>Nutrient</th>\n",
       "      <th>Amount_per_100</th>\n",
       "      <th>Units</th>\n",
       "      <th>Tagname</th>\n",
       "      <th>Not_Imputed</th>\n",
       "    </tr>\n",
       "  </thead>\n",
       "  <tbody>\n",
       "    <tr>\n",
       "      <th>0</th>\n",
       "      <td>01001</td>\n",
       "      <td>Dairy and Egg Products</td>\n",
       "      <td>Butter, salted</td>\n",
       "      <td>203</td>\n",
       "      <td>Protein</td>\n",
       "      <td>0.85</td>\n",
       "      <td>g</td>\n",
       "      <td>PROCNT</td>\n",
       "      <td>1</td>\n",
       "    </tr>\n",
       "    <tr>\n",
       "      <th>1</th>\n",
       "      <td>01001</td>\n",
       "      <td>Dairy and Egg Products</td>\n",
       "      <td>Butter, salted</td>\n",
       "      <td>204</td>\n",
       "      <td>Total lipid (fat)</td>\n",
       "      <td>81.11</td>\n",
       "      <td>g</td>\n",
       "      <td>FAT</td>\n",
       "      <td>1</td>\n",
       "    </tr>\n",
       "    <tr>\n",
       "      <th>2</th>\n",
       "      <td>01001</td>\n",
       "      <td>Dairy and Egg Products</td>\n",
       "      <td>Butter, salted</td>\n",
       "      <td>205</td>\n",
       "      <td>Carbohydrate, by difference</td>\n",
       "      <td>0.06</td>\n",
       "      <td>g</td>\n",
       "      <td>CHOCDF</td>\n",
       "      <td>0</td>\n",
       "    </tr>\n",
       "    <tr>\n",
       "      <th>3</th>\n",
       "      <td>01001</td>\n",
       "      <td>Dairy and Egg Products</td>\n",
       "      <td>Butter, salted</td>\n",
       "      <td>207</td>\n",
       "      <td>Ash</td>\n",
       "      <td>2.11</td>\n",
       "      <td>g</td>\n",
       "      <td>ASH</td>\n",
       "      <td>1</td>\n",
       "    </tr>\n",
       "    <tr>\n",
       "      <th>4</th>\n",
       "      <td>01001</td>\n",
       "      <td>Dairy and Egg Products</td>\n",
       "      <td>Butter, salted</td>\n",
       "      <td>208</td>\n",
       "      <td>Energy</td>\n",
       "      <td>717.00</td>\n",
       "      <td>kcal</td>\n",
       "      <td>ENERC_KCAL</td>\n",
       "      <td>0</td>\n",
       "    </tr>\n",
       "  </tbody>\n",
       "</table>\n",
       "</div>"
      ],
      "text/plain": [
       "  Food_No              Food_Group     Description Nutr_No  \\\n",
       "0   01001  Dairy and Egg Products  Butter, salted     203   \n",
       "1   01001  Dairy and Egg Products  Butter, salted     204   \n",
       "2   01001  Dairy and Egg Products  Butter, salted     205   \n",
       "3   01001  Dairy and Egg Products  Butter, salted     207   \n",
       "4   01001  Dairy and Egg Products  Butter, salted     208   \n",
       "\n",
       "                      Nutrient  Amount_per_100 Units     Tagname  Not_Imputed  \n",
       "0                      Protein            0.85     g      PROCNT            1  \n",
       "1            Total lipid (fat)           81.11     g         FAT            1  \n",
       "2  Carbohydrate, by difference            0.06     g      CHOCDF            0  \n",
       "3                          Ash            2.11     g         ASH            1  \n",
       "4                       Energy          717.00  kcal  ENERC_KCAL            0  "
      ]
     },
     "execution_count": 9,
     "metadata": {},
     "output_type": "execute_result"
    }
   ],
   "source": [
    "usda.head()"
   ]
  },
  {
   "cell_type": "code",
   "execution_count": 10,
   "metadata": {
    "collapsed": false
   },
   "outputs": [
    {
     "data": {
      "text/html": [
       "<div>\n",
       "<table border=\"1\" class=\"dataframe\">\n",
       "  <thead>\n",
       "    <tr style=\"text-align: right;\">\n",
       "      <th></th>\n",
       "      <th>Food_Group</th>\n",
       "      <th>Description</th>\n",
       "    </tr>\n",
       "  </thead>\n",
       "  <tbody>\n",
       "    <tr>\n",
       "      <th>0</th>\n",
       "      <td>Dairy and Egg Products</td>\n",
       "      <td>Butter, salted</td>\n",
       "    </tr>\n",
       "    <tr>\n",
       "      <th>1</th>\n",
       "      <td>Dairy and Egg Products</td>\n",
       "      <td>Butter, salted</td>\n",
       "    </tr>\n",
       "    <tr>\n",
       "      <th>2</th>\n",
       "      <td>Dairy and Egg Products</td>\n",
       "      <td>Butter, salted</td>\n",
       "    </tr>\n",
       "    <tr>\n",
       "      <th>3</th>\n",
       "      <td>Dairy and Egg Products</td>\n",
       "      <td>Butter, salted</td>\n",
       "    </tr>\n",
       "    <tr>\n",
       "      <th>4</th>\n",
       "      <td>Dairy and Egg Products</td>\n",
       "      <td>Butter, salted</td>\n",
       "    </tr>\n",
       "  </tbody>\n",
       "</table>\n",
       "</div>"
      ],
      "text/plain": [
       "               Food_Group     Description\n",
       "0  Dairy and Egg Products  Butter, salted\n",
       "1  Dairy and Egg Products  Butter, salted\n",
       "2  Dairy and Egg Products  Butter, salted\n",
       "3  Dairy and Egg Products  Butter, salted\n",
       "4  Dairy and Egg Products  Butter, salted"
      ]
     },
     "execution_count": 10,
     "metadata": {},
     "output_type": "execute_result"
    }
   ],
   "source": [
    "dads = usda[['Food_Group','Description']]\n",
    "dads.head()"
   ]
  },
  {
   "cell_type": "code",
   "execution_count": 11,
   "metadata": {
    "collapsed": false
   },
   "outputs": [],
   "source": [
    "# Let's make a dictionary with the 25 unique food groups and their respective descriptions\n",
    "deduped = []\n",
    "for group, group_df in dads.groupby(['Food_Group', 'Description']):\n",
    "    deduped.append({\n",
    "      \"Food_Group\":  group[0],\n",
    "      \"Description\": group[1]\n",
    "    })"
   ]
  },
  {
   "cell_type": "code",
   "execution_count": 12,
   "metadata": {
    "collapsed": false
   },
   "outputs": [
    {
     "name": "stdout",
     "output_type": "stream",
     "text": [
      "american indian alaska native foods\n",
      "agave  dried (southwest)\n",
      "8194\n"
     ]
    }
   ],
   "source": [
    "# Example\n",
    "print deduped[2]['Food_Group'].lower().replace(',',' ').replace('/',' ').replace('-',' ').replace('_',' ').replace('.',' ').replace(',',' ') \n",
    "print deduped[2]['Description'].lower().replace(',',' ').replace('/',' ').replace('-',' ').replace('_',' ').replace('.',' ').replace(',',' ') \n",
    "print len(deduped)"
   ]
  },
  {
   "cell_type": "code",
   "execution_count": 16,
   "metadata": {
    "collapsed": true
   },
   "outputs": [],
   "source": [
    "# This function will assign food groups given a single word input\n",
    "\n",
    "def assign_group(word_in_item):\n",
    "    groups = []\n",
    "    for item_no in range(len(deduped)):\n",
    "        search_this = deduped[item_no]['Description'].lower().replace(',','').replace('/',' ').replace('-',' ').replace('_',' ').replace('.',' ').replace('(','').replace(')','').replace(\"'\",\"\").replace('&','')\n",
    "        if search_this.find(word_in_item.lower()) != -1:\n",
    "            groups.append(deduped[item_no]['Food_Group'])\n",
    "            groupings = list(set(groups))\n",
    "            groupings = ', '.join(groupings)\n",
    "            return groupings"
   ]
  },
  {
   "cell_type": "code",
   "execution_count": 17,
   "metadata": {
    "collapsed": true
   },
   "outputs": [],
   "source": [
    "# This function will assign food groups if given a feature from a particular item as an input\n",
    "\n",
    "def groups_from_item(itemed):\n",
    "    \n",
    "    #clean item\n",
    "    item = itemed.lower().replace(',','').replace('/',' ').replace('-',' ').replace('_',' ').replace('.',' ').replace('(','').replace(')','').replace(\"'\",\"\").replace('&','')\n",
    "    \n",
    "    # create a placeholder (or a list) with all the applicable food groups for a given food item    \n",
    "    all_food_groups = 'food_groups_placeholder'\n",
    "\n",
    "    if len(item.split()) == 1:\n",
    "    # because there's just one word, we can feed the item directly into the search loop\n",
    "        word_in_item = item\n",
    "        all_food_groups = assign_group(word_in_item)\n",
    "        return all_food_groups\n",
    "        \n",
    "    # this is how I'll map the series with the correct menu item on the larger dataframe,\n",
    "    # just in case I decide not to use the series map function directly\n",
    "\n",
    "    elif len(item.split()) >= 1:\n",
    "        # because there's more than one word, I'll have to do an extra loop to hit each word, but making sure that\n",
    "        # they get appended to the same row, and not to the following row\n",
    "        each_words_group = []\n",
    "        for word_in_item in item.split():\n",
    "            a_food_group = assign_group(word_in_item)\n",
    "            if a_food_group != None:\n",
    "                each_words_group.append(a_food_group)\n",
    "        if each_words_group != []:\n",
    "            all_food_groups = ', '.join(each_words_group)\n",
    "        else:\n",
    "            all_food_groups = 'no_groups_avail'\n",
    "        return all_food_groups\n",
    "        \n",
    "# I could just create a list of possible food_groups first, then determine which food group is more likely? \n",
    "# for example, by taking the most common food group chosen for each of the words in that particular menu item\n",
    "\n",
    "# ^^ I think the best way to do this is to make fg columns for item, menu, sub_menu, etc. and then pick the\n",
    "# group label with the highest label, or maybe the top 2/3 labels per row"
   ]
  },
  {
   "cell_type": "code",
   "execution_count": 18,
   "metadata": {
    "collapsed": false
   },
   "outputs": [
    {
     "name": "stdout",
     "output_type": "stream",
     "text": [
      "1861\n"
     ]
    }
   ],
   "source": [
    "vegan_next_version = vegan\n",
    "list_run_thru = vegan_next_version.menu_item_name\n",
    "print len(list_run_thru)"
   ]
  },
  {
   "cell_type": "code",
   "execution_count": 20,
   "metadata": {
    "collapsed": false
   },
   "outputs": [
    {
     "name": "stderr",
     "output_type": "stream",
     "text": [
      "/anaconda/envs/dsi/lib/python2.7/site-packages/ipykernel/__main__.py:2: SettingWithCopyWarning: \n",
      "A value is trying to be set on a copy of a slice from a DataFrame.\n",
      "Try using .loc[row_indexer,col_indexer] = value instead\n",
      "\n",
      "See the caveats in the documentation: http://pandas.pydata.org/pandas-docs/stable/indexing.html#indexing-view-versus-copy\n",
      "  from ipykernel import kernelapp as app\n",
      "/anaconda/envs/dsi/lib/python2.7/site-packages/ipykernel/__main__.py:3: SettingWithCopyWarning: \n",
      "A value is trying to be set on a copy of a slice from a DataFrame.\n",
      "Try using .loc[row_indexer,col_indexer] = value instead\n",
      "\n",
      "See the caveats in the documentation: http://pandas.pydata.org/pandas-docs/stable/indexing.html#indexing-view-versus-copy\n",
      "  app.launch_new_instance()\n",
      "/anaconda/envs/dsi/lib/python2.7/site-packages/ipykernel/__main__.py:4: SettingWithCopyWarning: \n",
      "A value is trying to be set on a copy of a slice from a DataFrame.\n",
      "Try using .loc[row_indexer,col_indexer] = value instead\n",
      "\n",
      "See the caveats in the documentation: http://pandas.pydata.org/pandas-docs/stable/indexing.html#indexing-view-versus-copy\n"
     ]
    }
   ],
   "source": [
    "# Here I've automated the food group tagging I would have done across each item, sub menu, and meta menu\n",
    "start_time = time.time()\n",
    "vegan_next_version['item_fg'] = vegan_next_version.menu_item_name.map(lambda x: groups_from_item(x))\n",
    "vegan_next_version['depth_menu_fg'] = vegan_next_version.depth_menus_n.map(lambda x: groups_from_item(x))\n",
    "vegan_next_version['meta_menu_fg'] = vegan_next_version.meta_menu_n.map(lambda x: groups_from_item(x))\n",
    "print(\"--- %s seconds ---\" % (time.time() - start_time))"
   ]
  },
  {
   "cell_type": "code",
   "execution_count": 22,
   "metadata": {
    "collapsed": false
   },
   "outputs": [
    {
     "data": {
      "text/html": [
       "<div>\n",
       "<table border=\"1\" class=\"dataframe\">\n",
       "  <thead>\n",
       "    <tr style=\"text-align: right;\">\n",
       "      <th></th>\n",
       "      <th>venue_name</th>\n",
       "      <th>venue_rated</th>\n",
       "      <th>menu_item_name</th>\n",
       "      <th>menu_item_price</th>\n",
       "      <th>item_fg</th>\n",
       "      <th>depth_menu_fg</th>\n",
       "      <th>meta_menu_fg</th>\n",
       "    </tr>\n",
       "  </thead>\n",
       "  <tbody>\n",
       "    <tr>\n",
       "      <th>1064</th>\n",
       "      <td>Amber India</td>\n",
       "      <td>8.6</td>\n",
       "      <td>Tokaji, Disznoko, Kesoi Szuret, Hungary '08</td>\n",
       "      <td>9</td>\n",
       "      <td>no_groups_avail</td>\n",
       "      <td>Beverages, Baby Foods</td>\n",
       "      <td>Baby Foods, Restaurant Foods</td>\n",
       "    </tr>\n",
       "  </tbody>\n",
       "</table>\n",
       "</div>"
      ],
      "text/plain": [
       "       venue_name venue_rated                               menu_item_name  \\\n",
       "1064  Amber India         8.6  Tokaji, Disznoko, Kesoi Szuret, Hungary '08   \n",
       "\n",
       "     menu_item_price          item_fg          depth_menu_fg  \\\n",
       "1064               9  no_groups_avail  Beverages, Baby Foods   \n",
       "\n",
       "                      meta_menu_fg  \n",
       "1064  Baby Foods, Restaurant Foods  "
      ]
     },
     "execution_count": 22,
     "metadata": {},
     "output_type": "execute_result"
    }
   ],
   "source": [
    "vegan_next_version[['venue_name','venue_rated','menu_item_name','menu_item_price','item_fg','depth_menu_fg','meta_menu_fg']].head(1)"
   ]
  },
  {
   "cell_type": "code",
   "execution_count": 23,
   "metadata": {
    "collapsed": false,
    "scrolled": true
   },
   "outputs": [
    {
     "data": {
      "text/html": [
       "<div>\n",
       "<table border=\"1\" class=\"dataframe\">\n",
       "  <thead>\n",
       "    <tr style=\"text-align: right;\">\n",
       "      <th></th>\n",
       "      <th>venue_name</th>\n",
       "      <th>venue_desc_list</th>\n",
       "      <th>vegan_venue_check</th>\n",
       "      <th>venue_menu_url</th>\n",
       "      <th>venue_rated</th>\n",
       "      <th>meta_menu_n</th>\n",
       "      <th>depth_menus_n</th>\n",
       "      <th>menu_item_name</th>\n",
       "      <th>menu_item_price</th>\n",
       "      <th>menu_item_desc</th>\n",
       "      <th>item_fg</th>\n",
       "      <th>depth_menu_fg</th>\n",
       "      <th>meta_menu_fg</th>\n",
       "    </tr>\n",
       "  </thead>\n",
       "  <tbody>\n",
       "    <tr>\n",
       "      <th>1082</th>\n",
       "      <td>Amber India</td>\n",
       "      <td>[Indian Restaurant, Vegetarian / Vegan Restaur...</td>\n",
       "      <td>vegan</td>\n",
       "      <td>https://foursquare.com/v/amber-india/4acab395f...</td>\n",
       "      <td>8.6</td>\n",
       "      <td>Dessert Menu</td>\n",
       "      <td>Dessert Menu</td>\n",
       "      <td>Lemon Grass Panna Cotta</td>\n",
       "      <td>8</td>\n",
       "      <td>Lemon Grass &amp; Kafir Lime Leaves set Custard</td>\n",
       "      <td>Baked Products, Baked Products, Dairy and Egg ...</td>\n",
       "      <td>Baby Foods, Restaurant Foods</td>\n",
       "      <td>Baby Foods, Restaurant Foods</td>\n",
       "    </tr>\n",
       "  </tbody>\n",
       "</table>\n",
       "</div>"
      ],
      "text/plain": [
       "       venue_name                                    venue_desc_list  \\\n",
       "1082  Amber India  [Indian Restaurant, Vegetarian / Vegan Restaur...   \n",
       "\n",
       "     vegan_venue_check                                     venue_menu_url  \\\n",
       "1082             vegan  https://foursquare.com/v/amber-india/4acab395f...   \n",
       "\n",
       "     venue_rated   meta_menu_n depth_menus_n           menu_item_name  \\\n",
       "1082         8.6  Dessert Menu  Dessert Menu  Lemon Grass Panna Cotta   \n",
       "\n",
       "     menu_item_price                               menu_item_desc  \\\n",
       "1082               8  Lemon Grass & Kafir Lime Leaves set Custard   \n",
       "\n",
       "                                                item_fg  \\\n",
       "1082  Baked Products, Baked Products, Dairy and Egg ...   \n",
       "\n",
       "                     depth_menu_fg                  meta_menu_fg  \n",
       "1082  Baby Foods, Restaurant Foods  Baby Foods, Restaurant Foods  "
      ]
     },
     "execution_count": 23,
     "metadata": {},
     "output_type": "execute_result"
    }
   ],
   "source": [
    "vegan_next_version[vegan_next_version.menu_item_name == 'Lemon Grass Panna Cotta']"
   ]
  },
  {
   "cell_type": "code",
   "execution_count": 24,
   "metadata": {
    "collapsed": true
   },
   "outputs": [],
   "source": [
    "# Below is extra data that I might later use to correlate nutrients with particular food groups,\n",
    "# though I'm not sure if there will be enough time for me to complete this aspect of the project"
   ]
  },
  {
   "cell_type": "code",
   "execution_count": 25,
   "metadata": {
    "collapsed": false
   },
   "outputs": [
    {
     "data": {
      "text/plain": [
       "(595359, 9)"
      ]
     },
     "execution_count": 25,
     "metadata": {},
     "output_type": "execute_result"
    }
   ],
   "source": [
    "usda.shape"
   ]
  },
  {
   "cell_type": "code",
   "execution_count": 26,
   "metadata": {
    "collapsed": true
   },
   "outputs": [],
   "source": [
    "tmp = usda[['Food_Group','Nutrient']]"
   ]
  },
  {
   "cell_type": "code",
   "execution_count": 27,
   "metadata": {
    "collapsed": false
   },
   "outputs": [
    {
     "data": {
      "text/plain": [
       "Food_Group                           Nutrient\n",
       "American Indian/Alaska Native Foods  10:0        1.0\n",
       "                                     12:0        1.0\n",
       "                                     14:0        1.0\n",
       "                                     14:1        1.0\n",
       "                                     15:0        1.0\n",
       "dtype: float64"
      ]
     },
     "execution_count": 27,
     "metadata": {},
     "output_type": "execute_result"
    }
   ],
   "source": [
    "tmp = tmp.groupby(['Food_Group','Nutrient']).agg(lambda x: 1.)\n",
    "tmp.head()"
   ]
  },
  {
   "cell_type": "code",
   "execution_count": 28,
   "metadata": {
    "collapsed": true
   },
   "outputs": [],
   "source": [
    "tmp = tmp.unstack(fill_value=0)"
   ]
  },
  {
   "cell_type": "code",
   "execution_count": 29,
   "metadata": {
    "collapsed": false
   },
   "outputs": [
    {
     "data": {
      "text/plain": [
       "(25, 145)"
      ]
     },
     "execution_count": 29,
     "metadata": {},
     "output_type": "execute_result"
    }
   ],
   "source": [
    "tmp.shape"
   ]
  },
  {
   "cell_type": "code",
   "execution_count": 30,
   "metadata": {
    "collapsed": true
   },
   "outputs": [],
   "source": [
    "tmp = tmp.reset_index()"
   ]
  },
  {
   "cell_type": "code",
   "execution_count": 31,
   "metadata": {
    "collapsed": false
   },
   "outputs": [
    {
     "data": {
      "text/plain": [
       "0     1.0\n",
       "1     1.0\n",
       "2     1.0\n",
       "3     1.0\n",
       "4     1.0\n",
       "5     1.0\n",
       "6     1.0\n",
       "7     1.0\n",
       "8     1.0\n",
       "9     1.0\n",
       "10    1.0\n",
       "11    1.0\n",
       "12    1.0\n",
       "13    1.0\n",
       "14    1.0\n",
       "15    1.0\n",
       "16    1.0\n",
       "17    1.0\n",
       "18    1.0\n",
       "19    1.0\n",
       "20    1.0\n",
       "21    1.0\n",
       "22    1.0\n",
       "23    1.0\n",
       "24    1.0\n",
       "Name: Carbohydrate, by difference, dtype: float64"
      ]
     },
     "execution_count": 31,
     "metadata": {},
     "output_type": "execute_result"
    }
   ],
   "source": [
    "tmp['Carbohydrate, by difference']"
   ]
  },
  {
   "cell_type": "code",
   "execution_count": 32,
   "metadata": {
    "collapsed": false
   },
   "outputs": [
    {
     "data": {
      "text/plain": [
       "array(['Food_Group', '10:0', '12:0', '13:0', '14:0', '14:1', '15:0',\n",
       "       '15:1', '16:0', '16:1 c', '16:1 t', '16:1 undifferentiated', '17:0',\n",
       "       '17:1', '18:0', '18:1 c', '18:1 t', '18:1 undifferentiated',\n",
       "       '18:1-11t (18:1t n-7)', '18:2 CLAs', '18:2 i', '18:2 n-6 c,c',\n",
       "       '18:2 t not further defined', '18:2 t,t', '18:2 undifferentiated',\n",
       "       '18:3 n-3 c,c,c (ALA)', '18:3 n-6 c,c,c', '18:3 undifferentiated',\n",
       "       '18:3i', '18:4', '20:0', '20:1', '20:2 n-6 c,c', '20:3 n-3',\n",
       "       '20:3 n-6', '20:3 undifferentiated', '20:4 n-6',\n",
       "       '20:4 undifferentiated', '20:5 n-3 (EPA)', '21:5', '22:0', '22:1 c',\n",
       "       '22:1 t', '22:1 undifferentiated', '22:4', '22:5 n-3 (DPA)',\n",
       "       '22:6 n-3 (DHA)', '24:0', '24:1 c', '4:0', '6:0', '8:0',\n",
       "       'Adjusted Protein', 'Alanine', 'Alcohol, ethyl', 'Arginine', 'Ash',\n",
       "       'Aspartic acid', 'Beta-sitosterol', 'Betaine', 'Caffeine',\n",
       "       'Calcium, Ca', 'Campesterol', 'Carbohydrate, by difference',\n",
       "       'Carotene, alpha', 'Carotene, beta', 'Cholesterol',\n",
       "       'Choline, total', 'Copper, Cu', 'Cryptoxanthin, beta', 'Cystine',\n",
       "       'Dihydrophylloquinone', 'Energy',\n",
       "       'Fatty acids, total monounsaturated',\n",
       "       'Fatty acids, total polyunsaturated',\n",
       "       'Fatty acids, total saturated', 'Fatty acids, total trans',\n",
       "       'Fatty acids, total trans-monoenoic',\n",
       "       'Fatty acids, total trans-polyenoic', 'Fiber, total dietary',\n",
       "       'Fluoride, F', 'Folate, DFE', 'Folate, food', 'Folate, total',\n",
       "       'Folic acid', 'Fructose', 'Galactose', 'Glucose (dextrose)',\n",
       "       'Glutamic acid', 'Glycine', 'Histidine', 'Hydroxyproline',\n",
       "       'Iron, Fe', 'Isoleucine', 'Lactose', 'Leucine',\n",
       "       'Lutein + zeaxanthin', 'Lycopene', 'Lysine', 'Magnesium, Mg',\n",
       "       'Maltose', 'Manganese, Mn', 'Menaquinone-4', 'Methionine', 'Niacin',\n",
       "       'Pantothenic acid', 'Phenylalanine', 'Phosphorus, P',\n",
       "       'Phytosterols', 'Potassium, K', 'Proline', 'Protein', 'Retinol',\n",
       "       'Riboflavin', 'Selenium, Se', 'Serine', 'Sodium, Na', 'Starch',\n",
       "       'Stigmasterol', 'Sucrose', 'Sugars, total', 'Theobromine',\n",
       "       'Thiamin', 'Threonine', 'Tocopherol, beta', 'Tocopherol, delta',\n",
       "       'Tocopherol, gamma', 'Total lipid (fat)', 'Tryptophan', 'Tyrosine',\n",
       "       'Valine', 'Vitamin A, IU', 'Vitamin A, RAE', 'Vitamin B-12',\n",
       "       'Vitamin B-12, added', 'Vitamin B-6',\n",
       "       'Vitamin C, total ascorbic acid', 'Vitamin D',\n",
       "       'Vitamin D (D2 + D3)', 'Vitamin D2 (ergocalciferol)',\n",
       "       'Vitamin D3 (cholecalciferol)', 'Vitamin E (alpha-tocopherol)',\n",
       "       'Vitamin E, added', 'Vitamin K (phylloquinone)', 'Water', 'Zinc, Zn'], dtype=object)"
      ]
     },
     "execution_count": 32,
     "metadata": {},
     "output_type": "execute_result"
    }
   ],
   "source": [
    "tmp.columns.unique()"
   ]
  },
  {
   "cell_type": "code",
   "execution_count": 33,
   "metadata": {
    "collapsed": false
   },
   "outputs": [
    {
     "data": {
      "text/plain": [
       "0    1.0\n",
       "1    1.0\n",
       "2    1.0\n",
       "Name: Sucrose, dtype: float64"
      ]
     },
     "execution_count": 33,
     "metadata": {},
     "output_type": "execute_result"
    }
   ],
   "source": [
    "tmp['Sucrose'].head(3).T"
   ]
  },
  {
   "cell_type": "code",
   "execution_count": 34,
   "metadata": {
    "collapsed": false
   },
   "outputs": [
    {
     "data": {
      "text/html": [
       "<div>\n",
       "<table border=\"1\" class=\"dataframe\">\n",
       "  <thead>\n",
       "    <tr style=\"text-align: right;\">\n",
       "      <th>Nutrient</th>\n",
       "      <th>Food_Group</th>\n",
       "      <th>10:0</th>\n",
       "      <th>12:0</th>\n",
       "      <th>13:0</th>\n",
       "      <th>14:0</th>\n",
       "      <th>14:1</th>\n",
       "      <th>15:0</th>\n",
       "      <th>15:1</th>\n",
       "      <th>16:0</th>\n",
       "      <th>16:1 c</th>\n",
       "      <th>...</th>\n",
       "      <th>Vitamin C, total ascorbic acid</th>\n",
       "      <th>Vitamin D</th>\n",
       "      <th>Vitamin D (D2 + D3)</th>\n",
       "      <th>Vitamin D2 (ergocalciferol)</th>\n",
       "      <th>Vitamin D3 (cholecalciferol)</th>\n",
       "      <th>Vitamin E (alpha-tocopherol)</th>\n",
       "      <th>Vitamin E, added</th>\n",
       "      <th>Vitamin K (phylloquinone)</th>\n",
       "      <th>Water</th>\n",
       "      <th>Zinc, Zn</th>\n",
       "    </tr>\n",
       "  </thead>\n",
       "  <tbody>\n",
       "    <tr>\n",
       "      <th>0</th>\n",
       "      <td>American Indian/Alaska Native Foods</td>\n",
       "      <td>1.0</td>\n",
       "      <td>1.0</td>\n",
       "      <td>0.0</td>\n",
       "      <td>1.0</td>\n",
       "      <td>1.0</td>\n",
       "      <td>1.0</td>\n",
       "      <td>1.0</td>\n",
       "      <td>1.0</td>\n",
       "      <td>1.0</td>\n",
       "      <td>...</td>\n",
       "      <td>1.0</td>\n",
       "      <td>1.0</td>\n",
       "      <td>1.0</td>\n",
       "      <td>0.0</td>\n",
       "      <td>0.0</td>\n",
       "      <td>1.0</td>\n",
       "      <td>1.0</td>\n",
       "      <td>1.0</td>\n",
       "      <td>1.0</td>\n",
       "      <td>1.0</td>\n",
       "    </tr>\n",
       "    <tr>\n",
       "      <th>1</th>\n",
       "      <td>Baby Foods</td>\n",
       "      <td>1.0</td>\n",
       "      <td>1.0</td>\n",
       "      <td>1.0</td>\n",
       "      <td>1.0</td>\n",
       "      <td>1.0</td>\n",
       "      <td>1.0</td>\n",
       "      <td>1.0</td>\n",
       "      <td>1.0</td>\n",
       "      <td>0.0</td>\n",
       "      <td>...</td>\n",
       "      <td>1.0</td>\n",
       "      <td>1.0</td>\n",
       "      <td>1.0</td>\n",
       "      <td>0.0</td>\n",
       "      <td>1.0</td>\n",
       "      <td>1.0</td>\n",
       "      <td>1.0</td>\n",
       "      <td>1.0</td>\n",
       "      <td>1.0</td>\n",
       "      <td>1.0</td>\n",
       "    </tr>\n",
       "    <tr>\n",
       "      <th>2</th>\n",
       "      <td>Baked Products</td>\n",
       "      <td>1.0</td>\n",
       "      <td>1.0</td>\n",
       "      <td>1.0</td>\n",
       "      <td>1.0</td>\n",
       "      <td>1.0</td>\n",
       "      <td>1.0</td>\n",
       "      <td>1.0</td>\n",
       "      <td>1.0</td>\n",
       "      <td>1.0</td>\n",
       "      <td>...</td>\n",
       "      <td>1.0</td>\n",
       "      <td>1.0</td>\n",
       "      <td>1.0</td>\n",
       "      <td>0.0</td>\n",
       "      <td>1.0</td>\n",
       "      <td>1.0</td>\n",
       "      <td>1.0</td>\n",
       "      <td>1.0</td>\n",
       "      <td>1.0</td>\n",
       "      <td>1.0</td>\n",
       "    </tr>\n",
       "    <tr>\n",
       "      <th>3</th>\n",
       "      <td>Beef Products</td>\n",
       "      <td>1.0</td>\n",
       "      <td>1.0</td>\n",
       "      <td>0.0</td>\n",
       "      <td>1.0</td>\n",
       "      <td>1.0</td>\n",
       "      <td>1.0</td>\n",
       "      <td>1.0</td>\n",
       "      <td>1.0</td>\n",
       "      <td>1.0</td>\n",
       "      <td>...</td>\n",
       "      <td>1.0</td>\n",
       "      <td>1.0</td>\n",
       "      <td>1.0</td>\n",
       "      <td>0.0</td>\n",
       "      <td>1.0</td>\n",
       "      <td>1.0</td>\n",
       "      <td>1.0</td>\n",
       "      <td>1.0</td>\n",
       "      <td>1.0</td>\n",
       "      <td>1.0</td>\n",
       "    </tr>\n",
       "    <tr>\n",
       "      <th>4</th>\n",
       "      <td>Beverages</td>\n",
       "      <td>1.0</td>\n",
       "      <td>1.0</td>\n",
       "      <td>1.0</td>\n",
       "      <td>1.0</td>\n",
       "      <td>1.0</td>\n",
       "      <td>1.0</td>\n",
       "      <td>1.0</td>\n",
       "      <td>1.0</td>\n",
       "      <td>1.0</td>\n",
       "      <td>...</td>\n",
       "      <td>1.0</td>\n",
       "      <td>1.0</td>\n",
       "      <td>1.0</td>\n",
       "      <td>1.0</td>\n",
       "      <td>0.0</td>\n",
       "      <td>1.0</td>\n",
       "      <td>1.0</td>\n",
       "      <td>1.0</td>\n",
       "      <td>1.0</td>\n",
       "      <td>1.0</td>\n",
       "    </tr>\n",
       "    <tr>\n",
       "      <th>5</th>\n",
       "      <td>Breakfast Cereals</td>\n",
       "      <td>1.0</td>\n",
       "      <td>1.0</td>\n",
       "      <td>1.0</td>\n",
       "      <td>1.0</td>\n",
       "      <td>1.0</td>\n",
       "      <td>1.0</td>\n",
       "      <td>1.0</td>\n",
       "      <td>1.0</td>\n",
       "      <td>1.0</td>\n",
       "      <td>...</td>\n",
       "      <td>1.0</td>\n",
       "      <td>1.0</td>\n",
       "      <td>1.0</td>\n",
       "      <td>1.0</td>\n",
       "      <td>1.0</td>\n",
       "      <td>1.0</td>\n",
       "      <td>1.0</td>\n",
       "      <td>1.0</td>\n",
       "      <td>1.0</td>\n",
       "      <td>1.0</td>\n",
       "    </tr>\n",
       "    <tr>\n",
       "      <th>6</th>\n",
       "      <td>Cereal Grains and Pasta</td>\n",
       "      <td>1.0</td>\n",
       "      <td>1.0</td>\n",
       "      <td>1.0</td>\n",
       "      <td>1.0</td>\n",
       "      <td>1.0</td>\n",
       "      <td>1.0</td>\n",
       "      <td>1.0</td>\n",
       "      <td>1.0</td>\n",
       "      <td>1.0</td>\n",
       "      <td>...</td>\n",
       "      <td>1.0</td>\n",
       "      <td>1.0</td>\n",
       "      <td>1.0</td>\n",
       "      <td>0.0</td>\n",
       "      <td>0.0</td>\n",
       "      <td>1.0</td>\n",
       "      <td>1.0</td>\n",
       "      <td>1.0</td>\n",
       "      <td>1.0</td>\n",
       "      <td>1.0</td>\n",
       "    </tr>\n",
       "    <tr>\n",
       "      <th>7</th>\n",
       "      <td>Dairy and Egg Products</td>\n",
       "      <td>1.0</td>\n",
       "      <td>1.0</td>\n",
       "      <td>1.0</td>\n",
       "      <td>1.0</td>\n",
       "      <td>1.0</td>\n",
       "      <td>1.0</td>\n",
       "      <td>1.0</td>\n",
       "      <td>1.0</td>\n",
       "      <td>1.0</td>\n",
       "      <td>...</td>\n",
       "      <td>1.0</td>\n",
       "      <td>1.0</td>\n",
       "      <td>1.0</td>\n",
       "      <td>1.0</td>\n",
       "      <td>1.0</td>\n",
       "      <td>1.0</td>\n",
       "      <td>1.0</td>\n",
       "      <td>1.0</td>\n",
       "      <td>1.0</td>\n",
       "      <td>1.0</td>\n",
       "    </tr>\n",
       "    <tr>\n",
       "      <th>8</th>\n",
       "      <td>Fast Foods</td>\n",
       "      <td>1.0</td>\n",
       "      <td>1.0</td>\n",
       "      <td>1.0</td>\n",
       "      <td>1.0</td>\n",
       "      <td>1.0</td>\n",
       "      <td>1.0</td>\n",
       "      <td>1.0</td>\n",
       "      <td>1.0</td>\n",
       "      <td>1.0</td>\n",
       "      <td>...</td>\n",
       "      <td>1.0</td>\n",
       "      <td>1.0</td>\n",
       "      <td>1.0</td>\n",
       "      <td>0.0</td>\n",
       "      <td>1.0</td>\n",
       "      <td>1.0</td>\n",
       "      <td>1.0</td>\n",
       "      <td>1.0</td>\n",
       "      <td>1.0</td>\n",
       "      <td>1.0</td>\n",
       "    </tr>\n",
       "    <tr>\n",
       "      <th>9</th>\n",
       "      <td>Fats and Oils</td>\n",
       "      <td>1.0</td>\n",
       "      <td>1.0</td>\n",
       "      <td>1.0</td>\n",
       "      <td>1.0</td>\n",
       "      <td>1.0</td>\n",
       "      <td>1.0</td>\n",
       "      <td>1.0</td>\n",
       "      <td>1.0</td>\n",
       "      <td>1.0</td>\n",
       "      <td>...</td>\n",
       "      <td>1.0</td>\n",
       "      <td>1.0</td>\n",
       "      <td>1.0</td>\n",
       "      <td>0.0</td>\n",
       "      <td>1.0</td>\n",
       "      <td>1.0</td>\n",
       "      <td>1.0</td>\n",
       "      <td>1.0</td>\n",
       "      <td>1.0</td>\n",
       "      <td>1.0</td>\n",
       "    </tr>\n",
       "  </tbody>\n",
       "</table>\n",
       "<p>10 rows × 146 columns</p>\n",
       "</div>"
      ],
      "text/plain": [
       "Nutrient                           Food_Group  10:0  12:0  13:0  14:0  14:1  \\\n",
       "0         American Indian/Alaska Native Foods   1.0   1.0   0.0   1.0   1.0   \n",
       "1                                  Baby Foods   1.0   1.0   1.0   1.0   1.0   \n",
       "2                              Baked Products   1.0   1.0   1.0   1.0   1.0   \n",
       "3                               Beef Products   1.0   1.0   0.0   1.0   1.0   \n",
       "4                                   Beverages   1.0   1.0   1.0   1.0   1.0   \n",
       "5                           Breakfast Cereals   1.0   1.0   1.0   1.0   1.0   \n",
       "6                     Cereal Grains and Pasta   1.0   1.0   1.0   1.0   1.0   \n",
       "7                      Dairy and Egg Products   1.0   1.0   1.0   1.0   1.0   \n",
       "8                                  Fast Foods   1.0   1.0   1.0   1.0   1.0   \n",
       "9                               Fats and Oils   1.0   1.0   1.0   1.0   1.0   \n",
       "\n",
       "Nutrient  15:0  15:1  16:0  16:1 c    ...     Vitamin C, total ascorbic acid  \\\n",
       "0          1.0   1.0   1.0     1.0    ...                                1.0   \n",
       "1          1.0   1.0   1.0     0.0    ...                                1.0   \n",
       "2          1.0   1.0   1.0     1.0    ...                                1.0   \n",
       "3          1.0   1.0   1.0     1.0    ...                                1.0   \n",
       "4          1.0   1.0   1.0     1.0    ...                                1.0   \n",
       "5          1.0   1.0   1.0     1.0    ...                                1.0   \n",
       "6          1.0   1.0   1.0     1.0    ...                                1.0   \n",
       "7          1.0   1.0   1.0     1.0    ...                                1.0   \n",
       "8          1.0   1.0   1.0     1.0    ...                                1.0   \n",
       "9          1.0   1.0   1.0     1.0    ...                                1.0   \n",
       "\n",
       "Nutrient  Vitamin D  Vitamin D (D2 + D3)  Vitamin D2 (ergocalciferol)  \\\n",
       "0               1.0                  1.0                          0.0   \n",
       "1               1.0                  1.0                          0.0   \n",
       "2               1.0                  1.0                          0.0   \n",
       "3               1.0                  1.0                          0.0   \n",
       "4               1.0                  1.0                          1.0   \n",
       "5               1.0                  1.0                          1.0   \n",
       "6               1.0                  1.0                          0.0   \n",
       "7               1.0                  1.0                          1.0   \n",
       "8               1.0                  1.0                          0.0   \n",
       "9               1.0                  1.0                          0.0   \n",
       "\n",
       "Nutrient  Vitamin D3 (cholecalciferol)  Vitamin E (alpha-tocopherol)  \\\n",
       "0                                  0.0                           1.0   \n",
       "1                                  1.0                           1.0   \n",
       "2                                  1.0                           1.0   \n",
       "3                                  1.0                           1.0   \n",
       "4                                  0.0                           1.0   \n",
       "5                                  1.0                           1.0   \n",
       "6                                  0.0                           1.0   \n",
       "7                                  1.0                           1.0   \n",
       "8                                  1.0                           1.0   \n",
       "9                                  1.0                           1.0   \n",
       "\n",
       "Nutrient  Vitamin E, added  Vitamin K (phylloquinone)  Water  Zinc, Zn  \n",
       "0                      1.0                        1.0    1.0       1.0  \n",
       "1                      1.0                        1.0    1.0       1.0  \n",
       "2                      1.0                        1.0    1.0       1.0  \n",
       "3                      1.0                        1.0    1.0       1.0  \n",
       "4                      1.0                        1.0    1.0       1.0  \n",
       "5                      1.0                        1.0    1.0       1.0  \n",
       "6                      1.0                        1.0    1.0       1.0  \n",
       "7                      1.0                        1.0    1.0       1.0  \n",
       "8                      1.0                        1.0    1.0       1.0  \n",
       "9                      1.0                        1.0    1.0       1.0  \n",
       "\n",
       "[10 rows x 146 columns]"
      ]
     },
     "execution_count": 34,
     "metadata": {},
     "output_type": "execute_result"
    }
   ],
   "source": [
    "tmp.head(10)"
   ]
  }
 ],
 "metadata": {
  "anaconda-cloud": {},
  "kernelspec": {
   "display_name": "Python [conda env:dsi]",
   "language": "python",
   "name": "conda-env-dsi-py"
  },
  "language_info": {
   "codemirror_mode": {
    "name": "ipython",
    "version": 2
   },
   "file_extension": ".py",
   "mimetype": "text/x-python",
   "name": "python",
   "nbconvert_exporter": "python",
   "pygments_lexer": "ipython2",
   "version": "2.7.12"
  }
 },
 "nbformat": 4,
 "nbformat_minor": 1
}
